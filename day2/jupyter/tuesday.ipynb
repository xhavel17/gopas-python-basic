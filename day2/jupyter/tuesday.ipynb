{
 "cells": [
  {
   "cell_type": "markdown",
   "metadata": {},
   "source": [
    "# Tuesday\n",
    "\n",
    "## Statements\n",
    "\n",
    "### `if` statement \n",
    "\n",
    "[python docu](https://docs.python.org/3/reference/compound_stmts.html#the-if-statement)"
   ]
  },
  {
   "cell_type": "code",
   "execution_count": 8,
   "metadata": {},
   "outputs": [
    {
     "name": "stdout",
     "output_type": "stream",
     "text": [
      "Hello\n"
     ]
    }
   ],
   "source": [
    "value = int(input(\"Enter the number: \"))\n",
    "if 10 < value:\n",
    "    print(\"Hello\")\n",
    "else:\n",
    "    print(\"Bye\")"
   ]
  },
  {
   "cell_type": "code",
   "execution_count": 15,
   "metadata": {},
   "outputs": [
    {
     "name": "stdout",
     "output_type": "stream",
     "text": [
      "You are teenager\n",
      "True\n",
      "False\n",
      "False\n",
      "True\n",
      "False\n",
      "[34, 73, 12, 6, 99]\n",
      "[34, 73, 12, 6]\n"
     ]
    }
   ],
   "source": [
    "age = 16\n",
    "if age < 20:\n",
    "    print(\"You are teenager\")\n",
    "elif age >= 20 and age < 30:\n",
    "    print(\"You are twentees\")\n",
    "elif age >= 30 and age < 40:\n",
    "    print(\"You are thirdtees\")\n",
    "elif age >=40 and age < 50:\n",
    "    print(\"You are fiftees\")\n",
    "else:\n",
    "    print(\"You are too old\")\n",
    "\n",
    "\n",
    "print(bool(123))\n",
    "print(bool([]))\n",
    "print(bool(0.00))\n",
    "print(bool({1:2}))\n",
    "print(bool({}))\n",
    "\n",
    "\n",
    "numbers = [34, 73, 12, 6, 99]\n",
    "print(numbers)\n",
    "if 99 in numbers:\n",
    "    numbers.remove(99)\n",
    "else:\n",
    "    print(\"99 not in list\")\n",
    "\n",
    "print(numbers)"
   ]
  },
  {
   "cell_type": "code",
   "execution_count": 22,
   "metadata": {},
   "outputs": [
    {
     "name": "stdout",
     "output_type": "stream",
     "text": [
      "10\n"
     ]
    }
   ],
   "source": [
    "radius = input(\"enter radisu as  integer: \")\n",
    "if radius.isdigit():\n",
    "    radius=int(radius)\n",
    "    print(radius)\n",
    "else:\n",
    "    print(\"no\")"
   ]
  },
  {
   "cell_type": "markdown",
   "metadata": {},
   "source": [
    "`if` statement performs short-circuit evaluation"
   ]
  },
  {
   "cell_type": "code",
   "execution_count": 29,
   "metadata": {},
   "outputs": [
    {
     "name": "stdout",
     "output_type": "stream",
     "text": [
      "hello\n",
      "None\n",
      "I can see this message1\n",
      "False\n",
      "I can see this message4\n",
      "None\n"
     ]
    }
   ],
   "source": [
    "print(print(\"hello\"))\n",
    "\n",
    "10 > 5 and print(\"I can see this message1\")\n",
    "10 > 50 and print(\"I can see this message2\")\n",
    "print(10 > 50 and print(\"I can see this message3\"))\n",
    "print(10 > 5 and print(\"I can see this message4\"))"
   ]
  },
  {
   "cell_type": "markdown",
   "metadata": {},
   "source": [
    "## loops statements\n",
    "\n",
    "### `while` statement\n",
    "[python docu](https://docs.python.org/3/reference/compound_stmts.html#the-while-statement)"
   ]
  },
  {
   "cell_type": "code",
   "execution_count": 31,
   "metadata": {},
   "outputs": [
    {
     "name": "stdout",
     "output_type": "stream",
     "text": [
      "1\n",
      "2\n",
      "3\n",
      "4\n",
      "5\n"
     ]
    }
   ],
   "source": [
    "counter = 1\n",
    "while counter <= 5:\n",
    "    print(counter)\n",
    "    counter += 1"
   ]
  },
  {
   "cell_type": "code",
   "execution_count": 32,
   "metadata": {},
   "outputs": [
    {
     "name": "stdout",
     "output_type": "stream",
     "text": [
      "45\n",
      "78\n",
      "12\n",
      "88\n"
     ]
    }
   ],
   "source": [
    "numbers = [45, 78 ,12 ,88]\n",
    "index = 0\n",
    "while index < len(numbers):\n",
    "    print(numbers[index])\n",
    "    index += 1"
   ]
  },
  {
   "cell_type": "markdown",
   "metadata": {},
   "source": [
    "### `for` statement\n",
    "[python docu](https://docs.python.org/3/reference/compound_stmts.html#the-for-statement)"
   ]
  },
  {
   "cell_type": "code",
   "execution_count": 37,
   "metadata": {},
   "outputs": [
    {
     "name": "stdout",
     "output_type": "stream",
     "text": [
      "45\n",
      "78\n",
      "12\n",
      "88\n",
      "0\n",
      "1\n",
      "2\n",
      "3\n",
      "10\n",
      "15\n",
      "20\n",
      "25\n",
      "30\n",
      "35\n"
     ]
    }
   ],
   "source": [
    "numbers =( 45, 78, 12 , 88)\n",
    "for number in numbers:\n",
    "    print(number)\n",
    "\n",
    "# range\n",
    "for i in range(4):\n",
    "    print(i)\n",
    "\n",
    "for j in range(10,40,5):  #<start-nr-included>:<stop-nr-not-included>:<step>\n",
    "    print(j)"
   ]
  },
  {
   "cell_type": "code",
   "execution_count": 48,
   "metadata": {},
   "outputs": [
    {
     "name": "stdout",
     "output_type": "stream",
     "text": [
      "('bila', 'white')\n",
      "('cerna', 'back')\n"
     ]
    }
   ],
   "source": [
    "colors = {\"bila\": \"white\", \"cerna\": \"back\"}\n",
    "for i in colors.items():\n",
    "    print(i)"
   ]
  },
  {
   "cell_type": "code",
   "execution_count": 46,
   "metadata": {},
   "outputs": [
    {
     "name": "stdout",
     "output_type": "stream",
     "text": [
      "123\n",
      "99 99 99\n",
      "99 87 gopas\n",
      "(12, 7) <class 'tuple'>\n",
      "(12, 7) <class 'tuple'>\n"
     ]
    }
   ],
   "source": [
    "a = 123\n",
    "print(a)\n",
    "x = y = z = 99\n",
    "print(x, y, z)\n",
    "z, y, z = 45,87, \"gopas\"\n",
    "( z, y, z ) = ( 45,87, \"gopas\" )\n",
    "# z, y, z = 45,87, \"gopas\", 77\n",
    "print( x, y, z)\n",
    "\n",
    "i = 12,7  # 12.7\n",
    "print(i, type(i))\n",
    "j = (12,7)\n",
    "print(j, type(j))"
   ]
  },
  {
   "cell_type": "code",
   "execution_count": 47,
   "metadata": {},
   "outputs": [
    {
     "name": "stdout",
     "output_type": "stream",
     "text": [
      "bila white\n",
      "cerna back\n"
     ]
    }
   ],
   "source": [
    "colors = {\"bila\": \"white\", \"cerna\": \"back\"}\n",
    "for czech,english in colors.items():\n",
    "    print(czech, english)"
   ]
  },
  {
   "cell_type": "code",
   "execution_count": 51,
   "metadata": {},
   "outputs": [
    {
     "name": "stdout",
     "output_type": "stream",
     "text": [
      "4 5 [6, 7, 8, 9, 10]\n",
      "40 50 []\n"
     ]
    },
    {
     "ename": "ValueError",
     "evalue": "not enough values to unpack (expected at least 2, got 1)",
     "output_type": "error",
     "traceback": [
      "\u001b[1;31m---------------------------------------------------------------------------\u001b[0m",
      "\u001b[1;31mValueError\u001b[0m                                Traceback (most recent call last)",
      "Cell \u001b[1;32mIn[51], line 5\u001b[0m\n\u001b[0;32m      3\u001b[0m a, b, \u001b[38;5;241m*\u001b[39mc \u001b[38;5;241m=\u001b[39m [\u001b[38;5;241m40\u001b[39m,\u001b[38;5;241m50\u001b[39m]\n\u001b[0;32m      4\u001b[0m \u001b[38;5;28mprint\u001b[39m(a,b,c)\n\u001b[1;32m----> 5\u001b[0m a, b, \u001b[38;5;241m*\u001b[39mc \u001b[38;5;241m=\u001b[39m [\u001b[38;5;241m60\u001b[39m]\n\u001b[0;32m      6\u001b[0m \u001b[38;5;28mprint\u001b[39m(a,b,c)\n",
      "\u001b[1;31mValueError\u001b[0m: not enough values to unpack (expected at least 2, got 1)"
     ]
    }
   ],
   "source": [
    "a, b, *c = [4, 5, 6, 7 ,8 ,9 ,10]\n",
    "print(a,b,c)\n",
    "a, b, *c = [40,50]\n",
    "print(a,b,c)\n",
    "a, b, *c = [60]\n",
    "print(a,b,c)\n"
   ]
  },
  {
   "cell_type": "code",
   "execution_count": 52,
   "metadata": {},
   "outputs": [
    {
     "name": "stdout",
     "output_type": "stream",
     "text": [
      "b ['i', 'l', 'a']\n",
      "c ['e', 'r', 'n', 'a']\n"
     ]
    }
   ],
   "source": [
    "colors =  {\"bila\": \"white\", \"cerna\": \"back\"}\n",
    "for a,*b in colors:\n",
    "    print(a,b)"
   ]
  },
  {
   "cell_type": "markdown",
   "metadata": {},
   "source": [
    "## Exercise 2.1"
   ]
  },
  {
   "cell_type": "code",
   "execution_count": 55,
   "metadata": {},
   "outputs": [
    {
     "name": "stdout",
     "output_type": "stream",
     "text": [
      "1\n",
      "3\n",
      "5\n",
      "7\n",
      "9\n",
      "11\n",
      "13\n"
     ]
    }
   ],
   "source": [
    "for i in range(14):\n",
    "    if i % 2 == 1:\n",
    "        print(i)"
   ]
  },
  {
   "cell_type": "markdown",
   "metadata": {},
   "source": [
    "## Exercise 2.2"
   ]
  },
  {
   "cell_type": "code",
   "execution_count": 21,
   "metadata": {},
   "outputs": [
    {
     "name": "stdout",
     "output_type": "stream",
     "text": [
      "[2, 3, 5, 7, 11, 13, 17, 19, 23, 29, 31, 37, 41, 43, 47, 53, 59, 61, 67, 71, 73, 79, 83, 89, 97]\n",
      "[2, 3, 5, 7, 11, 13, 17, 19, 23, 29, 31, 37, 41, 43, 47, 53, 59, 61, 67, 71, 73, 79, 83, 89, 97]\n"
     ]
    }
   ],
   "source": [
    "primes=[]\n",
    "for i in range(2,101):\n",
    "    is_prime=True\n",
    "    for j in primes:\n",
    "        if not i%j:\n",
    "            is_prime=False\n",
    "            break\n",
    "    if is_prime:\n",
    "        primes.append(i)\n",
    "\n",
    "print(primes)\n",
    "\n",
    "\n",
    "primes1=[]\n",
    "for i in range(2,101):\n",
    "        for j in primes:\n",
    "            if not i%j:\n",
    "                 break\n",
    "        else:\n",
    "            primes1.append(i)\n",
    "\n",
    "print(primes)\n"
   ]
  }
 ],
 "metadata": {
  "kernelspec": {
   "display_name": "Python 3",
   "language": "python",
   "name": "python3"
  },
  "language_info": {
   "codemirror_mode": {
    "name": "ipython",
    "version": 3
   },
   "file_extension": ".py",
   "mimetype": "text/x-python",
   "name": "python",
   "nbconvert_exporter": "python",
   "pygments_lexer": "ipython3",
   "version": "3.12.2"
  }
 },
 "nbformat": 4,
 "nbformat_minor": 2
}
