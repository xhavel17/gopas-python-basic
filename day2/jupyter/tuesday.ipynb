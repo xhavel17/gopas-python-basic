{
 "cells": [
  {
   "cell_type": "markdown",
   "metadata": {},
   "source": [
    "# Tuesday\n",
    "\n",
    "## Statements\n",
    "\n",
    "### `if` statement \n",
    "\n",
    "[python docu](https://docs.python.org/3/reference/compound_stmts.html#the-if-statement)"
   ]
  },
  {
   "cell_type": "code",
   "execution_count": 8,
   "metadata": {},
   "outputs": [
    {
     "name": "stdout",
     "output_type": "stream",
     "text": [
      "Hello\n"
     ]
    }
   ],
   "source": [
    "value = int(input(\"Enter the number: \"))\n",
    "if 10 < value:\n",
    "    print(\"Hello\")\n",
    "else:\n",
    "    print(\"Bye\")"
   ]
  },
  {
   "cell_type": "code",
   "execution_count": 15,
   "metadata": {},
   "outputs": [
    {
     "name": "stdout",
     "output_type": "stream",
     "text": [
      "You are teenager\n",
      "True\n",
      "False\n",
      "False\n",
      "True\n",
      "False\n",
      "[34, 73, 12, 6, 99]\n",
      "[34, 73, 12, 6]\n"
     ]
    }
   ],
   "source": [
    "age = 16\n",
    "if age < 20:\n",
    "    print(\"You are teenager\")\n",
    "elif age >= 20 and age < 30:\n",
    "    print(\"You are twentees\")\n",
    "elif age >= 30 and age < 40:\n",
    "    print(\"You are thirdtees\")\n",
    "elif age >=40 and age < 50:\n",
    "    print(\"You are fiftees\")\n",
    "else:\n",
    "    print(\"You are too old\")\n",
    "\n",
    "\n",
    "print(bool(123))\n",
    "print(bool([]))\n",
    "print(bool(0.00))\n",
    "print(bool({1:2}))\n",
    "print(bool({}))\n",
    "\n",
    "\n",
    "numbers = [34, 73, 12, 6, 99]\n",
    "print(numbers)\n",
    "if 99 in numbers:\n",
    "    numbers.remove(99)\n",
    "else:\n",
    "    print(\"99 not in list\")\n",
    "\n",
    "print(numbers)"
   ]
  },
  {
   "cell_type": "code",
   "execution_count": 22,
   "metadata": {},
   "outputs": [
    {
     "name": "stdout",
     "output_type": "stream",
     "text": [
      "10\n"
     ]
    }
   ],
   "source": [
    "radius = input(\"enter radisu as  integer: \")\n",
    "if radius.isdigit():\n",
    "    radius=int(radius)\n",
    "    print(radius)\n",
    "else:\n",
    "    print(\"no\")"
   ]
  },
  {
   "cell_type": "markdown",
   "metadata": {},
   "source": [
    "`if` statement performs short-circuit evaluation"
   ]
  },
  {
   "cell_type": "code",
   "execution_count": 29,
   "metadata": {},
   "outputs": [
    {
     "name": "stdout",
     "output_type": "stream",
     "text": [
      "hello\n",
      "None\n",
      "I can see this message1\n",
      "False\n",
      "I can see this message4\n",
      "None\n"
     ]
    }
   ],
   "source": [
    "print(print(\"hello\"))\n",
    "\n",
    "10 > 5 and print(\"I can see this message1\")\n",
    "10 > 50 and print(\"I can see this message2\")\n",
    "print(10 > 50 and print(\"I can see this message3\"))\n",
    "print(10 > 5 and print(\"I can see this message4\"))"
   ]
  },
  {
   "cell_type": "markdown",
   "metadata": {},
   "source": [
    "## loops statements\n",
    "\n",
    "### `while` statement\n",
    "[python docu](https://docs.python.org/3/reference/compound_stmts.html#the-while-statement)"
   ]
  },
  {
   "cell_type": "code",
   "execution_count": 31,
   "metadata": {},
   "outputs": [
    {
     "name": "stdout",
     "output_type": "stream",
     "text": [
      "1\n",
      "2\n",
      "3\n",
      "4\n",
      "5\n"
     ]
    }
   ],
   "source": [
    "counter = 1\n",
    "while counter <= 5:\n",
    "    print(counter)\n",
    "    counter += 1"
   ]
  },
  {
   "cell_type": "code",
   "execution_count": 32,
   "metadata": {},
   "outputs": [
    {
     "name": "stdout",
     "output_type": "stream",
     "text": [
      "45\n",
      "78\n",
      "12\n",
      "88\n"
     ]
    }
   ],
   "source": [
    "numbers = [45, 78 ,12 ,88]\n",
    "index = 0\n",
    "while index < len(numbers):\n",
    "    print(numbers[index])\n",
    "    index += 1"
   ]
  },
  {
   "cell_type": "markdown",
   "metadata": {},
   "source": [
    "### `for` statement\n",
    "[python docu](https://docs.python.org/3/reference/compound_stmts.html#the-for-statement)"
   ]
  },
  {
   "cell_type": "code",
   "execution_count": 37,
   "metadata": {},
   "outputs": [
    {
     "name": "stdout",
     "output_type": "stream",
     "text": [
      "45\n",
      "78\n",
      "12\n",
      "88\n",
      "0\n",
      "1\n",
      "2\n",
      "3\n",
      "10\n",
      "15\n",
      "20\n",
      "25\n",
      "30\n",
      "35\n"
     ]
    }
   ],
   "source": [
    "numbers =( 45, 78, 12 , 88)\n",
    "for number in numbers:\n",
    "    print(number)\n",
    "\n",
    "# range\n",
    "for i in range(4):\n",
    "    print(i)\n",
    "\n",
    "for j in range(10,40,5):  #<start-nr-included>:<stop-nr-not-included>:<step>\n",
    "    print(j)"
   ]
  },
  {
   "cell_type": "code",
   "execution_count": 48,
   "metadata": {},
   "outputs": [
    {
     "name": "stdout",
     "output_type": "stream",
     "text": [
      "('bila', 'white')\n",
      "('cerna', 'back')\n"
     ]
    }
   ],
   "source": [
    "colors = {\"bila\": \"white\", \"cerna\": \"back\"}\n",
    "for i in colors.items():\n",
    "    print(i)"
   ]
  },
  {
   "cell_type": "code",
   "execution_count": 46,
   "metadata": {},
   "outputs": [
    {
     "name": "stdout",
     "output_type": "stream",
     "text": [
      "123\n",
      "99 99 99\n",
      "99 87 gopas\n",
      "(12, 7) <class 'tuple'>\n",
      "(12, 7) <class 'tuple'>\n"
     ]
    }
   ],
   "source": [
    "a = 123\n",
    "print(a)\n",
    "x = y = z = 99\n",
    "print(x, y, z)\n",
    "z, y, z = 45,87, \"gopas\"\n",
    "( z, y, z ) = ( 45,87, \"gopas\" )\n",
    "# z, y, z = 45,87, \"gopas\", 77\n",
    "print( x, y, z)\n",
    "\n",
    "i = 12,7  # 12.7\n",
    "print(i, type(i))\n",
    "j = (12,7)\n",
    "print(j, type(j))"
   ]
  },
  {
   "cell_type": "code",
   "execution_count": 47,
   "metadata": {},
   "outputs": [
    {
     "name": "stdout",
     "output_type": "stream",
     "text": [
      "bila white\n",
      "cerna back\n"
     ]
    }
   ],
   "source": [
    "colors = {\"bila\": \"white\", \"cerna\": \"back\"}\n",
    "for czech,english in colors.items():\n",
    "    print(czech, english)"
   ]
  },
  {
   "cell_type": "code",
   "execution_count": 51,
   "metadata": {},
   "outputs": [
    {
     "name": "stdout",
     "output_type": "stream",
     "text": [
      "4 5 [6, 7, 8, 9, 10]\n",
      "40 50 []\n"
     ]
    },
    {
     "ename": "ValueError",
     "evalue": "not enough values to unpack (expected at least 2, got 1)",
     "output_type": "error",
     "traceback": [
      "\u001b[1;31m---------------------------------------------------------------------------\u001b[0m",
      "\u001b[1;31mValueError\u001b[0m                                Traceback (most recent call last)",
      "Cell \u001b[1;32mIn[51], line 5\u001b[0m\n\u001b[0;32m      3\u001b[0m a, b, \u001b[38;5;241m*\u001b[39mc \u001b[38;5;241m=\u001b[39m [\u001b[38;5;241m40\u001b[39m,\u001b[38;5;241m50\u001b[39m]\n\u001b[0;32m      4\u001b[0m \u001b[38;5;28mprint\u001b[39m(a,b,c)\n\u001b[1;32m----> 5\u001b[0m a, b, \u001b[38;5;241m*\u001b[39mc \u001b[38;5;241m=\u001b[39m [\u001b[38;5;241m60\u001b[39m]\n\u001b[0;32m      6\u001b[0m \u001b[38;5;28mprint\u001b[39m(a,b,c)\n",
      "\u001b[1;31mValueError\u001b[0m: not enough values to unpack (expected at least 2, got 1)"
     ]
    }
   ],
   "source": [
    "a, b, *c = [4, 5, 6, 7 ,8 ,9 ,10]\n",
    "print(a,b,c)\n",
    "a, b, *c = [40,50]\n",
    "print(a,b,c)\n",
    "a, b, *c = [60]\n",
    "print(a,b,c)\n"
   ]
  },
  {
   "cell_type": "code",
   "execution_count": 52,
   "metadata": {},
   "outputs": [
    {
     "name": "stdout",
     "output_type": "stream",
     "text": [
      "b ['i', 'l', 'a']\n",
      "c ['e', 'r', 'n', 'a']\n"
     ]
    }
   ],
   "source": [
    "colors =  {\"bila\": \"white\", \"cerna\": \"back\"}\n",
    "for a,*b in colors:\n",
    "    print(a,b)"
   ]
  },
  {
   "cell_type": "markdown",
   "metadata": {},
   "source": [
    "## Exercise 2.1"
   ]
  },
  {
   "cell_type": "code",
   "execution_count": 55,
   "metadata": {},
   "outputs": [
    {
     "name": "stdout",
     "output_type": "stream",
     "text": [
      "1\n",
      "3\n",
      "5\n",
      "7\n",
      "9\n",
      "11\n",
      "13\n"
     ]
    }
   ],
   "source": [
    "for i in range(14):\n",
    "    if i % 2 == 1:\n",
    "        print(i)"
   ]
  },
  {
   "cell_type": "markdown",
   "metadata": {},
   "source": [
    "## Exercise 2.2"
   ]
  },
  {
   "cell_type": "code",
   "execution_count": 29,
   "metadata": {},
   "outputs": [
    {
     "name": "stdout",
     "output_type": "stream",
     "text": [
      "[2, 3, 5, 7, 11, 13, 17, 19, 23, 29, 31, 37, 41, 43, 47, 53, 59, 61, 67, 71, 73, 79, 83, 89, 97]\n",
      "0\n",
      "-----------------\n",
      "1\n",
      "0\n",
      "-----------------\n",
      "0\n",
      "-----------------\n",
      "1\n",
      "2\n",
      "0\n",
      "-----------------\n",
      "0\n",
      "-----------------\n",
      "1\n",
      "1\n",
      "2\n",
      "0\n",
      "-----------------\n",
      "0\n",
      "-----------------\n",
      "1\n",
      "0\n",
      "-----------------\n",
      "0\n",
      "-----------------\n",
      "1\n",
      "2\n",
      "1\n",
      "4\n",
      "0\n",
      "-----------------\n",
      "0\n",
      "-----------------\n",
      "1\n",
      "1\n",
      "3\n",
      "6\n",
      "2\n",
      "0\n",
      "-----------------\n",
      "0\n",
      "-----------------\n",
      "1\n",
      "0\n",
      "-----------------\n",
      "0\n",
      "-----------------\n",
      "1\n",
      "2\n",
      "2\n",
      "3\n",
      "6\n",
      "4\n",
      "0\n",
      "-----------------\n",
      "0\n",
      "-----------------\n",
      "1\n",
      "1\n",
      "4\n",
      "5\n",
      "8\n",
      "6\n",
      "2\n",
      "0\n",
      "-----------------\n",
      "[2, 3, 5, 7, 11, 13, 17, 19, 23, 29, 31, 37, 41, 43, 47, 53, 59, 61, 67, 71, 73, 79, 83, 89, 97]\n"
     ]
    }
   ],
   "source": [
    "primes=[]\n",
    "for i in range(2,101):\n",
    "    is_prime=True\n",
    "    for j in primes:\n",
    "        if not i%j:\n",
    "            is_prime=False\n",
    "            break\n",
    "    if is_prime:\n",
    "        primes.append(i)\n",
    "\n",
    "print(primes)\n",
    "\n",
    "\n",
    "primes1=[]\n",
    "for i in range(2,20):\n",
    "        for j in primes:\n",
    "            print(i%j)\n",
    "            if not i%j:\n",
    "                 break\n",
    "        else:\n",
    "            primes1.append(i)\n",
    "            print(\"Appending\", i)\n",
    "    \n",
    "        print(\"-----------------\")\n",
    "\n",
    "print(primes)\n"
   ]
  },
  {
   "cell_type": "code",
   "execution_count": 50,
   "metadata": {},
   "outputs": [
    {
     "name": "stdout",
     "output_type": "stream",
     "text": [
      "Processing Jan \n",
      "Processing Adam \n",
      "Processing Tomas \n",
      "Processing Frantisek \n",
      "Processing Vladimir \n",
      "Processing Eva \n",
      "Processing Dan \n",
      "['Adam', 'Dan', 'Eva', 'Jan', 'Tomas']\n",
      "Processing Jan\n",
      "Processing Adam\n",
      "Processing Tomas\n",
      "Processing Frantisek\n",
      "Processing Eva\n",
      "Processing Dan\n",
      "['Adam', 'Dan', 'Eva', 'Jan', 'Tomas', 'Vladimir']\n",
      "Processing Dan\n",
      "Processing Eva\n",
      "Processing Vladimir\n",
      "Processing Frantisek\n",
      "Processing Tomas\n",
      "Processing Adam\n",
      "Processing Jan\n",
      "['Adam', 'Dan', 'Eva', 'Jan', 'Tomas']\n"
     ]
    }
   ],
   "source": [
    "names = [\"Jan\", \"Adam\", \"Tomas\", \"Frantisek\", \"Vladimir\", \"Eva\", \"Dan\"]\n",
    "snames=[]\n",
    "for name in names:\n",
    "    print(f\"Processing {name} \")\n",
    "    if len(name) <= 5:\n",
    "        snames.append(name)\n",
    "            \n",
    "print(sorted(snames))\n",
    "\n",
    "\n",
    "# !!!! iterration is not working with remove and del\n",
    "# list.remove() working with value\n",
    "# list.del() working with index\n",
    "# for iterrator is remember the position and not taking care about value, but by list.remove() all further indexes/values, there fore it can be removed\n",
    "\n",
    "\n",
    "names1 = [\"Jan\", \"Adam\", \"Tomas\", \"Frantisek\", \"Vladimir\", \"Eva\", \"Dan\"]\n",
    "snames1=[]\n",
    "for name1 in names1:\n",
    "    print(f\"Processing {name1}\")\n",
    "    if len(name1) > 5:\n",
    "        names1.remove(name1)\n",
    "\n",
    "print(sorted(names1))\n",
    "\n",
    "# possible solution of above issue is itterate from the end \n",
    "\n",
    "names2 = [\"Jan\", \"Adam\", \"Tomas\", \"Frantisek\", \"Vladimir\", \"Eva\", \"Dan\"]\n",
    "for name2 in reversed(names2):\n",
    "    print(f\"Processing {name2}\")\n",
    "    if len(name2) > 5:\n",
    "        names2.remove(name2)\n",
    "\n",
    "print(sorted(names2))"
   ]
  },
  {
   "cell_type": "code",
   "execution_count": 160,
   "metadata": {},
   "outputs": [
    {
     "name": "stdout",
     "output_type": "stream",
     "text": [
      "CZ: Brno, Praha, Hradec Kralove, Ostrava, Kolin\n",
      "SK: Kosice, Bratislava, Zilina\n",
      "AT: Linz, Graz\n",
      "DE: Berlin\n",
      "yes\n",
      "dict_items([('a', 'A'), ('b', 'B')])\n"
     ]
    }
   ],
   "source": [
    "lines1 = [\"CZ,Brno\", \"CZ,Praha\", \"SK,Kosice\", \"AT,Linz\", \"DE,Berlin\", \"CZ,Hradec Kralove\", \"SK,Bratislava\", \"SK,Zilina\", \"CZ,Ostrava\", \"CZ,Kolin\", \"AT,Graz\"]\n",
    "list = {}\n",
    "cities=[]\n",
    "result={}\n",
    "\n",
    "# in ascending order od country code\n",
    "#print(len(lines)-1)\n",
    "#for index in range(len(lines)-1):\n",
    "    #print(lines[index])\n",
    "    #print(lines[index][:2])\n",
    "#    result[(lines[index][:2])]=[]\n",
    "    #print(result)\n",
    "\n",
    "#for line in lines:\n",
    "#    if \n",
    "    \n",
    "#print(result)\n",
    "\n",
    "\n",
    "lines = [\"CZ,Brno\", \"CZ,Praha\", \"SK,Kosice\", \"AT,Linz\", \"DE,Berlin\", \"CZ,Hradec Kralove\", \"SK,Bratislava\", \"SK,Zilina\", \"CZ,Ostrava\", \"CZ,Kolin\", \"AT,Graz\"]\n",
    "countries = {}\n",
    "for line in lines:\n",
    "    code,city = line.split(\",\")\n",
    "    if code not in countries:\n",
    "        countries[code]=city\n",
    "    else:\n",
    "        countries[code] += f\", {city}\"\n",
    "        #countries[code] += \", \"+city\n",
    "for country in countries:\n",
    "    print(country, \": \", countries[country], sep=\"\")\n",
    "\n",
    "    \n",
    "dcountries = {}\n",
    "for line in lines:\n",
    "    dcode,dcity = line.split(\",\")\n",
    "\n",
    "\n",
    "dic={\"a\": \"A\", \"b\": \"B\"}\n",
    "if (\"a\", \"A\") in dic.items():\n",
    "    print(\"yes\")\n",
    "else:\n",
    "    print(\"no\")\n",
    "\n",
    "print(dic.items())\n",
    "   "
   ]
  },
  {
   "cell_type": "code",
   "execution_count": 166,
   "metadata": {},
   "outputs": [
    {
     "name": "stdout",
     "output_type": "stream",
     "text": [
      "{'CZ': ['Brno', 'Praha', 'Hradec Kralove', 'Ostrava', 'Kolin'], 'SK': ['Kosice', 'Bratislava', 'Zilina'], 'AT': ['Linz', 'Graz'], 'DE': ['Berlin']}\n",
      "AT: Graz, Linz\n",
      "CZ: Brno, Hradec Kralove, Kolin, Ostrava, Praha\n",
      "DE: Berlin\n",
      "SK: Bratislava, Kosice, Zilina\n"
     ]
    }
   ],
   "source": [
    "lines = [\"CZ,Brno\", \"CZ,Praha\", \"SK,Kosice\", \"AT,Linz\", \"DE,Berlin\", \"CZ,Hradec Kralove\", \"SK,Bratislava\", \"SK,Zilina\", \"CZ,Ostrava\", \"CZ,Kolin\", \"AT,Graz\"]\n",
    "countries = {}\n",
    "for line in lines:\n",
    "    code,city = line.split(\",\")\n",
    "    if code not in countries:\n",
    "        countries[code]=[]\n",
    "    countries[code].append(city)\n",
    "print(countries)\n",
    "\n",
    "for country in sorted(countries):\n",
    "    names=\"\"\n",
    "    for name in sorted(countries[country]):\n",
    "        names += f\"{name}, \"\n",
    "    print(country, \": \", names[:-2], sep=\"\")"
   ]
  },
  {
   "cell_type": "code",
   "execution_count": 167,
   "metadata": {},
   "outputs": [
    {
     "name": "stdout",
     "output_type": "stream",
     "text": [
      "{'CZ': ['Brno', 'Praha', 'Hradec Kralove', 'Ostrava', 'Kolin'], 'SK': ['Kosice', 'Bratislava', 'Zilina'], 'AT': ['Linz', 'Graz'], 'DE': ['Berlin']}\n",
      "AT: Graz, Linz\n",
      "CZ: Brno, Hradec Kralove, Kolin, Ostrava, Praha\n",
      "DE: Berlin\n",
      "SK: Bratislava, Kosice, Zilina\n"
     ]
    }
   ],
   "source": [
    "lines = [\"CZ,Brno\", \"CZ,Praha\", \"SK,Kosice\", \"AT,Linz\", \"DE,Berlin\", \"CZ,Hradec Kralove\", \"SK,Bratislava\", \"SK,Zilina\", \"CZ,Ostrava\", \"CZ,Kolin\", \"AT,Graz\"]\n",
    "countries = {}\n",
    "for line in lines:\n",
    "    code,city = line.split(\",\")\n",
    "    if code not in countries:\n",
    "        countries[code]=[]\n",
    "    countries[code].append(city)\n",
    "print(countries)\n",
    "\n",
    "for country in sorted(countries):\n",
    "    print(country, \": \", \", \".join(sorted(countries[country])), sep=\"\")"
   ]
  },
  {
   "cell_type": "code",
   "execution_count": 169,
   "metadata": {},
   "outputs": [
    {
     "name": "stdout",
     "output_type": "stream",
     "text": [
      "{'CZ': ['Brno', 'Praha', 'Hradec Kralove', 'Ostrava', 'Kolin'], 'SK': ['Kosice', 'Bratislava', 'Zilina'], 'AT': ['Linz', 'Graz'], 'DE': ['Berlin']}\n",
      "AT: Graz, Linz\n",
      "CZ: Brno, Hradec Kralove, Kolin, Ostrava, Praha\n",
      "DE: Berlin\n",
      "SK: Bratislava, Kosice, Zilina\n"
     ]
    }
   ],
   "source": [
    "lines = [\"CZ,Brno\", \"CZ,Praha\", \"SK,Kosice\", \"AT,Linz\", \"DE,Berlin\", \"CZ,Hradec Kralove\", \"SK,Bratislava\", \"SK,Zilina\", \"CZ,Ostrava\", \"CZ,Kolin\", \"AT,Graz\"]\n",
    "countries = {}\n",
    "for line in lines:\n",
    "    code,city = line.split(\",\")\n",
    "    countries.setdefault(code,[]).append(city)\n",
    "print(countries)\n",
    "\n",
    "for country in sorted(countries):\n",
    "    print(country, \": \", \", \".join(sorted(countries[country])), sep=\"\")"
   ]
  },
  {
   "cell_type": "code",
   "execution_count": 171,
   "metadata": {},
   "outputs": [
    {
     "name": "stdout",
     "output_type": "stream",
     "text": [
      "AT: Graz, Linz\n",
      "CZ: Brno, Hradec Kralove, Kolin, Ostrava, Praha\n",
      "DE: Berlin\n",
      "SK: Bratislava, Kosice, Zilina\n"
     ]
    }
   ],
   "source": [
    "data=\"\"\"CZ,Brno\n",
    "CZ,Praha\n",
    "SK,Kosice\n",
    "AT,Linz\n",
    "DE,Berlin\n",
    "CZ,Hradec Kralove\n",
    "SK,Bratislava\n",
    "SK,Zilina\n",
    "CZ,Ostrava\n",
    "CZ,Kolin\n",
    "AT,Graz\"\"\"\n",
    "\n",
    "countries = {}\n",
    "for line in data.split(\"\\n\"):\n",
    "    code,city = line.split(\",\")\n",
    "    countries.setdefault(code,[]).append(city)\n",
    "\n",
    "#print(countries)\n",
    "\n",
    "for country in sorted(countries):\n",
    "    print(country, \": \", \", \".join(sorted(countries[country])), sep=\"\")\n",
    "\n"
   ]
  },
  {
   "cell_type": "markdown",
   "metadata": {},
   "source": [
    "## Functions and procedures\n",
    "\n",
    "- procedures are functions wich did not return any value"
   ]
  },
  {
   "cell_type": "code",
   "execution_count": 174,
   "metadata": {},
   "outputs": [
    {
     "name": "stdout",
     "output_type": "stream",
     "text": [
      "hello\n",
      "None\n",
      "Help on function greeting in module __main__:\n",
      "\n",
      "greeting()\n",
      "    Prints greeting\n",
      "    this is my first function/procedure without patametes\n",
      "\n"
     ]
    }
   ],
   "source": [
    "def greeting():\n",
    "    \"\"\"Prints greeting\n",
    "    this is my first function/procedure without patametes\"\"\"\n",
    "    print(\"hello\")\n",
    "\n",
    "x=greeting()\n",
    "print(x)\n",
    "help(greeting)"
   ]
  },
  {
   "cell_type": "code",
   "execution_count": 178,
   "metadata": {},
   "outputs": [
    {
     "name": "stdout",
     "output_type": "stream",
     "text": [
      "8\n",
      "helloworld\n",
      "[3, 6, 2, 3, 4]\n"
     ]
    },
    {
     "ename": "TypeError",
     "evalue": "add() missing 2 required positional arguments: 'a' and 'b'",
     "output_type": "error",
     "traceback": [
      "\u001b[1;31m---------------------------------------------------------------------------\u001b[0m",
      "\u001b[1;31mTypeError\u001b[0m                                 Traceback (most recent call last)",
      "Cell \u001b[1;32mIn[178], line 8\u001b[0m\n\u001b[0;32m      6\u001b[0m \u001b[38;5;28mprint\u001b[39m(add(\u001b[38;5;124m\"\u001b[39m\u001b[38;5;124mhello\u001b[39m\u001b[38;5;124m\"\u001b[39m, \u001b[38;5;124m\"\u001b[39m\u001b[38;5;124mworld\u001b[39m\u001b[38;5;124m\"\u001b[39m))\n\u001b[0;32m      7\u001b[0m \u001b[38;5;28mprint\u001b[39m(add([\u001b[38;5;241m3\u001b[39m, \u001b[38;5;241m6\u001b[39m], [\u001b[38;5;241m2\u001b[39m,  \u001b[38;5;241m3\u001b[39m, \u001b[38;5;241m4\u001b[39m]))\n\u001b[1;32m----> 8\u001b[0m \u001b[38;5;28mprint\u001b[39m(\u001b[43madd\u001b[49m\u001b[43m(\u001b[49m\u001b[43m)\u001b[49m)\n",
      "\u001b[1;31mTypeError\u001b[0m: add() missing 2 required positional arguments: 'a' and 'b'"
     ]
    }
   ],
   "source": [
    "def add(a, b):\n",
    "    \"\"\"This fce returns addition of two mandatory arguments\"\"\"\n",
    "    return(a+b)\n",
    "\n",
    "print(add(2,6))\n",
    "print(add(\"hello\", \"world\"))\n",
    "print(add([3, 6], [2,  3, 4]))\n",
    "print(add())\n"
   ]
  },
  {
   "cell_type": "code",
   "execution_count": 183,
   "metadata": {},
   "outputs": [
    {
     "ename": "SyntaxError",
     "evalue": "positional argument follows keyword argument (1001819540.py, line 14)",
     "output_type": "error",
     "traceback": [
      "\u001b[1;36m  Cell \u001b[1;32mIn[183], line 14\u001b[1;36m\u001b[0m\n\u001b[1;33m    print(exp(e=4, 2))\u001b[0m\n\u001b[1;37m                    ^\u001b[0m\n\u001b[1;31mSyntaxError\u001b[0m\u001b[1;31m:\u001b[0m positional argument follows keyword argument\n"
     ]
    }
   ],
   "source": [
    "def exp(z,e=2):\n",
    "    \"\"\"Counts exponent\"\"\"\n",
    "    x=z\n",
    "    while e>1:\n",
    "        x=x*z\n",
    "        e-=1\n",
    "\n",
    "    return x\n",
    "\n",
    "print(exp(2,3))\n",
    "print(exp(2))\n",
    "print(exp(4,e=5)) # z parameter was passed as positional, e param as passed aas keyword argument (by name)\n",
    "print(exp(e=8, z=3))\n",
    "print(exp(e=4, 2))"
   ]
  },
  {
   "cell_type": "markdown",
   "metadata": {},
   "source": [
    "## variavble parameters passed to the the fce or parametes "
   ]
  },
  {
   "cell_type": "code",
   "execution_count": 200,
   "metadata": {},
   "outputs": [
    {
     "name": "stdout",
     "output_type": "stream",
     "text": [
      "5\n",
      "99\n",
      "8\n",
      "100\n"
     ]
    }
   ],
   "source": [
    "def maximum(*numbers):\n",
    "    m=numbers[0]\n",
    "    for n in numbers [1:]:\n",
    "        if n>m:\n",
    "            m=n\n",
    "    return m\n",
    "numbers=[1,3,8,4,6,5,8,7,99,22,77,1,2,]\n",
    "print(maximum(1,5,4,2))\n",
    "print(maximum(*numbers))\n",
    "print(maximum(*numbers[:5]))\n",
    "\n",
    "def multi(*par):\n",
    "    print(par,type(par))\n",
    "    for i in par:\n",
    "        print(i, type(i))\n",
    "\n",
    "        \n",
    "print(ord(\"d\"))\n",
    "          "
   ]
  },
  {
   "cell_type": "markdown",
   "metadata": {},
   "source": [
    "## named parameters of the arguments to fce "
   ]
  },
  {
   "cell_type": "code",
   "execution_count": 188,
   "metadata": {},
   "outputs": [
    {
     "name": "stdout",
     "output_type": "stream",
     "text": [
      "{'a': 1, 'b': 2, 'c': 3, 'message': 'hello'} <class 'dict'>\n"
     ]
    }
   ],
   "source": [
    "def example(**params):\n",
    "    print(params,type(params))\n",
    "\n",
    "example(a=1, b=2, c=3, message=\"hello\")"
   ]
  },
  {
   "cell_type": "code",
   "execution_count": 193,
   "metadata": {},
   "outputs": [
    {
     "name": "stdout",
     "output_type": "stream",
     "text": [
      "(12, 56, 'ahoj') <class 'tuple'>\n",
      "{'gopas': 'Brno', 'radius': 1234} <class 'dict'>\n"
     ]
    }
   ],
   "source": [
    "def f(*arg,**kwargs):\n",
    "    print(arg,type(arg))\n",
    "    print(kwargs,type(kwargs))\n",
    "\n",
    "f(12,56,\"ahoj\",gopas=\"Brno\",radius=1234)\n"
   ]
  },
  {
   "cell_type": "code",
   "execution_count": 199,
   "metadata": {},
   "outputs": [
    {
     "name": "stdout",
     "output_type": "stream",
     "text": [
      "{'CZ': ['Brno', 'Praha', 'Hradec Kralove', 'Ostrava', 'Kolin'], 'SK': ['Kosice', 'Bratislava', 'Zilina'], 'AT': ['Linz', 'Graz'], 'DE': ['Berlin']}\n",
      "AT: Graz, Linz\n",
      "CZ: Brno, Hradec Kralove, Kolin, Ostrava, Praha\n",
      "DE: Berlin\n",
      "SK: Bratislava, Kosice, Zilina\n"
     ]
    }
   ],
   "source": [
    "lines = [\"CZ,Brno\", \"CZ,Praha\", \"SK,Kosice\", \"AT,Linz\", \"DE,Berlin\", \"CZ,Hradec Kralove\", \"SK,Bratislava\", \"SK,Zilina\", \"CZ,Ostrava\", \"CZ,Kolin\", \"AT,Graz\"]\n",
    "countries = {}\n",
    "for line in lines:\n",
    "    code,city = line.split(\",\")\n",
    "    countries.setdefault(code,[]).append(city)\n",
    "print(countries)\n",
    "\n",
    "for country in sorted(countries):\n",
    "    print(country, \": \", sep=\"\", end=\"\")\n",
    "    print(*sorted(countries[country]),sep=\", \")"
   ]
  },
  {
   "cell_type": "code",
   "execution_count": null,
   "metadata": {},
   "outputs": [
    {
     "name": "stdout",
     "output_type": "stream",
     "text": [
      "[2, 3, 5, 7, 11, 13, 17, 19, 23, 29, 31, 37, 41, 43, 47, 53, 59, 61, 67, 71, 73, 79, 83, 89, 97]\n",
      "0\n",
      "-----------------\n",
      "1\n",
      "0\n",
      "-----------------\n",
      "0\n",
      "-----------------\n",
      "1\n",
      "2\n",
      "0\n",
      "-----------------\n",
      "0\n",
      "-----------------\n",
      "1\n",
      "1\n",
      "2\n",
      "0\n",
      "-----------------\n",
      "0\n",
      "-----------------\n",
      "1\n",
      "0\n",
      "-----------------\n",
      "0\n",
      "-----------------\n",
      "1\n",
      "2\n",
      "1\n",
      "4\n",
      "0\n",
      "-----------------\n",
      "0\n",
      "-----------------\n",
      "1\n",
      "1\n",
      "3\n",
      "6\n",
      "2\n",
      "0\n",
      "-----------------\n",
      "0\n",
      "-----------------\n",
      "1\n",
      "0\n",
      "-----------------\n",
      "0\n",
      "-----------------\n",
      "1\n",
      "2\n",
      "2\n",
      "3\n",
      "6\n",
      "4\n",
      "0\n",
      "-----------------\n",
      "0\n",
      "-----------------\n",
      "1\n",
      "1\n",
      "4\n",
      "5\n",
      "8\n",
      "6\n",
      "2\n",
      "0\n",
      "-----------------\n",
      "[2, 3, 5, 7, 11, 13, 17, 19, 23, 29, 31, 37, 41, 43, 47, 53, 59, 61, 67, 71, 73, 79, 83, 89, 97]\n"
     ]
    }
   ],
   "source": [
    "primes=[]\n",
    "for i in range(2,101):\n",
    "    is_prime=True\n",
    "    for j in primes:\n",
    "        if not i%j:\n",
    "            is_prime=False\n",
    "            break\n",
    "    if is_prime:\n",
    "        primes.append(i)\n",
    "\n",
    "print(primes)\n",
    "\n",
    "\n",
    "primes1=[]\n",
    "for i in range(2,20):\n",
    "        for j in primes:\n",
    "            print(i%j)\n",
    "            if not i%j:\n",
    "                 break\n",
    "        else:\n",
    "            primes1.append(i)\n",
    "            print(\"Appending\", i)\n",
    "    \n",
    "        print(\"-----------------\")\n",
    "\n",
    "print(primes)\n"
   ]
  },
  {
   "cell_type": "code",
   "execution_count": 316,
   "metadata": {},
   "outputs": [
    {
     "name": "stdout",
     "output_type": "stream",
     "text": [
      "395000\n",
      "1100000\n",
      "97000\n",
      "280000\n",
      "57000\n",
      "185000\n",
      "403000\n",
      "65000\n",
      "78000\n",
      "91000\n",
      "6300000\n",
      "------------------\n"
     ]
    }
   ],
   "source": [
    "lines=['CZ,Brno,395000','CZ,Praha,1100000','SK,Kosice,185000','AT,Linz,78000','DE,Berlin,6300000','CZ,Hradec Kralove,97000',\n",
    "       'SK,Bratislava,403000','SK,Zilina,65000','CZ,Ostrava,280000','CZ,Kolin,57000','AT,Graz,91000']\n",
    "countries = {}\n",
    "for line in lines:\n",
    "    code,city,population = line.split(\",\")\n",
    "    countries.setdefault(code,[]).append([city,int(population)])\n",
    "# print(countries)\n",
    "\n",
    "#for country in sorted(countries):\n",
    "#   print(country, \": \", \", \".join(sorted(countries[country])), sep=\"\")\n",
    "\n",
    "      \n",
    "def second_element(x):\n",
    "    \"\"\"Test function\"\"\"\n",
    "    #print(countries)\n",
    "    #print(x)\n",
    "    #print(x[1])\n",
    "    for i in countries.keys():\n",
    "       #print(i)\n",
    "       #print(countries[i])\n",
    "       for j in x[i]:\n",
    "        print(j[1])\n",
    "    print(\"------------------\")\n",
    "    #return x[1]\n",
    "    \n",
    "#for country in sorted(countries):\n",
    "#    #print(sorted(countries[country]))\n",
    "#  cities=[]\n",
    "#    for city,pop in sorted(countries[country],key=second_element):\n",
    "#        cities.append(city)\n",
    "#    #print(country,\": \",\", \".join(cities),sep=\"\")\n",
    "\n",
    "    \n",
    "second_element(countries)\n"
   ]
  },
  {
   "cell_type": "code",
   "execution_count": null,
   "metadata": {},
   "outputs": [],
   "source": []
  }
 ],
 "metadata": {
  "kernelspec": {
   "display_name": "Python 3",
   "language": "python",
   "name": "python3"
  },
  "language_info": {
   "codemirror_mode": {
    "name": "ipython",
    "version": 3
   },
   "file_extension": ".py",
   "mimetype": "text/x-python",
   "name": "python",
   "nbconvert_exporter": "python",
   "pygments_lexer": "ipython3",
   "version": "3.12.2"
  }
 },
 "nbformat": 4,
 "nbformat_minor": 2
}
