{
 "cells": [
  {
   "cell_type": "code",
   "execution_count": 3,
   "id": "f3067260-621a-4f04-9819-a7e9c684ac18",
   "metadata": {},
   "outputs": [
    {
     "name": "stdout",
     "output_type": "stream",
     "text": [
      "Hello world\n"
     ]
    }
   ],
   "source": [
    "#monday\n",
    "#Introduction to Python\n",
    "print('Hello world')"
   ]
  },
  {
   "cell_type": "code",
   "execution_count": 7,
   "id": "8f3cc3ab-e34c-464c-ba6f-0c1d13d54bee",
   "metadata": {},
   "outputs": [
    {
     "name": "stdout",
     "output_type": "stream",
     "text": [
      "123 2024\n"
     ]
    }
   ],
   "source": [
    "#builtin types\n",
    "#numeric types\n",
    "#assignment statement, assign value to variable\n",
    "salary = 123\n",
    "year=2024\n",
    "print(salary,year) #sep='')\n",
    "#language is case sensitive (indetifiers)\n",
    "#print(Salary) #NameError: name 'Salary' is not defined"
   ]
  },
  {
   "cell_type": "code",
   "execution_count": 22,
   "id": "5329dc38-5e72-4ec5-b925-e4c6d3492031",
   "metadata": {},
   "outputs": [
    {
     "name": "stdout",
     "output_type": "stream",
     "text": [
      "34900 <class 'int'>\n",
      "-100\n",
      "255\n",
      "12\n",
      "511\n",
      "100000000\n",
      "99250068772098856700831462057469632637295940819886900519816298881382867104749399077921128661426144638055424236936271872492800352741649902118143819672601569998100120790496759517636465445895625741609866209900500198407153244604778968016963028050310261417615914468729918240685487878617645976939063464357986165711730976399478507649228686341466967167910126653342134942744851463899927487092486610977146112763567101672645953132196481439339873017088140414661271198500333255713096142335151414630651683065518784081203678487703002802082091236603519026256880624499681781387227574035484831271515683123742149095569260463609655977700938844580611931246495166208695540313698140011638027322566252689780838136351828795314272162111222231170901715612355701347552371530013693855379834865667060014643302459100429783653966913783002290784283455628283355470529932956051484477129333881159930212758687602795088579230431661696010232187390436601614145603241902386663442520160735566561 <class 'int'> 3166\n"
     ]
    },
    {
     "ename": "ValueError",
     "evalue": "Exceeds the limit (4300 digits) for integer string conversion; use sys.set_int_max_str_digits() to increase the limit",
     "output_type": "error",
     "traceback": [
      "\u001b[1;31m---------------------------------------------------------------------------\u001b[0m",
      "\u001b[1;31mValueError\u001b[0m                                Traceback (most recent call last)",
      "Cell \u001b[1;32mIn[22], line 18\u001b[0m\n\u001b[0;32m     16\u001b[0m \u001b[38;5;28mprint\u001b[39m(x,\u001b[38;5;28mtype\u001b[39m(x),x\u001b[38;5;241m.\u001b[39mbit_length())\n\u001b[0;32m     17\u001b[0m x\u001b[38;5;241m=\u001b[39m\u001b[38;5;241m123\u001b[39m\u001b[38;5;241m*\u001b[39m\u001b[38;5;241m*\u001b[39m\u001b[38;5;241m456789\u001b[39m\n\u001b[1;32m---> 18\u001b[0m \u001b[38;5;28mprint\u001b[39m(x)\n",
      "\u001b[1;31mValueError\u001b[0m: Exceeds the limit (4300 digits) for integer string conversion; use sys.set_int_max_str_digits() to increase the limit"
     ]
    }
   ],
   "source": [
    "#integers\n",
    "salary=34900\n",
    "print(salary,type(salary))\n",
    "salary=-100\n",
    "print(salary)\n",
    "salary=0xff #hexadecimal\n",
    "print(salary)\n",
    "salary=0b1100 #binary\n",
    "print(salary)\n",
    "salary=0o777 #octal presentation\n",
    "print(salary)\n",
    "salary=100_000_000 #starting 3.6 we can use underscore in numeric literals between digits\n",
    "print(salary)\n",
    "#integers can be large (unlimited on scale)\n",
    "x=123**456\n",
    "print(x,type(x),x.bit_length())\n",
    "x=123**456789\n",
    "print(x)"
   ]
  },
  {
   "cell_type": "code",
   "execution_count": 24,
   "id": "99df6f68-32f3-4940-9bbc-adfc522a99ac",
   "metadata": {},
   "outputs": [],
   "source": [
    "import sys\n",
    "#sys.set_int_max_str_digits(999_999)\n",
    "#print(x)"
   ]
  },
  {
   "cell_type": "code",
   "execution_count": 27,
   "id": "ac39be63-19ce-4254-8241-5312081f4ac9",
   "metadata": {},
   "outputs": [
    {
     "name": "stdout",
     "output_type": "stream",
     "text": [
      "450\n",
      "4345000\n",
      "3.3333333333333335 3 1\n"
     ]
    }
   ],
   "source": [
    "print(10*45)\n",
    "sal=78\n",
    "print(sal*56000-23000)\n",
    "print(10/3,10//3,10%3)"
   ]
  },
  {
   "cell_type": "code",
   "execution_count": 32,
   "id": "450369af-6041-46e2-9140-0b0a5bbf8363",
   "metadata": {},
   "outputs": [
    {
     "name": "stdout",
     "output_type": "stream",
     "text": [
      "14\n",
      "15\n",
      "16\n"
     ]
    }
   ],
   "source": [
    "count=14\n",
    "print(count)\n",
    "count=count+1\n",
    "print(count)\n",
    "count+=1\n",
    "print(count)\n",
    "#count++"
   ]
  },
  {
   "cell_type": "code",
   "execution_count": 36,
   "id": "3cd4d719-bfed-406a-9dd3-2f4161f66916",
   "metadata": {},
   "outputs": [
    {
     "name": "stdout",
     "output_type": "stream",
     "text": [
      "12345.8 138900.0\n",
      "<class 'float'>\n"
     ]
    }
   ],
   "source": [
    "#float\n",
    "salary=12_345.80\n",
    "print(salary,13.89e4) #scientific format,semilogaritmic\n",
    "print(type(salary))"
   ]
  },
  {
   "cell_type": "code",
   "execution_count": 35,
   "id": "112792ec-b144-433b-87d0-d0e9f82041cd",
   "metadata": {},
   "outputs": [
    {
     "name": "stdout",
     "output_type": "stream",
     "text": [
      "(12+5j) <class 'complex'>\n"
     ]
    }
   ],
   "source": [
    "gopas=12+5j\n",
    "print(gopas,type(gopas))"
   ]
  },
  {
   "cell_type": "code",
   "execution_count": 37,
   "id": "d2de9632-bdaa-41dc-b9a6-e69b13113cf9",
   "metadata": {},
   "outputs": [
    {
     "name": "stdout",
     "output_type": "stream",
     "text": [
      "(10200, 5) <class 'tuple'>\n"
     ]
    }
   ],
   "source": [
    "salary=10200,5\n",
    "print(salary,type(salary))"
   ]
  },
  {
   "cell_type": "code",
   "execution_count": 38,
   "id": "601b19e5-2bc7-4e47-ba4a-a8150675ea28",
   "metadata": {},
   "outputs": [
    {
     "name": "stdout",
     "output_type": "stream",
     "text": [
      "3.3333333333333335 3.3333\n"
     ]
    }
   ],
   "source": [
    "#builtins abs,round\n",
    "gopas=10/3\n",
    "print(gopas,round(gopas,4))"
   ]
  },
  {
   "cell_type": "code",
   "execution_count": 46,
   "id": "59976599-7b8c-4bc3-8bbc-393af9275a51",
   "metadata": {},
   "outputs": [
    {
     "name": "stdout",
     "output_type": "stream",
     "text": [
      "1.2246467991473532e-16 3.141592653589793\n",
      "3.5263605246161616\n",
      "15\n",
      "24\n",
      "3.0\n"
     ]
    }
   ],
   "source": [
    "import math\n",
    "print(math.sin(math.pi),math.pi)\n",
    "print(math.log(34))\n",
    "print(math.gcd(75,30))\n",
    "print(math.lcm(12,8))\n",
    "print(math.sqrt(9)) #square root\n",
    "#print(dir(math))"
   ]
  },
  {
   "cell_type": "code",
   "execution_count": 49,
   "id": "91ae3945-e35a-4b33-8395-05b3d65b755d",
   "metadata": {},
   "outputs": [
    {
     "name": "stdout",
     "output_type": "stream",
     "text": [
      "inf\n"
     ]
    },
    {
     "ename": "OverflowError",
     "evalue": "(34, 'Result too large')",
     "output_type": "error",
     "traceback": [
      "\u001b[1;31m---------------------------------------------------------------------------\u001b[0m",
      "\u001b[1;31mOverflowError\u001b[0m                             Traceback (most recent call last)",
      "Cell \u001b[1;32mIn[49], line 3\u001b[0m\n\u001b[0;32m      1\u001b[0m gopas\u001b[38;5;241m=\u001b[39m\u001b[38;5;241m123e301\u001b[39m\u001b[38;5;241m*\u001b[39m\u001b[38;5;241m45678977\u001b[39m\n\u001b[0;32m      2\u001b[0m \u001b[38;5;28mprint\u001b[39m(gopas)\n\u001b[1;32m----> 3\u001b[0m \u001b[38;5;28mprint\u001b[39m(\u001b[38;5;241m123e301\u001b[39m\u001b[38;5;241m*\u001b[39m\u001b[38;5;241m*\u001b[39m\u001b[38;5;241m123e301\u001b[39m)\n",
      "\u001b[1;31mOverflowError\u001b[0m: (34, 'Result too large')"
     ]
    }
   ],
   "source": [
    "gopas=123e301*45678977\n",
    "print(gopas)\n",
    "print(123e301**123e301)"
   ]
  },
  {
   "cell_type": "code",
   "execution_count": 50,
   "id": "94476078-07af-419d-a448-73a8e017b59b",
   "metadata": {},
   "outputs": [
    {
     "name": "stdout",
     "output_type": "stream",
     "text": [
      "1j\n"
     ]
    }
   ],
   "source": [
    "import cmath\n",
    "print(cmath.sqrt(-1))"
   ]
  },
  {
   "cell_type": "code",
   "execution_count": 56,
   "id": "0a558429-bd8b-4dda-aa43-b100c4c96958",
   "metadata": {},
   "outputs": [
    {
     "name": "stdout",
     "output_type": "stream",
     "text": [
      "True 1 46\n",
      "False 6 0\n",
      "None\n",
      "None <class 'NoneType'>\n"
     ]
    }
   ],
   "source": [
    "#boolean\n",
    "truth=True #literal for True\n",
    "print(truth,truth+0,truth+45)\n",
    "no=False #literal for False\n",
    "print(no,no+6,no+0)\n",
    "#in Python false is 0,0.0 empty string, empty containes(lists,tuples,dictioanroes, sets) False None\n",
    "print(None)\n",
    "x=None #nothing, unknown value, unapplicable \n",
    "print(x,type(x))"
   ]
  },
  {
   "cell_type": "code",
   "execution_count": 61,
   "id": "d734fbb1-0eff-43cc-8705-744af524662d",
   "metadata": {},
   "outputs": [
    {
     "name": "stdout",
     "output_type": "stream",
     "text": [
      "8\n",
      "8\n",
      "13\n",
      "5\n",
      "-13\n"
     ]
    }
   ],
   "source": [
    "print(12&9) #1100 & 1001 result 1000\n",
    "print(0b1000)\n",
    "print(12 | 9)\n",
    "print(12 ^ 9)\n",
    "print(~12)"
   ]
  },
  {
   "cell_type": "code",
   "execution_count": 67,
   "id": "e9606589-5aad-40c0-b0cc-a3b456c1326a",
   "metadata": {},
   "outputs": [
    {
     "name": "stdout",
     "output_type": "stream",
     "text": [
      "True False\n",
      "True\n",
      "False\n"
     ]
    },
    {
     "ename": "TypeError",
     "evalue": "'>' not supported between instances of 'int' and 'str'",
     "output_type": "error",
     "traceback": [
      "\u001b[1;31m---------------------------------------------------------------------------\u001b[0m",
      "\u001b[1;31mTypeError\u001b[0m                                 Traceback (most recent call last)",
      "Cell \u001b[1;32mIn[67], line 4\u001b[0m\n\u001b[0;32m      2\u001b[0m \u001b[38;5;28mprint\u001b[39m(\u001b[38;5;241m100\u001b[39m\u001b[38;5;241m>\u001b[39m\u001b[38;5;241m20\u001b[39m)\n\u001b[0;32m      3\u001b[0m \u001b[38;5;28mprint\u001b[39m(\u001b[38;5;241m10\u001b[39m\u001b[38;5;241m==\u001b[39m\u001b[38;5;124m'\u001b[39m\u001b[38;5;124m10\u001b[39m\u001b[38;5;124m'\u001b[39m)\n\u001b[1;32m----> 4\u001b[0m \u001b[38;5;28mprint\u001b[39m(\u001b[38;5;241m10\u001b[39m\u001b[38;5;241m>\u001b[39m\u001b[38;5;124m'\u001b[39m\u001b[38;5;124m10\u001b[39m\u001b[38;5;124m'\u001b[39m)\n",
      "\u001b[1;31mTypeError\u001b[0m: '>' not supported between instances of 'int' and 'str'"
     ]
    }
   ],
   "source": [
    "print(14-6 == 8,12!=12)\n",
    "print(100>20)\n",
    "print(10=='10')\n",
    "print(10>'10')"
   ]
  },
  {
   "cell_type": "code",
   "execution_count": 70,
   "id": "570cdc8c-e713-404e-8c9d-6426668c1799",
   "metadata": {},
   "outputs": [
    {
     "name": "stdout",
     "output_type": "stream",
     "text": [
      "True\n",
      "False\n"
     ]
    }
   ],
   "source": [
    "print(20>5 and 300<=400)\n",
    "print(20>50 and 300<=400)\n",
    "#operator precedence"
   ]
  },
  {
   "cell_type": "code",
   "execution_count": 74,
   "id": "19f67382-80ef-4fb2-b900-832c1bc77fea",
   "metadata": {},
   "outputs": [
    {
     "name": "stdout",
     "output_type": "stream",
     "text": [
      "17\n",
      "0b100010\n",
      "8\n",
      "4\n"
     ]
    }
   ],
   "source": [
    "print(34>>1) #100010 10001\n",
    "#print(bin(34))\n",
    "print(34>>2) #1000\n",
    "print(34>>3) #100\n"
   ]
  },
  {
   "cell_type": "code",
   "execution_count": 79,
   "id": "5c8540f0-2a7c-4025-9977-627be311e978",
   "metadata": {},
   "outputs": [
    {
     "name": "stdout",
     "output_type": "stream",
     "text": [
      "47529.1553\n",
      "772.8318\n"
     ]
    }
   ],
   "source": [
    "#compute and print for some radius AREA and CIRCUMFERENCE for that radius\n",
    "radius=123\n",
    "import math\n",
    "print( round(math.pi*radius**2,4)  )#area\n",
    "print( round(2*math.pi*radius,4))"
   ]
  },
  {
   "cell_type": "code",
   "execution_count": 81,
   "id": "4ce5d70f-d522-4932-bc56-79612d1ffd86",
   "metadata": {},
   "outputs": [
    {
     "name": "stdout",
     "output_type": "stream",
     "text": [
      "47548.2857\n",
      "773.1429\n",
      "24600\n"
     ]
    }
   ],
   "source": [
    "radius=123\n",
    "pi=22/7\n",
    "print( round(pi*radius**2,4)  )#area\n",
    "print( round(2*pi*radius,4))\n",
    "pi=100\n",
    "print( round(2*pi*radius,4))\n"
   ]
  },
  {
   "cell_type": "code",
   "execution_count": 90,
   "id": "8b2dd306-df50-4cf0-abf7-3110bcb19271",
   "metadata": {},
   "outputs": [
    {
     "name": "stdout",
     "output_type": "stream",
     "text": [
      "Hello world from gopas <class 'str'> 22\n",
      "Hello world from gopas <class 'str'> 22\n",
      "True\n",
      "Hello from\n",
      "Gopas in Brno\n",
      "Czech Republic\n",
      " <class 'str'> 40\n"
     ]
    }
   ],
   "source": [
    "#retezce\n",
    "greeting='Hello world from gopas'\n",
    "print(greeting,type(greeting),len(greeting))\n",
    "greeting2=\"Hello world from gopas\"\n",
    "print(greeting2,type(greeting2),len(greeting2))\n",
    "print(greeting==greeting2)\n",
    "#multiline strings\n",
    "var=\"\"\"Hello from\n",
    "Gopas in Brno\n",
    "Czech Republic\\n\"\"\"\n",
    "print(var,type(var),len(var))\n"
   ]
  },
  {
   "cell_type": "code",
   "execution_count": 97,
   "id": "08da78a5-d380-4585-88d0-79434a390ec7",
   "metadata": {},
   "outputs": [
    {
     "name": "stdout",
     "output_type": "stream",
     "text": [
      "brno\tpraha\n",
      "monday\n",
      "brno\\tpraha\\nmonday\n",
      "e:\\new_directory\\new_file.txt\n",
      "GopasBrno BrnoBrnoBrnoBrno\n"
     ]
    }
   ],
   "source": [
    "#raw strings\n",
    "print('brno\\tpraha\\nmonday')\n",
    "print(r'brno\\tpraha\\nmonday')\n",
    "file_name=r'e:\\new_directory\\new_file.txt'\n",
    "print(file_name)\n",
    "print('Gopas'+'Brno',4*'Brno')\n"
   ]
  },
  {
   "cell_type": "code",
   "execution_count": 118,
   "id": "5da16ed4-ca13-48f1-83eb-18b8d7ef7df5",
   "metadata": {},
   "outputs": [
    {
     "name": "stdout",
     "output_type": "stream",
     "text": [
      "Žluťoučký kůň pěl žalostné ódy.\n",
      "123\n",
      "lion 🦁 🍺 🐘\n",
      "Novák <class 'str'> 5\n",
      "Novák <class 'str'> 5 True\n",
      "Novák <class 'str'> 6 False\n",
      "['UCD', '__doc__', '__file__', '__loader__', '__name__', '__package__', '__spec__', '_ucnhash_CAPI', 'bidirectional', 'category', 'combining', 'decimal', 'decomposition', 'digit', 'east_asian_width', 'is_normalized', 'lookup', 'mirrored', 'name', 'normalize', 'numeric', 'ucd_3_2_0', 'unidata_version']\n",
      "True\n",
      "False\n"
     ]
    }
   ],
   "source": [
    "#all strings are unicode strings\n",
    "message='Žluťoučký kůň pěl žalostné ódy.'\n",
    "print(message)\n",
    "kůň = 123\n",
    "print(kůň)\n",
    "print('lion \\N{lion face} \\N{beer mug} \\N{elephant}')\n",
    "#🐘=123\n",
    "x='Novák'\n",
    "print(x,type(x),len(x))\n",
    "y='Nov\\N{latin small letter a with acute}k'\n",
    "print(y,type(y),len(y),x==y)\n",
    "z='Nova\\N{combining acute accent}k'\n",
    "print(z,type(z),len(z),z==x)\n",
    "import unicodedata\n",
    "#print(dir(unicodedata))\n",
    "print(unicodedata.normalize('NFKC',x)==unicodedata.normalize('NFKC',z))\n",
    "print(unicodedata.normalize('NFKC',x)==unicodedata.normalize('NFKC','Novak'))\n"
   ]
  },
  {
   "cell_type": "code",
   "execution_count": 117,
   "id": "4cc463fa-41d6-4ec4-a440-c99b3b5dab84",
   "metadata": {},
   "outputs": [],
   "source": [
    "#help(unicodedata.normalize)"
   ]
  },
  {
   "cell_type": "code",
   "execution_count": 122,
   "id": "be0c496f-b3c1-4358-9303-97a87ce66478",
   "metadata": {},
   "outputs": [
    {
     "name": "stdin",
     "output_type": "stream",
     "text": [
      "Prompt string: enter your name: Jan\n"
     ]
    },
    {
     "name": "stdout",
     "output_type": "stream",
     "text": [
      "Your name in uppercase is JAN\n",
      "<class 'str'> 3\n"
     ]
    }
   ],
   "source": [
    "text=input('Prompt string: enter your name:')\n",
    "print('Your name in uppercase is',text.upper()) #method of string datatype, called to get uppercase string\n",
    "print(type(text),len(text))"
   ]
  },
  {
   "cell_type": "code",
   "execution_count": 124,
   "id": "f34aebc5-16b9-4691-969a-c70eeee42b6f",
   "metadata": {},
   "outputs": [
    {
     "name": "stdout",
     "output_type": "stream",
     "text": [
      "579\n"
     ]
    }
   ],
   "source": [
    "a='123'\n",
    "b=456\n",
    "print(int(a)+b)"
   ]
  },
  {
   "cell_type": "code",
   "execution_count": 128,
   "id": "3a7e27c9-e802-44bd-b601-f86f018a28fe",
   "metadata": {},
   "outputs": [
    {
     "ename": "ValueError",
     "evalue": "invalid literal for int() with base 10: 'ahoj'",
     "output_type": "error",
     "traceback": [
      "\u001b[1;31m---------------------------------------------------------------------------\u001b[0m",
      "\u001b[1;31mValueError\u001b[0m                                Traceback (most recent call last)",
      "Cell \u001b[1;32mIn[128], line 1\u001b[0m\n\u001b[1;32m----> 1\u001b[0m \u001b[38;5;28mint\u001b[39m(\u001b[38;5;124m'\u001b[39m\u001b[38;5;124mahoj\u001b[39m\u001b[38;5;124m'\u001b[39m)\n",
      "\u001b[1;31mValueError\u001b[0m: invalid literal for int() with base 10: 'ahoj'"
     ]
    }
   ],
   "source": [
    "int('ahoj') #ahoj is not valid int literal"
   ]
  },
  {
   "cell_type": "code",
   "execution_count": 2,
   "id": "dd5c7211-04fe-4de1-a5b8-ac28fa8176b7",
   "metadata": {},
   "outputs": [
    {
     "name": "stdin",
     "output_type": "stream",
     "text": [
      "Enter radius: 123\n"
     ]
    },
    {
     "name": "stdout",
     "output_type": "stream",
     "text": [
      "47529.1553\n",
      "772.8318\n"
     ]
    }
   ],
   "source": [
    "radius=int(input('Enter radius:'))\n",
    "import math\n",
    "print( round(math.pi*radius**2,4)  )#area\n",
    "print( round(2*math.pi*radius,4))"
   ]
  },
  {
   "cell_type": "code",
   "execution_count": 3,
   "id": "994303b7-0199-4199-9f92-ed656b8bb64d",
   "metadata": {},
   "outputs": [
    {
     "name": "stdout",
     "output_type": "stream",
     "text": [
      "Help on class str in module builtins:\n",
      "\n",
      "class str(object)\n",
      " |  str(object='') -> str\n",
      " |  str(bytes_or_buffer[, encoding[, errors]]) -> str\n",
      " |  \n",
      " |  Create a new string object from the given object. If encoding or\n",
      " |  errors is specified, then the object must expose a data buffer\n",
      " |  that will be decoded using the given encoding and error handler.\n",
      " |  Otherwise, returns the result of object.__str__() (if defined)\n",
      " |  or repr(object).\n",
      " |  encoding defaults to sys.getdefaultencoding().\n",
      " |  errors defaults to 'strict'.\n",
      " |  \n",
      " |  Methods defined here:\n",
      " |  \n",
      " |  __add__(self, value, /)\n",
      " |      Return self+value.\n",
      " |  \n",
      " |  __contains__(self, key, /)\n",
      " |      Return key in self.\n",
      " |  \n",
      " |  __eq__(self, value, /)\n",
      " |      Return self==value.\n",
      " |  \n",
      " |  __format__(self, format_spec, /)\n",
      " |      Return a formatted version of the string as described by format_spec.\n",
      " |  \n",
      " |  __ge__(self, value, /)\n",
      " |      Return self>=value.\n",
      " |  \n",
      " |  __getattribute__(self, name, /)\n",
      " |      Return getattr(self, name).\n",
      " |  \n",
      " |  __getitem__(self, key, /)\n",
      " |      Return self[key].\n",
      " |  \n",
      " |  __getnewargs__(...)\n",
      " |  \n",
      " |  __gt__(self, value, /)\n",
      " |      Return self>value.\n",
      " |  \n",
      " |  __hash__(self, /)\n",
      " |      Return hash(self).\n",
      " |  \n",
      " |  __iter__(self, /)\n",
      " |      Implement iter(self).\n",
      " |  \n",
      " |  __le__(self, value, /)\n",
      " |      Return self<=value.\n",
      " |  \n",
      " |  __len__(self, /)\n",
      " |      Return len(self).\n",
      " |  \n",
      " |  __lt__(self, value, /)\n",
      " |      Return self<value.\n",
      " |  \n",
      " |  __mod__(self, value, /)\n",
      " |      Return self%value.\n",
      " |  \n",
      " |  __mul__(self, value, /)\n",
      " |      Return self*value.\n",
      " |  \n",
      " |  __ne__(self, value, /)\n",
      " |      Return self!=value.\n",
      " |  \n",
      " |  __repr__(self, /)\n",
      " |      Return repr(self).\n",
      " |  \n",
      " |  __rmod__(self, value, /)\n",
      " |      Return value%self.\n",
      " |  \n",
      " |  __rmul__(self, value, /)\n",
      " |      Return value*self.\n",
      " |  \n",
      " |  __sizeof__(self, /)\n",
      " |      Return the size of the string in memory, in bytes.\n",
      " |  \n",
      " |  __str__(self, /)\n",
      " |      Return str(self).\n",
      " |  \n",
      " |  capitalize(self, /)\n",
      " |      Return a capitalized version of the string.\n",
      " |      \n",
      " |      More specifically, make the first character have upper case and the rest lower\n",
      " |      case.\n",
      " |  \n",
      " |  casefold(self, /)\n",
      " |      Return a version of the string suitable for caseless comparisons.\n",
      " |  \n",
      " |  center(self, width, fillchar=' ', /)\n",
      " |      Return a centered string of length width.\n",
      " |      \n",
      " |      Padding is done using the specified fill character (default is a space).\n",
      " |  \n",
      " |  count(...)\n",
      " |      S.count(sub[, start[, end]]) -> int\n",
      " |      \n",
      " |      Return the number of non-overlapping occurrences of substring sub in\n",
      " |      string S[start:end].  Optional arguments start and end are\n",
      " |      interpreted as in slice notation.\n",
      " |  \n",
      " |  encode(self, /, encoding='utf-8', errors='strict')\n",
      " |      Encode the string using the codec registered for encoding.\n",
      " |      \n",
      " |      encoding\n",
      " |        The encoding in which to encode the string.\n",
      " |      errors\n",
      " |        The error handling scheme to use for encoding errors.\n",
      " |        The default is 'strict' meaning that encoding errors raise a\n",
      " |        UnicodeEncodeError.  Other possible values are 'ignore', 'replace' and\n",
      " |        'xmlcharrefreplace' as well as any other name registered with\n",
      " |        codecs.register_error that can handle UnicodeEncodeErrors.\n",
      " |  \n",
      " |  endswith(...)\n",
      " |      S.endswith(suffix[, start[, end]]) -> bool\n",
      " |      \n",
      " |      Return True if S ends with the specified suffix, False otherwise.\n",
      " |      With optional start, test S beginning at that position.\n",
      " |      With optional end, stop comparing S at that position.\n",
      " |      suffix can also be a tuple of strings to try.\n",
      " |  \n",
      " |  expandtabs(self, /, tabsize=8)\n",
      " |      Return a copy where all tab characters are expanded using spaces.\n",
      " |      \n",
      " |      If tabsize is not given, a tab size of 8 characters is assumed.\n",
      " |  \n",
      " |  find(...)\n",
      " |      S.find(sub[, start[, end]]) -> int\n",
      " |      \n",
      " |      Return the lowest index in S where substring sub is found,\n",
      " |      such that sub is contained within S[start:end].  Optional\n",
      " |      arguments start and end are interpreted as in slice notation.\n",
      " |      \n",
      " |      Return -1 on failure.\n",
      " |  \n",
      " |  format(...)\n",
      " |      S.format(*args, **kwargs) -> str\n",
      " |      \n",
      " |      Return a formatted version of S, using substitutions from args and kwargs.\n",
      " |      The substitutions are identified by braces ('{' and '}').\n",
      " |  \n",
      " |  format_map(...)\n",
      " |      S.format_map(mapping) -> str\n",
      " |      \n",
      " |      Return a formatted version of S, using substitutions from mapping.\n",
      " |      The substitutions are identified by braces ('{' and '}').\n",
      " |  \n",
      " |  index(...)\n",
      " |      S.index(sub[, start[, end]]) -> int\n",
      " |      \n",
      " |      Return the lowest index in S where substring sub is found,\n",
      " |      such that sub is contained within S[start:end].  Optional\n",
      " |      arguments start and end are interpreted as in slice notation.\n",
      " |      \n",
      " |      Raises ValueError when the substring is not found.\n",
      " |  \n",
      " |  isalnum(self, /)\n",
      " |      Return True if the string is an alpha-numeric string, False otherwise.\n",
      " |      \n",
      " |      A string is alpha-numeric if all characters in the string are alpha-numeric and\n",
      " |      there is at least one character in the string.\n",
      " |  \n",
      " |  isalpha(self, /)\n",
      " |      Return True if the string is an alphabetic string, False otherwise.\n",
      " |      \n",
      " |      A string is alphabetic if all characters in the string are alphabetic and there\n",
      " |      is at least one character in the string.\n",
      " |  \n",
      " |  isascii(self, /)\n",
      " |      Return True if all characters in the string are ASCII, False otherwise.\n",
      " |      \n",
      " |      ASCII characters have code points in the range U+0000-U+007F.\n",
      " |      Empty string is ASCII too.\n",
      " |  \n",
      " |  isdecimal(self, /)\n",
      " |      Return True if the string is a decimal string, False otherwise.\n",
      " |      \n",
      " |      A string is a decimal string if all characters in the string are decimal and\n",
      " |      there is at least one character in the string.\n",
      " |  \n",
      " |  isdigit(self, /)\n",
      " |      Return True if the string is a digit string, False otherwise.\n",
      " |      \n",
      " |      A string is a digit string if all characters in the string are digits and there\n",
      " |      is at least one character in the string.\n",
      " |  \n",
      " |  isidentifier(self, /)\n",
      " |      Return True if the string is a valid Python identifier, False otherwise.\n",
      " |      \n",
      " |      Call keyword.iskeyword(s) to test whether string s is a reserved identifier,\n",
      " |      such as \"def\" or \"class\".\n",
      " |  \n",
      " |  islower(self, /)\n",
      " |      Return True if the string is a lowercase string, False otherwise.\n",
      " |      \n",
      " |      A string is lowercase if all cased characters in the string are lowercase and\n",
      " |      there is at least one cased character in the string.\n",
      " |  \n",
      " |  isnumeric(self, /)\n",
      " |      Return True if the string is a numeric string, False otherwise.\n",
      " |      \n",
      " |      A string is numeric if all characters in the string are numeric and there is at\n",
      " |      least one character in the string.\n",
      " |  \n",
      " |  isprintable(self, /)\n",
      " |      Return True if the string is printable, False otherwise.\n",
      " |      \n",
      " |      A string is printable if all of its characters are considered printable in\n",
      " |      repr() or if it is empty.\n",
      " |  \n",
      " |  isspace(self, /)\n",
      " |      Return True if the string is a whitespace string, False otherwise.\n",
      " |      \n",
      " |      A string is whitespace if all characters in the string are whitespace and there\n",
      " |      is at least one character in the string.\n",
      " |  \n",
      " |  istitle(self, /)\n",
      " |      Return True if the string is a title-cased string, False otherwise.\n",
      " |      \n",
      " |      In a title-cased string, upper- and title-case characters may only\n",
      " |      follow uncased characters and lowercase characters only cased ones.\n",
      " |  \n",
      " |  isupper(self, /)\n",
      " |      Return True if the string is an uppercase string, False otherwise.\n",
      " |      \n",
      " |      A string is uppercase if all cased characters in the string are uppercase and\n",
      " |      there is at least one cased character in the string.\n",
      " |  \n",
      " |  join(self, iterable, /)\n",
      " |      Concatenate any number of strings.\n",
      " |      \n",
      " |      The string whose method is called is inserted in between each given string.\n",
      " |      The result is returned as a new string.\n",
      " |      \n",
      " |      Example: '.'.join(['ab', 'pq', 'rs']) -> 'ab.pq.rs'\n",
      " |  \n",
      " |  ljust(self, width, fillchar=' ', /)\n",
      " |      Return a left-justified string of length width.\n",
      " |      \n",
      " |      Padding is done using the specified fill character (default is a space).\n",
      " |  \n",
      " |  lower(self, /)\n",
      " |      Return a copy of the string converted to lowercase.\n",
      " |  \n",
      " |  lstrip(self, chars=None, /)\n",
      " |      Return a copy of the string with leading whitespace removed.\n",
      " |      \n",
      " |      If chars is given and not None, remove characters in chars instead.\n",
      " |  \n",
      " |  partition(self, sep, /)\n",
      " |      Partition the string into three parts using the given separator.\n",
      " |      \n",
      " |      This will search for the separator in the string.  If the separator is found,\n",
      " |      returns a 3-tuple containing the part before the separator, the separator\n",
      " |      itself, and the part after it.\n",
      " |      \n",
      " |      If the separator is not found, returns a 3-tuple containing the original string\n",
      " |      and two empty strings.\n",
      " |  \n",
      " |  removeprefix(self, prefix, /)\n",
      " |      Return a str with the given prefix string removed if present.\n",
      " |      \n",
      " |      If the string starts with the prefix string, return string[len(prefix):].\n",
      " |      Otherwise, return a copy of the original string.\n",
      " |  \n",
      " |  removesuffix(self, suffix, /)\n",
      " |      Return a str with the given suffix string removed if present.\n",
      " |      \n",
      " |      If the string ends with the suffix string and that suffix is not empty,\n",
      " |      return string[:-len(suffix)]. Otherwise, return a copy of the original\n",
      " |      string.\n",
      " |  \n",
      " |  replace(self, old, new, count=-1, /)\n",
      " |      Return a copy with all occurrences of substring old replaced by new.\n",
      " |      \n",
      " |        count\n",
      " |          Maximum number of occurrences to replace.\n",
      " |          -1 (the default value) means replace all occurrences.\n",
      " |      \n",
      " |      If the optional argument count is given, only the first count occurrences are\n",
      " |      replaced.\n",
      " |  \n",
      " |  rfind(...)\n",
      " |      S.rfind(sub[, start[, end]]) -> int\n",
      " |      \n",
      " |      Return the highest index in S where substring sub is found,\n",
      " |      such that sub is contained within S[start:end].  Optional\n",
      " |      arguments start and end are interpreted as in slice notation.\n",
      " |      \n",
      " |      Return -1 on failure.\n",
      " |  \n",
      " |  rindex(...)\n",
      " |      S.rindex(sub[, start[, end]]) -> int\n",
      " |      \n",
      " |      Return the highest index in S where substring sub is found,\n",
      " |      such that sub is contained within S[start:end].  Optional\n",
      " |      arguments start and end are interpreted as in slice notation.\n",
      " |      \n",
      " |      Raises ValueError when the substring is not found.\n",
      " |  \n",
      " |  rjust(self, width, fillchar=' ', /)\n",
      " |      Return a right-justified string of length width.\n",
      " |      \n",
      " |      Padding is done using the specified fill character (default is a space).\n",
      " |  \n",
      " |  rpartition(self, sep, /)\n",
      " |      Partition the string into three parts using the given separator.\n",
      " |      \n",
      " |      This will search for the separator in the string, starting at the end. If\n",
      " |      the separator is found, returns a 3-tuple containing the part before the\n",
      " |      separator, the separator itself, and the part after it.\n",
      " |      \n",
      " |      If the separator is not found, returns a 3-tuple containing two empty strings\n",
      " |      and the original string.\n",
      " |  \n",
      " |  rsplit(self, /, sep=None, maxsplit=-1)\n",
      " |      Return a list of the substrings in the string, using sep as the separator string.\n",
      " |      \n",
      " |        sep\n",
      " |          The separator used to split the string.\n",
      " |      \n",
      " |          When set to None (the default value), will split on any whitespace\n",
      " |          character (including \\n \\r \\t \\f and spaces) and will discard\n",
      " |          empty strings from the result.\n",
      " |        maxsplit\n",
      " |          Maximum number of splits (starting from the left).\n",
      " |          -1 (the default value) means no limit.\n",
      " |      \n",
      " |      Splitting starts at the end of the string and works to the front.\n",
      " |  \n",
      " |  rstrip(self, chars=None, /)\n",
      " |      Return a copy of the string with trailing whitespace removed.\n",
      " |      \n",
      " |      If chars is given and not None, remove characters in chars instead.\n",
      " |  \n",
      " |  split(self, /, sep=None, maxsplit=-1)\n",
      " |      Return a list of the substrings in the string, using sep as the separator string.\n",
      " |      \n",
      " |        sep\n",
      " |          The separator used to split the string.\n",
      " |      \n",
      " |          When set to None (the default value), will split on any whitespace\n",
      " |          character (including \\n \\r \\t \\f and spaces) and will discard\n",
      " |          empty strings from the result.\n",
      " |        maxsplit\n",
      " |          Maximum number of splits (starting from the left).\n",
      " |          -1 (the default value) means no limit.\n",
      " |      \n",
      " |      Note, str.split() is mainly useful for data that has been intentionally\n",
      " |      delimited.  With natural text that includes punctuation, consider using\n",
      " |      the regular expression module.\n",
      " |  \n",
      " |  splitlines(self, /, keepends=False)\n",
      " |      Return a list of the lines in the string, breaking at line boundaries.\n",
      " |      \n",
      " |      Line breaks are not included in the resulting list unless keepends is given and\n",
      " |      true.\n",
      " |  \n",
      " |  startswith(...)\n",
      " |      S.startswith(prefix[, start[, end]]) -> bool\n",
      " |      \n",
      " |      Return True if S starts with the specified prefix, False otherwise.\n",
      " |      With optional start, test S beginning at that position.\n",
      " |      With optional end, stop comparing S at that position.\n",
      " |      prefix can also be a tuple of strings to try.\n",
      " |  \n",
      " |  strip(self, chars=None, /)\n",
      " |      Return a copy of the string with leading and trailing whitespace removed.\n",
      " |      \n",
      " |      If chars is given and not None, remove characters in chars instead.\n",
      " |  \n",
      " |  swapcase(self, /)\n",
      " |      Convert uppercase characters to lowercase and lowercase characters to uppercase.\n",
      " |  \n",
      " |  title(self, /)\n",
      " |      Return a version of the string where each word is titlecased.\n",
      " |      \n",
      " |      More specifically, words start with uppercased characters and all remaining\n",
      " |      cased characters have lower case.\n",
      " |  \n",
      " |  translate(self, table, /)\n",
      " |      Replace each character in the string using the given translation table.\n",
      " |      \n",
      " |        table\n",
      " |          Translation table, which must be a mapping of Unicode ordinals to\n",
      " |          Unicode ordinals, strings, or None.\n",
      " |      \n",
      " |      The table must implement lookup/indexing via __getitem__, for instance a\n",
      " |      dictionary or list.  If this operation raises LookupError, the character is\n",
      " |      left untouched.  Characters mapped to None are deleted.\n",
      " |  \n",
      " |  upper(self, /)\n",
      " |      Return a copy of the string converted to uppercase.\n",
      " |  \n",
      " |  zfill(self, width, /)\n",
      " |      Pad a numeric string with zeros on the left, to fill a field of the given width.\n",
      " |      \n",
      " |      The string is never truncated.\n",
      " |  \n",
      " |  ----------------------------------------------------------------------\n",
      " |  Static methods defined here:\n",
      " |  \n",
      " |  __new__(*args, **kwargs) from builtins.type\n",
      " |      Create and return a new object.  See help(type) for accurate signature.\n",
      " |  \n",
      " |  maketrans(...)\n",
      " |      Return a translation table usable for str.translate().\n",
      " |      \n",
      " |      If there is only one argument, it must be a dictionary mapping Unicode\n",
      " |      ordinals (integers) or characters to Unicode ordinals, strings or None.\n",
      " |      Character keys will be then converted to ordinals.\n",
      " |      If there are two arguments, they must be strings of equal length, and\n",
      " |      in the resulting dictionary, each character in x will be mapped to the\n",
      " |      character at the same position in y. If there is a third argument, it\n",
      " |      must be a string, whose characters will be mapped to None in the result.\n",
      "\n"
     ]
    }
   ],
   "source": [
    "help(str)"
   ]
  },
  {
   "cell_type": "code",
   "execution_count": 13,
   "id": "5542c37a-477e-41aa-8972-fd8b8b6f6a89",
   "metadata": {},
   "outputs": [
    {
     "name": "stdout",
     "output_type": "stream",
     "text": [
      "Brno brno\n",
      "BRno_+_BRno   _+_     BRno\n",
      "6\n"
     ]
    }
   ],
   "source": [
    "print('BRNo'.capitalize(),'BRno'.lower())\n",
    "x='     BRno   '\n",
    "print(x.strip(),x.lstrip(),x.rstrip(),sep='_+_')\n",
    "print(x.find('Rn'))"
   ]
  },
  {
   "cell_type": "code",
   "execution_count": 32,
   "id": "8fa7490c-46a7-4f1c-b237-9aa167e9d196",
   "metadata": {},
   "outputs": [
    {
     "name": "stdout",
     "output_type": "stream",
     "text": [
      "O\n",
      "s\n",
      "t\n",
      "a\n",
      "v\n",
      "tra\n",
      "strava\n",
      "strav\n",
      "avartsO\n",
      "sa\n",
      "aatO\n",
      "tO\n",
      "O <class 'str'> 1\n"
     ]
    }
   ],
   "source": [
    "city='Ostrava'\n",
    "#str is text sequence type - sequence means we can index or slice string value\n",
    "print(city[0])\n",
    "print(city[1])\n",
    "print(city[2])\n",
    "print(city[-1]) #last character\n",
    "print(city[-2]) #one before last\n",
    "#slicing\n",
    "print(city[2:5])\n",
    "print(city[1:])\n",
    "print(city[1:-1])\n",
    "print(city[::-1])\n",
    "print(city[1],city[4],sep='')\n",
    "print(city[::-2])\n",
    "print(city[2::-2])\n",
    "x=city[0]\n",
    "print(x,type(x),len(x))\n"
   ]
  },
  {
   "cell_type": "code",
   "execution_count": 43,
   "id": "c9b6bab8-ff85-4b0e-a855-3e731d75f3a3",
   "metadata": {},
   "outputs": [
    {
     "name": "stdout",
     "output_type": "stream",
     "text": [
      "Variable has value 10\n",
      "My name is Peter and I'm 30 years old.\n",
      "My name is Peter           and I'm         30 years old.\n"
     ]
    }
   ],
   "source": [
    "#string formating\n",
    "#old style (Python 2) formating\n",
    "a=10\n",
    "print(\"Variable has value %d\" % a)\n",
    "name='Peter'\n",
    "age=30\n",
    "print('My name is %s and I\\'m %d years old.' % (name,age) )\n",
    "print('My name is %-15s and I\\'m %10d years old.' % (name,age) )\n"
   ]
  },
  {
   "cell_type": "code",
   "execution_count": 55,
   "id": "ae3aa4ea-f45c-4857-8ab8-5f5ac07710ef",
   "metadata": {},
   "outputs": [
    {
     "name": "stdout",
     "output_type": "stream",
     "text": [
      "My name is Peter and I'm 30 years old.\n",
      "My name is Peter and I'm 30 years old.\n",
      "My name is Peter           and I'm         30 years old.\n",
      "My name is      Peter      and I'm 0000000030 years old.\n",
      "Age:     1e\n",
      "0x1e 1e\n"
     ]
    }
   ],
   "source": [
    "#new style of formating\n",
    "#format method of str object\n",
    "name='Peter'\n",
    "age=30\n",
    "print('My name is {0} and I\\'m {1} years old.'.format(name,age) )\n",
    "print('My name is {} and I\\'m {} years old.'.format(name,age) )\n",
    "print('My name is {:<15} and I\\'m {:>10} years old.'.format(name,age) )\n",
    "print('My name is {0:^15} and I\\'m {1:>010d} years old.'.format(name,age) )\n",
    "print('Age: {:>6x}'.format(age)) #1e is 30 in decimal\n",
    "print(hex(age),hex(age)[2:])"
   ]
  },
  {
   "cell_type": "code",
   "execution_count": 62,
   "id": "7e8b1cb9-1578-44cf-9d69-2e08abfbb868",
   "metadata": {},
   "outputs": [
    {
     "name": "stdout",
     "output_type": "stream",
     "text": [
      "My name is George and I'm 29 years old.\n",
      "My name is George and I'm 29 years old.\n",
      "My name is George          and I'm         29 years old.\n",
      "My name is     George      and I'm 0000000029 years old.\n"
     ]
    }
   ],
   "source": [
    "#starting 3.6\n",
    "#f-strings\n",
    "age=29\n",
    "name='George'\n",
    "print(f'My name is {name} and I\\'m {age} years old.')\n",
    "print(f'My name is {name} and I\\'m {age} years old.')\n",
    "print(f'My name is {name:<15} and I\\'m {age:>10} years old.' )\n",
    "print(f'My name is {name:^15s} and I\\'m {age:>010d} years old.' )"
   ]
  },
  {
   "cell_type": "code",
   "execution_count": 49,
   "id": "ee987e32-9496-4388-b968-333a8a3e496c",
   "metadata": {},
   "outputs": [],
   "source": [
    "#https://pyformat.info/"
   ]
  },
  {
   "cell_type": "code",
   "execution_count": 65,
   "id": "f546ebee-a0ed-4dce-87ac-55b4c3ef70ff",
   "metadata": {},
   "outputs": [
    {
     "name": "stdout",
     "output_type": "stream",
     "text": [
      "50000000\n"
     ]
    }
   ],
   "source": [
    "message=10_000_000*'gopas'\n",
    "print(len(message))\n",
    "del message"
   ]
  },
  {
   "cell_type": "code",
   "execution_count": 70,
   "id": "e5fcd35e-aa74-49e5-a477-f079ded3b35f",
   "metadata": {},
   "outputs": [
    {
     "name": "stdout",
     "output_type": "stream",
     "text": [
      "65 97\n",
      "B c\n",
      "382\n"
     ]
    }
   ],
   "source": [
    "print(ord('A'),ord('a'))\n",
    "print(chr(66),chr(99))\n",
    "print(ord('ž'))"
   ]
  },
  {
   "cell_type": "code",
   "execution_count": 77,
   "id": "8a685cbf-b7ca-4e82-bcc7-536697083412",
   "metadata": {},
   "outputs": [
    {
     "name": "stdout",
     "output_type": "stream",
     "text": [
      "[] <class 'list'> 0\n",
      "[34, 6, 88, 12] <class 'list'> 4\n",
      "[12, 34.7, 'gopas', True, 567]\n",
      "[12, 34.7, 'gopas', True, 567, 12, 34.7, 'gopas', True, 567, 12, 34.7, 'gopas', True, 567]\n",
      "[34, 6, 88, 12, 12, 34.7, 'gopas', True, 567]\n"
     ]
    }
   ],
   "source": [
    "#lists\n",
    "L1=[] #empty list\n",
    "print(L1,type(L1),len(L1))\n",
    "numbers=[34,6,88,12]\n",
    "print(numbers,type(numbers),len(numbers))\n",
    "L2=[12,34.7,'gopas',True,567]\n",
    "print(L2)\n",
    "print(3*L2)\n",
    "print(numbers+L2)\n",
    "L3=numbers+L2"
   ]
  },
  {
   "cell_type": "code",
   "execution_count": 76,
   "id": "a514ada7-751e-43ae-9461-3c0e3d5618a5",
   "metadata": {},
   "outputs": [
    {
     "name": "stdout",
     "output_type": "stream",
     "text": [
      "['g', 'o', 'p', 'a', 's'] <class 'list'> 5\n"
     ]
    }
   ],
   "source": [
    "letters=list('gopas')\n",
    "print(letters,type(letters),len(letters))"
   ]
  },
  {
   "cell_type": "code",
   "execution_count": 79,
   "id": "31b816dc-0781-4f25-bf6f-59d918992d50",
   "metadata": {},
   "outputs": [
    {
     "name": "stdout",
     "output_type": "stream",
     "text": [
      "[34, 6, 88, 12, 12, 34.7, 'gopas', True, 567]\n",
      "34 6 567 [88, 12, 12, 34.7, 'gopas', True]\n"
     ]
    }
   ],
   "source": [
    "print(L3)\n",
    "print(L3[0],L3[1],L3[-1],L3[2:-1])"
   ]
  },
  {
   "cell_type": "code",
   "execution_count": 100,
   "id": "d3e29a71-63a4-4f88-91e9-4e63d2812912",
   "metadata": {},
   "outputs": [
    {
     "name": "stdout",
     "output_type": "stream",
     "text": [
      "[34, 6, 88, 12] 4\n",
      "[34, 6, 88, 12, -66] 5\n",
      "[34, 6, 777, 88, 12, -66] 6\n",
      "[34, 6, 777, 88, -66] 5\n",
      "[34, 777, 88, -66] 4\n",
      "[34, 777, 88, -66, -5, -12, -33] 7\n",
      "[34, 777, 88, -66, -5, -12, -33, [-5, -12, -33]] 8\n",
      "[34, 777, 88, -66, -5, -12] 6\n",
      "-12\n",
      "[34, 777, 88, -66, -5] 5\n",
      "34\n",
      "[777, 88, -66, -5] 4\n",
      "[777, 88, -66, -5] 4\n",
      "[777, 88, -66, -5] 4\n",
      "True\n",
      "[777, 88, -66, -5, 88888] 5\n",
      "[777, 88, -66, -5, 88888] 5\n",
      "[777, 88, -66, -5, 88888] 5\n",
      "[777, 88, -66, -5, 88888] 5\n",
      "True\n",
      "[777, 88, -66, -5, 88888, 99999] 6\n",
      "[777, 88, -66, -5, 88888] 5\n"
     ]
    }
   ],
   "source": [
    "#list are muttable\n",
    "numbers=[34,6,88,12]\n",
    "print(numbers,len(numbers))\n",
    "numbers.append(-66)\n",
    "print(numbers,len(numbers))\n",
    "numbers.insert(2,777)\n",
    "print(numbers,len(numbers))\n",
    "del numbers[4]\n",
    "print(numbers,len(numbers))\n",
    "numbers.remove(6)\n",
    "print(numbers,len(numbers))\n",
    "numbers.extend([-5,-12,-33])\n",
    "print(numbers,len(numbers))\n",
    "numbers.append([-5,-12,-33])\n",
    "print(numbers,len(numbers))\n",
    "del numbers[6:]\n",
    "print(numbers,len(numbers))\n",
    "print(numbers.pop())\n",
    "print(numbers,len(numbers))\n",
    "print(numbers.pop(0))\n",
    "print(numbers,len(numbers))\n",
    "var=numbers\n",
    "print(numbers,len(numbers))\n",
    "print(var,len(var))\n",
    "print(var==numbers)\n",
    "numbers.append(88888)\n",
    "print(numbers,len(numbers))\n",
    "print(var,len(var))\n",
    "\n",
    "\n",
    "var=numbers[:]\n",
    "print(numbers,len(numbers))\n",
    "print(var,len(var))\n",
    "print(var==numbers)\n",
    "numbers.append(99999)\n",
    "print(numbers,len(numbers))\n",
    "print(var,len(var))\n"
   ]
  },
  {
   "cell_type": "code",
   "execution_count": 101,
   "id": "c3fceddb-348f-47b3-b7f7-2298d714addd",
   "metadata": {},
   "outputs": [
    {
     "name": "stdout",
     "output_type": "stream",
     "text": [
      "['Hello', 'world', 'from', 'gopas'] <class 'list'> 4\n"
     ]
    }
   ],
   "source": [
    "text='Hello world from gopas'\n",
    "x=text.split()\n",
    "print(x,type(x),len(x))"
   ]
  },
  {
   "cell_type": "code",
   "execution_count": 102,
   "id": "d4702136-55ac-4799-abdf-86da5deabaed",
   "metadata": {},
   "outputs": [
    {
     "name": "stdout",
     "output_type": "stream",
     "text": [
      "['Jan', 'Novak', '34', '56200']\n"
     ]
    }
   ],
   "source": [
    "data='Jan,Novak,34,56200'\n",
    "print(data.split(','))"
   ]
  },
  {
   "cell_type": "code",
   "execution_count": 105,
   "id": "9fcdd373-e066-4108-99e1-b0637a946a56",
   "metadata": {},
   "outputs": [
    {
     "name": "stdout",
     "output_type": "stream",
     "text": [
      "True\n",
      "False\n",
      "True\n"
     ]
    }
   ],
   "source": [
    "print('o' in 'Gopas')\n",
    "print('n' in 'Gopas')\n",
    "print('op' in 'Gopas')\n",
    "\n"
   ]
  },
  {
   "cell_type": "code",
   "execution_count": 109,
   "id": "507c8038-dea9-4250-b5ee-8bcbf32d86ad",
   "metadata": {},
   "outputs": [
    {
     "name": "stdout",
     "output_type": "stream",
     "text": [
      "True\n",
      "False\n",
      "False\n",
      "True\n"
     ]
    }
   ],
   "source": [
    "x=[34, 6, 88, 12, -66]\n",
    "print(6 in x)\n",
    "print(66 in x)\n",
    "print(6 not in x)\n",
    "print(6 not in x[3:])\n",
    "\n"
   ]
  },
  {
   "cell_type": "code",
   "execution_count": 112,
   "id": "e4a83063-d21a-4ff8-b257-96e26042f1c4",
   "metadata": {},
   "outputs": [
    {
     "name": "stdout",
     "output_type": "stream",
     "text": [
      "[-66, 6, 12, 34, 88]\n",
      "[88, 34, 12, 6, -66]\n"
     ]
    }
   ],
   "source": [
    "x=[34, 6, 88, 12, -66]\n",
    "x.sort()\n",
    "print(x)\n",
    "x.sort(reverse=True)\n",
    "print(x)"
   ]
  },
  {
   "cell_type": "code",
   "execution_count": 113,
   "id": "46b9b2b2-20ba-470f-97a2-4513c87771f2",
   "metadata": {},
   "outputs": [
    {
     "ename": "TypeError",
     "evalue": "'<' not supported between instances of 'str' and 'int'",
     "output_type": "error",
     "traceback": [
      "\u001b[1;31m---------------------------------------------------------------------------\u001b[0m",
      "\u001b[1;31mTypeError\u001b[0m                                 Traceback (most recent call last)",
      "Cell \u001b[1;32mIn[113], line 2\u001b[0m\n\u001b[0;32m      1\u001b[0m x\u001b[38;5;241m=\u001b[39m[\u001b[38;5;241m34\u001b[39m, \u001b[38;5;241m6\u001b[39m, \u001b[38;5;241m88\u001b[39m, \u001b[38;5;241m12\u001b[39m, \u001b[38;5;241m-\u001b[39m\u001b[38;5;241m66\u001b[39m,\u001b[38;5;124m'\u001b[39m\u001b[38;5;124mJan\u001b[39m\u001b[38;5;124m'\u001b[39m]\n\u001b[1;32m----> 2\u001b[0m x\u001b[38;5;241m.\u001b[39msort()\n",
      "\u001b[1;31mTypeError\u001b[0m: '<' not supported between instances of 'str' and 'int'"
     ]
    }
   ],
   "source": [
    "x=[34, 6, 88, 12, -66,'Jan']\n",
    "x.sort()"
   ]
  },
  {
   "cell_type": "code",
   "execution_count": 114,
   "id": "9efe2e4f-7e0a-44b6-8d3a-d4f1fbaeda43",
   "metadata": {},
   "outputs": [
    {
     "name": "stdout",
     "output_type": "stream",
     "text": [
      "['Adam', 'Eva', 'Jan']\n"
     ]
    }
   ],
   "source": [
    "x=['Jan','Adam','Eva']\n",
    "x.sort() #inplace sorting, rearange in list\n",
    "print(x)"
   ]
  },
  {
   "cell_type": "code",
   "execution_count": 117,
   "id": "0cf5d5cc-4e59-4ce6-aa5d-1f304dd758e2",
   "metadata": {},
   "outputs": [
    {
     "name": "stdout",
     "output_type": "stream",
     "text": [
      "['Adam', 'Eva', 'Jan']\n",
      "['Jan', 'Adam', 'Eva']\n"
     ]
    }
   ],
   "source": [
    "x=['Jan','Adam','Eva']\n",
    "print(sorted(x)) #return new sorted list , orginal list is not changed\n",
    "print(x)"
   ]
  },
  {
   "cell_type": "code",
   "execution_count": 120,
   "id": "f55f3ca3-2934-4855-8375-8d7f51658462",
   "metadata": {},
   "outputs": [
    {
     "name": "stdout",
     "output_type": "stream",
     "text": [
      "1 6 24\n",
      "Adam\n"
     ]
    },
    {
     "ename": "TypeError",
     "evalue": "unsupported operand type(s) for +: 'int' and 'str'",
     "output_type": "error",
     "traceback": [
      "\u001b[1;31m---------------------------------------------------------------------------\u001b[0m",
      "\u001b[1;31mTypeError\u001b[0m                                 Traceback (most recent call last)",
      "Cell \u001b[1;32mIn[120], line 4\u001b[0m\n\u001b[0;32m      2\u001b[0m \u001b[38;5;28mprint\u001b[39m(\u001b[38;5;28mmin\u001b[39m(x),\u001b[38;5;28mmax\u001b[39m(x),\u001b[38;5;28msum\u001b[39m(x))\n\u001b[0;32m      3\u001b[0m \u001b[38;5;28mprint\u001b[39m(\u001b[38;5;28mmin\u001b[39m([\u001b[38;5;124m'\u001b[39m\u001b[38;5;124mJan\u001b[39m\u001b[38;5;124m'\u001b[39m,\u001b[38;5;124m'\u001b[39m\u001b[38;5;124mAdam\u001b[39m\u001b[38;5;124m'\u001b[39m,\u001b[38;5;124m'\u001b[39m\u001b[38;5;124mEva\u001b[39m\u001b[38;5;124m'\u001b[39m]))\n\u001b[1;32m----> 4\u001b[0m \u001b[38;5;28mprint\u001b[39m(\u001b[38;5;28msum\u001b[39m([\u001b[38;5;124m'\u001b[39m\u001b[38;5;124mJan\u001b[39m\u001b[38;5;124m'\u001b[39m,\u001b[38;5;124m'\u001b[39m\u001b[38;5;124mAdam\u001b[39m\u001b[38;5;124m'\u001b[39m,\u001b[38;5;124m'\u001b[39m\u001b[38;5;124mEva\u001b[39m\u001b[38;5;124m'\u001b[39m]))\n",
      "\u001b[1;31mTypeError\u001b[0m: unsupported operand type(s) for +: 'int' and 'str'"
     ]
    }
   ],
   "source": [
    "x=[2,4,1,5,6,3,3]\n",
    "print(min(x),max(x),sum(x))\n",
    "print(min(['Jan','Adam','Eva']))\n",
    "#print(sum(['Jan','Adam','Eva'])) #begin with sum=0 a then add valuies from list"
   ]
  },
  {
   "cell_type": "code",
   "execution_count": 126,
   "id": "279976b0-8ac1-4818-b479-5d850dab8636",
   "metadata": {},
   "outputs": [
    {
     "name": "stdout",
     "output_type": "stream",
     "text": [
      "2\n",
      "4\n",
      "0\n"
     ]
    },
    {
     "ename": "IndexError",
     "evalue": "list index out of range",
     "output_type": "error",
     "traceback": [
      "\u001b[1;31m---------------------------------------------------------------------------\u001b[0m",
      "\u001b[1;31mIndexError\u001b[0m                                Traceback (most recent call last)",
      "Cell \u001b[1;32mIn[126], line 5\u001b[0m\n\u001b[0;32m      3\u001b[0m \u001b[38;5;28mprint\u001b[39m(x\u001b[38;5;241m.\u001b[39mcount(\u001b[38;5;241m5\u001b[39m) )\n\u001b[0;32m      4\u001b[0m \u001b[38;5;28mprint\u001b[39m(x\u001b[38;5;241m.\u001b[39mcount(\u001b[38;5;241m-\u001b[39m\u001b[38;5;241m9\u001b[39m) )\n\u001b[1;32m----> 5\u001b[0m \u001b[38;5;28mprint\u001b[39m(x[\u001b[38;5;241m88\u001b[39m])\n",
      "\u001b[1;31mIndexError\u001b[0m: list index out of range"
     ]
    }
   ],
   "source": [
    "x=[2,4,1,5,6,3,3,5,5,12,5]\n",
    "print(x.index(1))\n",
    "print(x.count(5) )\n",
    "print(x.count(-9) )\n",
    "#print(x[88]) #IndexError: list index out of range\n",
    "#index must be between 0 and len(list)-1"
   ]
  },
  {
   "cell_type": "code",
   "execution_count": 140,
   "id": "bd9fcef0-157f-4fe7-977e-b9cd546ad5af",
   "metadata": {},
   "outputs": [
    {
     "name": "stdout",
     "output_type": "stream",
     "text": [
      "() <class 'tuple'> 0\n",
      "(9,) <class 'tuple'> 1\n",
      "('Peter', 'Gabriel', 74, 8000000) <class 'tuple'> 4\n",
      "Gabriel\n",
      "('Gabriel', 74, 8000000)\n",
      "1\n",
      "0\n",
      "2\n",
      "True\n"
     ]
    }
   ],
   "source": [
    "#tuples\n",
    "x=()\n",
    "print(x,type(x),len(x))\n",
    "x=(9,)\n",
    "print(x,type(x),len(x))\n",
    "peter=('Peter','Gabriel',74,8_000_000)\n",
    "print(peter,type(peter),len(peter))\n",
    "print(peter[1])\n",
    "print(peter[1:])\n",
    "print(peter.count(74))\n",
    "print(peter.count(9999))\n",
    "print(peter.index(74))\n",
    "print(74 in peter)\n",
    "#print(peter.index(9999))\n",
    "\n"
   ]
  },
  {
   "cell_type": "code",
   "execution_count": 146,
   "id": "e121644a-90d5-4ae9-8ad2-c35cef849c7f",
   "metadata": {},
   "outputs": [
    {
     "name": "stdout",
     "output_type": "stream",
     "text": [
      "[(1, 'Jan', 34000), (2, 'Peter', 24000), (3, 'Adam', 56000)]\n",
      "(3, 'Adam', 56000)\n",
      "Adam\n",
      "A\n"
     ]
    }
   ],
   "source": [
    "import sqlite3\n",
    "conn=sqlite3.connect(r'e:\\db.sqlite')\n",
    "rows=conn.cursor().execute('select * from employees').fetchall()\n",
    "print(rows)\n",
    "print(rows[-1])\n",
    "print(rows[-1][1])\n",
    "print(rows[-1][1][0])\n"
   ]
  },
  {
   "cell_type": "code",
   "execution_count": 148,
   "id": "058b6089-53f7-44fa-8ae5-d1c458f5bf4c",
   "metadata": {},
   "outputs": [
    {
     "name": "stdout",
     "output_type": "stream",
     "text": [
      "('Peter', 'Gabriel', 74, 8000000, 'Peter', 'Gabriel', 74, 8000000, 'Peter', 'Gabriel', 74, 8000000)\n",
      "('Peter', 'Gabriel', 74, 8000000, 'UK', 'London')\n"
     ]
    }
   ],
   "source": [
    "peter=('Peter','Gabriel',74,8_000_000)\n",
    "print(3*peter)\n",
    "print(peter+('UK','London'))"
   ]
  },
  {
   "cell_type": "code",
   "execution_count": 164,
   "id": "bf833f28-1030-4deb-b9aa-29b84839df9b",
   "metadata": {},
   "outputs": [
    {
     "name": "stdout",
     "output_type": "stream",
     "text": [
      "set() <class 'set'> 0\n",
      "{2, 6, 56, 88, 12, 77} <class 'set'> 6\n",
      "{88, 12, 77}\n",
      "{-8, 13}\n",
      "True\n",
      "True\n",
      "{13, -8, 88, 12, 77}\n",
      "{-160, 13, -8, 88, 12, 77} 6\n",
      "{-160, 13, -8, 12, 77} 5\n"
     ]
    }
   ],
   "source": [
    "#sets\n",
    "empty=set()\n",
    "print(empty,type(empty),len(empty))\n",
    "numbers1={12,56,2,6,12,77,88,12}\n",
    "print(numbers1,type(numbers1),len(numbers1))\n",
    "numbers2={77,88,12,13,-8}\n",
    "print(numbers1.intersection(numbers2))\n",
    "print(numbers2.difference(numbers1))\n",
    "#print(numbers1[2]) #TypeError: 'set' object is not subscriptable\n",
    "print(12 in numbers1)\n",
    "print(120 not in numbers1)\n",
    "print(numbers2)\n",
    "numbers2.add(-160)\n",
    "print(numbers2,len(numbers2))\n",
    "numbers2.remove(88)\n",
    "print(numbers2,len(numbers2))\n"
   ]
  },
  {
   "cell_type": "code",
   "execution_count": 166,
   "id": "150c646d-d01f-46d7-afd1-001993772391",
   "metadata": {},
   "outputs": [
    {
     "name": "stdout",
     "output_type": "stream",
     "text": [
      "[34, 7, 8, 12, 7, 34, 99, 0]\n",
      "[0, 34, 99, 7, 8, 12]\n"
     ]
    }
   ],
   "source": [
    "L1=[34,7,8,12,7,34,99,0]\n",
    "print(L1)\n",
    "L1=list(set(L1))\n",
    "print(L1)"
   ]
  },
  {
   "cell_type": "code",
   "execution_count": 171,
   "id": "a5a0a21a-f7dd-4e5a-9510-f69449b7744b",
   "metadata": {},
   "outputs": [
    {
     "name": "stdout",
     "output_type": "stream",
     "text": [
      "{} <class 'dict'> 0\n",
      "{7: 49, 9: 81, 2: 4} 3 <class 'dict'>\n",
      "49\n",
      "{7: 49, 9: 81, 2: 4, 10: 100}\n",
      "{7: 49, 9: 81, 2: 4, 10: 99.999999}\n"
     ]
    }
   ],
   "source": [
    "#dictionaries\n",
    "empty={}\n",
    "print(empty,type(empty),len(empty))\n",
    "power={7:49, 9:81,2:4}\n",
    "print(power,len(power),type(power))\n",
    "print(power[7])\n",
    "power[10]=100\n",
    "print(power)\n",
    "power[10]=99.999999\n",
    "print(power)\n"
   ]
  },
  {
   "cell_type": "code",
   "execution_count": 180,
   "id": "8c70ffc1-872e-47e0-9780-0ad04089f443",
   "metadata": {},
   "outputs": [
    {
     "name": "stdout",
     "output_type": "stream",
     "text": [
      "{'cervena': 'red', 'zluta': 'yellow', 'zelena': 'green'} <class 'dict'> 3\n",
      "I czech cervena is red\n",
      "dict_keys(['cervena', 'zluta', 'zelena'])\n",
      "dict_values(['red', 'yellow', 'green'])\n",
      "dict_items([('cervena', 'red'), ('zluta', 'yellow'), ('zelena', 'green')])\n",
      "[('cervena', 'red'), ('zluta', 'yellow'), ('zelena', 'green')]\n",
      "{'zluta': 'yellow', 'zelena': 'green'}\n"
     ]
    }
   ],
   "source": [
    "colors={'cervena':'red','zluta':'yellow','zelena':'green'}\n",
    "print(colors,type(colors),len(colors))\n",
    "print(f'I czech cervena is {colors[\"cervena\"]}')\n",
    "print(colors.keys())\n",
    "print(colors.values())\n",
    "print(colors.items())\n",
    "print(list(colors.items()))\n",
    "del colors['cervena']\n",
    "print(colors)\n",
    "#print(colors[1:])"
   ]
  }
 ],
 "metadata": {
  "kernelspec": {
   "display_name": "Python 3 (ipykernel)",
   "language": "python",
   "name": "python3"
  },
  "language_info": {
   "codemirror_mode": {
    "name": "ipython",
    "version": 3
   },
   "file_extension": ".py",
   "mimetype": "text/x-python",
   "name": "python",
   "nbconvert_exporter": "python",
   "pygments_lexer": "ipython3",
   "version": "3.11.7"
  }
 },
 "nbformat": 4,
 "nbformat_minor": 5
}
