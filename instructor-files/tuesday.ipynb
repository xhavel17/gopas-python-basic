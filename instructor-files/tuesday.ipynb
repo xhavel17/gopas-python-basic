{
 "cells": [
  {
   "cell_type": "code",
   "execution_count": null,
   "id": "4865cc49-2903-495a-b25e-1c1f3ec0bd90",
   "metadata": {},
   "outputs": [],
   "source": [
    "#tuesday"
   ]
  },
  {
   "cell_type": "code",
   "execution_count": 1,
   "id": "c3e84648-111d-476c-b46c-e4550ff337f2",
   "metadata": {},
   "outputs": [
    {
     "name": "stdout",
     "output_type": "stream",
     "text": [
      "a is gretaer than 100\n"
     ]
    }
   ],
   "source": [
    "#conditional execution of commands\n",
    "#if statement\n",
    "#simple one\n",
    "a=123\n",
    "if a>100:\n",
    "    print('a is greater than 100')"
   ]
  },
  {
   "cell_type": "code",
   "execution_count": 3,
   "id": "4716f3ef-6c45-407a-a21d-01a52a68f435",
   "metadata": {},
   "outputs": [],
   "source": [
    "if a>1000:\n",
    "    print('a is greater than 100')"
   ]
  },
  {
   "cell_type": "code",
   "execution_count": 4,
   "id": "bc3f6b2e-ce8b-433c-ae28-1b1d5d41612d",
   "metadata": {},
   "outputs": [
    {
     "name": "stdout",
     "output_type": "stream",
     "text": [
      "else was executed\n"
     ]
    }
   ],
   "source": [
    "if a>1000:\n",
    "    print('a is greater than 100')\n",
    "else:\n",
    "    print('else was executed')"
   ]
  },
  {
   "cell_type": "code",
   "execution_count": 6,
   "id": "24972864-772c-4ffb-a535-1d3792d5e418",
   "metadata": {},
   "outputs": [
    {
     "name": "stdout",
     "output_type": "stream",
     "text": [
      "You are in twentees\n"
     ]
    }
   ],
   "source": [
    "age=26\n",
    "if age<20:\n",
    "    print('You are teenager')\n",
    "elif age<30:\n",
    "    print('You are in twentees')\n",
    "elif age<40:\n",
    "    print('You are in thrirdtees')\n",
    "elif age<50:\n",
    "    print('You are in fourtees')\n",
    "else:\n",
    "    print('You are always young')"
   ]
  },
  {
   "cell_type": "code",
   "execution_count": 11,
   "id": "48dbd49d-61d1-41b5-85c0-4c61b6f57c42",
   "metadata": {},
   "outputs": [
    {
     "name": "stdout",
     "output_type": "stream",
     "text": [
      "True\n",
      "False\n",
      "False\n",
      "True\n",
      "False\n"
     ]
    }
   ],
   "source": [
    "print(bool(123))\n",
    "print(bool([]))\n",
    "print(bool(0.00))\n",
    "print(bool({1:2}))\n",
    "print(bool({}))"
   ]
  },
  {
   "cell_type": "code",
   "execution_count": 15,
   "id": "97793fc7-3cf3-45a9-bf52-3a7d63735536",
   "metadata": {},
   "outputs": [
    {
     "name": "stdout",
     "output_type": "stream",
     "text": [
      "int 99 is not in list numbers\n"
     ]
    }
   ],
   "source": [
    "numbers=[34,78,12,67]\n",
    "if 99 in numbers:\n",
    "    numbers.remove(99)\n",
    "else:\n",
    "    print('int 99 is not in list numbers')\n"
   ]
  },
  {
   "cell_type": "code",
   "execution_count": 18,
   "id": "97604f92-3184-45f4-8a21-7104c584b9c0",
   "metadata": {},
   "outputs": [
    {
     "name": "stdin",
     "output_type": "stream",
     "text": [
      "Enter integer as radius: 123a\n"
     ]
    },
    {
     "ename": "ValueError",
     "evalue": "invalid literal for int() with base 10: '123a'",
     "output_type": "error",
     "traceback": [
      "\u001b[1;31m---------------------------------------------------------------------------\u001b[0m",
      "\u001b[1;31mValueError\u001b[0m                                Traceback (most recent call last)",
      "Cell \u001b[1;32mIn[18], line 1\u001b[0m\n\u001b[1;32m----> 1\u001b[0m x\u001b[38;5;241m=\u001b[39m\u001b[38;5;28mint\u001b[39m(\u001b[38;5;28minput\u001b[39m(\u001b[38;5;124m'\u001b[39m\u001b[38;5;124mEnter integer as radius:\u001b[39m\u001b[38;5;124m'\u001b[39m))\n\u001b[0;32m      2\u001b[0m \u001b[38;5;28mprint\u001b[39m(x,\u001b[38;5;28mtype\u001b[39m(x))\n",
      "\u001b[1;31mValueError\u001b[0m: invalid literal for int() with base 10: '123a'"
     ]
    }
   ],
   "source": [
    "x=int(input('Enter integer as radius:'))\n",
    "print(x,type(x))"
   ]
  },
  {
   "cell_type": "code",
   "execution_count": 19,
   "id": "1778202a-23fc-43d2-82db-5bfe0b8b9e7c",
   "metadata": {},
   "outputs": [
    {
     "name": "stdout",
     "output_type": "stream",
     "text": [
      "Help on class str in module builtins:\n",
      "\n",
      "class str(object)\n",
      " |  str(object='') -> str\n",
      " |  str(bytes_or_buffer[, encoding[, errors]]) -> str\n",
      " |  \n",
      " |  Create a new string object from the given object. If encoding or\n",
      " |  errors is specified, then the object must expose a data buffer\n",
      " |  that will be decoded using the given encoding and error handler.\n",
      " |  Otherwise, returns the result of object.__str__() (if defined)\n",
      " |  or repr(object).\n",
      " |  encoding defaults to sys.getdefaultencoding().\n",
      " |  errors defaults to 'strict'.\n",
      " |  \n",
      " |  Methods defined here:\n",
      " |  \n",
      " |  __add__(self, value, /)\n",
      " |      Return self+value.\n",
      " |  \n",
      " |  __contains__(self, key, /)\n",
      " |      Return key in self.\n",
      " |  \n",
      " |  __eq__(self, value, /)\n",
      " |      Return self==value.\n",
      " |  \n",
      " |  __format__(self, format_spec, /)\n",
      " |      Return a formatted version of the string as described by format_spec.\n",
      " |  \n",
      " |  __ge__(self, value, /)\n",
      " |      Return self>=value.\n",
      " |  \n",
      " |  __getattribute__(self, name, /)\n",
      " |      Return getattr(self, name).\n",
      " |  \n",
      " |  __getitem__(self, key, /)\n",
      " |      Return self[key].\n",
      " |  \n",
      " |  __getnewargs__(...)\n",
      " |  \n",
      " |  __gt__(self, value, /)\n",
      " |      Return self>value.\n",
      " |  \n",
      " |  __hash__(self, /)\n",
      " |      Return hash(self).\n",
      " |  \n",
      " |  __iter__(self, /)\n",
      " |      Implement iter(self).\n",
      " |  \n",
      " |  __le__(self, value, /)\n",
      " |      Return self<=value.\n",
      " |  \n",
      " |  __len__(self, /)\n",
      " |      Return len(self).\n",
      " |  \n",
      " |  __lt__(self, value, /)\n",
      " |      Return self<value.\n",
      " |  \n",
      " |  __mod__(self, value, /)\n",
      " |      Return self%value.\n",
      " |  \n",
      " |  __mul__(self, value, /)\n",
      " |      Return self*value.\n",
      " |  \n",
      " |  __ne__(self, value, /)\n",
      " |      Return self!=value.\n",
      " |  \n",
      " |  __repr__(self, /)\n",
      " |      Return repr(self).\n",
      " |  \n",
      " |  __rmod__(self, value, /)\n",
      " |      Return value%self.\n",
      " |  \n",
      " |  __rmul__(self, value, /)\n",
      " |      Return value*self.\n",
      " |  \n",
      " |  __sizeof__(self, /)\n",
      " |      Return the size of the string in memory, in bytes.\n",
      " |  \n",
      " |  __str__(self, /)\n",
      " |      Return str(self).\n",
      " |  \n",
      " |  capitalize(self, /)\n",
      " |      Return a capitalized version of the string.\n",
      " |      \n",
      " |      More specifically, make the first character have upper case and the rest lower\n",
      " |      case.\n",
      " |  \n",
      " |  casefold(self, /)\n",
      " |      Return a version of the string suitable for caseless comparisons.\n",
      " |  \n",
      " |  center(self, width, fillchar=' ', /)\n",
      " |      Return a centered string of length width.\n",
      " |      \n",
      " |      Padding is done using the specified fill character (default is a space).\n",
      " |  \n",
      " |  count(...)\n",
      " |      S.count(sub[, start[, end]]) -> int\n",
      " |      \n",
      " |      Return the number of non-overlapping occurrences of substring sub in\n",
      " |      string S[start:end].  Optional arguments start and end are\n",
      " |      interpreted as in slice notation.\n",
      " |  \n",
      " |  encode(self, /, encoding='utf-8', errors='strict')\n",
      " |      Encode the string using the codec registered for encoding.\n",
      " |      \n",
      " |      encoding\n",
      " |        The encoding in which to encode the string.\n",
      " |      errors\n",
      " |        The error handling scheme to use for encoding errors.\n",
      " |        The default is 'strict' meaning that encoding errors raise a\n",
      " |        UnicodeEncodeError.  Other possible values are 'ignore', 'replace' and\n",
      " |        'xmlcharrefreplace' as well as any other name registered with\n",
      " |        codecs.register_error that can handle UnicodeEncodeErrors.\n",
      " |  \n",
      " |  endswith(...)\n",
      " |      S.endswith(suffix[, start[, end]]) -> bool\n",
      " |      \n",
      " |      Return True if S ends with the specified suffix, False otherwise.\n",
      " |      With optional start, test S beginning at that position.\n",
      " |      With optional end, stop comparing S at that position.\n",
      " |      suffix can also be a tuple of strings to try.\n",
      " |  \n",
      " |  expandtabs(self, /, tabsize=8)\n",
      " |      Return a copy where all tab characters are expanded using spaces.\n",
      " |      \n",
      " |      If tabsize is not given, a tab size of 8 characters is assumed.\n",
      " |  \n",
      " |  find(...)\n",
      " |      S.find(sub[, start[, end]]) -> int\n",
      " |      \n",
      " |      Return the lowest index in S where substring sub is found,\n",
      " |      such that sub is contained within S[start:end].  Optional\n",
      " |      arguments start and end are interpreted as in slice notation.\n",
      " |      \n",
      " |      Return -1 on failure.\n",
      " |  \n",
      " |  format(...)\n",
      " |      S.format(*args, **kwargs) -> str\n",
      " |      \n",
      " |      Return a formatted version of S, using substitutions from args and kwargs.\n",
      " |      The substitutions are identified by braces ('{' and '}').\n",
      " |  \n",
      " |  format_map(...)\n",
      " |      S.format_map(mapping) -> str\n",
      " |      \n",
      " |      Return a formatted version of S, using substitutions from mapping.\n",
      " |      The substitutions are identified by braces ('{' and '}').\n",
      " |  \n",
      " |  index(...)\n",
      " |      S.index(sub[, start[, end]]) -> int\n",
      " |      \n",
      " |      Return the lowest index in S where substring sub is found,\n",
      " |      such that sub is contained within S[start:end].  Optional\n",
      " |      arguments start and end are interpreted as in slice notation.\n",
      " |      \n",
      " |      Raises ValueError when the substring is not found.\n",
      " |  \n",
      " |  isalnum(self, /)\n",
      " |      Return True if the string is an alpha-numeric string, False otherwise.\n",
      " |      \n",
      " |      A string is alpha-numeric if all characters in the string are alpha-numeric and\n",
      " |      there is at least one character in the string.\n",
      " |  \n",
      " |  isalpha(self, /)\n",
      " |      Return True if the string is an alphabetic string, False otherwise.\n",
      " |      \n",
      " |      A string is alphabetic if all characters in the string are alphabetic and there\n",
      " |      is at least one character in the string.\n",
      " |  \n",
      " |  isascii(self, /)\n",
      " |      Return True if all characters in the string are ASCII, False otherwise.\n",
      " |      \n",
      " |      ASCII characters have code points in the range U+0000-U+007F.\n",
      " |      Empty string is ASCII too.\n",
      " |  \n",
      " |  isdecimal(self, /)\n",
      " |      Return True if the string is a decimal string, False otherwise.\n",
      " |      \n",
      " |      A string is a decimal string if all characters in the string are decimal and\n",
      " |      there is at least one character in the string.\n",
      " |  \n",
      " |  isdigit(self, /)\n",
      " |      Return True if the string is a digit string, False otherwise.\n",
      " |      \n",
      " |      A string is a digit string if all characters in the string are digits and there\n",
      " |      is at least one character in the string.\n",
      " |  \n",
      " |  isidentifier(self, /)\n",
      " |      Return True if the string is a valid Python identifier, False otherwise.\n",
      " |      \n",
      " |      Call keyword.iskeyword(s) to test whether string s is a reserved identifier,\n",
      " |      such as \"def\" or \"class\".\n",
      " |  \n",
      " |  islower(self, /)\n",
      " |      Return True if the string is a lowercase string, False otherwise.\n",
      " |      \n",
      " |      A string is lowercase if all cased characters in the string are lowercase and\n",
      " |      there is at least one cased character in the string.\n",
      " |  \n",
      " |  isnumeric(self, /)\n",
      " |      Return True if the string is a numeric string, False otherwise.\n",
      " |      \n",
      " |      A string is numeric if all characters in the string are numeric and there is at\n",
      " |      least one character in the string.\n",
      " |  \n",
      " |  isprintable(self, /)\n",
      " |      Return True if the string is printable, False otherwise.\n",
      " |      \n",
      " |      A string is printable if all of its characters are considered printable in\n",
      " |      repr() or if it is empty.\n",
      " |  \n",
      " |  isspace(self, /)\n",
      " |      Return True if the string is a whitespace string, False otherwise.\n",
      " |      \n",
      " |      A string is whitespace if all characters in the string are whitespace and there\n",
      " |      is at least one character in the string.\n",
      " |  \n",
      " |  istitle(self, /)\n",
      " |      Return True if the string is a title-cased string, False otherwise.\n",
      " |      \n",
      " |      In a title-cased string, upper- and title-case characters may only\n",
      " |      follow uncased characters and lowercase characters only cased ones.\n",
      " |  \n",
      " |  isupper(self, /)\n",
      " |      Return True if the string is an uppercase string, False otherwise.\n",
      " |      \n",
      " |      A string is uppercase if all cased characters in the string are uppercase and\n",
      " |      there is at least one cased character in the string.\n",
      " |  \n",
      " |  join(self, iterable, /)\n",
      " |      Concatenate any number of strings.\n",
      " |      \n",
      " |      The string whose method is called is inserted in between each given string.\n",
      " |      The result is returned as a new string.\n",
      " |      \n",
      " |      Example: '.'.join(['ab', 'pq', 'rs']) -> 'ab.pq.rs'\n",
      " |  \n",
      " |  ljust(self, width, fillchar=' ', /)\n",
      " |      Return a left-justified string of length width.\n",
      " |      \n",
      " |      Padding is done using the specified fill character (default is a space).\n",
      " |  \n",
      " |  lower(self, /)\n",
      " |      Return a copy of the string converted to lowercase.\n",
      " |  \n",
      " |  lstrip(self, chars=None, /)\n",
      " |      Return a copy of the string with leading whitespace removed.\n",
      " |      \n",
      " |      If chars is given and not None, remove characters in chars instead.\n",
      " |  \n",
      " |  partition(self, sep, /)\n",
      " |      Partition the string into three parts using the given separator.\n",
      " |      \n",
      " |      This will search for the separator in the string.  If the separator is found,\n",
      " |      returns a 3-tuple containing the part before the separator, the separator\n",
      " |      itself, and the part after it.\n",
      " |      \n",
      " |      If the separator is not found, returns a 3-tuple containing the original string\n",
      " |      and two empty strings.\n",
      " |  \n",
      " |  removeprefix(self, prefix, /)\n",
      " |      Return a str with the given prefix string removed if present.\n",
      " |      \n",
      " |      If the string starts with the prefix string, return string[len(prefix):].\n",
      " |      Otherwise, return a copy of the original string.\n",
      " |  \n",
      " |  removesuffix(self, suffix, /)\n",
      " |      Return a str with the given suffix string removed if present.\n",
      " |      \n",
      " |      If the string ends with the suffix string and that suffix is not empty,\n",
      " |      return string[:-len(suffix)]. Otherwise, return a copy of the original\n",
      " |      string.\n",
      " |  \n",
      " |  replace(self, old, new, count=-1, /)\n",
      " |      Return a copy with all occurrences of substring old replaced by new.\n",
      " |      \n",
      " |        count\n",
      " |          Maximum number of occurrences to replace.\n",
      " |          -1 (the default value) means replace all occurrences.\n",
      " |      \n",
      " |      If the optional argument count is given, only the first count occurrences are\n",
      " |      replaced.\n",
      " |  \n",
      " |  rfind(...)\n",
      " |      S.rfind(sub[, start[, end]]) -> int\n",
      " |      \n",
      " |      Return the highest index in S where substring sub is found,\n",
      " |      such that sub is contained within S[start:end].  Optional\n",
      " |      arguments start and end are interpreted as in slice notation.\n",
      " |      \n",
      " |      Return -1 on failure.\n",
      " |  \n",
      " |  rindex(...)\n",
      " |      S.rindex(sub[, start[, end]]) -> int\n",
      " |      \n",
      " |      Return the highest index in S where substring sub is found,\n",
      " |      such that sub is contained within S[start:end].  Optional\n",
      " |      arguments start and end are interpreted as in slice notation.\n",
      " |      \n",
      " |      Raises ValueError when the substring is not found.\n",
      " |  \n",
      " |  rjust(self, width, fillchar=' ', /)\n",
      " |      Return a right-justified string of length width.\n",
      " |      \n",
      " |      Padding is done using the specified fill character (default is a space).\n",
      " |  \n",
      " |  rpartition(self, sep, /)\n",
      " |      Partition the string into three parts using the given separator.\n",
      " |      \n",
      " |      This will search for the separator in the string, starting at the end. If\n",
      " |      the separator is found, returns a 3-tuple containing the part before the\n",
      " |      separator, the separator itself, and the part after it.\n",
      " |      \n",
      " |      If the separator is not found, returns a 3-tuple containing two empty strings\n",
      " |      and the original string.\n",
      " |  \n",
      " |  rsplit(self, /, sep=None, maxsplit=-1)\n",
      " |      Return a list of the substrings in the string, using sep as the separator string.\n",
      " |      \n",
      " |        sep\n",
      " |          The separator used to split the string.\n",
      " |      \n",
      " |          When set to None (the default value), will split on any whitespace\n",
      " |          character (including \\n \\r \\t \\f and spaces) and will discard\n",
      " |          empty strings from the result.\n",
      " |        maxsplit\n",
      " |          Maximum number of splits (starting from the left).\n",
      " |          -1 (the default value) means no limit.\n",
      " |      \n",
      " |      Splitting starts at the end of the string and works to the front.\n",
      " |  \n",
      " |  rstrip(self, chars=None, /)\n",
      " |      Return a copy of the string with trailing whitespace removed.\n",
      " |      \n",
      " |      If chars is given and not None, remove characters in chars instead.\n",
      " |  \n",
      " |  split(self, /, sep=None, maxsplit=-1)\n",
      " |      Return a list of the substrings in the string, using sep as the separator string.\n",
      " |      \n",
      " |        sep\n",
      " |          The separator used to split the string.\n",
      " |      \n",
      " |          When set to None (the default value), will split on any whitespace\n",
      " |          character (including \\n \\r \\t \\f and spaces) and will discard\n",
      " |          empty strings from the result.\n",
      " |        maxsplit\n",
      " |          Maximum number of splits (starting from the left).\n",
      " |          -1 (the default value) means no limit.\n",
      " |      \n",
      " |      Note, str.split() is mainly useful for data that has been intentionally\n",
      " |      delimited.  With natural text that includes punctuation, consider using\n",
      " |      the regular expression module.\n",
      " |  \n",
      " |  splitlines(self, /, keepends=False)\n",
      " |      Return a list of the lines in the string, breaking at line boundaries.\n",
      " |      \n",
      " |      Line breaks are not included in the resulting list unless keepends is given and\n",
      " |      true.\n",
      " |  \n",
      " |  startswith(...)\n",
      " |      S.startswith(prefix[, start[, end]]) -> bool\n",
      " |      \n",
      " |      Return True if S starts with the specified prefix, False otherwise.\n",
      " |      With optional start, test S beginning at that position.\n",
      " |      With optional end, stop comparing S at that position.\n",
      " |      prefix can also be a tuple of strings to try.\n",
      " |  \n",
      " |  strip(self, chars=None, /)\n",
      " |      Return a copy of the string with leading and trailing whitespace removed.\n",
      " |      \n",
      " |      If chars is given and not None, remove characters in chars instead.\n",
      " |  \n",
      " |  swapcase(self, /)\n",
      " |      Convert uppercase characters to lowercase and lowercase characters to uppercase.\n",
      " |  \n",
      " |  title(self, /)\n",
      " |      Return a version of the string where each word is titlecased.\n",
      " |      \n",
      " |      More specifically, words start with uppercased characters and all remaining\n",
      " |      cased characters have lower case.\n",
      " |  \n",
      " |  translate(self, table, /)\n",
      " |      Replace each character in the string using the given translation table.\n",
      " |      \n",
      " |        table\n",
      " |          Translation table, which must be a mapping of Unicode ordinals to\n",
      " |          Unicode ordinals, strings, or None.\n",
      " |      \n",
      " |      The table must implement lookup/indexing via __getitem__, for instance a\n",
      " |      dictionary or list.  If this operation raises LookupError, the character is\n",
      " |      left untouched.  Characters mapped to None are deleted.\n",
      " |  \n",
      " |  upper(self, /)\n",
      " |      Return a copy of the string converted to uppercase.\n",
      " |  \n",
      " |  zfill(self, width, /)\n",
      " |      Pad a numeric string with zeros on the left, to fill a field of the given width.\n",
      " |      \n",
      " |      The string is never truncated.\n",
      " |  \n",
      " |  ----------------------------------------------------------------------\n",
      " |  Static methods defined here:\n",
      " |  \n",
      " |  __new__(*args, **kwargs) from builtins.type\n",
      " |      Create and return a new object.  See help(type) for accurate signature.\n",
      " |  \n",
      " |  maketrans(...)\n",
      " |      Return a translation table usable for str.translate().\n",
      " |      \n",
      " |      If there is only one argument, it must be a dictionary mapping Unicode\n",
      " |      ordinals (integers) or characters to Unicode ordinals, strings or None.\n",
      " |      Character keys will be then converted to ordinals.\n",
      " |      If there are two arguments, they must be strings of equal length, and\n",
      " |      in the resulting dictionary, each character in x will be mapped to the\n",
      " |      character at the same position in y. If there is a third argument, it\n",
      " |      must be a string, whose characters will be mapped to None in the result.\n",
      "\n"
     ]
    }
   ],
   "source": [
    "help(str)"
   ]
  },
  {
   "cell_type": "code",
   "execution_count": 29,
   "id": "69edc0da-cf11-43e7-a62b-c043db3c2516",
   "metadata": {},
   "outputs": [
    {
     "name": "stdout",
     "output_type": "stream",
     "text": [
      "True True True\n",
      "False False False\n",
      "False False False\n",
      "²\n",
      "True False True\n",
      "Ⅳ\n",
      "False False True\n"
     ]
    }
   ],
   "source": [
    "x='123'\n",
    "print(x.isdigit(),x.isdecimal(),x.isnumeric())\n",
    "x='123.5'\n",
    "print(x.isdigit(),x.isdecimal(),x.isnumeric())\n",
    "x='1/3'\n",
    "print(x.isdigit(),x.isdecimal(),x.isnumeric())\n",
    "x='\\N{superscript two}'\n",
    "print(x)\n",
    "print(x.isdigit(),x.isdecimal(),x.isnumeric())\n",
    "x='\\N{Roman Numeral Four}'\n",
    "print(x)\n",
    "print(x.isdigit(),x.isdecimal(),x.isnumeric())\n",
    "#isdecimal 0,1,...9\n",
    "#isdigit 0,..9 plus other characters which look like arabic numbers\n"
   ]
  },
  {
   "cell_type": "code",
   "execution_count": 32,
   "id": "c8686885-44ed-4923-977d-9d1babb02bb9",
   "metadata": {},
   "outputs": [
    {
     "name": "stdin",
     "output_type": "stream",
     "text": [
      "Enter radius (positive integer): 123a\n"
     ]
    },
    {
     "name": "stdout",
     "output_type": "stream",
     "text": [
      "You entered non integer\n"
     ]
    }
   ],
   "source": [
    "i=input('Enter radius (positive integer):')\n",
    "if i.isdecimal():\n",
    "    print(int(i))\n",
    "    print('area is ....')\n",
    "else:\n",
    "    print ('You entered non integer')"
   ]
  },
  {
   "cell_type": "code",
   "execution_count": 34,
   "id": "ee896339-5f40-4119-ab80-52b74f0ab43f",
   "metadata": {},
   "outputs": [
    {
     "name": "stdout",
     "output_type": "stream",
     "text": [
      "hello\n",
      "None\n"
     ]
    }
   ],
   "source": [
    "#if statement performs short-circuit evaluation\n",
    "print(print('hello'))"
   ]
  },
  {
   "cell_type": "code",
   "execution_count": 37,
   "id": "020fc6e1-9187-40f3-b5f6-92117ac92c5c",
   "metadata": {},
   "outputs": [
    {
     "name": "stdout",
     "output_type": "stream",
     "text": [
      "i can see this message\n",
      "None\n"
     ]
    }
   ],
   "source": [
    "print(10>5 and print('i can see this message'))"
   ]
  },
  {
   "cell_type": "code",
   "execution_count": 40,
   "id": "4e481dd2-cdc9-4830-aea4-abf855aceac1",
   "metadata": {},
   "outputs": [
    {
     "name": "stdout",
     "output_type": "stream",
     "text": [
      "123\n",
      "you will see that message\n"
     ]
    }
   ],
   "source": [
    "if 10>5 and print(123):\n",
    "    print('This will not be printed')\n",
    "else:\n",
    "    print('you will see that message')"
   ]
  },
  {
   "cell_type": "code",
   "execution_count": 36,
   "id": "49812e25-111b-4cb7-b59f-69c3fb9da9da",
   "metadata": {},
   "outputs": [
    {
     "data": {
      "text/plain": [
       "False"
      ]
     },
     "execution_count": 36,
     "metadata": {},
     "output_type": "execute_result"
    }
   ],
   "source": [
    "10>50 and print('i can see this message')"
   ]
  },
  {
   "cell_type": "code",
   "execution_count": 43,
   "id": "d2a4afb8-2198-4749-b955-6c124aaea932",
   "metadata": {},
   "outputs": [
    {
     "name": "stdin",
     "output_type": "stream",
     "text": [
      "Enter int: ahoj\n"
     ]
    }
   ],
   "source": [
    "i=input('Enter int:')\n",
    "if i.isdigit() and int(i)>100:\n",
    "    print('i is greater than 100')"
   ]
  },
  {
   "cell_type": "code",
   "execution_count": 44,
   "id": "f8b30303-c9d6-4215-95de-d824781a0702",
   "metadata": {},
   "outputs": [
    {
     "name": "stdout",
     "output_type": "stream",
     "text": [
      "1\n",
      "2\n",
      "3\n",
      "4\n",
      "5\n"
     ]
    }
   ],
   "source": [
    "counter=1\n",
    "while counter<=5:\n",
    "    print(counter)\n",
    "    counter+=1\n",
    "    "
   ]
  },
  {
   "cell_type": "code",
   "execution_count": 45,
   "id": "180b0c2e-2c39-4b9a-8c6f-98c3f335cad2",
   "metadata": {},
   "outputs": [
    {
     "name": "stdout",
     "output_type": "stream",
     "text": [
      "45\n",
      "78\n",
      "12\n",
      "88\n"
     ]
    }
   ],
   "source": [
    "numbers=[45,78,12,88]\n",
    "index=0\n",
    "while index<len(numbers):\n",
    "    print(numbers[index])\n",
    "    index+=1"
   ]
  },
  {
   "cell_type": "code",
   "execution_count": 46,
   "id": "09dd40d3-e1c9-4fd9-bfa3-690066c13124",
   "metadata": {},
   "outputs": [
    {
     "name": "stdout",
     "output_type": "stream",
     "text": [
      "45\n",
      "78\n",
      "12\n",
      "88\n"
     ]
    }
   ],
   "source": [
    "#for loop\n",
    "numbers=[45,78,12,88]\n",
    "for number in numbers:\n",
    "    print(number)"
   ]
  },
  {
   "cell_type": "code",
   "execution_count": 47,
   "id": "45f8355a-0323-4ba7-8c1e-54b610b77465",
   "metadata": {},
   "outputs": [
    {
     "name": "stdout",
     "output_type": "stream",
     "text": [
      "0\n",
      "1\n",
      "2\n",
      "3\n"
     ]
    }
   ],
   "source": [
    "for i in range(4):\n",
    "    print(i)"
   ]
  },
  {
   "cell_type": "code",
   "execution_count": 48,
   "id": "c463f68d-c3a3-47df-b9ec-1deecf9d5aa6",
   "metadata": {},
   "outputs": [
    {
     "name": "stdout",
     "output_type": "stream",
     "text": [
      "10\n",
      "15\n",
      "20\n",
      "25\n",
      "30\n",
      "35\n"
     ]
    }
   ],
   "source": [
    "for i in range(10,40,5):\n",
    "    print(i)"
   ]
  },
  {
   "cell_type": "code",
   "execution_count": 53,
   "id": "b4fa1378-19f5-409a-aa6c-48f1ee45a395",
   "metadata": {},
   "outputs": [
    {
     "name": "stdout",
     "output_type": "stream",
     "text": [
      "bila white\n",
      "cerna black\n"
     ]
    }
   ],
   "source": [
    "colors={'bila':'white','cerna':'black'}\n",
    "for color in colors:\n",
    "    print(color, colors[color])"
   ]
  },
  {
   "cell_type": "code",
   "execution_count": 59,
   "id": "ff39c831-ddbd-4502-8bdd-1f6e1df11b4a",
   "metadata": {},
   "outputs": [
    {
     "name": "stdout",
     "output_type": "stream",
     "text": [
      "123\n",
      "99 99 99\n",
      "45 87 gopas\n",
      "45 87 gopas\n"
     ]
    }
   ],
   "source": [
    "a=123\n",
    "print(a)\n",
    "x=y=z=99\n",
    "print(x,y,z)\n",
    "x,y,z=45,87,'gopas'\n",
    "print(x,y,z)\n",
    "(x,y,z)=(45,87,'gopas')\n",
    "print(x,y,z)"
   ]
  },
  {
   "cell_type": "code",
   "execution_count": 57,
   "id": "480f1dff-51bd-4cc7-a8f2-58d58bac6655",
   "metadata": {},
   "outputs": [
    {
     "name": "stdout",
     "output_type": "stream",
     "text": [
      "(12, 7) <class 'tuple'>\n",
      "(12, 7) <class 'tuple'>\n"
     ]
    }
   ],
   "source": [
    "i=(12,7) #12.7\n",
    "print(i,type(i))\n",
    "i=12,7 #12.7\n",
    "print(i,type(i))"
   ]
  },
  {
   "cell_type": "code",
   "execution_count": 60,
   "id": "d358a7f2-ba43-460b-be0d-3206d5a5d456",
   "metadata": {},
   "outputs": [
    {
     "name": "stdout",
     "output_type": "stream",
     "text": [
      "bila white\n",
      "cerna black\n"
     ]
    }
   ],
   "source": [
    "colors={'bila':'white','cerna':'black'}\n",
    "for czech,english in colors.items():\n",
    "    print(czech,english)"
   ]
  },
  {
   "cell_type": "code",
   "execution_count": 61,
   "id": "0a3a95e7-bccf-4de5-a149-f0eb4675bdd6",
   "metadata": {},
   "outputs": [
    {
     "ename": "ValueError",
     "evalue": "too many values to unpack (expected 2)",
     "output_type": "error",
     "traceback": [
      "\u001b[1;31m---------------------------------------------------------------------------\u001b[0m",
      "\u001b[1;31mValueError\u001b[0m                                Traceback (most recent call last)",
      "Cell \u001b[1;32mIn[61], line 2\u001b[0m\n\u001b[0;32m      1\u001b[0m colors\u001b[38;5;241m=\u001b[39m{\u001b[38;5;124m'\u001b[39m\u001b[38;5;124mbila\u001b[39m\u001b[38;5;124m'\u001b[39m:\u001b[38;5;124m'\u001b[39m\u001b[38;5;124mwhite\u001b[39m\u001b[38;5;124m'\u001b[39m,\u001b[38;5;124m'\u001b[39m\u001b[38;5;124mcerna\u001b[39m\u001b[38;5;124m'\u001b[39m:\u001b[38;5;124m'\u001b[39m\u001b[38;5;124mblack\u001b[39m\u001b[38;5;124m'\u001b[39m}\n\u001b[1;32m----> 2\u001b[0m \u001b[38;5;28;01mfor\u001b[39;00m czech,english \u001b[38;5;129;01min\u001b[39;00m colors:\n\u001b[0;32m      3\u001b[0m     \u001b[38;5;28mprint\u001b[39m(czech,english)\n",
      "\u001b[1;31mValueError\u001b[0m: too many values to unpack (expected 2)"
     ]
    }
   ],
   "source": [
    "colors={'bila':'white','cerna':'black'}\n",
    "for czech,english in colors:\n",
    "    print(czech,english)"
   ]
  },
  {
   "cell_type": "code",
   "execution_count": 62,
   "id": "d9e90398-9812-479f-a125-d1792fe85e9d",
   "metadata": {},
   "outputs": [
    {
     "name": "stdout",
     "output_type": "stream",
     "text": [
      "b i l a\n"
     ]
    },
    {
     "ename": "ValueError",
     "evalue": "too many values to unpack (expected 4)",
     "output_type": "error",
     "traceback": [
      "\u001b[1;31m---------------------------------------------------------------------------\u001b[0m",
      "\u001b[1;31mValueError\u001b[0m                                Traceback (most recent call last)",
      "Cell \u001b[1;32mIn[62], line 2\u001b[0m\n\u001b[0;32m      1\u001b[0m colors\u001b[38;5;241m=\u001b[39m{\u001b[38;5;124m'\u001b[39m\u001b[38;5;124mbila\u001b[39m\u001b[38;5;124m'\u001b[39m:\u001b[38;5;124m'\u001b[39m\u001b[38;5;124mwhite\u001b[39m\u001b[38;5;124m'\u001b[39m,\u001b[38;5;124m'\u001b[39m\u001b[38;5;124mcerna\u001b[39m\u001b[38;5;124m'\u001b[39m:\u001b[38;5;124m'\u001b[39m\u001b[38;5;124mblack\u001b[39m\u001b[38;5;124m'\u001b[39m}\n\u001b[1;32m----> 2\u001b[0m \u001b[38;5;28;01mfor\u001b[39;00m a,b,c,d \u001b[38;5;129;01min\u001b[39;00m colors:\n\u001b[0;32m      3\u001b[0m     \u001b[38;5;28mprint\u001b[39m(a,b,c,d)\n",
      "\u001b[1;31mValueError\u001b[0m: too many values to unpack (expected 4)"
     ]
    }
   ],
   "source": [
    "colors={'bila':'white','cerna':'black'}\n",
    "for a,b,c,d in colors:\n",
    "    print(a,b,c,d)"
   ]
  },
  {
   "cell_type": "code",
   "execution_count": 69,
   "id": "6307ab7e-a343-4ced-9345-94e0e9290f6a",
   "metadata": {},
   "outputs": [
    {
     "name": "stdout",
     "output_type": "stream",
     "text": [
      "4 5 [7, 8, 10, 3, 5]\n",
      "40 50 []\n"
     ]
    },
    {
     "ename": "ValueError",
     "evalue": "not enough values to unpack (expected at least 2, got 1)",
     "output_type": "error",
     "traceback": [
      "\u001b[1;31m---------------------------------------------------------------------------\u001b[0m",
      "\u001b[1;31mValueError\u001b[0m                                Traceback (most recent call last)",
      "Cell \u001b[1;32mIn[69], line 5\u001b[0m\n\u001b[0;32m      3\u001b[0m a,b,\u001b[38;5;241m*\u001b[39mc\u001b[38;5;241m=\u001b[39m[\u001b[38;5;241m40\u001b[39m,\u001b[38;5;241m50\u001b[39m]\n\u001b[0;32m      4\u001b[0m \u001b[38;5;28mprint\u001b[39m(a,b,c)\n\u001b[1;32m----> 5\u001b[0m a,b,\u001b[38;5;241m*\u001b[39mc\u001b[38;5;241m=\u001b[39m[\u001b[38;5;241m40\u001b[39m]\n\u001b[0;32m      6\u001b[0m \u001b[38;5;28mprint\u001b[39m(a,b,c)\n",
      "\u001b[1;31mValueError\u001b[0m: not enough values to unpack (expected at least 2, got 1)"
     ]
    }
   ],
   "source": [
    "a,b,*c=[4,5,7,8,10,3,5]\n",
    "print(a,b,c)\n",
    "a,b,*c=[40,50]\n",
    "print(a,b,c)\n",
    "a,b,*c=[40]\n",
    "print(a,b,c)\n"
   ]
  },
  {
   "cell_type": "code",
   "execution_count": 72,
   "id": "97be3e19-416c-488d-901b-7f6a0b95e31d",
   "metadata": {},
   "outputs": [
    {
     "name": "stdout",
     "output_type": "stream",
     "text": [
      "b ['i', 'l', 'a']\n",
      "c ['e', 'r', 'n', 'a']\n"
     ]
    }
   ],
   "source": [
    "colors={'bila':'white','cerna':'black'}\n",
    "for a,*b in colors:\n",
    "    print(a,b)"
   ]
  },
  {
   "cell_type": "code",
   "execution_count": 73,
   "id": "bf6f4df4-3e47-482f-aac5-709035957251",
   "metadata": {},
   "outputs": [
    {
     "name": "stdout",
     "output_type": "stream",
     "text": [
      "1\n",
      "3\n",
      "5\n",
      "7\n",
      "9\n",
      "11\n",
      "13\n"
     ]
    }
   ],
   "source": [
    "# ex: print(odd numbers from <1,13>)\n",
    "for i in range(1,13+1):\n",
    "    if i%2:\n",
    "        print(i)\n"
   ]
  },
  {
   "cell_type": "code",
   "execution_count": 74,
   "id": "f86db971-39ca-48e8-a2f4-5017d3ccec43",
   "metadata": {},
   "outputs": [
    {
     "name": "stdout",
     "output_type": "stream",
     "text": [
      "1\n",
      "3\n",
      "5\n",
      "7\n",
      "9\n",
      "11\n",
      "13\n"
     ]
    }
   ],
   "source": [
    "# ex: print(odd numbers from <1,13>)\n",
    "i=1\n",
    "while i<=13:\n",
    "    print(i)\n",
    "    i+=2\n"
   ]
  },
  {
   "cell_type": "code",
   "execution_count": 77,
   "id": "048b0b86-2942-4990-b840-116549365ada",
   "metadata": {},
   "outputs": [
    {
     "name": "stdout",
     "output_type": "stream",
     "text": [
      "1\n",
      "3\n",
      "5\n",
      "7\n",
      "9\n",
      "11\n",
      "13\n"
     ]
    }
   ],
   "source": [
    "for number in list(range(1,13+1,2)):\n",
    "    print(number)"
   ]
  },
  {
   "cell_type": "code",
   "execution_count": 83,
   "id": "87f39b67-7823-4c3f-895b-39f256ce491a",
   "metadata": {},
   "outputs": [
    {
     "name": "stdout",
     "output_type": "stream",
     "text": [
      "2 3 5 7 11 13 17 19 23 29 31 37 41 43 47 53 59 61 67 71 73 79 83 89 97 "
     ]
    }
   ],
   "source": [
    "for i in range(2,101):\n",
    "    is_prime=True\n",
    "    for y in range(2,i):\n",
    "        if not i%y:  #i%y==0\n",
    "            is_prime=False\n",
    "    if is_prime:\n",
    "        print(i,end=' ')"
   ]
  },
  {
   "cell_type": "code",
   "execution_count": 84,
   "id": "280f21bc-ab92-4c40-a86c-1535538fb369",
   "metadata": {},
   "outputs": [
    {
     "name": "stdout",
     "output_type": "stream",
     "text": [
      "2 3 5 7 11 13 17 19 23 29 31 37 41 43 47 53 59 61 67 71 73 79 83 89 97 "
     ]
    }
   ],
   "source": [
    "for i in range(2,101):\n",
    "    is_prime=True\n",
    "    for y in range(2,i):\n",
    "        if not i%y:  #i%y==0\n",
    "            is_prime=False\n",
    "            break\n",
    "    if is_prime:\n",
    "        print(i,end=' ')"
   ]
  },
  {
   "cell_type": "code",
   "execution_count": 82,
   "id": "94130daf-5296-4e57-b68c-ff6ea7eb10bf",
   "metadata": {},
   "outputs": [
    {
     "name": "stdout",
     "output_type": "stream",
     "text": [
      "List of primes is: [2, 3, 5, 7, 11, 13, 17, 19, 23, 29, 31, 37, 41, 43, 47, 53, 59, 61, 67, 71, 73, 79, 83, 89, 97]\n"
     ]
    }
   ],
   "source": [
    "#ex: prime numbers from 2 to 100\n",
    "primes=[]\n",
    "for i in range(2,101):\n",
    "    is_prime=True\n",
    "    for y in primes:\n",
    "        if not i%y: #is not prime?\n",
    "            is_prime=False\n",
    "    if is_prime:\n",
    "        primes.append(i)\n",
    "print('List of primes is:',primes)"
   ]
  },
  {
   "cell_type": "code",
   "execution_count": 80,
   "id": "bf419a35-bf06-468f-9f71-1b35b776d8c4",
   "metadata": {},
   "outputs": [
    {
     "name": "stdout",
     "output_type": "stream",
     "text": [
      "List of primes is: [2, 3, 5, 7, 11, 13, 17, 19, 23, 29, 31, 37, 41, 43, 47, 53, 59, 61, 67, 71, 73, 79, 83, 89, 97]\n"
     ]
    }
   ],
   "source": [
    "#ex: prime numbers from 2 to 100\n",
    "primes=[]\n",
    "for i in range(2,101):\n",
    "    for y in primes:\n",
    "        if not i%y: #is not prime? than break\n",
    "            break\n",
    "    else:\n",
    "        primes.append(i)\n",
    "print('List of primes is:',primes)"
   ]
  },
  {
   "cell_type": "code",
   "execution_count": 88,
   "id": "37a81824-ca2f-4040-83f6-7a37496116ba",
   "metadata": {},
   "outputs": [
    {
     "name": "stdout",
     "output_type": "stream",
     "text": [
      "Processing: Jan\n",
      "Processing: Adam\n",
      "Processing: Tomas\n",
      "Processing: Frantisek\n",
      "Processing: Vladimir\n",
      "Processing: Eva\n",
      "Processing: Dan\n",
      "Adam Dan Eva Jan Tomas "
     ]
    }
   ],
   "source": [
    "names=['Jan','Adam','Tomas','Frantisek','Vladimir','Eva','Dan']\n",
    "#print names in ascending order only for names with max 5 characters\n",
    "#sort method of list\n",
    "#sorted function\n",
    "short_names=[]\n",
    "for name in names:\n",
    "    print(f'Processing: {name}')\n",
    "    if len(name)<=5:\n",
    "        short_names.append(name)\n",
    "for name in sorted(short_names):\n",
    "    print(name,end=' ')"
   ]
  },
  {
   "cell_type": "code",
   "execution_count": 86,
   "id": "4a040d08-e89f-4c4c-a503-2bdbf724a2fd",
   "metadata": {},
   "outputs": [
    {
     "name": "stdout",
     "output_type": "stream",
     "text": [
      "Adam Dan Eva Jan Tomas "
     ]
    }
   ],
   "source": [
    "names=['Jan','Adam','Tomas','Frantisek','Vladimir','Eva','Dan']\n",
    "#print names in ascending order only for names with max 5 characters\n",
    "#sort method of list\n",
    "#sorted function\n",
    "short_names=[]\n",
    "for name in names:\n",
    "    if len(name)<=5:\n",
    "        short_names.append(name)\n",
    "short_names.sort()\n",
    "for name in short_names:\n",
    "    print(name,end=' ')"
   ]
  },
  {
   "cell_type": "code",
   "execution_count": 91,
   "id": "78d1317c-acb2-41bd-8a2c-ad0a3bb0dfab",
   "metadata": {},
   "outputs": [
    {
     "name": "stdout",
     "output_type": "stream",
     "text": [
      "Processing: Jan\n",
      "Processing: Adam\n",
      "Processing: Tomas\n",
      "Processing: Frantisek\n",
      "Processing: Eva\n",
      "Processing: Dan\n",
      "Adam Dan Eva Jan Tomas Vladimir "
     ]
    }
   ],
   "source": [
    "names=['Jan','Adam','Tomas','Frantisek','Vladimir','Eva','Dan']\n",
    "#print names in ascending order only for names with max 5 characters\n",
    "#sort method of list\n",
    "#sorted function\n",
    "for name in names:\n",
    "    print(f'Processing: {name}')\n",
    "    if len(name)>5:\n",
    "        names.remove(name)\n",
    "for name in sorted(names):\n",
    "    print(name,end=' ')"
   ]
  },
  {
   "cell_type": "code",
   "execution_count": 92,
   "id": "c6a3e574-04e5-4e08-8961-b46485e06bf6",
   "metadata": {},
   "outputs": [
    {
     "name": "stdout",
     "output_type": "stream",
     "text": [
      "Processing: Jan\n",
      "Processing: Adam\n",
      "Processing: Tomas\n",
      "Processing: Frantisek\n",
      "Processing: Eva\n",
      "Processing: Dan\n",
      "Adam Dan Eva Jan Tomas Vladimir "
     ]
    }
   ],
   "source": [
    "names=['Jan','Adam','Tomas','Frantisek','Vladimir','Eva','Dan']\n",
    "#print names in ascending order only for names with max 5 characters\n",
    "#sort method of list\n",
    "#sorted function\n",
    "index=0\n",
    "for name in names:\n",
    "    print(f'Processing: {name}')\n",
    "    if len(name)>5:\n",
    "        del names[index]\n",
    "    index+=1\n",
    "for name in sorted(names):\n",
    "    print(name,end=' ')"
   ]
  },
  {
   "cell_type": "code",
   "execution_count": 93,
   "id": "ba8688c8-2cf1-40e1-9d54-4b4fb08a628b",
   "metadata": {},
   "outputs": [
    {
     "name": "stdout",
     "output_type": "stream",
     "text": [
      "Dan Eva Vladimir Frantisek Tomas Adam Jan "
     ]
    }
   ],
   "source": [
    "names=['Jan','Adam','Tomas','Frantisek','Vladimir','Eva','Dan']\n",
    "for name in reversed(names):\n",
    "    print(name,end=' ')"
   ]
  },
  {
   "cell_type": "code",
   "execution_count": 94,
   "id": "4516bc70-092a-4e43-be77-da2c78e14b6a",
   "metadata": {},
   "outputs": [
    {
     "name": "stdout",
     "output_type": "stream",
     "text": [
      "Processing: Dan\n",
      "Processing: Eva\n",
      "Processing: Vladimir\n",
      "Processing: Frantisek\n",
      "Processing: Tomas\n",
      "Processing: Adam\n",
      "Processing: Jan\n",
      "Adam Dan Eva Jan Tomas "
     ]
    }
   ],
   "source": [
    "names=['Jan','Adam','Tomas','Frantisek','Vladimir','Eva','Dan']\n",
    "#print names in ascending order only for names with max 5 characters\n",
    "#sort method of list\n",
    "#sorted function\n",
    "for name in reversed(names):\n",
    "    print(f'Processing: {name}')\n",
    "    if len(name)>5:\n",
    "        names.remove(name)\n",
    "for name in sorted(names):\n",
    "    print(name,end=' ')"
   ]
  },
  {
   "cell_type": "code",
   "execution_count": 96,
   "id": "68799009-b8d9-40d0-beca-b4bfa9d9e9df",
   "metadata": {},
   "outputs": [
    {
     "name": "stdout",
     "output_type": "stream",
     "text": [
      "Processing: Dan\n",
      "Processing: Eva\n",
      "Processing: Vladimir\n",
      "Processing: Frantisek\n",
      "Processing: Tomas\n",
      "Processing: Adam\n",
      "Processing: Jan\n",
      "Adam Dan Eva Jan Tomas "
     ]
    }
   ],
   "source": [
    "names=['Jan','Adam','Tomas','Frantisek','Vladimir','Eva','Dan']\n",
    "#print names in ascending order only for names with max 5 characters\n",
    "#sort method of list\n",
    "#sorted function\n",
    "index=len(names)-1\n",
    "for name in reversed(names):\n",
    "    print(f'Processing: {name}')\n",
    "    if len(name)>5:\n",
    "        del names[index]\n",
    "    index-=1\n",
    "for name in sorted(names):\n",
    "    print(name,end=' ')"
   ]
  },
  {
   "cell_type": "code",
   "execution_count": 116,
   "id": "b2796440-818c-471f-91c1-df09216385a7",
   "metadata": {},
   "outputs": [
    {
     "name": "stdout",
     "output_type": "stream",
     "text": [
      "{'CZ': 'Brno, Praha, Hradec Kralove, Ostrava, Kolin', 'SK': 'Kosice, Bratislava, Zilina', 'AT': 'Linz, Graz', 'DE': 'Berlin'}\n",
      "AT: Linz, Graz\n",
      "CZ: Brno, Praha, Hradec Kralove, Ostrava, Kolin\n",
      "DE: Berlin\n",
      "SK: Kosice, Bratislava, Zilina\n"
     ]
    }
   ],
   "source": [
    "lines=['CZ,Brno','CZ,Praha','SK,Kosice','AT,Linz','DE,Berlin','CZ,Hradec Kralove','SK,Bratislava',\n",
    "      'SK,Zilina','CZ,Ostrava','CZ,Kolin','AT,Graz']\n",
    "#ex: print in ascending order of country codes, names of coresponding country cities in order from list \"lines\"\n",
    "#separeted in output by ; (comma followed by space), no leading hash sign\n",
    "#AT: Linz, Graz\n",
    "#CZ: Brno, Praha, Hradec Kralove, Ostrava, Kolin\n",
    "#DE: Berlin\n",
    "#SK: Kosice, Bratislava, Zilina\n",
    "countries=dict()  #{} prefer function call for empty containers\n",
    "for line in lines:\n",
    "    code,city=line.split(',')\n",
    "    if code not in countries:\n",
    "        countries[code]=city\n",
    "    else:\n",
    "        #countries[code]+=f\", {city}\"\n",
    "        countries[code]+=\", \"+city\n",
    "print(countries)\n",
    "for country in sorted(countries):\n",
    "    print(country,': ',countries[country],sep='')"
   ]
  },
  {
   "cell_type": "code",
   "execution_count": 122,
   "id": "969243ed-877d-4205-9d34-04c124545847",
   "metadata": {},
   "outputs": [
    {
     "name": "stdout",
     "output_type": "stream",
     "text": [
      "{'CZ': ['Brno', 'Praha', 'Hradec Kralove', 'Ostrava', 'Kolin'], 'SK': ['Kosice', 'Bratislava', 'Zilina'], 'AT': ['Linz', 'Graz'], 'DE': ['Berlin']}\n",
      "AT: Graz, Linz\n",
      "CZ: Brno, Hradec Kralove, Kolin, Ostrava, Praha\n",
      "DE: Berlin\n",
      "SK: Bratislava, Kosice, Zilina\n"
     ]
    }
   ],
   "source": [
    "lines=['CZ,Brno','CZ,Praha','SK,Kosice','AT,Linz','DE,Berlin','CZ,Hradec Kralove','SK,Bratislava',\n",
    "      'SK,Zilina','CZ,Ostrava','CZ,Kolin','AT,Graz']\n",
    "#ex: print in ascending order of country codes, names of coresponding country cities in ascending order\n",
    "#separeted in output by ; (comma followed by space), no leading hash sign\n",
    "#AT: Graz, Linz\n",
    "#CZ: Brno, Hradec Kralove, Kolin, Ostrava, Praha\n",
    "#DE: Berlin\n",
    "#SK: Bratislava, Kosice, Zilina\n",
    "countries=dict()  #{} prefer function call for empty containers\n",
    "for line in lines:\n",
    "    code,city=line.split(',')\n",
    "    if code not in countries:\n",
    "        countries[code]=[]\n",
    "    countries[code].append(city)\n",
    "print(countries)\n",
    "for country in sorted(countries):\n",
    "    names=''\n",
    "    for name in sorted(countries[country]):\n",
    "        names+=f'{name}, '\n",
    "    print(country,': ',names[:-2],sep='')"
   ]
  },
  {
   "cell_type": "code",
   "execution_count": 117,
   "id": "ce3f172d-fa78-45be-9c8c-c68d5a59322f",
   "metadata": {},
   "outputs": [
    {
     "name": "stdout",
     "output_type": "stream",
     "text": [
      "{'CZ': ['Brno', 'Praha', 'Hradec Kralove', 'Ostrava', 'Kolin'], 'SK': ['Kosice', 'Bratislava', 'Zilina'], 'AT': ['Linz', 'Graz'], 'DE': ['Berlin']}\n",
      "AT: Graz, Linz\n",
      "CZ: Brno, Hradec Kralove, Kolin, Ostrava, Praha\n",
      "DE: Berlin\n",
      "SK: Bratislava, Kosice, Zilina\n"
     ]
    }
   ],
   "source": [
    "lines=['CZ,Brno','CZ,Praha','SK,Kosice','AT,Linz','DE,Berlin','CZ,Hradec Kralove','SK,Bratislava',\n",
    "      'SK,Zilina','CZ,Ostrava','CZ,Kolin','AT,Graz']\n",
    "#ex: print in ascending order of country codes, names of coresponding country cities in ascending order\n",
    "#separeted in output by ; (comma followed by space), no leading hash sign\n",
    "#AT: Graz, Linz\n",
    "#CZ: Brno, Hradec Kralove, Kolin, Ostrava, Praha\n",
    "#DE: Berlin\n",
    "#SK: Bratislava, Kosice, Zilina\n",
    "countries=dict()  #{} prefer function call for empty containers\n",
    "for line in lines:\n",
    "    code,city=line.split(',')\n",
    "    if code not in countries:\n",
    "        countries[code]=[]\n",
    "    countries[code].append(city)\n",
    "print(countries)\n",
    "for country in sorted(countries):\n",
    "    print(country,': ',', '.join(sorted(countries[country])),sep='')"
   ]
  },
  {
   "cell_type": "code",
   "execution_count": 126,
   "id": "fc2e2d1f-6840-4565-a5ad-ec3867fe49e8",
   "metadata": {},
   "outputs": [
    {
     "name": "stdout",
     "output_type": "stream",
     "text": [
      "Jan -+SEPARATOR+- Adam -+SEPARATOR+- Eva\n"
     ]
    }
   ],
   "source": [
    "names=['Jan','Adam','Eva']\n",
    "print(' -+SEPARATOR+- '.join(names))"
   ]
  },
  {
   "cell_type": "code",
   "execution_count": 115,
   "id": "2300b3cf-2fa3-4f6e-87f9-5698f526da91",
   "metadata": {},
   "outputs": [
    {
     "name": "stdout",
     "output_type": "stream",
     "text": [
      "True\n",
      "False\n"
     ]
    }
   ],
   "source": [
    "print(123 in ['ahoj',(23,67),456,123,True,[5,7,8]])\n",
    "print([5,7,80] in ['ahoj',(23,67),456,123,True,[5,7,8]])"
   ]
  },
  {
   "cell_type": "code",
   "execution_count": 127,
   "id": "b3581e17-5a19-45c4-8ccf-6d814b0df30c",
   "metadata": {},
   "outputs": [
    {
     "name": "stdout",
     "output_type": "stream",
     "text": [
      "Help on method_descriptor:\n",
      "\n",
      "setdefault(self, key, default=None, /)\n",
      "    Insert key with a value of default if key is not in the dictionary.\n",
      "    \n",
      "    Return the value for key if key is in the dictionary, else default.\n",
      "\n"
     ]
    }
   ],
   "source": [
    "help(dict.setdefault)"
   ]
  },
  {
   "cell_type": "code",
   "execution_count": 121,
   "id": "3e985517-792b-4052-b629-b40897220a31",
   "metadata": {},
   "outputs": [
    {
     "name": "stdout",
     "output_type": "stream",
     "text": [
      "{'CZ': ['Brno', 'Praha', 'Hradec Kralove', 'Ostrava', 'Kolin'], 'SK': ['Kosice', 'Bratislava', 'Zilina'], 'AT': ['Linz', 'Graz'], 'DE': ['Berlin']}\n",
      "AT: Graz, Linz\n",
      "CZ: Brno, Hradec Kralove, Kolin, Ostrava, Praha\n",
      "DE: Berlin\n",
      "SK: Bratislava, Kosice, Zilina\n"
     ]
    }
   ],
   "source": [
    "lines=['CZ,Brno','CZ,Praha','SK,Kosice','AT,Linz','DE,Berlin','CZ,Hradec Kralove','SK,Bratislava',\n",
    "      'SK,Zilina','CZ,Ostrava','CZ,Kolin','AT,Graz']\n",
    "#ex: print in ascending order of country codes, names of coresponding country cities in ascending order\n",
    "#separeted in output by ; (comma followed by space), no leading hash sign\n",
    "#AT: Graz, Linz\n",
    "#CZ: Brno, Hradec Kralove, Kolin, Ostrava, Praha\n",
    "#DE: Berlin\n",
    "#SK: Bratislava, Kosice, Zilina\n",
    "countries=dict()  #{} prefer function call for empty containers\n",
    "for line in lines:\n",
    "    code,city=line.split(',')\n",
    "    countries.setdefault(code,[]).append(city)\n",
    "print(countries)\n",
    "for country in sorted(countries):\n",
    "    print(country,': ',', '.join(sorted(countries[country])),sep='')"
   ]
  },
  {
   "cell_type": "code",
   "execution_count": 125,
   "id": "280ba5df-a5a5-4014-8322-e359ed69b1d8",
   "metadata": {},
   "outputs": [
    {
     "name": "stdout",
     "output_type": "stream",
     "text": [
      "{'CZ': ['Brno', 'Praha', 'Hradec Kralove', 'Ostrava', 'Kolin'], 'SK': ['Kosice', 'Bratislava', 'Zilina'], 'AT': ['Linz', 'Graz'], 'DE': ['Berlin']}\n",
      "AT: Graz, Linz\n",
      "CZ: Brno, Hradec Kralove, Kolin, Ostrava, Praha\n",
      "DE: Berlin\n",
      "SK: Bratislava, Kosice, Zilina\n"
     ]
    }
   ],
   "source": [
    "data=\"\"\"CZ,Brno\n",
    "CZ,Praha\n",
    "SK,Kosice\n",
    "AT,Linz\n",
    "DE,Berlin\n",
    "CZ,Hradec Kralove\n",
    "SK,Bratislava\n",
    "SK,Zilina\n",
    "CZ,Ostrava\n",
    "CZ,Kolin\n",
    "AT,Graz\"\"\"\n",
    "countries=dict()  #{} prefer function call for empty containers\n",
    "for line in data.split('\\n'):\n",
    "    code,city=line.split(',')\n",
    "    countries.setdefault(code,[]).append(city)\n",
    "print(countries)\n",
    "for country in sorted(countries):\n",
    "    print(country,': ',', '.join(sorted(countries[country])),sep='')"
   ]
  },
  {
   "cell_type": "code",
   "execution_count": null,
   "id": "69ffb551-e3b1-420d-8a9c-f52d4998685d",
   "metadata": {},
   "outputs": [],
   "source": [
    "#functions"
   ]
  },
  {
   "cell_type": "code",
   "execution_count": 129,
   "id": "98a4842e-81f0-4b35-a5f1-34454af058cc",
   "metadata": {},
   "outputs": [
    {
     "name": "stdout",
     "output_type": "stream",
     "text": [
      "ahoj\n"
     ]
    }
   ],
   "source": [
    "abs(-123)\n",
    "print('ahoj')\n",
    "#procedures return None"
   ]
  },
  {
   "cell_type": "code",
   "execution_count": 140,
   "id": "6bc8d3ab-328d-4d7b-bcc3-63a906eba629",
   "metadata": {},
   "outputs": [
    {
     "name": "stdout",
     "output_type": "stream",
     "text": [
      "Hello\n",
      "None\n",
      "Hello\n",
      "Help on function greeting in module __main__:\n",
      "\n",
      "greeting()\n",
      "    Prints greeting\n",
      "    this is my first function/procedure without parameters\n",
      "\n"
     ]
    }
   ],
   "source": [
    "def greeting ( ):\n",
    "    \"\"\"Prints greeting\n",
    "    this is my first function/procedure without parameters\"\"\"\n",
    "    print (\"Hello\")\n",
    "x=greeting()\n",
    "print(x)\n",
    "greeting()\n",
    "help(greeting)"
   ]
  },
  {
   "cell_type": "code",
   "execution_count": 143,
   "id": "3ad51bb5-a3a8-4d46-800d-2af8694f225a",
   "metadata": {},
   "outputs": [
    {
     "name": "stdout",
     "output_type": "stream",
     "text": [
      "8\n",
      "helloworld\n",
      "[3, 6, 4, 5, 7, 8, 2]\n"
     ]
    }
   ],
   "source": [
    "def add(a,b):\n",
    "    \"\"\"this function returns addition of two mandatory arguments\"\"\"\n",
    "    return a+b\n",
    "\n",
    "print(add(2,6))\n",
    "print(add('hello','world'))\n",
    "print(add([3,6],[4,5,7,8,2]))"
   ]
  },
  {
   "cell_type": "code",
   "execution_count": 146,
   "id": "64172740-7faa-4b00-8c85-0c397b3d6663",
   "metadata": {},
   "outputs": [
    {
     "name": "stdout",
     "output_type": "stream",
     "text": [
      "<function add at 0x000002340EACF380>\n"
     ]
    },
    {
     "ename": "TypeError",
     "evalue": "add() missing 2 required positional arguments: 'a' and 'b'",
     "output_type": "error",
     "traceback": [
      "\u001b[1;31m---------------------------------------------------------------------------\u001b[0m",
      "\u001b[1;31mTypeError\u001b[0m                                 Traceback (most recent call last)",
      "Cell \u001b[1;32mIn[146], line 2\u001b[0m\n\u001b[0;32m      1\u001b[0m \u001b[38;5;28mprint\u001b[39m(add)\n\u001b[1;32m----> 2\u001b[0m \u001b[38;5;28mprint\u001b[39m(add())\n",
      "\u001b[1;31mTypeError\u001b[0m: add() missing 2 required positional arguments: 'a' and 'b'"
     ]
    }
   ],
   "source": [
    "print(add)\n",
    "print(add())"
   ]
  },
  {
   "cell_type": "code",
   "execution_count": 144,
   "id": "0c9a5d19-eb22-4027-815e-e7f1c47f3c1b",
   "metadata": {},
   "outputs": [
    {
     "ename": "TypeError",
     "evalue": "add() missing 1 required positional argument: 'b'",
     "output_type": "error",
     "traceback": [
      "\u001b[1;31m---------------------------------------------------------------------------\u001b[0m",
      "\u001b[1;31mTypeError\u001b[0m                                 Traceback (most recent call last)",
      "Cell \u001b[1;32mIn[144], line 1\u001b[0m\n\u001b[1;32m----> 1\u001b[0m \u001b[38;5;28mprint\u001b[39m(add(\u001b[38;5;241m12\u001b[39m))\n",
      "\u001b[1;31mTypeError\u001b[0m: add() missing 1 required positional argument: 'b'"
     ]
    }
   ],
   "source": [
    "print(add(12))"
   ]
  },
  {
   "cell_type": "code",
   "execution_count": 147,
   "id": "afbfb895-a400-4400-b1c6-de52a2dd7f0e",
   "metadata": {},
   "outputs": [
    {
     "ename": "TypeError",
     "evalue": "add() takes 2 positional arguments but 3 were given",
     "output_type": "error",
     "traceback": [
      "\u001b[1;31m---------------------------------------------------------------------------\u001b[0m",
      "\u001b[1;31mTypeError\u001b[0m                                 Traceback (most recent call last)",
      "Cell \u001b[1;32mIn[147], line 1\u001b[0m\n\u001b[1;32m----> 1\u001b[0m \u001b[38;5;28mprint\u001b[39m(add(\u001b[38;5;241m1\u001b[39m,\u001b[38;5;241m2\u001b[39m,\u001b[38;5;241m3\u001b[39m))\n",
      "\u001b[1;31mTypeError\u001b[0m: add() takes 2 positional arguments but 3 were given"
     ]
    }
   ],
   "source": [
    "print(add(1,2,3))"
   ]
  },
  {
   "cell_type": "code",
   "execution_count": 152,
   "id": "6fd64bbe-99e1-4cd0-8960-c8a44088b54c",
   "metadata": {},
   "outputs": [
    {
     "ename": "SyntaxError",
     "evalue": "positional argument follows keyword argument (168924229.py, line 13)",
     "output_type": "error",
     "traceback": [
      "\u001b[1;36m  Cell \u001b[1;32mIn[152], line 13\u001b[1;36m\u001b[0m\n\u001b[1;33m    print(exp(e=2,4))\u001b[0m\n\u001b[1;37m                   ^\u001b[0m\n\u001b[1;31mSyntaxError\u001b[0m\u001b[1;31m:\u001b[0m positional argument follows keyword argument\n"
     ]
    }
   ],
   "source": [
    "def exp(z,e=2):\n",
    "    \"\"\"Counts exponent\"\"\"\n",
    "    x=z\n",
    "    while e>1:\n",
    "        x=x*z\n",
    "        e=e-1\n",
    "    return x\n",
    "    \n",
    "print (exp(2,3))\n",
    "print (exp(2))\n",
    "print(exp(4,e=5)) #z parameter was passed as positional,e param was passed as keyword argument (by name)\n",
    "print(exp(e=8,z=3)) #3**8 #keyword parameters\n",
    "print(exp(e=2,4))\n"
   ]
  },
  {
   "cell_type": "code",
   "execution_count": 150,
   "id": "2a818794-9060-4789-a2a0-55b2fc379b32",
   "metadata": {},
   "outputs": [
    {
     "name": "stdout",
     "output_type": "stream",
     "text": [
      "Help on built-in function print in module builtins:\n",
      "\n",
      "print(*args, sep=' ', end='\\n', file=None, flush=False)\n",
      "    Prints the values to a stream, or to sys.stdout by default.\n",
      "    \n",
      "    sep\n",
      "      string inserted between values, default a space.\n",
      "    end\n",
      "      string appended after the last value, default a newline.\n",
      "    file\n",
      "      a file-like object (stream); defaults to the current sys.stdout.\n",
      "    flush\n",
      "      whether to forcibly flush the stream.\n",
      "\n"
     ]
    }
   ],
   "source": [
    "help(print)"
   ]
  },
  {
   "cell_type": "code",
   "execution_count": 154,
   "id": "125f446e-9a18-4f8d-b22d-c167dcace71d",
   "metadata": {},
   "outputs": [
    {
     "name": "stdout",
     "output_type": "stream",
     "text": [
      "5\n",
      "23\n"
     ]
    }
   ],
   "source": [
    "def maximum (*numbers):\n",
    "    \"\"\"Counts max\"\"\"\n",
    "    m=numbers[0]\n",
    "    for n in numbers[1:]:\n",
    "        if n>m:\n",
    "            m=n\n",
    "    return m\n",
    "    \n",
    "print(maximum(1,5,4,2))\n",
    "print(maximum(1,5,4,2,23,23))"
   ]
  },
  {
   "cell_type": "code",
   "execution_count": 159,
   "id": "6985ebd2-e79e-4945-a4f6-aea871d5567c",
   "metadata": {},
   "outputs": [
    {
     "name": "stdout",
     "output_type": "stream",
     "text": [
      "(1, 4, True, 'ahoj', [6, 7, 8]) <class 'tuple'>\n",
      "1 <class 'int'>\n",
      "4 <class 'int'>\n",
      "True <class 'bool'>\n",
      "ahoj <class 'str'>\n",
      "[6, 7, 8] <class 'list'>\n"
     ]
    }
   ],
   "source": [
    "def multi(*par):\n",
    "    print(par,type(par))\n",
    "    for i in par:\n",
    "        print(i,type(i))\n",
    "\n",
    "multi(1,4,True,'ahoj',[6,7,8])"
   ]
  },
  {
   "cell_type": "code",
   "execution_count": 161,
   "id": "1f88e4c0-468b-428c-8ace-741a2fbfcd72",
   "metadata": {},
   "outputs": [
    {
     "name": "stdout",
     "output_type": "stream",
     "text": [
      "{'a': 1, 'b': 2, 'c': 3, 'message': 'hello'} <class 'dict'>\n"
     ]
    }
   ],
   "source": [
    "def example (**params):\n",
    "    print (params,type(params))\n",
    "\n",
    "example (a=1,b=2,c=3,message='hello')"
   ]
  },
  {
   "cell_type": "code",
   "execution_count": 165,
   "id": "37314592-5866-466b-abec-b223a836f1c7",
   "metadata": {},
   "outputs": [
    {
     "name": "stdout",
     "output_type": "stream",
     "text": [
      "(12, 56, 'ahoj') <class 'tuple'>\n",
      "{'gopas': 'Brno', 'radius': 1234} <class 'dict'>\n",
      "() <class 'tuple'>\n",
      "{} <class 'dict'>\n",
      "(23, 5) <class 'tuple'>\n",
      "{} <class 'dict'>\n",
      "() <class 'tuple'>\n",
      "{'a': 34, 'b': 'dsfdsd'} <class 'dict'>\n"
     ]
    }
   ],
   "source": [
    "def f(*args,**kwargs):\n",
    "    print(args,type(args))\n",
    "    print(kwargs,type(kwargs))\n",
    "\n",
    "f(12,56,'ahoj',gopas='Brno',radius=1234)\n",
    "f()\n",
    "f(23,5)\n",
    "f(a=34,b='dsfdsd')"
   ]
  },
  {
   "cell_type": "code",
   "execution_count": 173,
   "id": "145f2cea-5663-42d5-a4a1-57b319e92438",
   "metadata": {},
   "outputs": [
    {
     "name": "stdout",
     "output_type": "stream",
     "text": [
      "([3, 50, 7, 12, 4, 110, 3, 88, 21],) <class 'tuple'>\n",
      "[3, 50, 7, 12, 4, 110, 3, 88, 21]\n",
      "(3, 50, 7, 12, 4) <class 'tuple'>\n",
      "50\n",
      "(3, 50, 7, 12, 4, 110, 3, 88, 21) <class 'tuple'>\n",
      "110\n",
      "(3, 50, 7, 12, 4) <class 'tuple'>\n",
      "50\n",
      "([3, 50, 7, 12, 4],) <class 'tuple'>\n",
      "[3, 50, 7, 12, 4]\n"
     ]
    }
   ],
   "source": [
    "def maximum (*numbers):\n",
    "    \"\"\"Counts max\"\"\"\n",
    "    print(numbers,type(numbers))\n",
    "    m=numbers[0]\n",
    "    for n in numbers[1:]:\n",
    "        if n>m:\n",
    "            m=n\n",
    "    return m\n",
    "\n",
    "numbers=[3,50,7,12,4,110,3,88,21]\n",
    "print(maximum(numbers))\n",
    "print(maximum(numbers[0],numbers[1],numbers[2],numbers[3],numbers[4]))\n",
    "print(maximum(*numbers)) #Python unpacks list and psses item of that list as individual parameters\n",
    "print(maximum(*numbers[:5]))\n",
    "print(maximum(numbers[:5]))\n"
   ]
  },
  {
   "cell_type": "code",
   "execution_count": 176,
   "id": "2e46e30e-bf90-4d5a-92e0-d16339bc639a",
   "metadata": {},
   "outputs": [
    {
     "name": "stdout",
     "output_type": "stream",
     "text": [
      "('a', 'b', 'c') <class 'tuple'>\n",
      "{} <class 'dict'>\n",
      "() <class 'tuple'>\n",
      "{'a': 1000, 'b': 2000, 'c': 3000} <class 'dict'>\n",
      "('a', 'b', 'c') <class 'tuple'>\n",
      "{'a': 1000, 'b': 2000, 'c': 3000} <class 'dict'>\n"
     ]
    }
   ],
   "source": [
    "def f(*args,**kwargs):\n",
    "    print(args,type(args))\n",
    "    print(kwargs,type(kwargs))\n",
    "\n",
    "d={'a':1000, 'b':2000, 'c':3000}\n",
    "f(*d)\n",
    "f(**d)\n",
    "f(*d,**d)"
   ]
  },
  {
   "cell_type": "code",
   "execution_count": 179,
   "id": "afe1d0fa-f29b-4e1b-a44a-0448c0b32bcf",
   "metadata": {},
   "outputs": [
    {
     "name": "stdout",
     "output_type": "stream",
     "text": [
      "{'CZ': ['Brno', 'Praha', 'Hradec Kralove', 'Ostrava', 'Kolin'], 'SK': ['Kosice', 'Bratislava', 'Zilina'], 'AT': ['Linz', 'Graz'], 'DE': ['Berlin']}\n",
      "AT: Graz, Linz\n",
      "CZ: Brno, Hradec Kralove, Kolin, Ostrava, Praha\n",
      "DE: Berlin\n",
      "SK: Bratislava, Kosice, Zilina\n"
     ]
    }
   ],
   "source": [
    "lines=['CZ,Brno','CZ,Praha','SK,Kosice','AT,Linz','DE,Berlin','CZ,Hradec Kralove','SK,Bratislava',\n",
    "      'SK,Zilina','CZ,Ostrava','CZ,Kolin','AT,Graz']\n",
    "#ex: print in ascending order of country codes, names of coresponding country cities in ascending order\n",
    "#separeted in output by ; (comma followed by space), no leading hash sign\n",
    "#AT: Graz, Linz\n",
    "#CZ: Brno, Hradec Kralove, Kolin, Ostrava, Praha\n",
    "#DE: Berlin\n",
    "#SK: Bratislava, Kosice, Zilina\n",
    "countries=dict()  #{} prefer function call for empty containers\n",
    "for line in lines:\n",
    "    code,city=line.split(',')\n",
    "    countries.setdefault(code,[]).append(city)\n",
    "print(countries)\n",
    "for country in sorted(countries):\n",
    "    print(country,': ',end='',sep='')\n",
    "    print(*sorted(countries[country]),sep=', ')"
   ]
  },
  {
   "cell_type": "code",
   "execution_count": 184,
   "id": "e6bfe2c7-4403-403c-9e77-a075ebfa153c",
   "metadata": {},
   "outputs": [
    {
     "name": "stdout",
     "output_type": "stream",
     "text": [
      "['Adam', 'Dan', 'David', 'Eva', 'Jan']\n",
      "['Jan', 'Eva', 'David', 'Dan', 'Adam']\n",
      "['Jan', 'Eva', 'Dan', 'Adam', 'David']\n",
      "Help on built-in function sorted in module builtins:\n",
      "\n",
      "sorted(iterable, /, *, key=None, reverse=False)\n",
      "    Return a new list containing all items from the iterable in ascending order.\n",
      "    \n",
      "    A custom key function can be supplied to customize the sort order, and the\n",
      "    reverse flag can be set to request the result in descending order.\n",
      "\n"
     ]
    }
   ],
   "source": [
    "names=['Jan','Adam','Eva','Dan','David']\n",
    "print(sorted(names))\n",
    "print(sorted(names,reverse=True))\n",
    "print(sorted(names,key=len))\n",
    "help(sorted)"
   ]
  },
  {
   "cell_type": "code",
   "execution_count": 185,
   "id": "5661c996-4b80-494e-ae46-5b88391c759a",
   "metadata": {},
   "outputs": [
    {
     "name": "stdout",
     "output_type": "stream",
     "text": [
      "['David', 'Jan', 'Dan', 'Adam', 'Eva']\n"
     ]
    }
   ],
   "source": [
    "def f(x):\n",
    "    a=ord(x[1])\n",
    "    b=ord(x[-1])\n",
    "    return a+b\n",
    "names=['Jan','Adam','Eva','Dan','David']\n",
    "print(sorted(names,key=f))"
   ]
  },
  {
   "cell_type": "code",
   "execution_count": 191,
   "id": "28fcc61f-a42b-4674-9225-f301e33805bc",
   "metadata": {},
   "outputs": [
    {
     "name": "stdout",
     "output_type": "stream",
     "text": [
      "{'CZ': [('Brno', 395000), ('Praha', 1100000), ('Hradec Kralove', 97000), ('Ostrava', 280000), ('Kolin', 57000)], 'SK': [('Kosice', 185000), ('Bratislava', 403000), ('Zilina', 65000)], 'AT': [('Linz', 78000), ('Graz', 91000)], 'DE': [('Berlin', 6300000)]}\n",
      "AT: Linz, Graz\n",
      "CZ: Kolin, Hradec Kralove, Ostrava, Brno, Praha\n",
      "DE: Berlin\n",
      "SK: Zilina, Kosice, Bratislava\n"
     ]
    }
   ],
   "source": [
    "lines=['CZ,Brno,395000','CZ,Praha,1100000','SK,Kosice,185000','AT,Linz,78000','DE,Berlin,6300000','CZ,Hradec Kralove,97000',\n",
    "       'SK,Bratislava,403000','SK,Zilina,65000','CZ,Ostrava,280000','CZ,Kolin,57000','AT,Graz,91000']\n",
    "#ex: print in ascending order of country codes, names of coresponding country cities in ascending order by population\n",
    "#separeted in output by ; (comma followed by space), no leading hash sign\n",
    "#AT: Linz, Graz\n",
    "#CZ: Kolin, Hradec Kralove, Ostrava, Brno, Praha\n",
    "#DE: Berlin\n",
    "#SK: Zilina, Kosice, Bratislava\n",
    "countries=dict()  #{} prefer function call for empty containers\n",
    "for line in lines:\n",
    "    code,city,population=line.split(',')\n",
    "    countries.setdefault(code,[]).append((city,int(population)))\n",
    "print(countries)\n",
    "def second_element(x):\n",
    "    return x[1]\n",
    "for country in sorted(countries):\n",
    "    cities=[]\n",
    "    for city,pop in sorted(countries[country],key=second_element):\n",
    "        cities.append(city)\n",
    "    print(country,': ',', '.join(cities),sep='')"
   ]
  },
  {
   "cell_type": "code",
   "execution_count": 195,
   "id": "2355e654-c80e-4165-b177-33a6cfc6fc3d",
   "metadata": {},
   "outputs": [
    {
     "name": "stdout",
     "output_type": "stream",
     "text": [
      "e\n",
      "4\n",
      "395000\n"
     ]
    }
   ],
   "source": [
    "def second_element(x):\n",
    "    return x[1]\n",
    "print(second_element('hello'))\n",
    "print(second_element([3,4,6,7]))\n",
    "print(second_element(('Brno', 395000)))"
   ]
  }
 ],
 "metadata": {
  "kernelspec": {
   "display_name": "Python 3 (ipykernel)",
   "language": "python",
   "name": "python3"
  },
  "language_info": {
   "codemirror_mode": {
    "name": "ipython",
    "version": 3
   },
   "file_extension": ".py",
   "mimetype": "text/x-python",
   "name": "python",
   "nbconvert_exporter": "python",
   "pygments_lexer": "ipython3",
   "version": "3.11.7"
  }
 },
 "nbformat": 4,
 "nbformat_minor": 5
}
