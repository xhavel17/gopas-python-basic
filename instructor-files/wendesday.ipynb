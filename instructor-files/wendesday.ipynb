{
 "cells": [
  {
   "cell_type": "code",
   "execution_count": null,
   "id": "d6a0d611-1e4c-4d6d-be7f-e48d4d61d7dc",
   "metadata": {},
   "outputs": [],
   "source": [
    "#wendesday"
   ]
  },
  {
   "cell_type": "code",
   "execution_count": 10,
   "id": "42739341-830f-4662-8a8a-47ad91859a67",
   "metadata": {},
   "outputs": [
    {
     "name": "stdout",
     "output_type": "stream",
     "text": [
      "[3, 56, 77, 12, 6, 7]\n",
      "161 3 [3, 6, 7, 12, 56, 77]\n"
     ]
    }
   ],
   "source": [
    "#map and filter\n",
    "#functional programing\n",
    "#help(map)\n",
    "L1=[3,56,77,'12',6,'7']\n",
    "#print(min(L1))\n",
    "L2=[]\n",
    "for item in L1:\n",
    "    L2.append(int(item))\n",
    "print(L2)\n",
    "print(sum(L2),min(L2),sorted(L2))"
   ]
  },
  {
   "cell_type": "code",
   "execution_count": 15,
   "id": "d9a4e401-5d99-47ed-838e-9b869db9eb89",
   "metadata": {},
   "outputs": [
    {
     "name": "stdout",
     "output_type": "stream",
     "text": [
      "<map object at 0x000002253116F460> [3, 56, 77, 12, 6, 7] 0\n",
      "161\n"
     ]
    }
   ],
   "source": [
    "#how ro do that in others ways\n",
    "L1=[3,56,77,'12',6,'7']\n",
    "L2=map(int,L1)\n",
    "print(L2,list(L2), sum(L2))\n",
    "print(sum(map(int,L1)))"
   ]
  },
  {
   "cell_type": "code",
   "execution_count": 17,
   "id": "d140a3fa-10f4-435d-8d3e-75e97d7f7a1c",
   "metadata": {},
   "outputs": [
    {
     "name": "stdout",
     "output_type": "stream",
     "text": [
      "['JAN', 'EVA', 'ADAM']\n"
     ]
    }
   ],
   "source": [
    "names=['jan','eva','adam']\n",
    "L2=[]\n",
    "for item in names:\n",
    "    L2.append(item.upper())\n",
    "print(L2)"
   ]
  },
  {
   "cell_type": "code",
   "execution_count": 21,
   "id": "3fe24335-95f8-4a91-aa65-e366dea3f4c6",
   "metadata": {},
   "outputs": [
    {
     "name": "stdout",
     "output_type": "stream",
     "text": [
      "['JAN', 'EVA', 'ADAM']\n",
      "('JAN', 'EVA', 'ADAM')\n",
      "{'EVA', 'JAN', 'ADAM'}\n"
     ]
    }
   ],
   "source": [
    "names=['jan','eva','adam']\n",
    "def my_upper(x):\n",
    "    return x.upper()\n",
    "print(list(map(my_upper,names)))\n",
    "print(tuple(map(my_upper,names)))\n",
    "print(set(map(my_upper,names)))\n"
   ]
  },
  {
   "cell_type": "code",
   "execution_count": 24,
   "id": "c1da5cc0-ec77-4d0c-84db-7050aaaeefdc",
   "metadata": {},
   "outputs": [
    {
     "name": "stdout",
     "output_type": "stream",
     "text": [
      "AT: Linz, Graz\n",
      "CZ: Kolin, Hradec Kralove, Ostrava, Brno, Praha\n",
      "DE: Berlin\n",
      "SK: Zilina, Kosice, Bratislava\n"
     ]
    }
   ],
   "source": [
    "lines=['CZ,Brno,395000','CZ,Praha,1100000','SK,Kosice,185000','AT,Linz,78000','DE,Berlin,6300000','CZ,Hradec Kralove,97000',\n",
    "       'SK,Bratislava,403000','SK,Zilina,65000','CZ,Ostrava,280000','CZ,Kolin,57000','AT,Graz,91000']\n",
    "#ex: print in ascending order of country codes, names of coresponding country cities in ascending order by population\n",
    "#separeted in output by ; (comma followed by space), no leading hash sign\n",
    "#AT: Linz, Graz\n",
    "#CZ: Kolin, Hradec Kralove, Ostrava, Brno, Praha\n",
    "#DE: Berlin\n",
    "#SK: Zilina, Kosice, Bratislava\n",
    "countries=dict()  #{} prefer function call for empty containers\n",
    "for line in lines:\n",
    "    code,city,population=line.split(',')\n",
    "    countries.setdefault(code,[]).append((city,int(population)))\n",
    "#print(countries)\n",
    "def second_element(x):\n",
    "    return x[1]\n",
    "def first_element(x):\n",
    "    return x[0]\n",
    "for country in sorted(countries):\n",
    "    print(country,': ',', '.join(map(first_element,sorted(countries[country],key=second_element))),sep='')"
   ]
  },
  {
   "cell_type": "code",
   "execution_count": 33,
   "id": "71c2d45b-42c9-47e0-8d2e-db71d0ba8e21",
   "metadata": {},
   "outputs": [
    {
     "name": "stdout",
     "output_type": "stream",
     "text": [
      "range(0, 5)\n",
      "[0, 1, 2, 3, 4]\n",
      "0 1 2 3 4\n",
      "0\n",
      "1\n",
      "2\n",
      "3\n",
      "4\n",
      "[None, None, None, None, None]\n"
     ]
    }
   ],
   "source": [
    "print(range(5))\n",
    "print(list(range(5)))\n",
    "print(*list(range(5)))\n",
    "def x(p):\n",
    "    print(p)\n",
    "map(x,range(5))\n",
    "g=list(map(x,range(5)))\n",
    "print(g)"
   ]
  },
  {
   "cell_type": "code",
   "execution_count": 35,
   "id": "7429f057-7ccf-4271-af85-a77eba4610f4",
   "metadata": {},
   "outputs": [
    {
     "name": "stdout",
     "output_type": "stream",
     "text": [
      "101\n",
      "[5, 7, 9]\n"
     ]
    }
   ],
   "source": [
    "def add (a,b):\n",
    "    return (a+b)\n",
    "first=[1,2,3]\n",
    "second=[4,5,6,8]\n",
    "print(add(23,78))\n",
    "print(list(map(add,first,second)))"
   ]
  },
  {
   "cell_type": "code",
   "execution_count": null,
   "id": "6aa7af78-d804-418d-8075-95a884cb8633",
   "metadata": {},
   "outputs": [],
   "source": [
    "[('Brno', 395000), ('Praha', 1100000), ('Hradec Kralove', 97000), ('Ostrava', 280000), ('Kolin', 57000)]"
   ]
  },
  {
   "cell_type": "code",
   "execution_count": 38,
   "id": "66c98492-7da9-4be1-a576-815370242455",
   "metadata": {},
   "outputs": [
    {
     "name": "stdout",
     "output_type": "stream",
     "text": [
      "[5, 7, 9]\n"
     ]
    }
   ],
   "source": [
    "first=[1,2,3]\n",
    "second=[4,5,6,8]\n",
    "result=[]\n",
    "for index in range(min(len(first),len(second))):\n",
    "    result.append(add(first[index],second[index]))\n",
    "print(result)"
   ]
  },
  {
   "cell_type": "code",
   "execution_count": 41,
   "id": "e9d5b490-a2ad-4451-9fc6-b28d13ba7f00",
   "metadata": {},
   "outputs": [
    {
     "name": "stdout",
     "output_type": "stream",
     "text": [
      "<filter object at 0x00000225311773D0>\n",
      "[4, 67, 56, 9]\n",
      "[True, True, False, True, False, True]\n"
     ]
    }
   ],
   "source": [
    "numbers=[4,67,-3,56,-2,9]\n",
    "#I want only positive integers from numbers\n",
    "def g0(x):\n",
    "    return x>0\n",
    "print(filter(g0,numbers))\n",
    "print(list(filter(g0,numbers)))\n",
    "print(list(map(g0,numbers)))\n"
   ]
  },
  {
   "cell_type": "code",
   "execution_count": 42,
   "id": "01904ca4-3027-4c3d-afd4-5b82d0467187",
   "metadata": {},
   "outputs": [
    {
     "name": "stdout",
     "output_type": "stream",
     "text": [
      "AT: Graz\n",
      "CZ: Hradec Kralove, Ostrava, Brno, Praha\n",
      "DE: Berlin\n",
      "SK: Kosice, Bratislava\n"
     ]
    }
   ],
   "source": [
    "lines=['CZ,Brno,395000','CZ,Praha,1100000','SK,Kosice,185000','AT,Linz,78000','DE,Berlin,6300000','CZ,Hradec Kralove,97000',\n",
    "       'SK,Bratislava,403000','SK,Zilina,65000','CZ,Ostrava,280000','CZ,Kolin,57000','AT,Graz,91000']\n",
    "#please filter out cities with less than 90000 citizens\n",
    "countries=dict()  #{} prefer function call for empty containers\n",
    "for line in lines:\n",
    "    code,city,population=line.split(',')\n",
    "    countries.setdefault(code,[]).append((city,int(population)))\n",
    "#print(countries)\n",
    "def second_element(x):\n",
    "    return x[1]\n",
    "def first_element(x):\n",
    "    return x[0]\n",
    "def greater_than_90000(x):\n",
    "    return x[1]>=90000\n",
    "for country in sorted(countries):\n",
    "    print(country,': ',', '.join(map(first_element,sorted(filter(greater_than_90000,countries[country]),key=second_element))),sep='')"
   ]
  },
  {
   "cell_type": "code",
   "execution_count": 45,
   "id": "cac3fda7-41dc-4daa-99bf-5a02cde3102b",
   "metadata": {},
   "outputs": [
    {
     "name": "stdout",
     "output_type": "stream",
     "text": [
      "AT: Graz\n",
      "CZ: Hradec Kralove, Ostrava, Brno, Praha\n",
      "DE: Berlin\n",
      "SK: Kosice, Bratislava\n"
     ]
    }
   ],
   "source": [
    "lines=['CZ,Brno,395000','CZ,Praha,1100000','SK,Kosice,185000','AT,Linz,78000','DE,Berlin,6300000','CZ,Hradec Kralove,97000',\n",
    "       'SK,Bratislava,403000','SK,Zilina,65000','CZ,Ostrava,280000','CZ,Kolin,57000','AT,Graz,91000']\n",
    "#please filter out cities with less than 90000 citizens\n",
    "countries=dict()  #{} prefer function call for empty containers\n",
    "for line in lines:\n",
    "    code,city,population=line.split(',')\n",
    "    countries.setdefault(code,[]).append((city,int(population)))\n",
    "#print(countries)\n",
    "def second_element(x):\n",
    "    return x[1]\n",
    "def first_element(x):\n",
    "    return x[0]\n",
    "def greater_than_90000(x):\n",
    "    return x[1]>=90000\n",
    "for country in sorted(countries):\n",
    "    print(country,': ',', '.join(map(first_element,filter(greater_than_90000,\\\n",
    "          sorted(countries[country],key=second_element)))),sep='')"
   ]
  },
  {
   "cell_type": "code",
   "execution_count": 48,
   "id": "b948252c-f40e-48a3-9c91-1602648d65f2",
   "metadata": {},
   "outputs": [
    {
     "name": "stdout",
     "output_type": "stream",
     "text": [
      "<function add at 0x000002252E3BE520> <class 'function'> 2358712722720 0X2252E3BE520\n",
      "10\n"
     ]
    }
   ],
   "source": [
    "def add(a,b):\n",
    "    return a+b\n",
    "print(add,type(add),id(add),hex(id(add)).upper())\n",
    "print(add(3,7))"
   ]
  },
  {
   "cell_type": "code",
   "execution_count": 50,
   "id": "ccf24c60-7167-4502-ac94-c904f8ccccf8",
   "metadata": {},
   "outputs": [
    {
     "name": "stdout",
     "output_type": "stream",
     "text": [
      "<function <lambda> at 0x000002253113E0C0> <class 'function'> 2358760431808 0X2253113E0C0\n",
      "10\n"
     ]
    }
   ],
   "source": [
    "add2=lambda x,y:x+y\n",
    "print(add2,type(add2),id(add2),hex(id(add2)).upper())\n",
    "print(add2(3,7))"
   ]
  },
  {
   "cell_type": "code",
   "execution_count": 51,
   "id": "ba9473ee-360d-4133-a33f-7a59845b5295",
   "metadata": {},
   "outputs": [
    {
     "name": "stdout",
     "output_type": "stream",
     "text": [
      "[4, 67, 56, 9]\n"
     ]
    }
   ],
   "source": [
    "numbers=[4,67,-3,56,-2,9]\n",
    "#filter negative numbers out\n",
    "print(list(filter(lambda x:x>0,numbers)))"
   ]
  },
  {
   "cell_type": "code",
   "execution_count": 53,
   "id": "34a5aa8f-087f-4a19-87fa-4a332b73f0a0",
   "metadata": {},
   "outputs": [
    {
     "name": "stdout",
     "output_type": "stream",
     "text": [
      "AT: Graz\n",
      "CZ: Hradec Kralove, Ostrava, Brno, Praha\n",
      "DE: Berlin\n",
      "SK: Kosice, Bratislava\n"
     ]
    }
   ],
   "source": [
    "lines=['CZ,Brno,395000','CZ,Praha,1100000','SK,Kosice,185000','AT,Linz,78000','DE,Berlin,6300000','CZ,Hradec Kralove,97000',\n",
    "       'SK,Bratislava,403000','SK,Zilina,65000','CZ,Ostrava,280000','CZ,Kolin,57000','AT,Graz,91000']\n",
    "#please filter out cities with less than 90000 citizens\n",
    "countries=dict()  #{} prefer function call for empty containers\n",
    "for line in lines:\n",
    "    code,city,population=line.split(',')\n",
    "    countries.setdefault(code,[]).append((city,int(population)))\n",
    "#print(countries)\n",
    "for country in sorted(countries):\n",
    "    print(country,': ',', '.join(map(lambda x:x[0],sorted(filter(lambda x:x[1]>=90000,countries[country]),key=lambda x:x[1]))),sep='')"
   ]
  },
  {
   "cell_type": "code",
   "execution_count": 58,
   "id": "f084dcec-da2a-4d4d-b8b3-6dfdcf281da9",
   "metadata": {},
   "outputs": [
    {
     "name": "stdout",
     "output_type": "stream",
     "text": [
      "[('Brno', 395000), ('Hradec Kralove', 97000), ('Kolin', 57000), ('Ostrava', 280000), ('Praha', 1100000)]\n",
      "[('Kolin', 57000), ('Hradec Kralove', 97000), ('Ostrava', 280000), ('Brno', 395000), ('Praha', 1100000)]\n"
     ]
    }
   ],
   "source": [
    "x=[('Brno', 395000), ('Praha', 1100000), ('Hradec Kralove', 97000), ('Ostrava', 280000), ('Kolin', 57000)]\n",
    "print(sorted(x))\n",
    "print(sorted(x,key=lambda x:x[1]))"
   ]
  },
  {
   "cell_type": "code",
   "execution_count": 67,
   "id": "9b3ca56a-631c-4717-a396-adb085f81680",
   "metadata": {},
   "outputs": [
    {
     "name": "stdout",
     "output_type": "stream",
     "text": [
      "[('Brno', 395000, 200), ('Hradec Kralove', 97000, 200), ('Praha', 1100000, 230), ('Ostrava', 280000, 652), ('Kolin', 57000, 784)]\n"
     ]
    }
   ],
   "source": [
    "x=[('Brno', 395000,200), ('Praha', 1100000,230), ('Hradec Kralove', 97000,200), ('Ostrava', 280000,652), ('Kolin', 57000,784)]\n",
    "print(sorted(x,key=lambda x:x[2]))\n"
   ]
  },
  {
   "cell_type": "code",
   "execution_count": 63,
   "id": "5120560b-9187-483a-8e2c-3f995e5647fc",
   "metadata": {},
   "outputs": [
    {
     "name": "stdout",
     "output_type": "stream",
     "text": [
      "[('Hradec Kralove', 97000, 200), ('Brno', 395000, 200), ('Praha', 1100000, 200), ('Kolin', 57000, 652), ('Ostrava', 280000, 652)]\n"
     ]
    }
   ],
   "source": [
    "x=[('Brno', 395000,200), ('Praha', 1100000,200), ('Hradec Kralove', 97000,200), ('Ostrava', 280000,652), ('Kolin', 57000,652)]\n",
    "#sorted in asc by area and pop\n",
    "print(sorted(x,key=lambda x: (x[2],x[1])))"
   ]
  },
  {
   "cell_type": "code",
   "execution_count": 66,
   "id": "cde47a22-e953-4ded-adae-505ee179fd95",
   "metadata": {},
   "outputs": [
    {
     "name": "stdout",
     "output_type": "stream",
     "text": [
      "[('Praha', 1100000, 200), ('Brno', 395000, 200), ('Hradec Kralove', 97000, 200), ('Ostrava', 280000, 652), ('Kolin', 57000, 652)]\n"
     ]
    }
   ],
   "source": [
    "x=[('Brno', 395000,200), ('Praha', 1100000,200), ('Hradec Kralove', 97000,200), ('Ostrava', 280000,652), ('Kolin', 57000,652)]\n",
    "#sorted in asc by area and desc pop\n",
    "print(sorted(x,key=lambda x: (x[2], ~x[1])))"
   ]
  },
  {
   "cell_type": "code",
   "execution_count": 68,
   "id": "6858d285-2901-4dd8-91f7-612d945157b9",
   "metadata": {},
   "outputs": [
    {
     "name": "stdout",
     "output_type": "stream",
     "text": [
      "[('Praha', 1100000, 200), ('Brno', 395000, 200), ('Ostrava', 280000, 652), ('Hradec Kralove', 97000, 200), ('Kolin', 57000, 652)]\n"
     ]
    }
   ],
   "source": [
    "x=[('Brno', 395000,200), ('Praha', 1100000,200), ('Hradec Kralove', 97000,200), ('Ostrava', 280000,652), ('Kolin', 57000,652)]\n",
    "#sorted in asc order by area and desc order by population\n",
    "print(sorted(sorted(x,key=lambda x:x[2]),key=lambda x:x[1],reverse=True ))\n"
   ]
  },
  {
   "cell_type": "code",
   "execution_count": 71,
   "id": "5c4919ec-594d-4cff-9b06-e296fcc77ca9",
   "metadata": {},
   "outputs": [
    {
     "name": "stdout",
     "output_type": "stream",
     "text": [
      "[16, 4489, 9, 3136, 4, 81]\n",
      "[16, 4489, 9, 3136, 4, 81]\n"
     ]
    }
   ],
   "source": [
    "numbers=[4,67,-3,56,-2,9]\n",
    "L2=[]\n",
    "for x in numbers:\n",
    "    L2.append(x**2) #this is what I append\n",
    "print(L2)\n",
    "L3=[ x**2 for x in numbers ]  #stil what we can achieve by map\n",
    "print(L3)"
   ]
  },
  {
   "cell_type": "code",
   "execution_count": 73,
   "id": "87b97b52-59b7-45e8-a9b8-c3b57a142e29",
   "metadata": {},
   "outputs": [
    {
     "name": "stdout",
     "output_type": "stream",
     "text": [
      "[16, 4489, 3136, 81]\n",
      "[16, 4489, 3136, 81]\n"
     ]
    }
   ],
   "source": [
    "numbers=[4,67,-3,56,-2,9]\n",
    "L2=[]\n",
    "for x in numbers:\n",
    "    if x>0:\n",
    "        L2.append(x**2) #this is what I append\n",
    "print(L2) #map and filter\n",
    "L3=[ x**2 for x in numbers if x>0 ]\n",
    "print(L3)"
   ]
  },
  {
   "cell_type": "code",
   "execution_count": 76,
   "id": "8a3b847a-1aa0-48b2-8f8d-036be3b35035",
   "metadata": {},
   "outputs": [
    {
     "name": "stdout",
     "output_type": "stream",
     "text": [
      "AT: Linz, Graz\n",
      "CZ: Kolin, Hradec Kralove, Ostrava, Brno, Praha\n",
      "DE: Berlin\n",
      "SK: Zilina, Kosice, Bratislava\n"
     ]
    }
   ],
   "source": [
    "lines=['CZ,Brno,395000','CZ,Praha,1100000','SK,Kosice,185000','AT,Linz,78000','DE,Berlin,6300000','CZ,Hradec Kralove,97000',\n",
    "       'SK,Bratislava,403000','SK,Zilina,65000','CZ,Ostrava,280000','CZ,Kolin,57000','AT,Graz,91000']\n",
    "#please filter out cities with less than 90000 citizens\n",
    "countries=dict()  #{} prefer function call for empty containers\n",
    "for line in lines:\n",
    "    code,city,population=line.split(',')\n",
    "    countries.setdefault(code,[]).append((city,int(population)))\n",
    "#print(countries)\n",
    "for country in sorted(countries):\n",
    "    #print(country,': ',', '.join(map(lambda x:x[0],sorted(countries[country],key=lambda x:x[1]))),sep='')\n",
    "    print(country,': ',', '.join([ x[0] for x in sorted(countries[country],key=lambda x:x[1])]),sep='')"
   ]
  },
  {
   "cell_type": "code",
   "execution_count": 77,
   "id": "e4a99f68-e35a-4669-bfe8-e2b1b445904b",
   "metadata": {},
   "outputs": [
    {
     "name": "stdout",
     "output_type": "stream",
     "text": [
      "AT: Graz\n",
      "CZ: Hradec Kralove, Ostrava, Brno, Praha\n",
      "DE: Berlin\n",
      "SK: Kosice, Bratislava\n"
     ]
    }
   ],
   "source": [
    "lines=['CZ,Brno,395000','CZ,Praha,1100000','SK,Kosice,185000','AT,Linz,78000','DE,Berlin,6300000','CZ,Hradec Kralove,97000',\n",
    "       'SK,Bratislava,403000','SK,Zilina,65000','CZ,Ostrava,280000','CZ,Kolin,57000','AT,Graz,91000']\n",
    "#please filter out cities with less than 90000 citizens\n",
    "countries=dict()  #{} prefer function call for empty containers\n",
    "for line in lines:\n",
    "    code,city,population=line.split(',')\n",
    "    countries.setdefault(code,[]).append((city,int(population)))\n",
    "#print(countries)\n",
    "for country in sorted(countries):\n",
    "    #print(country,': ',', '.join(map(lambda x:x[0],sorted(countries[country],key=lambda x:x[1]))),sep='')\n",
    "    print(country,': ',', '.join([ x[0] for x in sorted(countries[country],key=lambda x:x[1]) if x[1]>=90000]),sep='')"
   ]
  },
  {
   "cell_type": "code",
   "execution_count": 81,
   "id": "b918625e-2b50-4482-9aa4-933dbd7ab344",
   "metadata": {},
   "outputs": [
    {
     "name": "stdout",
     "output_type": "stream",
     "text": [
      "['JAN', 'EVA']\n",
      "['JAN', 'EVA', 'ADAM']\n",
      "['ADAM']\n"
     ]
    }
   ],
   "source": [
    "names=['jan','eva','adam']\n",
    "print([x.upper() for x in names[:-1]])\n",
    "print([x.upper() for x in names])\n",
    "print([x.upper() for x in names if len(x)>3])\n"
   ]
  },
  {
   "cell_type": "code",
   "execution_count": 85,
   "id": "1554674d-82e1-4c62-8d0c-aa8d86087ca3",
   "metadata": {},
   "outputs": [
    {
     "name": "stdout",
     "output_type": "stream",
     "text": [
      "[2, 4, 6, 78, 7, 11, -2, 5, 0, -66, 123]\n",
      "2 4 6 78 7 11 -2 5 0 -66 123 "
     ]
    }
   ],
   "source": [
    "L=[ [2,4,6,78], [7,11,-2], [5], [0,-66,123] ]\n",
    "flat_list=[x for sublist in L for x in sublist ]\n",
    "print(flat_list)\n",
    "for sublist in L:\n",
    "    #print(sublist)\n",
    "    for x in sublist:\n",
    "        print(x,end=' ')"
   ]
  },
  {
   "cell_type": "code",
   "execution_count": 86,
   "id": "c8aab399-8853-43db-87ea-15aea68f2997",
   "metadata": {},
   "outputs": [
    {
     "data": {
      "text/plain": [
       "[0, 2, 4, 6, 8]"
      ]
     },
     "execution_count": 86,
     "metadata": {},
     "output_type": "execute_result"
    }
   ],
   "source": [
    "[n for n in range(10) if n%2==0]"
   ]
  },
  {
   "cell_type": "code",
   "execution_count": 96,
   "id": "26622064-05a7-405f-a273-b549552f42e7",
   "metadata": {},
   "outputs": [
    {
     "name": "stdout",
     "output_type": "stream",
     "text": [
      "['Aš', 'Brno', 'Břeclav', 'Cheb', 'Cínovec', 'Hodonín', 'Kolín', 'Ostrava', 'Rokytno', 'České Budějovice', 'Žilina']\n",
      "['Aš', 'Brno', 'Břeclav', 'Cínovec', 'České Budějovice', 'Hodonín', 'Cheb', 'Kolín', 'Ostrava', 'Rokytno', 'Žilina']\n",
      "\u000e\t\u000e\u000ep\u000e|\u0001\u0001\u0012\u0001\u0001\n",
      "\u000e6\u000e|\u000eH\u000e2\u000ep\u0001\u0002\u0002\u0002\u000e\u0001\u0012\u0001\u0001\n",
      "\u000e\f",
      "\n",
      "\u000e!\u000e\u000e6\u000e!\u0007\u0002\u000e\t\u000e\u000e\u001a\u000e!\u000e5\u000e|\u000e¢\u000e2\u000e\n",
      "\u000e!\u0001\u0002\u0002\u0002\u0002\u000e\u0002\u0002\u0002\u0002\u0014\u0001\u0012\u0002\u0002\u0002\u0002\u0002\u0012\u0001\u0001\n",
      "\u000e­\u000e2\u000eH\u000e2\u000ep\u000e\u0002\u0001\u0001\u0012\u0001\u0001\n",
      "\u000e|\u000e\u000e\u000e\u000e\u0002\u000e¢\u000e\u0002\u0001\u0001\u0012\u0001\u0001\n",
      "\u000e\t\u000e\u000e!\u000e\n",
      "\u000eH\u000e\u0002\u000e¢\u0001\u0001\u0012\u0001\u0001\n",
      "\u000e\u0002\u000e\u0001\u0001\u0012\u0001\u0001\n",
      "\u000e\u000e|\u000e6\u000e§\u000e\u000ep\u000e|\u0001\u0001\u0012\u0001\u0001\n",
      "\u000e.\u000e!\u000e\t\u0001\u0001\u0012\u0001\u0001\n",
      "\u000e,\u000e|\u000e\u001a\u000e|\u000ep\u000e2\u000ep\u0001\u0002\u0002\u0002\u0002\u0002\u000e\u0001\u0012\u0001\u0001\n",
      "\u000e\n",
      "\u000e2\u000ep\u000e|\u000e¢\u000e!\u000e\n",
      "\u0001\u0002\u000e\u0001\u0012\u0001\u0001\n"
     ]
    }
   ],
   "source": [
    "cities=['Brno','Kolín','České Budějovice','Žilina','Ostrava','Břeclav','Aš','Rokytno','Cheb',\n",
    "        'Hodonín','Cínovec']\n",
    "print(sorted(cities))\n",
    "import locale\n",
    "locale.setlocale(locale.LC_ALL,'cs_CZ.UTF-8')\n",
    "print(sorted(cities,key=locale.strxfrm))\n",
    "for x in cities:\n",
    "    print(locale.strxfrm(x))\n"
   ]
  },
  {
   "cell_type": "code",
   "execution_count": 97,
   "id": "8fa559c3-98a7-4a6e-9ff3-e6726970cdca",
   "metadata": {},
   "outputs": [
    {
     "name": "stdout",
     "output_type": "stream",
     "text": [
      "['Aš', 'Brno', 'Břeclav', 'Cheb', 'Cínovec', 'Hodonín', 'Kolín', 'Ostrava', 'Rokytno', 'České Budějovice', 'Žilina']\n",
      "['Aš', 'Břeclav', 'Brno', 'České Budějovice', 'Cheb', 'Cínovec', 'Hodonín', 'Kolín', 'Ostrava', 'Rokytno', 'Žilina']\n",
      "\u000e\t\u000e\u000ep\u000e|\u0001\u0001\u0012\u0001\u0001\n",
      "\u000e6\u000e|\u000eH\u000e2\u000ep\u0001\u0002\u0002\u0002\u000e\u0001\u0012\u0001\u0001\n",
      "\u000e\n",
      "\u000e!\u000e\u000e6\u000e!\u0007\u0002\u000e\t\u000e\u000e\u001a\u000e!\u000e5\u000e|\u000e¢\u000e2\u000e\n",
      "\u000e!\u0001\u0014\u0002\u0002\u0002\u000e\u0002\u0002\u0002\u0002\u0014\u0001\u0012\u0002\u0002\u0002\u0002\u0002\u0012\u0001\u0001\n",
      "\u000e©\u000e2\u000eH\u000e2\u000ep\u000e\u0002\u0001\u0014\u0001\u0012\u0001\u0001\n",
      "\u000e|\u000e\u000e\u000e\u000e\u0002\u000e¢\u000e\u0002\u0001\u0001\u0012\u0001\u0001\n",
      "\u000e\t\u000e\u000e!\u000e\n",
      "\u000eH\u000e\u0002\u000e¢\u0001\u0002\u0014\u0001\u0012\u0001\u0001\n",
      "\u000e\u0002\u000e\u0001\u0002\u0014\u0001\u0012\u0001\u0001\n",
      "\u000e\u000e|\u000e6\u000e§\u000e\u000ep\u000e|\u0001\u0001\u0012\u0001\u0001\n",
      "\u000e\n",
      "\u000e,\u000e!\u000e\t\u0001\u0001\u0012\u0001\u0001\n",
      "\u000e,\u000e|\u000e\u001a\u000e|\u000ep\u000e2\u000ep\u0001\u0002\u0002\u0002\u0002\u0002\u000e\u0001\u0012\u0001\u0001\n",
      "\u000e\n",
      "\u000e2\u000ep\u000e|\u000e¢\u000e!\u000e\n",
      "\u0001\u0002\u000e\u0001\u0012\u0001\u0001\n"
     ]
    }
   ],
   "source": [
    "cities=['Brno','Kolín','České Budějovice','Žilina','Ostrava','Břeclav','Aš','Rokytno','Cheb',\n",
    "        'Hodonín','Cínovec']\n",
    "print(sorted(cities))\n",
    "import locale\n",
    "locale.setlocale(locale.LC_ALL,'it_IT.UTF-8')\n",
    "print(sorted(cities,key=locale.strxfrm))\n",
    "for x in cities:\n",
    "    print(locale.strxfrm(x))\n"
   ]
  },
  {
   "cell_type": "code",
   "execution_count": 100,
   "id": "0d250a16-3b03-4d5c-8a74-424227daf5e3",
   "metadata": {},
   "outputs": [
    {
     "name": "stdout",
     "output_type": "stream",
     "text": [
      "['Muṃbaī', 'Naī Dillī']\n",
      "['Muṃbaī', 'Naī Dillī']\n",
      "\u000ep\u000e\u0002\u000e2\u0007\u0002\u000e\u001a\u000e2\u000eH\u000eH\u000e2\u0001\u0002\u0002\u0017\u0002\u0002\u0002\u0002\u0002\u0017\u0001\u0012\u0002\u0002\u0002\u0012\u0001\u0001\n",
      "\u000eQ\u000e\u000eQ\u000e\t\u000e\u0002\u000e2\u0001\u0002\u0002X\u0002\u0002\u0017\u0001\u0012\u0001\u0001\n"
     ]
    }
   ],
   "source": [
    "cities=['Naī Dillī','Muṃbaī']\n",
    "print(sorted(cities))\n",
    "import locale\n",
    "locale.setlocale(locale.LC_ALL,'in_IN.UTF-8')\n",
    "print(sorted(cities,key=locale.strxfrm))\n",
    "for x in cities:\n",
    "    print(locale.strxfrm(x))"
   ]
  },
  {
   "cell_type": "code",
   "execution_count": 106,
   "id": "05c6398e-63d7-4043-bf95-d1a577e27e19",
   "metadata": {},
   "outputs": [
    {
     "name": "stdout",
     "output_type": "stream",
     "text": [
      "['C:\\\\Users\\\\Student\\\\Documents', 'C:\\\\Users\\\\Student\\\\anaconda3\\\\python311.zip', 'C:\\\\Users\\\\Student\\\\anaconda3\\\\DLLs', 'C:\\\\Users\\\\Student\\\\anaconda3\\\\Lib', 'C:\\\\Users\\\\Student\\\\anaconda3', '', 'C:\\\\Users\\\\Student\\\\anaconda3\\\\Lib\\\\site-packages', 'C:\\\\Users\\\\Student\\\\anaconda3\\\\Lib\\\\site-packages\\\\win32', 'C:\\\\Users\\\\Student\\\\anaconda3\\\\Lib\\\\site-packages\\\\win32\\\\lib', 'C:\\\\Users\\\\Student\\\\anaconda3\\\\Lib\\\\site-packages\\\\Pythonwin']\n",
      "C:\\Users\\Student\\Documents\n"
     ]
    }
   ],
   "source": [
    "#modules\n",
    "import sys\n",
    "print(sys.path)\n",
    "import os\n",
    "print(os.getcwd())"
   ]
  },
  {
   "cell_type": "code",
   "execution_count": 1,
   "id": "557c385c-99ad-4641-a1a0-c82aaf8a58c3",
   "metadata": {},
   "outputs": [
    {
     "name": "stdout",
     "output_type": "stream",
     "text": [
      "AT: Linz, Graz\n",
      "CZ: As, Kolin, Ostrava, Brno, Praha\n",
      "DE: Berlin\n",
      "SK: Zilina, Kosice, Bratislava\n"
     ]
    }
   ],
   "source": [
    "lines=['CZ,Brno,395000','CZ,Praha,1100000','SK,Kosice,185000','AT,Linz,78000','DE,Berlin,6300000','CZ,Hradec Kralove,97000',\n",
    "       'SK,Bratislava,403000','SK,Zilina,65000','CZ,Ostrava,280000','CZ,Kolin,57000','AT,Graz,91000',\n",
    "        '12,Hodonin,12345','','CZ,12345,67888','SK,Trnava,ahoj','CZ;Plzen,897','AB,Abc,2345,986',\n",
    "        'CZ,Ceske Budejovice,174000','CZ,As,7600']\n",
    "#please filter out cities with less than 90000 citizens\n",
    "from gopas import validate_city_line\n",
    "countries=dict()  #{} prefer function call for empty containers\n",
    "for line in lines:\n",
    "    code,city,population=validate_city_line(line)\n",
    "    if code:\n",
    "        countries.setdefault(code,[]).append((city,int(population)))\n",
    "#print(countries)\n",
    "for country in sorted(countries):\n",
    "    #print(country,': ',', '.join(map(lambda x:x[0],sorted(countries[country],key=lambda x:x[1]))),sep='')\n",
    "    print(country,': ',', '.join([ x[0] for x in sorted(countries[country],key=lambda x:x[1])]),sep='')"
   ]
  },
  {
   "cell_type": "code",
   "execution_count": 130,
   "id": "b36981aa-e9ef-48ae-b844-3ba272a08922",
   "metadata": {},
   "outputs": [],
   "source": [
    "def validate_city_line(line,delimiter=','):\n",
    "    x=line.split(delimiter)\n",
    "    if len(x)!=3:\n",
    "        return None,None,None\n",
    "    if not ( x[0].isascii() and x[0].isupper() and len(x[0])==2):\n",
    "        return None,None,None\n",
    "    if not (len(x[2])>0 and x[2].isdigit()):\n",
    "        return None,None,None\n",
    "    if not( len(x[1])>1 and x[1][0].isupper() and x[1][1].islower() ):\n",
    "        return None,None,None\n",
    "    return x"
   ]
  },
  {
   "cell_type": "code",
   "execution_count": 117,
   "id": "97148ade-f4ab-442f-bbc1-a6bb20dbeea9",
   "metadata": {},
   "outputs": [
    {
     "name": "stdout",
     "output_type": "stream",
     "text": [
      "correct country code\n"
     ]
    }
   ],
   "source": [
    "x='CZ'\n",
    "if x.isupper() and x.isascii() and len(x)==2:\n",
    "    print('correct country code')\n",
    "    "
   ]
  },
  {
   "cell_type": "code",
   "execution_count": 119,
   "id": "d6c8876c-c4e8-4ac8-a392-920c6cd16f57",
   "metadata": {},
   "outputs": [
    {
     "name": "stdout",
     "output_type": "stream",
     "text": [
      "dasfsdaffd\n",
      "    sadfsa'fsdafsdafdsaf\n",
      "    sfdsadfsa\n"
     ]
    }
   ],
   "source": [
    "def f():\n",
    "    \"\"\"dasfsdaffd\n",
    "    sadfsa'fsdafsdafdsaf\n",
    "    sfdsadfsa\"\"\"\n",
    "    return 123\n",
    "\n",
    "#help(f)\n",
    "print(f.__doc__)"
   ]
  },
  {
   "cell_type": "code",
   "execution_count": 2,
   "id": "39cfdc57-1607-4958-aca3-23d43a533c49",
   "metadata": {},
   "outputs": [
    {
     "name": "stdout",
     "output_type": "stream",
     "text": [
      "CZ,Brno,395000\n",
      "CZ,Praha,1100000\n",
      "SK,Kosice,185000\n",
      "AT,Linz,78000\n",
      "DE,Berlin,6300000\n",
      "CZ,Hradec Kralove,97000\n",
      "SK,Bratislava,403000\n",
      "SK,Zilina,65000\n",
      "CZ,Ostrava,280000\n",
      "CZ,Kolin,57000\n",
      "AT,Graz,91000\n",
      "12,Hodonin,12345\n",
      "\n",
      "CZ,12345,67888\n",
      "SK,Trnava,ahoj\n",
      "CZ;Plzen,897\n",
      "AB,Abc,2345,986\n",
      "CZ,Ceske Budejovice,174000\n",
      "CZ,As,7600\n"
     ]
    }
   ],
   "source": [
    "lines=['CZ,Brno,395000','CZ,Praha,1100000','SK,Kosice,185000','AT,Linz,78000','DE,Berlin,6300000','CZ,Hradec Kralove,97000',\n",
    "       'SK,Bratislava,403000','SK,Zilina,65000','CZ,Ostrava,280000','CZ,Kolin,57000','AT,Graz,91000',\n",
    "        '12,Hodonin,12345','','CZ,12345,67888','SK,Trnava,ahoj','CZ;Plzen,897','AB,Abc,2345,986',\n",
    "        'CZ,Ceske Budejovice,174000','CZ,As,7600']\n",
    "print(*lines,sep='\\n')"
   ]
  },
  {
   "cell_type": "code",
   "execution_count": 6,
   "id": "7ec20c92-8912-4947-b542-a39398bca53d",
   "metadata": {},
   "outputs": [
    {
     "name": "stdout",
     "output_type": "stream",
     "text": [
      "['CZ', 'Brno', '395000']\n",
      "['CZ', 'Praha', '1100000']\n",
      "['SK', 'Kosice', '185000']\n",
      "['AT', 'Linz', '78000']\n",
      "['DE', 'Berlin', '6300000']\n",
      "['CZ', 'Hradec Kralove', '97000']\n",
      "['SK', 'Bratislava', '403000']\n",
      "['SK', 'Zilina', '65000']\n",
      "['CZ', 'Ostrava', '280000']\n",
      "['CZ', 'Kolin', '57000']\n",
      "['AT', 'Graz', '91000']\n",
      "['CZ', 'Ceske Budejovice', '174000']\n",
      "['CZ', 'As', '7600']\n"
     ]
    }
   ],
   "source": [
    "lines=['CZ,Brno,395000','CZ,Praha,1100000','SK,Kosice,185000','AT,Linz,78000','DE,Berlin,6300000','CZ,Hradec Kralove,97000',\n",
    "       'SK,Bratislava,403000','SK,Zilina,65000','CZ,Ostrava,280000','CZ,Kolin,57000','AT,Graz,91000',\n",
    "        '12,Hodonin,12345','','CZ,12345,67888','SK,Trnava,ahoj','CZ;Plzen,897','AB,Abc,2345,986',\n",
    "        'CZ,Ceske Budejovice,174000','CZ,As,7600']\n",
    "import re\n",
    "for line in lines:\n",
    "    if re.search(r'^[A-Z]{2},[A-Z][a-z]+( [A-Za-z][a-z]*)*,[0-9]+$',line):\n",
    "        print(line.split(','))"
   ]
  },
  {
   "cell_type": "code",
   "execution_count": 14,
   "id": "5b364022-f999-46b4-a079-998abd81f47e",
   "metadata": {},
   "outputs": [
    {
     "name": "stdout",
     "output_type": "stream",
     "text": [
      "<class 're.Match'> ['__class__', '__class_getitem__', '__copy__', '__deepcopy__', '__delattr__', '__dir__', '__doc__', '__eq__', '__format__', '__ge__', '__getattribute__', '__getitem__', '__getstate__', '__gt__', '__hash__', '__init__', '__init_subclass__', '__le__', '__lt__', '__module__', '__ne__', '__new__', '__reduce__', '__reduce_ex__', '__repr__', '__setattr__', '__sizeof__', '__str__', '__subclasshook__', 'end', 'endpos', 'expand', 'group', 'groupdict', 'groups', 'lastgroup', 'lastindex', 'pos', 're', 'regs', 'span', 'start', 'string']\n",
      "('CZ', 'Brno', '395000')\n",
      "<class 're.Match'> ['__class__', '__class_getitem__', '__copy__', '__deepcopy__', '__delattr__', '__dir__', '__doc__', '__eq__', '__format__', '__ge__', '__getattribute__', '__getitem__', '__getstate__', '__gt__', '__hash__', '__init__', '__init_subclass__', '__le__', '__lt__', '__module__', '__ne__', '__new__', '__reduce__', '__reduce_ex__', '__repr__', '__setattr__', '__sizeof__', '__str__', '__subclasshook__', 'end', 'endpos', 'expand', 'group', 'groupdict', 'groups', 'lastgroup', 'lastindex', 'pos', 're', 'regs', 'span', 'start', 'string']\n",
      "('CZ', 'Praha', '1100000')\n",
      "<class 're.Match'> ['__class__', '__class_getitem__', '__copy__', '__deepcopy__', '__delattr__', '__dir__', '__doc__', '__eq__', '__format__', '__ge__', '__getattribute__', '__getitem__', '__getstate__', '__gt__', '__hash__', '__init__', '__init_subclass__', '__le__', '__lt__', '__module__', '__ne__', '__new__', '__reduce__', '__reduce_ex__', '__repr__', '__setattr__', '__sizeof__', '__str__', '__subclasshook__', 'end', 'endpos', 'expand', 'group', 'groupdict', 'groups', 'lastgroup', 'lastindex', 'pos', 're', 'regs', 'span', 'start', 'string']\n",
      "('SK', 'Kosice', '185000')\n",
      "<class 're.Match'> ['__class__', '__class_getitem__', '__copy__', '__deepcopy__', '__delattr__', '__dir__', '__doc__', '__eq__', '__format__', '__ge__', '__getattribute__', '__getitem__', '__getstate__', '__gt__', '__hash__', '__init__', '__init_subclass__', '__le__', '__lt__', '__module__', '__ne__', '__new__', '__reduce__', '__reduce_ex__', '__repr__', '__setattr__', '__sizeof__', '__str__', '__subclasshook__', 'end', 'endpos', 'expand', 'group', 'groupdict', 'groups', 'lastgroup', 'lastindex', 'pos', 're', 'regs', 'span', 'start', 'string']\n",
      "('AT', 'Linz', '78000')\n",
      "<class 're.Match'> ['__class__', '__class_getitem__', '__copy__', '__deepcopy__', '__delattr__', '__dir__', '__doc__', '__eq__', '__format__', '__ge__', '__getattribute__', '__getitem__', '__getstate__', '__gt__', '__hash__', '__init__', '__init_subclass__', '__le__', '__lt__', '__module__', '__ne__', '__new__', '__reduce__', '__reduce_ex__', '__repr__', '__setattr__', '__sizeof__', '__str__', '__subclasshook__', 'end', 'endpos', 'expand', 'group', 'groupdict', 'groups', 'lastgroup', 'lastindex', 'pos', 're', 'regs', 'span', 'start', 'string']\n",
      "('DE', 'Berlin', '6300000')\n",
      "<class 're.Match'> ['__class__', '__class_getitem__', '__copy__', '__deepcopy__', '__delattr__', '__dir__', '__doc__', '__eq__', '__format__', '__ge__', '__getattribute__', '__getitem__', '__getstate__', '__gt__', '__hash__', '__init__', '__init_subclass__', '__le__', '__lt__', '__module__', '__ne__', '__new__', '__reduce__', '__reduce_ex__', '__repr__', '__setattr__', '__sizeof__', '__str__', '__subclasshook__', 'end', 'endpos', 'expand', 'group', 'groupdict', 'groups', 'lastgroup', 'lastindex', 'pos', 're', 'regs', 'span', 'start', 'string']\n",
      "('CZ', 'Hradec Kralove', '97000')\n",
      "<class 're.Match'> ['__class__', '__class_getitem__', '__copy__', '__deepcopy__', '__delattr__', '__dir__', '__doc__', '__eq__', '__format__', '__ge__', '__getattribute__', '__getitem__', '__getstate__', '__gt__', '__hash__', '__init__', '__init_subclass__', '__le__', '__lt__', '__module__', '__ne__', '__new__', '__reduce__', '__reduce_ex__', '__repr__', '__setattr__', '__sizeof__', '__str__', '__subclasshook__', 'end', 'endpos', 'expand', 'group', 'groupdict', 'groups', 'lastgroup', 'lastindex', 'pos', 're', 'regs', 'span', 'start', 'string']\n",
      "('SK', 'Bratislava', '403000')\n",
      "<class 're.Match'> ['__class__', '__class_getitem__', '__copy__', '__deepcopy__', '__delattr__', '__dir__', '__doc__', '__eq__', '__format__', '__ge__', '__getattribute__', '__getitem__', '__getstate__', '__gt__', '__hash__', '__init__', '__init_subclass__', '__le__', '__lt__', '__module__', '__ne__', '__new__', '__reduce__', '__reduce_ex__', '__repr__', '__setattr__', '__sizeof__', '__str__', '__subclasshook__', 'end', 'endpos', 'expand', 'group', 'groupdict', 'groups', 'lastgroup', 'lastindex', 'pos', 're', 'regs', 'span', 'start', 'string']\n",
      "('SK', 'Zilina', '65000')\n",
      "<class 're.Match'> ['__class__', '__class_getitem__', '__copy__', '__deepcopy__', '__delattr__', '__dir__', '__doc__', '__eq__', '__format__', '__ge__', '__getattribute__', '__getitem__', '__getstate__', '__gt__', '__hash__', '__init__', '__init_subclass__', '__le__', '__lt__', '__module__', '__ne__', '__new__', '__reduce__', '__reduce_ex__', '__repr__', '__setattr__', '__sizeof__', '__str__', '__subclasshook__', 'end', 'endpos', 'expand', 'group', 'groupdict', 'groups', 'lastgroup', 'lastindex', 'pos', 're', 'regs', 'span', 'start', 'string']\n",
      "('CZ', 'Ostrava', '280000')\n",
      "<class 're.Match'> ['__class__', '__class_getitem__', '__copy__', '__deepcopy__', '__delattr__', '__dir__', '__doc__', '__eq__', '__format__', '__ge__', '__getattribute__', '__getitem__', '__getstate__', '__gt__', '__hash__', '__init__', '__init_subclass__', '__le__', '__lt__', '__module__', '__ne__', '__new__', '__reduce__', '__reduce_ex__', '__repr__', '__setattr__', '__sizeof__', '__str__', '__subclasshook__', 'end', 'endpos', 'expand', 'group', 'groupdict', 'groups', 'lastgroup', 'lastindex', 'pos', 're', 'regs', 'span', 'start', 'string']\n",
      "('CZ', 'Kolin', '57000')\n",
      "<class 're.Match'> ['__class__', '__class_getitem__', '__copy__', '__deepcopy__', '__delattr__', '__dir__', '__doc__', '__eq__', '__format__', '__ge__', '__getattribute__', '__getitem__', '__getstate__', '__gt__', '__hash__', '__init__', '__init_subclass__', '__le__', '__lt__', '__module__', '__ne__', '__new__', '__reduce__', '__reduce_ex__', '__repr__', '__setattr__', '__sizeof__', '__str__', '__subclasshook__', 'end', 'endpos', 'expand', 'group', 'groupdict', 'groups', 'lastgroup', 'lastindex', 'pos', 're', 'regs', 'span', 'start', 'string']\n",
      "('AT', 'Graz', '91000')\n",
      "<class 're.Match'> ['__class__', '__class_getitem__', '__copy__', '__deepcopy__', '__delattr__', '__dir__', '__doc__', '__eq__', '__format__', '__ge__', '__getattribute__', '__getitem__', '__getstate__', '__gt__', '__hash__', '__init__', '__init_subclass__', '__le__', '__lt__', '__module__', '__ne__', '__new__', '__reduce__', '__reduce_ex__', '__repr__', '__setattr__', '__sizeof__', '__str__', '__subclasshook__', 'end', 'endpos', 'expand', 'group', 'groupdict', 'groups', 'lastgroup', 'lastindex', 'pos', 're', 'regs', 'span', 'start', 'string']\n",
      "('CZ', 'Ceske Budejovice', '174000')\n",
      "<class 're.Match'> ['__class__', '__class_getitem__', '__copy__', '__deepcopy__', '__delattr__', '__dir__', '__doc__', '__eq__', '__format__', '__ge__', '__getattribute__', '__getitem__', '__getstate__', '__gt__', '__hash__', '__init__', '__init_subclass__', '__le__', '__lt__', '__module__', '__ne__', '__new__', '__reduce__', '__reduce_ex__', '__repr__', '__setattr__', '__sizeof__', '__str__', '__subclasshook__', 'end', 'endpos', 'expand', 'group', 'groupdict', 'groups', 'lastgroup', 'lastindex', 'pos', 're', 'regs', 'span', 'start', 'string']\n",
      "('CZ', 'As', '7600')\n"
     ]
    }
   ],
   "source": [
    "lines=['CZ,Brno,395000','CZ,Praha,1100000','SK,Kosice,185000','AT,Linz,78000','DE,Berlin,6300000','CZ,Hradec Kralove,97000',\n",
    "       'SK,Bratislava,403000','SK,Zilina,65000','CZ,Ostrava,280000','CZ,Kolin,57000','AT,Graz,91000',\n",
    "        '12,Hodonin,12345','','CZ,12345,67888','SK,Trnava,ahoj','CZ;Plzen,897','AB,Abc,2345,986',\n",
    "        'CZ,Ceske Budejovice,174000','CZ,As,7600']\n",
    "import re\n",
    "for line in lines:\n",
    "    m=re.search(r'^([A-Z]{2}),([A-Z][a-z]+(?: [A-Za-z][a-z]*)*),([0-9]+)$',line)\n",
    "    if m:\n",
    "        print(type(m))#,dir(m))\n",
    "        #print(line.split(','))\n",
    "        print(m.groups())"
   ]
  },
  {
   "cell_type": "code",
   "execution_count": 16,
   "id": "874ff2cb-69d3-4d31-8b93-d073d3820e65",
   "metadata": {},
   "outputs": [
    {
     "name": "stdout",
     "output_type": "stream",
     "text": [
      "6\n"
     ]
    },
    {
     "ename": "IndexError",
     "evalue": "list index out of range",
     "output_type": "error",
     "traceback": [
      "\u001b[1;31m---------------------------------------------------------------------------\u001b[0m",
      "\u001b[1;31mIndexError\u001b[0m                                Traceback (most recent call last)",
      "Cell \u001b[1;32mIn[16], line 4\u001b[0m\n\u001b[0;32m      2\u001b[0m numbers\u001b[38;5;241m=\u001b[39m[\u001b[38;5;241m3\u001b[39m,\u001b[38;5;241m54\u001b[39m,\u001b[38;5;241m6\u001b[39m,\u001b[38;5;241m99\u001b[39m]\n\u001b[0;32m      3\u001b[0m \u001b[38;5;28mprint\u001b[39m(numbers[\u001b[38;5;241m2\u001b[39m])\n\u001b[1;32m----> 4\u001b[0m \u001b[38;5;28mprint\u001b[39m(numbers[\u001b[38;5;241m21\u001b[39m])\n",
      "\u001b[1;31mIndexError\u001b[0m: list index out of range"
     ]
    }
   ],
   "source": [
    "#exceptions\n",
    "numbers=[3,54,6,99]\n",
    "print(numbers[2])\n",
    "print(numbers[21])\n"
   ]
  },
  {
   "cell_type": "code",
   "execution_count": 25,
   "id": "3317a504-8d57-4c70-96ba-0008259aa940",
   "metadata": {},
   "outputs": [
    {
     "name": "stdout",
     "output_type": "stream",
     "text": [
      "There was an error <class 'ZeroDivisionError'> division by zero\n"
     ]
    }
   ],
   "source": [
    "a=10\n",
    "b=0\n",
    "try:\n",
    "    c=a/b\n",
    "    print(c)\n",
    "except ZeroDivisionError as ex:\n",
    "    print('There was an error',type(ex),ex)"
   ]
  },
  {
   "cell_type": "code",
   "execution_count": 24,
   "id": "0658fbe3-ca7d-444b-8f55-f0361c1d809e",
   "metadata": {},
   "outputs": [],
   "source": [
    "a=10\n",
    "b=0\n",
    "if b!=0:\n",
    "    c=a/b\n",
    "    print(c)"
   ]
  },
  {
   "cell_type": "code",
   "execution_count": 27,
   "id": "0a3d1bc9-d0fc-41bc-a62d-f2cee048649a",
   "metadata": {},
   "outputs": [
    {
     "name": "stdout",
     "output_type": "stream",
     "text": [
      "{'CZ': ['Brno', 'Praha', 'Hradec Kralove', 'Ostrava', 'Kolin'], 'SK': ['Kosice', 'Bratislava', 'Zilina'], 'AT': ['Linz', 'Graz'], 'DE': ['Berlin']}\n",
      "AT: Graz, Linz\n",
      "CZ: Brno, Hradec Kralove, Kolin, Ostrava, Praha\n",
      "DE: Berlin\n",
      "SK: Bratislava, Kosice, Zilina\n"
     ]
    }
   ],
   "source": [
    "lines=['CZ,Brno','CZ,Praha','SK,Kosice','AT,Linz','DE,Berlin','CZ,Hradec Kralove','SK,Bratislava',\n",
    "      'SK,Zilina','CZ,Ostrava','CZ,Kolin','AT,Graz']\n",
    "countries=dict()  #{} prefer function call for empty containers\n",
    "for line in lines:\n",
    "    code,city=line.split(',')\n",
    "    try:\n",
    "        countries[code].append(city)\n",
    "    except KeyError:\n",
    "        countries[code]=[city]\n",
    "print(countries)\n",
    "for country in sorted(countries):\n",
    "    print(country,': ',', '.join(sorted(countries[country])),sep='')"
   ]
  },
  {
   "cell_type": "code",
   "execution_count": 34,
   "id": "a49e375a-013b-424b-97d6-11731ba98808",
   "metadata": {},
   "outputs": [
    {
     "name": "stdout",
     "output_type": "stream",
     "text": [
      "No exception\n",
      "Finishing\n"
     ]
    }
   ],
   "source": [
    "try:\n",
    "    #raise KeyError\n",
    "    i=10/1\n",
    "    \n",
    "except KeyError:\n",
    "    pass\n",
    "except IndexError:\n",
    "    print('index error')\n",
    "except Exception as ex:\n",
    "    print('Catched exception',ex,type(ex))\n",
    "else:\n",
    "    print('No exception')\n",
    "finally:\n",
    "    print('Finishing')"
   ]
  },
  {
   "cell_type": "code",
   "execution_count": 43,
   "id": "eb3243c4-79db-492a-ab68-0706f89a77a2",
   "metadata": {},
   "outputs": [
    {
     "name": "stdout",
     "output_type": "stream",
     "text": [
      "CZ,Brno,395000\n",
      "CZ,Praha,1100000\n",
      "SK,Kosice,185000\n",
      "AT,Linz,78000\n",
      "DE,Berlin,6300000\n",
      "CZ,Hradec Kralove,97000\n",
      "SK,Bratislava,403000\n",
      "SK,Zilina,65000\n",
      "CZ,Ostrava,280000\n",
      "CZ,Kolin,57000\n",
      "AT,Graz,91000\n",
      "12,Hodonin,12345\n",
      "\n",
      "CZ,12345,67888\n",
      "SK,Trnava,ahoj\n",
      "CZ;Plzen,897\n",
      "AB,Abc,2345,986\n",
      "CZ,Ceske Budejovice,174000\n",
      "CZ,As,7600\n"
     ]
    }
   ],
   "source": [
    "#work with files\n",
    "try:\n",
    "    file=open('cities3.txt','rt')\n",
    "except FileNotFoundError:\n",
    "    print('Unable to open file')\n",
    "#s=open(r'e:\\Logins.txt')\n",
    "else:\n",
    "    for line in file:\n",
    "        print(line.rstrip())"
   ]
  },
  {
   "cell_type": "code",
   "execution_count": 49,
   "id": "be9ddefd-8a2d-438d-9bb2-70134286a332",
   "metadata": {},
   "outputs": [],
   "source": [
    "def validate_city_line(line,delimiter=','):\n",
    "    \"\"\"Can raise exception ValueError if there is bad data in line\"\"\"\n",
    "    x=line.split(delimiter)\n",
    "    if len(x)!=3:\n",
    "        raise ValueError(f'Bad number of elements, expected 3, got {len(x)}')\n",
    "    if not ( x[0].isascii() and x[0].isupper() and len(x[0])==2):\n",
    "        raise ValueError('Bad country code')\n",
    "    try:\n",
    "        p=int(x[2])\n",
    "    except:\n",
    "        raise ValueError('Bad population, must be positive integer')\n",
    "    if not( len(x[1])>1 and x[1][0].isupper() and x[1][1].islower() ):\n",
    "        raise ValueError('Bad city name')\n",
    "    return x"
   ]
  },
  {
   "cell_type": "code",
   "execution_count": 46,
   "id": "36573960-4a41-4375-98bc-e8262db6f5e5",
   "metadata": {},
   "outputs": [
    {
     "ename": "ValueError",
     "evalue": "Bad value for population",
     "output_type": "error",
     "traceback": [
      "\u001b[1;31m---------------------------------------------------------------------------\u001b[0m",
      "\u001b[1;31mValueError\u001b[0m                                Traceback (most recent call last)",
      "Cell \u001b[1;32mIn[46], line 1\u001b[0m\n\u001b[1;32m----> 1\u001b[0m \u001b[38;5;28;01mraise\u001b[39;00m \u001b[38;5;167;01mValueError\u001b[39;00m(\u001b[38;5;124m'\u001b[39m\u001b[38;5;124mBad value for population\u001b[39m\u001b[38;5;124m'\u001b[39m)\n",
      "\u001b[1;31mValueError\u001b[0m: Bad value for population"
     ]
    }
   ],
   "source": [
    "raise ValueError('Bad value for population')"
   ]
  },
  {
   "cell_type": "code",
   "execution_count": 51,
   "id": "b8a8df3a-21d8-4771-805a-a3b74f1be9a4",
   "metadata": {},
   "outputs": [
    {
     "name": "stdout",
     "output_type": "stream",
     "text": [
      "Bad line 12,Hodonin,12345 Bad country code\n",
      "Bad line  Bad number of elements, expected 3, got 1\n",
      "Bad line CZ,12345,67888 Bad city name\n",
      "Bad line SK,Trnava,ahoj Bad population, must be positive integer\n",
      "Bad line CZ;Plzen,897 Bad number of elements, expected 3, got 2\n",
      "Bad line AB,Abc,2345,986 Bad number of elements, expected 3, got 4\n",
      "AT: Linz, Graz\n",
      "CZ: As, Kolin, Hradec Kralove, Ceske Budejovice, Ostrava, Brno, Praha\n",
      "DE: Berlin\n",
      "SK: Zilina, Kosice, Bratislava\n"
     ]
    }
   ],
   "source": [
    "lines=['CZ,Brno,395000','CZ,Praha,1100000','SK,Kosice,185000','AT,Linz,78000','DE,Berlin,6300000','CZ,Hradec Kralove,97000',\n",
    "       'SK,Bratislava,403000','SK,Zilina,65000','CZ,Ostrava,280000','CZ,Kolin,57000','AT,Graz,91000',\n",
    "        '12,Hodonin,12345','','CZ,12345,67888','SK,Trnava,ahoj','CZ;Plzen,897','AB,Abc,2345,986',\n",
    "        'CZ,Ceske Budejovice,174000','CZ,As,7600']\n",
    "#please filter out cities with less than 90000 citizens\n",
    "#from gopas import validate_city_line\n",
    "countries=dict()  #{} prefer function call for empty containers\n",
    "for line in lines:\n",
    "    try:\n",
    "        code,city,population=validate_city_line(line)\n",
    "    except ValueError as ex:\n",
    "        print('Bad line',line,ex)\n",
    "    else:\n",
    "        countries.setdefault(code,[]).append((city,int(population)))\n",
    "#print(countries)\n",
    "for country in sorted(countries):\n",
    "    #print(country,': ',', '.join(map(lambda x:x[0],sorted(countries[country],key=lambda x:x[1]))),sep='')\n",
    "    print(country,': ',', '.join([ x[0] for x in sorted(countries[country],key=lambda x:x[1])]),sep='')"
   ]
  }
 ],
 "metadata": {
  "kernelspec": {
   "display_name": "Python 3 (ipykernel)",
   "language": "python",
   "name": "python3"
  },
  "language_info": {
   "codemirror_mode": {
    "name": "ipython",
    "version": 3
   },
   "file_extension": ".py",
   "mimetype": "text/x-python",
   "name": "python",
   "nbconvert_exporter": "python",
   "pygments_lexer": "ipython3",
   "version": "3.11.7"
  }
 },
 "nbformat": 4,
 "nbformat_minor": 5
}
