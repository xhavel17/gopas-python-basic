{
 "cells": [
  {
   "cell_type": "code",
   "execution_count": null,
   "metadata": {},
   "outputs": [],
   "source": [
    "## map and filer"
   ]
  },
  {
   "cell_type": "code",
   "execution_count": 3,
   "metadata": {},
   "outputs": [
    {
     "name": "stdout",
     "output_type": "stream",
     "text": [
      "[3, 56, 77, 12, 6, 7]\n"
     ]
    }
   ],
   "source": [
    "L1 = [3,56,77,\"12\",6,\"7\"]\n",
    "# print(min(L1))\n",
    "L2 = []\n",
    "for item in L1:\n",
    "    L2.append(int(item))\n",
    "\n",
    "print(L2)"
   ]
  },
  {
   "cell_type": "markdown",
   "metadata": {},
   "source": [
    "### using map"
   ]
  },
  {
   "cell_type": "code",
   "execution_count": 6,
   "metadata": {},
   "outputs": [
    {
     "name": "stdout",
     "output_type": "stream",
     "text": [
      "161\n",
      "<map object at 0x000001A99FF29900> [] 0\n"
     ]
    }
   ],
   "source": [
    "L1 = [3,56,77,\"12\",6,\"7\"]\n",
    "L2 = map(int,L1)\n",
    "print(sum(L2))\n",
    "print(L2,list(L2), sum(L2))\n"
   ]
  },
  {
   "cell_type": "code",
   "execution_count": 18,
   "metadata": {},
   "outputs": [
    {
     "name": "stdout",
     "output_type": "stream",
     "text": [
      "['JAN', 'EVA', 'ADAM']\n",
      "['JAN', 'EVA', 'ADAM']\n",
      "{'EVA', 'JAN', 'ADAM'}\n",
      "('JAN', 'EVA', 'ADAM')\n"
     ]
    }
   ],
   "source": [
    "names = ['jan', 'eva', 'adam']\n",
    "L2 = []\n",
    "for item in names:\n",
    "   L2.append(item.upper())\n",
    "\n",
    "print(L2)\n",
    "\n",
    "\n",
    "names = ['jan', 'eva', 'adam']\n",
    "def my_upper(x):\n",
    "   return x.upper()\n",
    "\n",
    "print(list(map(my_upper, names)))\n",
    "print(set(map(my_upper, names)))\n",
    "print(tuple(map(my_upper, names)))"
   ]
  },
  {
   "cell_type": "markdown",
   "metadata": {},
   "source": [
    "## 3.1 Exercise"
   ]
  },
  {
   "cell_type": "code",
   "execution_count": 27,
   "metadata": {},
   "outputs": [
    {
     "name": "stdout",
     "output_type": "stream",
     "text": [
      "{'CZ': [('Brno', 395000), ('Praha', 1100000), ('Hradec Kralove', 97000), ('Ostrava', 280000), ('Kolin', 57000)], 'SK': [('Kosice', 185000), ('Bratislava', 403000), ('Zilina', 65000)], 'AT': [('Linz', 78000), ('Graz', 91000)], 'DE': [('Berlin', 6300000)]}\n",
      "AT: Linz, Graz\n",
      "CZ: Kolin, Hradec Kralove, Ostrava, Brno, Praha\n",
      "DE: Berlin\n",
      "SK: Zilina, Kosice, Bratislava\n"
     ]
    }
   ],
   "source": [
    "lines=['CZ,Brno,395000','CZ,Praha,1100000','SK,Kosice,185000','AT,Linz,78000','DE,Berlin,6300000','CZ,Hradec Kralove,97000',\n",
    "       'SK,Bratislava,403000','SK,Zilina,65000','CZ,Ostrava,280000','CZ,Kolin,57000','AT,Graz,91000']\n",
    "#ex: print in ascending order of country codes, names of coresponding country cities in ascending order by population\n",
    "#separeted in output by ; (comma followed by space), no leading hash sign\n",
    "#AT: Linz, Graz\n",
    "#CZ: Kolin, Hradec Kralove, Ostrava, Brno, Praha\n",
    "#DE: Berlin\n",
    "#SK: Zilina, Kosice, Bratislava\n",
    "countries=dict()  #{} prefer function call for empty containers\n",
    "for line in lines:\n",
    "    code,city,population=line.split(',')\n",
    "    countries.setdefault(code,[]).append((city,int(population)))\n",
    "print(countries)\n",
    "\n",
    "def first_element(x):\n",
    "    return x[0]\n",
    "def second_element(x):\n",
    "    return x[1]\n",
    "\n",
    "for country in sorted(countries):\n",
    "    print(country,': ',', '.join(map(first_element,sorted(countries[country],key=second_element))),sep='')"
   ]
  },
  {
   "cell_type": "code",
   "execution_count": 29,
   "metadata": {},
   "outputs": [
    {
     "name": "stdout",
     "output_type": "stream",
     "text": [
      "[5, 7, 9]\n"
     ]
    }
   ],
   "source": [
    "def add(a,b):\n",
    "    return(a+b)\n",
    "\n",
    "first = [1, 2, 3]\n",
    "second = [4, 5, 6]\n",
    "\n",
    "print(list(map(add,first,second)))\n"
   ]
  },
  {
   "cell_type": "markdown",
   "metadata": {},
   "source": [
    "### filter\n"
   ]
  },
  {
   "cell_type": "code",
   "execution_count": null,
   "metadata": {},
   "outputs": [],
   "source": [
    "numbers = []"
   ]
  },
  {
   "cell_type": "markdown",
   "metadata": {},
   "source": [
    "## 3.2 Exercise"
   ]
  },
  {
   "cell_type": "code",
   "execution_count": 41,
   "metadata": {},
   "outputs": [
    {
     "name": "stdout",
     "output_type": "stream",
     "text": [
      "{'CZ': [('Brno', 395000), ('Praha', 1100000), ('Hradec Kralove', 97000), ('Ostrava', 280000), ('Kolin', 57000)], 'SK': [('Kosice', 185000), ('Bratislava', 403000), ('Zilina', 65000)], 'AT': [('Linz', 78000), ('Graz', 91000)], 'DE': [('Berlin', 6300000)]}\n",
      "AT: Linz, Graz\n"
     ]
    },
    {
     "ename": "TypeError",
     "evalue": "'function' object is not iterable",
     "output_type": "error",
     "traceback": [
      "\u001b[1;31m---------------------------------------------------------------------------\u001b[0m",
      "\u001b[1;31mTypeError\u001b[0m                                 Traceback (most recent call last)",
      "Cell \u001b[1;32mIn[41], line 19\u001b[0m\n\u001b[0;32m     17\u001b[0m \u001b[38;5;28;01mfor\u001b[39;00m country \u001b[38;5;129;01min\u001b[39;00m \u001b[38;5;28msorted\u001b[39m(countries):\n\u001b[0;32m     18\u001b[0m     \u001b[38;5;28mprint\u001b[39m(country,\u001b[38;5;124m'\u001b[39m\u001b[38;5;124m: \u001b[39m\u001b[38;5;124m'\u001b[39m,\u001b[38;5;124m'\u001b[39m\u001b[38;5;124m, \u001b[39m\u001b[38;5;124m'\u001b[39m\u001b[38;5;241m.\u001b[39mjoin(\u001b[38;5;28mmap\u001b[39m(first_element,\u001b[38;5;28msorted\u001b[39m(countries[country],key\u001b[38;5;241m=\u001b[39msecond_element))),sep\u001b[38;5;241m=\u001b[39m\u001b[38;5;124m'\u001b[39m\u001b[38;5;124m'\u001b[39m)\n\u001b[1;32m---> 19\u001b[0m     \u001b[38;5;28mprint\u001b[39m(\u001b[38;5;124m\"\u001b[39m\u001b[38;5;124mlimi \u001b[39m\u001b[38;5;124m\"\u001b[39m, country,\u001b[38;5;124m'\u001b[39m\u001b[38;5;124m: \u001b[39m\u001b[38;5;124m'\u001b[39m,\u001b[38;5;124m'\u001b[39m\u001b[38;5;124m, \u001b[39m\u001b[38;5;124m'\u001b[39m\u001b[38;5;241m.\u001b[39mjoin(\u001b[38;5;28mmap\u001b[39m(first_element,\u001b[38;5;28msorted\u001b[39m(\u001b[38;5;28;43mfilter\u001b[39;49m\u001b[43m(\u001b[49m\u001b[43mcountries\u001b[49m\u001b[43m[\u001b[49m\u001b[43mcountry\u001b[49m\u001b[43m]\u001b[49m\u001b[43m,\u001b[49m\u001b[43msecond_element1\u001b[49m\u001b[43m)\u001b[49m,key\u001b[38;5;241m=\u001b[39msecond_element))),sep\u001b[38;5;241m=\u001b[39m\u001b[38;5;124m'\u001b[39m\u001b[38;5;124m'\u001b[39m)\n",
      "\u001b[1;31mTypeError\u001b[0m: 'function' object is not iterable"
     ]
    }
   ],
   "source": [
    "lines=['CZ,Brno,395000','CZ,Praha,1100000','SK,Kosice,185000','AT,Linz,78000','DE,Berlin,6300000','CZ,Hradec Kralove,97000',\n",
    "       'SK,Bratislava,403000','SK,Zilina,65000','CZ,Ostrava,280000','CZ,Kolin,57000','AT,Graz,91000']\n",
    "countries=dict()  #{} prefer function call for empty containers\n",
    "for line in lines:\n",
    "    code,city,population=line.split(',')\n",
    "    countries.setdefault(code,[]).append((city,int(population)))\n",
    "print(countries)\n",
    "\n",
    "def first_element(x):\n",
    "    return x[0]\n",
    "def second_element(x):\n",
    "    return x[1] \n",
    "def second_element1(x):\n",
    "    return x[1] > 90000\n",
    "\n",
    "    \n",
    "for country in sorted(countries):\n",
    "    print(country,': ',', '.join(map(first_element,sorted(countries[country],key=second_element))),sep='')\n",
    "    print(\"limit \", country,': ',', '.join(map(first_element,sorted(filter(countries[country],second_element1),key=second_element))),sep='')"
   ]
  }
 ],
 "metadata": {
  "kernelspec": {
   "display_name": "Python 3",
   "language": "python",
   "name": "python3"
  },
  "language_info": {
   "codemirror_mode": {
    "name": "ipython",
    "version": 3
   },
   "file_extension": ".py",
   "mimetype": "text/x-python",
   "name": "python",
   "nbconvert_exporter": "python",
   "pygments_lexer": "ipython3",
   "version": "3.12.2"
  }
 },
 "nbformat": 4,
 "nbformat_minor": 2
}
