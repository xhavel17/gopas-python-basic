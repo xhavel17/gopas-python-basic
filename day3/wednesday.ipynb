{
 "cells": [
  {
   "cell_type": "code",
   "execution_count": null,
   "metadata": {},
   "outputs": [],
   "source": [
    "## map and filer"
   ]
  },
  {
   "cell_type": "code",
   "execution_count": 3,
   "metadata": {},
   "outputs": [
    {
     "name": "stdout",
     "output_type": "stream",
     "text": [
      "[3, 56, 77, 12, 6, 7]\n"
     ]
    }
   ],
   "source": [
    "L1 = [3,56,77,\"12\",6,\"7\"]\n",
    "# print(min(L1))\n",
    "L2 = []\n",
    "for item in L1:\n",
    "    L2.append(int(item))\n",
    "\n",
    "print(L2)"
   ]
  },
  {
   "cell_type": "markdown",
   "metadata": {},
   "source": [
    "### using map"
   ]
  },
  {
   "cell_type": "code",
   "execution_count": 6,
   "metadata": {},
   "outputs": [
    {
     "name": "stdout",
     "output_type": "stream",
     "text": [
      "161\n",
      "<map object at 0x000001A99FF29900> [] 0\n"
     ]
    }
   ],
   "source": [
    "L1 = [3,56,77,\"12\",6,\"7\"]\n",
    "L2 = map(int,L1)\n",
    "print(sum(L2))\n",
    "print(L2,list(L2), sum(L2))\n"
   ]
  },
  {
   "cell_type": "code",
   "execution_count": 18,
   "metadata": {},
   "outputs": [
    {
     "name": "stdout",
     "output_type": "stream",
     "text": [
      "['JAN', 'EVA', 'ADAM']\n",
      "['JAN', 'EVA', 'ADAM']\n",
      "{'EVA', 'JAN', 'ADAM'}\n",
      "('JAN', 'EVA', 'ADAM')\n"
     ]
    }
   ],
   "source": [
    "names = ['jan', 'eva', 'adam']\n",
    "L2 = []\n",
    "for item in names:\n",
    "   L2.append(item.upper())\n",
    "\n",
    "print(L2)\n",
    "\n",
    "\n",
    "names = ['jan', 'eva', 'adam']\n",
    "def my_upper(x):\n",
    "   return x.upper()\n",
    "\n",
    "print(list(map(my_upper, names)))\n",
    "print(set(map(my_upper, names)))\n",
    "print(tuple(map(my_upper, names)))"
   ]
  },
  {
   "cell_type": "markdown",
   "metadata": {},
   "source": [
    "## 3.1 Exercise"
   ]
  },
  {
   "cell_type": "code",
   "execution_count": null,
   "metadata": {},
   "outputs": [],
   "source": []
  }
 ],
 "metadata": {
  "kernelspec": {
   "display_name": "Python 3",
   "language": "python",
   "name": "python3"
  },
  "language_info": {
   "codemirror_mode": {
    "name": "ipython",
    "version": 3
   },
   "file_extension": ".py",
   "mimetype": "text/x-python",
   "name": "python",
   "nbconvert_exporter": "python",
   "pygments_lexer": "ipython3",
   "version": "3.12.2"
  }
 },
 "nbformat": 4,
 "nbformat_minor": 2
}
