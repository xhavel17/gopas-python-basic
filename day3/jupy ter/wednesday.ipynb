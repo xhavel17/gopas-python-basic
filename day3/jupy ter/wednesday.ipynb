{
 "cells": [
  {
   "cell_type": "code",
   "execution_count": null,
   "metadata": {},
   "outputs": [],
   "source": [
    "## map and filer"
   ]
  },
  {
   "cell_type": "code",
   "execution_count": 3,
   "metadata": {},
   "outputs": [
    {
     "name": "stdout",
     "output_type": "stream",
     "text": [
      "[3, 56, 77, 12, 6, 7]\n"
     ]
    }
   ],
   "source": [
    "L1 = [3,56,77,\"12\",6,\"7\"]\n",
    "# print(min(L1))\n",
    "L2 = []\n",
    "for item in L1:\n",
    "    L2.append(int(item))\n",
    "\n",
    "print(L2)"
   ]
  },
  {
   "cell_type": "markdown",
   "metadata": {},
   "source": [
    "### using map"
   ]
  },
  {
   "cell_type": "code",
   "execution_count": 6,
   "metadata": {},
   "outputs": [
    {
     "name": "stdout",
     "output_type": "stream",
     "text": [
      "161\n",
      "<map object at 0x000001A99FF29900> [] 0\n"
     ]
    }
   ],
   "source": [
    "L1 = [3,56,77,\"12\",6,\"7\"]\n",
    "L2 = map(int,L1)\n",
    "print(sum(L2))\n",
    "print(L2,list(L2), sum(L2))\n"
   ]
  },
  {
   "cell_type": "code",
   "execution_count": 18,
   "metadata": {},
   "outputs": [
    {
     "name": "stdout",
     "output_type": "stream",
     "text": [
      "['JAN', 'EVA', 'ADAM']\n",
      "['JAN', 'EVA', 'ADAM']\n",
      "{'EVA', 'JAN', 'ADAM'}\n",
      "('JAN', 'EVA', 'ADAM')\n"
     ]
    }
   ],
   "source": [
    "names = ['jan', 'eva', 'adam']\n",
    "L2 = []\n",
    "for item in names:\n",
    "   L2.append(item.upper())\n",
    "\n",
    "print(L2)\n",
    "\n",
    "\n",
    "names = ['jan', 'eva', 'adam']\n",
    "def my_upper(x):\n",
    "   return x.upper()\n",
    "\n",
    "print(list(map(my_upper, names)))\n",
    "print(set(map(my_upper, names)))\n",
    "print(tuple(map(my_upper, names)))"
   ]
  },
  {
   "cell_type": "markdown",
   "metadata": {},
   "source": [
    "## 3.1 Exercise"
   ]
  },
  {
   "cell_type": "code",
   "execution_count": 27,
   "metadata": {},
   "outputs": [
    {
     "name": "stdout",
     "output_type": "stream",
     "text": [
      "{'CZ': [('Brno', 395000), ('Praha', 1100000), ('Hradec Kralove', 97000), ('Ostrava', 280000), ('Kolin', 57000)], 'SK': [('Kosice', 185000), ('Bratislava', 403000), ('Zilina', 65000)], 'AT': [('Linz', 78000), ('Graz', 91000)], 'DE': [('Berlin', 6300000)]}\n",
      "AT: Linz, Graz\n",
      "CZ: Kolin, Hradec Kralove, Ostrava, Brno, Praha\n",
      "DE: Berlin\n",
      "SK: Zilina, Kosice, Bratislava\n"
     ]
    }
   ],
   "source": [
    "lines=['CZ,Brno,395000','CZ,Praha,1100000','SK,Kosice,185000','AT,Linz,78000','DE,Berlin,6300000','CZ,Hradec Kralove,97000',\n",
    "       'SK,Bratislava,403000','SK,Zilina,65000','CZ,Ostrava,280000','CZ,Kolin,57000','AT,Graz,91000']\n",
    "#ex: print in ascending order of country codes, names of coresponding country cities in ascending order by population\n",
    "#separeted in output by ; (comma followed by space), no leading hash sign\n",
    "#AT: Linz, Graz\n",
    "#CZ: Kolin, Hradec Kralove, Ostrava, Brno, Praha\n",
    "#DE: Berlin\n",
    "#SK: Zilina, Kosice, Bratislava\n",
    "countries=dict()  #{} prefer function call for empty containers\n",
    "for line in lines:\n",
    "    code,city,population=line.split(',')\n",
    "    countries.setdefault(code,[]).append((city,int(population)))\n",
    "print(countries)\n",
    "\n",
    "def first_element(x):\n",
    "    return x[0]\n",
    "def second_element(x):\n",
    "    return x[1]\n",
    "\n",
    "for country in sorted(countries):\n",
    "    print(country,': ',', '.join(map(first_element,sorted(countries[country],key=second_element))),sep='')"
   ]
  },
  {
   "cell_type": "code",
   "execution_count": 29,
   "metadata": {},
   "outputs": [
    {
     "name": "stdout",
     "output_type": "stream",
     "text": [
      "[5, 7, 9]\n"
     ]
    }
   ],
   "source": [
    "def add(a,b):\n",
    "    return(a+b)\n",
    "\n",
    "first = [1, 2, 3]\n",
    "second = [4, 5, 6]\n",
    "\n",
    "print(list(map(add,first,second)))\n"
   ]
  },
  {
   "cell_type": "markdown",
   "metadata": {},
   "source": [
    "### filter\n"
   ]
  },
  {
   "cell_type": "code",
   "execution_count": null,
   "metadata": {},
   "outputs": [],
   "source": [
    "numbers = []"
   ]
  },
  {
   "cell_type": "markdown",
   "metadata": {},
   "source": [
    "## 3.2 Exercise"
   ]
  },
  {
   "cell_type": "code",
   "execution_count": 43,
   "metadata": {},
   "outputs": [
    {
     "name": "stdout",
     "output_type": "stream",
     "text": [
      "{'CZ': [('Brno', 395000), ('Praha', 1100000), ('Hradec Kralove', 97000), ('Ostrava', 280000), ('Kolin', 57000)], 'SK': [('Kosice', 185000), ('Bratislava', 403000), ('Zilina', 65000)], 'AT': [('Linz', 78000), ('Graz', 91000)], 'DE': [('Berlin', 6300000)]}\n",
      "limit AT: Graz\n",
      "limit CZ: Hradec Kralove, Ostrava, Brno, Praha\n",
      "limit DE: Berlin\n",
      "limit SK: Kosice, Bratislava\n"
     ]
    }
   ],
   "source": [
    "lines=['CZ,Brno,395000','CZ,Praha,1100000','SK,Kosice,185000','AT,Linz,78000','DE,Berlin,6300000','CZ,Hradec Kralove,97000',\n",
    "       'SK,Bratislava,403000','SK,Zilina,65000','CZ,Ostrava,280000','CZ,Kolin,57000','AT,Graz,91000']\n",
    "countries=dict()  #{} prefer function call for empty containers\n",
    "for line in lines:\n",
    "    code,city,population=line.split(',')\n",
    "    countries.setdefault(code,[]).append((city,int(population)))\n",
    "print(countries)\n",
    "\n",
    "def first_element(x):\n",
    "    return x[0]\n",
    "def second_element(x):\n",
    "    return x[1] \n",
    "def second_element1(x):\n",
    "    return x[1] >= 90000\n",
    "\n",
    "    \n",
    "for country in sorted(countries):\n",
    "    #print(country,': ',', '.join(map(first_element,sorted(countries[country],key=second_element))),sep='')\n",
    "    print(\"limit \", country,': ',', '.join(map(first_element,sorted(filter(second_element1,countries[country]),key=second_element))),sep='')"
   ]
  },
  {
   "cell_type": "markdown",
   "metadata": {},
   "source": [
    "## Lambda fucntion"
   ]
  },
  {
   "cell_type": "code",
   "execution_count": 46,
   "metadata": {},
   "outputs": [
    {
     "name": "stdout",
     "output_type": "stream",
     "text": [
      "5\n"
     ]
    }
   ],
   "source": [
    "add2 = lambda  a,b:x+y\n",
    "print(add(2,3))"
   ]
  },
  {
   "cell_type": "code",
   "execution_count": 47,
   "metadata": {},
   "outputs": [
    {
     "name": "stdout",
     "output_type": "stream",
     "text": [
      "[4, 67, 25]\n"
     ]
    }
   ],
   "source": [
    "numbers = [4, 67, -3, 25, -3]\n",
    "#filter negative numbers out \n",
    "print(list(filter(lambda x:x>0, numbers)))"
   ]
  },
  {
   "cell_type": "markdown",
   "metadata": {},
   "source": [
    "## 3.3 exercise"
   ]
  },
  {
   "cell_type": "code",
   "execution_count": 49,
   "metadata": {},
   "outputs": [
    {
     "name": "stdout",
     "output_type": "stream",
     "text": [
      "{'CZ': [('Brno', 395000), ('Praha', 1100000), ('Hradec Kralove', 97000), ('Ostrava', 280000), ('Kolin', 57000)], 'SK': [('Kosice', 185000), ('Bratislava', 403000), ('Zilina', 65000)], 'AT': [('Linz', 78000), ('Graz', 91000)], 'DE': [('Berlin', 6300000)]}\n",
      "limit AT: Graz\n",
      "limit CZ: Hradec Kralove, Ostrava, Brno, Praha\n",
      "limit DE: Berlin\n",
      "limit SK: Kosice, Bratislava\n"
     ]
    }
   ],
   "source": [
    "lines=['CZ,Brno,395000','CZ,Praha,1100000','SK,Kosice,185000','AT,Linz,78000','DE,Berlin,6300000','CZ,Hradec Kralove,97000',\n",
    "       'SK,Bratislava,403000','SK,Zilina,65000','CZ,Ostrava,280000','CZ,Kolin,57000','AT,Graz,91000']\n",
    "countries=dict()  #{} prefer function call for empty containers\n",
    "for line in lines:\n",
    "    code,city,population=line.split(',')\n",
    "    countries.setdefault(code,[]).append((city,int(population)))\n",
    "print(countries)\n",
    "\n",
    "for country in sorted(countries):\n",
    "    #print(country,': ',', '.join(map(first_element,sorted(countries[country],key=second_element))),sep='')\n",
    "    print(\"limit \", country,': ',', '.join(map(lambda x:x[0],sorted(filter(lambda x:x[1]>=90000,countries[country]),key=lambda x:x[1]))),sep='')"
   ]
  },
  {
   "cell_type": "code",
   "execution_count": 58,
   "metadata": {},
   "outputs": [
    {
     "name": "stdout",
     "output_type": "stream",
     "text": [
      "[('Hradec Kralove', 97000, 200), ('Brno', 395000, 200), ('Praha', 1100000, 200), ('Kolin', 57000, 652), ('Ostrava', 280000, 652)]\n",
      "[('Praha', 1100000, 200), ('Brno', 395000, 200), ('Hradec Kralove', 97000, 200), ('Ostrava', 280000, 652), ('Kolin', 57000, 652)]\n",
      "[('Praha', 1100000, 200), ('Brno', 395000, 200), ('Ostrava', 280000, 652), ('Hradec Kralove', 97000, 200), ('Kolin', 57000, 652)]\n",
      "0b1\n",
      "-0b10\n",
      "0b1001\n",
      "-0b1010\n"
     ]
    }
   ],
   "source": [
    "\n",
    "x=[('Brno', 395000,200), ('Praha', 1100000,200), ('Hradec Kralove', 97000,200), ('Ostrava', 280000,652), ('Kolin', 57000,652)]\n",
    "#sorted in asc by area and asc pop\n",
    "print(sorted(x,key=lambda x:(x[2], x[1])))\n",
    "\n",
    "#sorted in asc by area and desc pop\n",
    "print(sorted(x,key=lambda x:(x[2], ~x[1])))\n",
    "\n",
    "# #sorted in asc by area and desc pop\n",
    "print(sorted(sorted(x,key=lambda x:x[2]),key=lambda x:x[1], reverse=True))\n",
    "\n",
    "print(bin(1))\n",
    "print(bin(~1))\n",
    "print(bin(9))\n",
    "print(bin(~9))\n"
   ]
  },
  {
   "cell_type": "markdown",
   "metadata": {},
   "source": [
    "## list comprehension"
   ]
  },
  {
   "cell_type": "code",
   "execution_count": 60,
   "metadata": {},
   "outputs": [
    {
     "name": "stdout",
     "output_type": "stream",
     "text": [
      "[16, 4489, 9, 3136, 4, 81]\n",
      "[16, 4489, 9, 3136, 4, 81]\n"
     ]
    }
   ],
   "source": [
    "numbers = [4, 67, -3, 56, -2, 9]\n",
    "L2 =[]\n",
    "for x in numbers:\n",
    "    L2.append(x**2)\n",
    "print(L2)\n",
    "\n",
    "L3=[x**2 for x in numbers]\n",
    "print(L3)\n",
    "\n"
   ]
  },
  {
   "cell_type": "code",
   "execution_count": 61,
   "metadata": {},
   "outputs": [
    {
     "name": "stdout",
     "output_type": "stream",
     "text": [
      "[16, 4489, 3136, 81]\n"
     ]
    }
   ],
   "source": [
    "numbers = [4, 67, -3, 56, -2, 9]\n",
    "L4=[x**2 for x in numbers if x > 0]\n",
    "print(L4)"
   ]
  },
  {
   "cell_type": "code",
   "execution_count": 65,
   "metadata": {},
   "outputs": [
    {
     "name": "stdout",
     "output_type": "stream",
     "text": [
      "[2, 4, 6, 78, 7, 11, -2, 5, 0, -66, 123]\n"
     ]
    }
   ],
   "source": [
    "L=[ [2,4,6,78], [7,11,-2], [5], [0,-66,123]]\n",
    "flat_list = [x for sublist in L for x in sublist]\n",
    "print(flat_list)"
   ]
  },
  {
   "cell_type": "code",
   "execution_count": 67,
   "metadata": {},
   "outputs": [
    {
     "name": "stdout",
     "output_type": "stream",
     "text": [
      "['Aš', 'Brno', 'Břeclav', 'Cheb', 'Cínovec', 'Hodonín', 'Kolín', 'Ostrava', 'Rokytno', 'České Budějovice', 'Žilina']\n",
      "['Aš', 'Brno', 'Břeclav', 'Cínovec', 'České Budějovice', 'Hodonín', 'Cheb', 'Kolín', 'Ostrava', 'Rokytno', 'Žilina']\n",
      "\u000e\t\u000e\u000ep\u000e|\u0001\u0001\u0012\u0001\u0001\n",
      "\u000e6\u000e|\u000eH\u000e2\u000ep\u0001\u0002\u0002\u0002\u000e\u0001\u0012\u0001\u0001\n",
      "\u000e\f\u000e!\u000e\u000e6\u000e!\u0007\u0002\u000e\t\u000e\u000e\u001a\u000e!\u000e5\u000e|\u000e¢\u000e2\u000e\n",
      "\u000e!\u0001\u0002\u0002\u0002\u0002\u000e\u0002\u0002\u0002\u0002\u0014\u0001\u0012\u0002\u0002\u0002\u0002\u0002\u0012\u0001\u0001\n",
      "\u000e­\u000e2\u000eH\u000e2\u000ep\u000e\u0002\u0001\u0001\u0012\u0001\u0001\n",
      "\u000e|\u000e\u000e\u000e\u000e\u0002\u000e¢\u000e\u0002\u0001\u0001\u0012\u0001\u0001\n",
      "\u000e\t\u000e\u000e!\u000e\n",
      "\u000eH\u000e\u0002\u000e¢\u0001\u0001\u0012\u0001\u0001\n",
      "\u000e\u0002\u000e\u0001\u0001\u0012\u0001\u0001\n",
      "\u000e\u000e|\u000e6\u000e§\u000e\u000ep\u000e|\u0001\u0001\u0012\u0001\u0001\n",
      "\u000e.\u000e!\u000e\t\u0001\u0001\u0012\u0001\u0001\n",
      "\u000e,\u000e|\u000e\u001a\u000e|\u000ep\u000e2\u000ep\u0001\u0002\u0002\u0002\u0002\u0002\u000e\u0001\u0012\u0001\u0001\n",
      "\u000e\n",
      "\u000e2\u000ep\u000e|\u000e¢\u000e!\u000e\n",
      "\u0001\u0002\u000e\u0001\u0012\u0001\u0001\n"
     ]
    }
   ],
   "source": [
    "cities=['Brno','Kolín','České Budějovice','Žilina','Ostrava','Břeclav','Aš','Rokytno','Cheb',\n",
    "        'Hodonín','Cínovec']\n",
    "print(sorted(cities))\n",
    "import locale\n",
    "locale.setlocale(locale.LC_ALL,'cs_CZ.UTF-8')\n",
    "print(sorted(cities,key=locale.strxfrm))\n",
    "for x in cities:\n",
    "    print(locale.strxfrm(x))"
   ]
  },
  {
   "cell_type": "code",
   "execution_count": 68,
   "metadata": {},
   "outputs": [
    {
     "name": "stdout",
     "output_type": "stream",
     "text": [
      "['Aš', 'Brno', 'Břeclav', 'Cheb', 'Cínovec', 'Hodonín', 'Kolín', 'Ostrava', 'Rokytno', 'České Budějovice', 'Žilina']\n",
      "['Aš', 'Břeclav', 'Brno', 'České Budějovice', 'Cheb', 'Cínovec', 'Hodonín', 'Kolín', 'Ostrava', 'Rokytno', 'Žilina']\n",
      "\u000e\t\u000e\u000ep\u000e|\u0001\u0001\u0012\u0001\u0001\n",
      "\u000e6\u000e|\u000eH\u000e2\u000ep\u0001\u0002\u0002\u0002\u000e\u0001\u0012\u0001\u0001\n",
      "\u000e\n",
      "\u000e!\u000e\u000e6\u000e!\u0007\u0002\u000e\t\u000e\u000e\u001a\u000e!\u000e5\u000e|\u000e¢\u000e2\u000e\n",
      "\u000e!\u0001\u0014\u0002\u0002\u0002\u000e\u0002\u0002\u0002\u0002\u0014\u0001\u0012\u0002\u0002\u0002\u0002\u0002\u0012\u0001\u0001\n",
      "\u000e©\u000e2\u000eH\u000e2\u000ep\u000e\u0002\u0001\u0014\u0001\u0012\u0001\u0001\n",
      "\u000e|\u000e\u000e\u000e\u000e\u0002\u000e¢\u000e\u0002\u0001\u0001\u0012\u0001\u0001\n",
      "\u000e\t\u000e\u000e!\u000e\n",
      "\u000eH\u000e\u0002\u000e¢\u0001\u0002\u0014\u0001\u0012\u0001\u0001\n",
      "\u000e\u0002\u000e\u0001\u0002\u0014\u0001\u0012\u0001\u0001\n",
      "\u000e\u000e|\u000e6\u000e§\u000e\u000ep\u000e|\u0001\u0001\u0012\u0001\u0001\n",
      "\u000e\n",
      "\u000e,\u000e!\u000e\t\u0001\u0001\u0012\u0001\u0001\n",
      "\u000e,\u000e|\u000e\u001a\u000e|\u000ep\u000e2\u000ep\u0001\u0002\u0002\u0002\u0002\u0002\u000e\u0001\u0012\u0001\u0001\n",
      "\u000e\n",
      "\u000e2\u000ep\u000e|\u000e¢\u000e!\u000e\n",
      "\u0001\u0002\u000e\u0001\u0012\u0001\u0001\n"
     ]
    }
   ],
   "source": [
    "cities=['Brno','Kolín','České Budějovice','Žilina','Ostrava','Břeclav','Aš','Rokytno','Cheb',\n",
    "        'Hodonín','Cínovec']\n",
    "print(sorted(cities))\n",
    "import locale\n",
    "locale.setlocale(locale.LC_ALL,'it_IT.UTF-8')\n",
    "print(sorted(cities,key=locale.strxfrm))\n",
    "for x in cities:\n",
    "    print(locale.strxfrm(x))"
   ]
  },
  {
   "cell_type": "code",
   "execution_count": 71,
   "metadata": {},
   "outputs": [
    {
     "name": "stdout",
     "output_type": "stream",
     "text": [
      "['Muṃbaiī', 'Muṃbaī', 'Muṃbaīi', 'Naoī Dillī', 'Naī Dillī', 'Naīi Dillī']\n",
      "['Muṃbaī', 'Muṃbaiī', 'Muṃbaīi', 'Naī Dillī', 'Naīi Dillī', 'Naoī Dillī']\n",
      "\u000ep\u000e\u0002\u000e2\u0007\u0002\u000e\u001a\u000e2\u000eH\u000eH\u000e2\u0001\u0002\u0002\u0017\u0002\u0002\u0002\u0002\u0002\u0017\u0001\u0012\u0002\u0002\u0002\u0012\u0001\u0001\n",
      "\u000eQ\u000e\u000eQ\u000e\t\u000e\u0002\u000e2\u000e2\u0001\u0002\u0002X\u0002\u0002\u0002\u0017\u0001\u0012\u0001\u0001\n",
      "\u000ep\u000e\u0002\u000e|\u000e2\u0007\u0002\u000e\u001a\u000e2\u000eH\u000eH\u000e2\u0001\u0002\u0002\u0002\u0017\u0002\u0002\u0002\u0002\u0002\u0017\u0001\u0012\u0002\u0002\u0002\u0002\u0012\u0001\u0001\n",
      "\u000eQ\u000e\u000eQ\u000e\t\u000e\u0002\u000e2\u0001\u0002\u0002X\u0002\u0002\u0017\u0001\u0012\u0001\u0001\n",
      "\u000ep\u000e\u0002\u000e2\u000e2\u0007\u0002\u000e\u001a\u000e2\u000eH\u000eH\u000e2\u0001\u0002\u0002\u0017\u0002\u0002\u0002\u0002\u0002\u0002\u0017\u0001\u0012\u0002\u0002\u0002\u0002\u0012\u0001\u0001\n",
      "\u000eQ\u000e\u000eQ\u000e\t\u000e\u0002\u000e2\u000e2\u0001\u0002\u0002X\u0002\u0002\u0017\u0001\u0012\u0001\u0001\n"
     ]
    }
   ],
   "source": [
    "cities=['Naī Dillī','Muṃbaiī', 'Naoī Dillī','Muṃbaī', 'Naīi Dillī','Muṃbaīi']\n",
    "print(sorted(cities))\n",
    "import locale\n",
    "locale.setlocale(locale.LC_ALL,'in_IN.UTF-8')\n",
    "print(sorted(cities,key=locale.strxfrm))\n",
    "for x in cities:\n",
    "    print(locale.strxfrm(x))"
   ]
  },
  {
   "cell_type": "markdown",
   "metadata": {},
   "source": [
    "## Modules\n",
    "\n",
    "### Import modules \n",
    "\n",
    "`import math`\n",
    "\n",
    "`import math as m`\n",
    "\n",
    "`from math import *`\n",
    "\n",
    "`from math import sin, con, pi, gcd`"
   ]
  },
  {
   "cell_type": "code",
   "execution_count": 8,
   "metadata": {},
   "outputs": [
    {
     "name": "stdout",
     "output_type": "stream",
     "text": [
      "['c:\\\\Users\\\\Student\\\\Desktop\\\\python-edu\\\\gopas-python-basic\\\\day3\\\\jupy ter', 'c:\\\\Users\\\\Student\\\\AppData\\\\Local\\\\Programs\\\\Python\\\\Python312\\\\python312.zip', 'c:\\\\Users\\\\Student\\\\AppData\\\\Local\\\\Programs\\\\Python\\\\Python312\\\\DLLs', 'c:\\\\Users\\\\Student\\\\AppData\\\\Local\\\\Programs\\\\Python\\\\Python312\\\\Lib', 'c:\\\\Users\\\\Student\\\\AppData\\\\Local\\\\Programs\\\\Python\\\\Python312', '', 'C:\\\\Users\\\\Student\\\\AppData\\\\Roaming\\\\Python\\\\Python312\\\\site-packages', 'C:\\\\Users\\\\Student\\\\AppData\\\\Roaming\\\\Python\\\\Python312\\\\site-packages\\\\win32', 'C:\\\\Users\\\\Student\\\\AppData\\\\Roaming\\\\Python\\\\Python312\\\\site-packages\\\\win32\\\\lib', 'C:\\\\Users\\\\Student\\\\AppData\\\\Roaming\\\\Python\\\\Python312\\\\site-packages\\\\Pythonwin', 'c:\\\\Users\\\\Student\\\\AppData\\\\Local\\\\Programs\\\\Python\\\\Python312\\\\Lib\\\\site-packages']\n",
      "c:\\Users\\Student\\Desktop\\python-edu\\gopas-python-basic\\day3\\jupy ter\n"
     ]
    }
   ],
   "source": [
    "from fces import add \n",
    "import sys\n",
    "print(sys.path)\n",
    "import os\n",
    "print(os.getcwd())\n"
   ]
  },
  {
   "cell_type": "code",
   "execution_count": 39,
   "metadata": {},
   "outputs": [
    {
     "name": "stdout",
     "output_type": "stream",
     "text": [
      "14\n",
      "16\n",
      "16\n",
      "13\n",
      "17\n",
      "23\n",
      "20\n",
      "15\n",
      "17\n",
      "14\n",
      "13\n",
      "16\n",
      "0\n",
      "14\n",
      "14\n",
      "12\n",
      "15\n",
      "26\n",
      "{}\n"
     ]
    }
   ],
   "source": [
    "def check_country_code(a):\n",
    "    if len(a) == 2 and a.isupper() and a.isascii():\n",
    "       return True\n",
    "    else:\n",
    "        return False\n",
    "\n",
    "def check_city_name(b):\n",
    "    if len(b) > 1 and b.isalpha() and b.isascii() and b[0].isupper():\n",
    "        return True\n",
    "    else:\n",
    "        return False\n",
    "\n",
    "def check_population(c):\n",
    "    if str(c).isnumeric() and int(c) > 0:\n",
    "        return True\n",
    "    else:\n",
    "        return False\n",
    "\n",
    "def check_len(d):\n",
    "    if len(d) == 3:\n",
    "        return True\n",
    "    else:\n",
    "        return False\n",
    "\n",
    "\n",
    "#a = \"CZ\"\n",
    "#print(check_country_code(a))\n",
    "\n",
    "#b = \"As\"\n",
    "#print(check_city_name(b))\n",
    "\n",
    "#c = 0\n",
    "#print(check_population(c))\n",
    "    \n",
    "lines=['CZ,Brno,395000','CZ,Praha,1100000','SK,Kosice,185000','AT,Linz,78000','DE,Berlin,6300000','CZ,Hradec Kralove,97000',\n",
    "       'SK,Bratislava,403000','SK,Zilina,65000','CZ,Ostrava,280000','CZ,Kolin,57000','AT,Graz,91000',\n",
    "        '12,Hodonin,12345','','CZ,12345,67888','SK,Trnava,ahoj','CZ;Plzen,897','AB,Abc,2345,986','CZ,Ceske Budejovice,174000']\n",
    "\n",
    "countries=dict()  #{} prefer function call for empty containers\n",
    "\n",
    "for line in lines:\n",
    "    print(len(line))\n",
    "    if check_len(line):\n",
    "        code,city,population=line.split(',')\n",
    "        print(code,city,population)\n",
    "        if check_country_code(code) and check_city_name(city) and check_population(population):\n",
    "            countries.setdefault(code,[]).append((city,int(population)))\n",
    "\n",
    "print(countries)\n",
    "\n",
    "for country in sorted(countries):\n",
    "    #print(country,': ',', '.join(map(first_element,sorted(countries[country],key=second_element))),sep='')\n",
    "    print(\"limit \", country,': ',', '.join(map(lambda x:x[0],sorted(filter(lambda x:x[1]>=90000,countries[country]),key=lambda x:x[1]))),sep='')"
   ]
  }
 ],
 "metadata": {
  "kernelspec": {
   "display_name": "Python 3",
   "language": "python",
   "name": "python3"
  },
  "language_info": {
   "codemirror_mode": {
    "name": "ipython",
    "version": 3
   },
   "file_extension": ".py",
   "mimetype": "text/x-python",
   "name": "python",
   "nbconvert_exporter": "python",
   "pygments_lexer": "ipython3",
   "version": "3.12.2"
  }
 },
 "nbformat": 4,
 "nbformat_minor": 2
}
