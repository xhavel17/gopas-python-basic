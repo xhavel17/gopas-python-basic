{
 "cells": [
  {
   "cell_type": "markdown",
   "id": "cdc55997-82e6-4121-8e0e-86d44d0917d5",
   "metadata": {},
   "source": [
    "### pondeli\n",
    "* zaciname\n",
    "* cisla\n",
    "* pak retezce"
   ]
  },
  {
   "cell_type": "code",
   "execution_count": 3,
   "id": "4403cff4-58ac-40b9-b4d2-b60345544337",
   "metadata": {},
   "outputs": [
    {
     "name": "stdout",
     "output_type": "stream",
     "text": [
      "hello world from Gopas\n",
      "1541\n"
     ]
    }
   ],
   "source": [
    "print('hello world from Gopas')\n",
    "print(23*67)"
   ]
  },
  {
   "cell_type": "code",
   "execution_count": 1,
   "id": "2a28e0f1-47ed-4ba6-b900-34be18c97307",
   "metadata": {},
   "outputs": [
    {
     "name": "stdout",
     "output_type": "stream",
     "text": [
      "Brno\n"
     ]
    }
   ],
   "source": [
    "print('Brno')"
   ]
  },
  {
   "cell_type": "code",
   "execution_count": 2,
   "id": "25068aa8-6a64-4adb-a924-f18559a1bc22",
   "metadata": {},
   "outputs": [
    {
     "name": "stdout",
     "output_type": "stream",
     "text": [
      "Praha\n"
     ]
    }
   ],
   "source": [
    "print('Praha')"
   ]
  },
  {
   "cell_type": "code",
   "execution_count": 12,
   "id": "86b7815e-1812-4a8a-8d7a-a6e6b42d936c",
   "metadata": {},
   "outputs": [
    {
     "name": "stdout",
     "output_type": "stream",
     "text": [
      "12\n",
      "12 34\n",
      "123\n",
      "4567\n"
     ]
    }
   ],
   "source": [
    "#zacneme s cisly\n",
    "delka = 12 #prirazeni, promenna ma jmeno (identifikator) a nejakou hodnotu (typu)\n",
    "print(delka) #tisk hodnoty promenne nebo vyrazu\n",
    "sirka = 34\n",
    "print(delka, sirka) #vypisi se vsechny hodnoty promennych oddelene mezerou\n",
    "#jmena promennych (idenfikatory) musi zacinak alpha znakem nebo podtrzitkem, dalsi znaky mohou byt navic cislice\n",
    "#delka, prvni_jmeno, adresa2\n",
    "kůň = 123\n",
    "print( kůň )\n",
    "cislo=4567\n",
    "print(cislo)\n",
    "#if=123 identifikator nesmi byt klicove slovo jazyka (keyword)"
   ]
  },
  {
   "cell_type": "code",
   "execution_count": 21,
   "id": "fa013c86-ef5c-4a97-a295-dd86e9c9f43d",
   "metadata": {},
   "outputs": [
    {
     "name": "stdout",
     "output_type": "stream",
     "text": [
      "12 <class 'int'>\n",
      "12\n",
      "12\n",
      "254\n",
      "12\n",
      "12\n"
     ]
    },
    {
     "ename": "NameError",
     "evalue": "name 'Print' is not defined",
     "output_type": "error",
     "traceback": [
      "\u001b[1;31m---------------------------------------------------------------------------\u001b[0m",
      "\u001b[1;31mNameError\u001b[0m                                 Traceback (most recent call last)",
      "Cell \u001b[1;32mIn[21], line 14\u001b[0m\n\u001b[0;32m     12\u001b[0m \u001b[38;5;28mprint\u001b[39m(cislo)\n\u001b[0;32m     13\u001b[0m \u001b[38;5;66;03m#jazyl je case sensitive, rozlisuje male a velke znaky !\u001b[39;00m\n\u001b[1;32m---> 14\u001b[0m Print(\u001b[38;5;241m123\u001b[39m)\n",
      "\u001b[1;31mNameError\u001b[0m: name 'Print' is not defined"
     ]
    }
   ],
   "source": [
    "delka = 12\n",
    "print(delka, type(delka)) #int builtin datovy typ reprezuntujici cele cislo\n",
    "#literal cisleny pro int\n",
    "cislo = 12 #dekadicky literal\n",
    "print(cislo)\n",
    "cislo = 0xc #hexadecimalni literal\n",
    "print(cislo)\n",
    "print(0xfe)\n",
    "cislo = 0o14 #oktalovy literal\n",
    "print(cislo)\n",
    "cislo = 0b1100 #binarni literal\n",
    "print(cislo)\n",
    "#jazyl je case sensitive, rozlisuje male a velke znaky !\n",
    "Print(123)"
   ]
  },
  {
   "cell_type": "code",
   "execution_count": 22,
   "id": "fce15003-f72f-4d61-b4f1-a3a27198b108",
   "metadata": {},
   "outputs": [
    {
     "ename": "NameError",
     "evalue": "name 'nezname' is not defined",
     "output_type": "error",
     "traceback": [
      "\u001b[1;31m---------------------------------------------------------------------------\u001b[0m",
      "\u001b[1;31mNameError\u001b[0m                                 Traceback (most recent call last)",
      "Cell \u001b[1;32mIn[22], line 1\u001b[0m\n\u001b[1;32m----> 1\u001b[0m \u001b[38;5;28mprint\u001b[39m(nezname)\n",
      "\u001b[1;31mNameError\u001b[0m: name 'nezname' is not defined"
     ]
    }
   ],
   "source": [
    "print(nezname)"
   ]
  },
  {
   "cell_type": "code",
   "execution_count": 30,
   "id": "5d31f184-78df-441d-98a0-27001fed483d",
   "metadata": {},
   "outputs": [
    {
     "name": "stdout",
     "output_type": "stream",
     "text": [
      "99250068772098856700831462057469632637295940819886900519816298881382867104749399077921128661426144638055424236936271872492800352741649902118143819672601569998100120790496759517636465445895625741609866209900500198407153244604778968016963028050310261417615914468729918240685487878617645976939063464357986165711730976399478507649228686341466967167910126653342134942744851463899927487092486610977146112763567101672645953132196481439339873017088140414661271198500333255713096142335151414630651683065518784081203678487703002802082091236603519026256880624499681781387227574035484831271515683123742149095569260463609655977700938844580611931246495166208695540313698140011638027322566252689780838136351828795314272162111222231170901715612355701347552371530013693855379834865667060014643302459100429783653966913783002290784283455628283355470529932956051484477129333881159930212758687602795088579230431661696010232187390436601614145603241902386663442520160735566561\n",
      "3166\n",
      "772582\n"
     ]
    },
    {
     "ename": "ValueError",
     "evalue": "Exceeds the limit (4300 digits) for integer string conversion; use sys.set_int_max_str_digits() to increase the limit",
     "output_type": "error",
     "traceback": [
      "\u001b[1;31m---------------------------------------------------------------------------\u001b[0m",
      "\u001b[1;31mValueError\u001b[0m                                Traceback (most recent call last)",
      "Cell \u001b[1;32mIn[30], line 10\u001b[0m\n\u001b[0;32m      8\u001b[0m velke_cislo\u001b[38;5;241m=\u001b[39m\u001b[38;5;241m123456\u001b[39m\u001b[38;5;241m*\u001b[39m\u001b[38;5;241m*\u001b[39m\u001b[38;5;241m45678\u001b[39m\n\u001b[0;32m      9\u001b[0m \u001b[38;5;28mprint\u001b[39m(velke_cislo\u001b[38;5;241m.\u001b[39mbit_length())\n\u001b[1;32m---> 10\u001b[0m \u001b[38;5;28mprint\u001b[39m(velke_cislo)\n",
      "\u001b[1;31mValueError\u001b[0m: Exceeds the limit (4300 digits) for integer string conversion; use sys.set_int_max_str_digits() to increase the limit"
     ]
    }
   ],
   "source": [
    "velke_cislo = 123**456\n",
    "print(velke_cislo)\n",
    "#v Pythonu je vse objektem, objekty jsou nejakeho typu (instance tridy)\n",
    "#a tridy mohou definovat nejake metody\n",
    "print( velke_cislo.bit_length() ) #volana metoda bit_length na integerem\n",
    "#print(bin(velke_cislo))\n",
    "#int jsou pametove neomezene\n",
    "velke_cislo=123456**45678\n",
    "print(velke_cislo.bit_length())\n",
    "print(velke_cislo)"
   ]
  },
  {
   "cell_type": "code",
   "execution_count": 36,
   "id": "cbe335f0-7424-4bd1-b31a-8b36c349a33f",
   "metadata": {},
   "outputs": [
    {
     "name": "stdout",
     "output_type": "stream",
     "text": [
      "3.14 <class 'float'>\n",
      "3.3333333333333335\n",
      "1200000.0\n",
      "1.7e+308\n",
      "inf\n"
     ]
    },
    {
     "ename": "OverflowError",
     "evalue": "(34, 'Result too large')",
     "output_type": "error",
     "traceback": [
      "\u001b[1;31m---------------------------------------------------------------------------\u001b[0m",
      "\u001b[1;31mOverflowError\u001b[0m                             Traceback (most recent call last)",
      "Cell \u001b[1;32mIn[36], line 11\u001b[0m\n\u001b[0;32m      9\u001b[0m \u001b[38;5;28mprint\u001b[39m(x)\n\u001b[0;32m     10\u001b[0m \u001b[38;5;28mprint\u001b[39m(\u001b[38;5;241m2\u001b[39m\u001b[38;5;241m*\u001b[39mx)\n\u001b[1;32m---> 11\u001b[0m \u001b[38;5;28mprint\u001b[39m(x\u001b[38;5;241m*\u001b[39m\u001b[38;5;241m*\u001b[39m\u001b[38;5;241m2\u001b[39m)\n",
      "\u001b[1;31mOverflowError\u001b[0m: (34, 'Result too large')"
     ]
    }
   ],
   "source": [
    "#cisla s plovouci desetinou carkou\n",
    "pi=3.14\n",
    "print(pi, type(pi)) #flout je v tomto pripade double podle IEEE 754, FP64bit\n",
    "print(10/3)\n",
    "x = 12e5 #scientific notation\n",
    "print(x)\n",
    "#float je omezen na velikost\n",
    "x=1.7e308\n",
    "print(x)\n",
    "print(2*x)\n",
    "print(x**2)"
   ]
  },
  {
   "cell_type": "code",
   "execution_count": 37,
   "id": "cd53166b-815a-4936-abb7-0e300a22ce05",
   "metadata": {},
   "outputs": [
    {
     "name": "stdout",
     "output_type": "stream",
     "text": [
      "(1+2j) <class 'complex'>\n"
     ]
    }
   ],
   "source": [
    "#komplexni cisla\n",
    "a=1+2j\n",
    "print(a, type(a))"
   ]
  },
  {
   "cell_type": "code",
   "execution_count": 40,
   "id": "253fe3fb-ad3d-4ccf-b43c-386ef6dd22cf",
   "metadata": {},
   "outputs": [
    {
     "name": "stdout",
     "output_type": "stream",
     "text": [
      "1000000\n",
      "1000000\n",
      "1000000\n"
     ]
    }
   ],
   "source": [
    "#od verze 3.6 lze v ciselnych literalech uvest _ mezi 2 cislicema\n",
    "milion = 1000000\n",
    "print(milion)\n",
    "milion = 1_000_000\n",
    "print(milion)\n",
    "milion = 1_0_0_0_0_0_0\n",
    "print(milion)"
   ]
  },
  {
   "cell_type": "code",
   "execution_count": 49,
   "id": "9d283e40-a081-48c1-aacb-ade8afc75483",
   "metadata": {},
   "outputs": [
    {
     "name": "stdout",
     "output_type": "stream",
     "text": [
      "11\n",
      "9\n",
      "3\n",
      "3.3333333333333335\n",
      "1\n",
      "14\n",
      "20\n",
      "81\n",
      "81\n"
     ]
    }
   ],
   "source": [
    "#maticke operatory\n",
    "# + - * / // celocislene delenei, % modulo\n",
    "print(10 + 1)\n",
    "print(10-1)\n",
    "cislo=10//3\n",
    "print(cislo)\n",
    "cislo=10/3\n",
    "print(cislo)\n",
    "print(10 % 3) #zbytek po celociselenm deleni\n",
    "print(2+3*4)\n",
    "print((2+3)*4)\n",
    "print(3**4) #exponencialni operator\n",
    "print(pow(3,4)) #3 na 4"
   ]
  },
  {
   "cell_type": "code",
   "execution_count": 51,
   "id": "536d4360-91a8-49e8-ab94-8fe9dcfa4e19",
   "metadata": {},
   "outputs": [
    {
     "name": "stdout",
     "output_type": "stream",
     "text": [
      "14\n",
      "15\n"
     ]
    }
   ],
   "source": [
    "cislo = 14\n",
    "print(cislo)\n",
    "cislo = cislo + 1\n",
    "print(cislo)"
   ]
  },
  {
   "cell_type": "code",
   "execution_count": 54,
   "id": "2708bfa7-1beb-464d-880e-0d67b25e26fd",
   "metadata": {},
   "outputs": [
    {
     "name": "stdout",
     "output_type": "stream",
     "text": [
      "14\n",
      "15\n",
      "25\n"
     ]
    }
   ],
   "source": [
    "cislo = 14\n",
    "print(cislo)\n",
    "cislo += 1 #cislo = cislo + 1\n",
    "print(cislo)\n",
    "cislo+=10\n",
    "print(cislo)"
   ]
  },
  {
   "cell_type": "code",
   "execution_count": 57,
   "id": "3408b72c-e7ca-48e2-98bb-61e7c73c77e2",
   "metadata": {},
   "outputs": [
    {
     "name": "stdout",
     "output_type": "stream",
     "text": [
      "369 123\n",
      "369\n"
     ]
    }
   ],
   "source": [
    "x=123\n",
    "print(3*x, x)\n",
    "x*=3\n",
    "print(x)"
   ]
  },
  {
   "cell_type": "code",
   "execution_count": null,
   "id": "22c23703-f28f-42bf-a7f3-0b1f06903fb1",
   "metadata": {},
   "outputs": [],
   "source": [
    "#https://en.wikipedia.org/wiki/Imperative_programming"
   ]
  },
  {
   "cell_type": "markdown",
   "id": "555dff37-d4f4-4c54-85e0-6117da65d6e0",
   "metadata": {},
   "source": [
    "## co muze byt na radku Python programu\n",
    "* vyraz (promenna, operator s operandy, volani funkce, kompozice funkci) 3+pow(x,2)\n",
    "* simple statement (jednoduchy prikaz) pass\n",
    "* compound statement (slozeny/zapouzdreny prikaz), podminka, cyklus, definice funkce, zpracovani vyjimky"
   ]
  },
  {
   "cell_type": "code",
   "execution_count": 61,
   "id": "63a289da-f2e9-43ec-b65c-7b9917c0c974",
   "metadata": {},
   "outputs": [
    {
     "name": "stdout",
     "output_type": "stream",
     "text": [
      "123\n",
      "podminka je platna\n"
     ]
    }
   ],
   "source": [
    "print(123) #volani funkce print s parametrem int 123\n",
    "pass #simple stmt, prazdny prikaz, nic nedela\n",
    "if 10>5: #compound stmt\n",
    "    print('podminka je platna')"
   ]
  },
  {
   "cell_type": "code",
   "execution_count": 63,
   "id": "f1ac0967-0609-41f1-a33e-cc639b7f5c94",
   "metadata": {},
   "outputs": [
    {
     "name": "stdout",
     "output_type": "stream",
     "text": [
      "123\n"
     ]
    }
   ],
   "source": [
    "#prirazeni hodnoty do promenne, je simple stmt\n",
    "cislo = 123 #prirazeni, je to simple stmt\n",
    "print(cislo)"
   ]
  },
  {
   "cell_type": "code",
   "execution_count": 68,
   "id": "21a55cc9-a8d6-4995-afa4-a36546222356",
   "metadata": {},
   "outputs": [
    {
     "name": "stdout",
     "output_type": "stream",
     "text": [
      "8\n",
      "14\n",
      "6\n",
      "8\n"
     ]
    }
   ],
   "source": [
    "x=12\n",
    "y=10\n",
    "print(x & y) #and\n",
    "print(x | y) #or\n",
    "print(x ^ y) #xor\n",
    "print(2<<2)"
   ]
  },
  {
   "cell_type": "code",
   "execution_count": 79,
   "id": "2092f5ce-f89a-4519-bfd9-d94a06d32b7f",
   "metadata": {},
   "outputs": [
    {
     "name": "stdout",
     "output_type": "stream",
     "text": [
      "13 45\n",
      "3.3333 228886641 228887000\n",
      "67\n",
      "2187 2187\n"
     ]
    }
   ],
   "source": [
    "#vestavene, builtin matematicke funkce\n",
    "print(abs(-13),abs(45))\n",
    "print(round(10/3,4), 123**4, round(123**4,-3))\n",
    "print(max(2,67,3,12))\n",
    "print(pow(3,7), 3**7)"
   ]
  },
  {
   "cell_type": "code",
   "execution_count": 83,
   "id": "20f97b31-236d-4a0d-a06d-842b7aaad956",
   "metadata": {},
   "outputs": [
    {
     "name": "stdout",
     "output_type": "stream",
     "text": [
      "3.0\n",
      "1.2246467991473532e-16\n",
      "15\n",
      "24\n"
     ]
    }
   ],
   "source": [
    "import math #math je jmeno modulu a zpristupnuje [pres tecku sve funkce\n",
    "print(math.sqrt(9))\n",
    "print(math.sin(math.pi))\n",
    "print(math.gcd(75,30))\n",
    "print(math.lcm(12,8))"
   ]
  },
  {
   "cell_type": "code",
   "execution_count": 84,
   "id": "82fa9115-ef5f-4a07-9572-327089e109a0",
   "metadata": {},
   "outputs": [
    {
     "name": "stdout",
     "output_type": "stream",
     "text": [
      "120\n"
     ]
    }
   ],
   "source": [
    "print(math.factorial(5))"
   ]
  },
  {
   "cell_type": "code",
   "execution_count": 85,
   "id": "a113b928-e787-460c-ba89-58fb65bcd6b5",
   "metadata": {},
   "outputs": [
    {
     "name": "stdout",
     "output_type": "stream",
     "text": [
      "1j\n"
     ]
    }
   ],
   "source": [
    "import cmath\n",
    "print(cmath.sqrt(-1))"
   ]
  },
  {
   "cell_type": "code",
   "execution_count": 87,
   "id": "7947c0f2-3a9d-4c98-b306-56d99e4a1df0",
   "metadata": {},
   "outputs": [
    {
     "name": "stdout",
     "output_type": "stream",
     "text": [
      "(3, 14)\n"
     ]
    }
   ],
   "source": [
    "pi = 3,14\n",
    "print(pi) #n-tice"
   ]
  },
  {
   "cell_type": "code",
   "execution_count": 89,
   "id": "792c76f2-a1e5-4b06-b65a-9afa202bf116",
   "metadata": {},
   "outputs": [
    {
     "name": "stdout",
     "output_type": "stream",
     "text": [
      "3.142857142857143\n",
      "452.57\n",
      "75.43\n"
     ]
    }
   ],
   "source": [
    "#mejme promennou polomer\n",
    "#do promennych obsah a obvod vypoctete obsah obvod kruhu s timto polomer\n",
    "#vypiste to, zaokrouhlit na 2 desetinna mista\n",
    "polomer = 12\n",
    "pi = 22/7\n",
    "print(pi)\n",
    "obsah = round(pi*polomer**2, 2)\n",
    "obvod = round(2*pi*polomer, 2)\n",
    "print(obsah)\n",
    "print(obvod)"
   ]
  },
  {
   "cell_type": "code",
   "execution_count": 92,
   "id": "03ea5ab8-bb04-4316-bb70-de441c73ea0d",
   "metadata": {},
   "outputs": [
    {
     "name": "stdout",
     "output_type": "stream",
     "text": [
      "3.141592653589793\n",
      "452.39\n",
      "75.4\n"
     ]
    }
   ],
   "source": [
    "#mejme promennou polomer\n",
    "#do promennych obsah a obvod vypoctete obsah obvod kruhu s timto polomer\n",
    "#vypiste to, zaokrouhlit na 2 desetinna mista\n",
    "polomer = 12\n",
    "import math\n",
    "print(math.pi)\n",
    "obsah = round(math.pi*polomer**2, 2)\n",
    "obvod = round(2*math.pi*polomer,2)\n",
    "print(obsah)\n",
    "print(obvod)"
   ]
  },
  {
   "cell_type": "code",
   "execution_count": 96,
   "id": "14d03274-2913-4a8b-9bdf-d7f3554aa873",
   "metadata": {},
   "outputs": [
    {
     "name": "stdout",
     "output_type": "stream",
     "text": [
      "Tomáš <class 'str'> 5\n",
      "Jan <class 'str'> 3\n",
      "prvni radek\n",
      "druhy radek\n",
      "\n",
      "posledni radek\n"
     ]
    }
   ],
   "source": [
    "#retezce, veci pojmenovavame nejakymi slovy\n",
    "#retezcovy literal\n",
    "jmeno = 'Tomáš'\n",
    "print(jmeno, type(jmeno), len(jmeno))\n",
    "jmeno = \"Jan\"\n",
    "print(jmeno, type(jmeno), len(jmeno))\n",
    "\n",
    "viceradkovy_retezec = \"\"\"prvni radek\n",
    "druhy radek\n",
    "\n",
    "posledni radek\"\"\"\n",
    "print( viceradkovy_retezec )"
   ]
  },
  {
   "cell_type": "code",
   "execution_count": 102,
   "id": "c75096d6-6289-472f-ba69-97e8855f8d83",
   "metadata": {},
   "outputs": [
    {
     "name": "stdout",
     "output_type": "stream",
     "text": [
      "c:\\users\\student\\novy.txt\n",
      "adresar\n",
      "ovy.txt\n",
      "adresar\\novy.txt\n"
     ]
    }
   ],
   "source": [
    "a = r\"c:\\users\\student\\novy.txt\"\n",
    "print(a)\n",
    "b='adresar\\novy.txt'\n",
    "print(b)\n",
    "b='adresar\\\\novy.txt'\n",
    "print(b)"
   ]
  },
  {
   "cell_type": "code",
   "execution_count": 104,
   "id": "34591dca-ea22-42a1-9bdc-c81c7dce5762",
   "metadata": {},
   "outputs": [
    {
     "name": "stdout",
     "output_type": "stream",
     "text": [
      "j\"ednad'va\n"
     ]
    }
   ],
   "source": [
    "a='j\"edna'     \"d'va\"\n",
    "print(a)"
   ]
  },
  {
   "cell_type": "code",
   "execution_count": 106,
   "id": "0ceaaa80-7f22-404c-bb53-6b5119713cb5",
   "metadata": {},
   "outputs": [
    {
     "name": "stdout",
     "output_type": "stream",
     "text": [
      "a\n",
      "A\n"
     ]
    }
   ],
   "source": [
    "pismeno = chr(97)\n",
    "print(pismeno)\n",
    "pismeno = chr(65)\n",
    "print(pismeno)"
   ]
  },
  {
   "cell_type": "code",
   "execution_count": 107,
   "id": "a36c0666-1671-48a5-8db4-565070152831",
   "metadata": {},
   "outputs": [
    {
     "name": "stdout",
     "output_type": "stream",
     "text": [
      "65\n"
     ]
    }
   ],
   "source": [
    "print(ord('A'))"
   ]
  },
  {
   "cell_type": "code",
   "execution_count": 113,
   "id": "b0b4aa08-7261-4531-be32-1a47a1446233",
   "metadata": {},
   "outputs": [
    {
     "name": "stdout",
     "output_type": "stream",
     "text": [
      "Jan Novak\n",
      "JanNovak\n",
      "JanJanJan\n"
     ]
    }
   ],
   "source": [
    "jmeno = 'Jan'\n",
    "prijmeni = 'Novak'\n",
    "print(jmeno, prijmeni) #sep=' '\n",
    "print(jmeno+prijmeni) #+ je u reterzu concatenation, zretezeni, spojeni retezcu\n",
    "print(3*jmeno) #opakovani retezce"
   ]
  },
  {
   "cell_type": "code",
   "execution_count": 125,
   "id": "09dcdab4-a868-44c1-9af9-9148365ac6cc",
   "metadata": {},
   "outputs": [
    {
     "name": "stdout",
     "output_type": "stream",
     "text": [
      "🦁 🐘\n",
      "🍺🍺🍺🍺🍺 π Π\n",
      "Novák\n",
      "Novák\n",
      "Ⅳ <class 'str'> 1\n"
     ]
    }
   ],
   "source": [
    "print('\\N{lion face} \\N{elephant}')\n",
    "print(5*'\\N{beer mug}', '\\N{Greek Small Letter Pi}','\\N{Greek capital Letter Pi}')\n",
    "print('Novák')\n",
    "print('Nov\\N{latin small letter a with acute}k')\n",
    "ctyrka = '\\N{roman numeral four}'\n",
    "print(ctyrka, type(ctyrka), len(ctyrka))"
   ]
  },
  {
   "cell_type": "code",
   "execution_count": 129,
   "id": "e85e7df9-67fb-48d5-96d6-ddab1f517af1",
   "metadata": {},
   "outputs": [
    {
     "name": "stdout",
     "output_type": "stream",
     "text": [
      "gopas GOPAS\n",
      "Gopas\n",
      "bhfdghfgdhfgd\n",
      "2\n"
     ]
    }
   ],
   "source": [
    "slovo = 'gopas'\n",
    "velke_slovo = slovo.upper()\n",
    "print(slovo, velke_slovo)\n",
    "print(slovo.capitalize())\n",
    "print('         bhfdghfgdhfgd        '.strip())\n",
    "print('Brno'.index('n')) #pismeno n se nachazi na indexu 2 nebolije to 3 znak"
   ]
  },
  {
   "cell_type": "code",
   "execution_count": 131,
   "id": "8b1e609a-7464-49db-9fd0-cc1e4e9b2859",
   "metadata": {},
   "outputs": [
    {
     "name": "stdout",
     "output_type": "stream",
     "text": [
      "p\n",
      "o\n",
      "n\n",
      "i\n",
      "l\n"
     ]
    },
    {
     "ename": "IndexError",
     "evalue": "string index out of range",
     "output_type": "error",
     "traceback": [
      "\u001b[1;31m---------------------------------------------------------------------------\u001b[0m",
      "\u001b[1;31mIndexError\u001b[0m                                Traceback (most recent call last)",
      "Cell \u001b[1;32mIn[131], line 8\u001b[0m\n\u001b[0;32m      6\u001b[0m \u001b[38;5;28mprint\u001b[39m(slovo[\u001b[38;5;241m-\u001b[39m\u001b[38;5;241m1\u001b[39m])\n\u001b[0;32m      7\u001b[0m \u001b[38;5;28mprint\u001b[39m(slovo[\u001b[38;5;241m-\u001b[39m\u001b[38;5;241m2\u001b[39m])\n\u001b[1;32m----> 8\u001b[0m \u001b[38;5;28mprint\u001b[39m(slovo[\u001b[38;5;241m56\u001b[39m])\n",
      "\u001b[1;31mIndexError\u001b[0m: string index out of range"
     ]
    }
   ],
   "source": [
    "#str je posloupnost znaku\n",
    "slovo = 'pondeli'\n",
    "#znaky na indexech\n",
    "print(slovo[0])\n",
    "print(slovo[1])\n",
    "print(slovo[2])\n",
    "print(slovo[-1])\n",
    "print(slovo[-2])\n",
    "print(slovo[56])"
   ]
  },
  {
   "cell_type": "code",
   "execution_count": 133,
   "id": "dc92da7b-27bc-415f-99b5-3d024ba27b86",
   "metadata": {},
   "outputs": [
    {
     "name": "stdout",
     "output_type": "stream",
     "text": [
      "pond\n",
      "ondel\n",
      "ponde\n",
      "ndeli\n",
      "PO ndeli\n"
     ]
    }
   ],
   "source": [
    "slovo = 'pondeli'\n",
    "#useky, rezy, slice\n",
    "print(slovo[:4])\n",
    "print(slovo[1:-1])\n",
    "print(slovo[:-2])\n",
    "print(slovo[2:])\n",
    "print(slovo[:2].upper(),slovo[2:].lower())"
   ]
  },
  {
   "cell_type": "code",
   "execution_count": 135,
   "id": "388fee5d-cdbf-4f11-b98d-dfca70dae404",
   "metadata": {},
   "outputs": [
    {
     "name": "stdout",
     "output_type": "stream",
     "text": [
      "452.57\n",
      "75.43\n"
     ]
    }
   ],
   "source": [
    "polomer = 12\n",
    "pi = 22/7\n",
    "obsah = round(pi*polomer**2, 2)\n",
    "obvod = round(2*pi*polomer, 2)\n",
    "print(obsah)\n",
    "print(obvod)"
   ]
  },
  {
   "cell_type": "code",
   "execution_count": 141,
   "id": "159b9263-ae5d-4dda-b36e-a672cbc40f1e",
   "metadata": {},
   "outputs": [
    {
     "name": "stdout",
     "output_type": "stream",
     "text": [
      "jedna dva 3\n",
      "jedna_-^-_dva_-^-_3\n",
      "jedna_-^-_dva_-^-_3pokracujeme\n"
     ]
    }
   ],
   "source": [
    "print('jedna', 'dva', 3)\n",
    "print('jedna', 'dva', 3,sep='_-^-_',end='\\n')\n",
    "print('jedna', 'dva', 3,sep='_-^-_',end='')\n",
    "print('pokracujeme')"
   ]
  },
  {
   "cell_type": "code",
   "execution_count": 142,
   "id": "2342884c-ee39-4c91-aeb5-6d3c22c16ae2",
   "metadata": {},
   "outputs": [
    {
     "name": "stdout",
     "output_type": "stream",
     "text": [
      "Obsah je 452.57\n",
      "Obvod je 75.43\n"
     ]
    }
   ],
   "source": [
    "polomer = 12\n",
    "pi = 22/7\n",
    "obsah = round(pi*polomer**2, 2)\n",
    "obvod = round(2*pi*polomer, 2)\n",
    "print('Obsah je', obsah)\n",
    "print('Obvod je', obvod)"
   ]
  },
  {
   "cell_type": "code",
   "execution_count": 152,
   "id": "effaad38-2ce3-4fbf-b088-d617f73c0d9f",
   "metadata": {},
   "outputs": [
    {
     "name": "stdout",
     "output_type": "stream",
     "text": [
      "Promenna a ma hodnotu 123\n",
      "Promenna a ma hodnotu   123\n",
      "Promenna a ma hodnotu 00123\n",
      "Promenna a ma hodnotu 123  \n",
      "Promenna a ma hodnotu 123, b hodnotu 1.200000\n",
      "Promenna a ma hodnotu 123, b hodnotu     1.20\n"
     ]
    }
   ],
   "source": [
    "#formatovani retezcu\n",
    "#old style formating, z Python 2\n",
    "a=123\n",
    "b=1.2\n",
    "x=\"Promenna a ma hodnotu %d\" % a\n",
    "print(x)\n",
    "x=\"Promenna a ma hodnotu %5d\" % a\n",
    "print(x)\n",
    "x=\"Promenna a ma hodnotu %05d\" % a\n",
    "print(x)\n",
    "x=\"Promenna a ma hodnotu %-5d\" % a\n",
    "print(x)\n",
    "print (\"Promenna a ma hodnotu %d, b hodnotu %f\" % (a,b))\n",
    "print (\"Promenna a ma hodnotu %d, b hodnotu %8.2f\" % (a,b))\n"
   ]
  },
  {
   "cell_type": "code",
   "execution_count": 155,
   "id": "1a498473-971a-4d33-b0fa-3274a8a9d70c",
   "metadata": {},
   "outputs": [
    {
     "name": "stdout",
     "output_type": "stream",
     "text": [
      "Zamestnanec Jarda ma plat 123 123\n"
     ]
    }
   ],
   "source": [
    "x=123\n",
    "y='Jarda'\n",
    "print( 'Zamestnanec %s ma plat %d %d' % (y,x,x) )"
   ]
  },
  {
   "cell_type": "code",
   "execution_count": 172,
   "id": "beaeeb59-8497-4d5e-a3b5-4b97f570eaa8",
   "metadata": {},
   "outputs": [
    {
     "name": "stdout",
     "output_type": "stream",
     "text": [
      "Promenna a ma hodnotu 123\n",
      "Promenna a ma hodnotu   123\n",
      "Promenna a ma hodnotu 00123\n",
      "Promenna a ma hodnotu 123  \n",
      "Promenna a ma hodnotu         123          Kc\n",
      "Promenna a ma hodnotu         123          Kc a promenna b ma hodnotu 1.2\n",
      "Promenna a ma hodnotu         123          Kc a promenna b ma hodnotu   1.20\n",
      "Promenna a ma hodnotu ________123_________ Kc a promenna b ma hodnotu   1.20\n"
     ]
    }
   ],
   "source": [
    "#new style formating\n",
    "#metoda format\n",
    "a=123\n",
    "b=1.2\n",
    "x=\"Promenna a ma hodnotu {}\".format(a)\n",
    "print(x)\n",
    "x=\"Promenna a ma hodnotu {:5d}\".format(a)\n",
    "print(x)\n",
    "x=\"Promenna a ma hodnotu {:05d}\".format(a)\n",
    "print(x)\n",
    "x=\"Promenna a ma hodnotu {:<5d}\".format(a)\n",
    "print(x)\n",
    "x=\"Promenna a ma hodnotu {:^20d} Kc\".format(a)\n",
    "print(x)\n",
    "x=\"Promenna a ma hodnotu {:^20d} Kc a promenna b ma hodnotu {}\".format(a,b)\n",
    "print(x)\n",
    "x=\"Promenna a ma hodnotu {:^20d} Kc a promenna b ma hodnotu {:6.2f}\".format(a,b)\n",
    "print(x)\n",
    "x=\"Promenna a ma hodnotu {1:_^20d} Kc a promenna b ma hodnotu {0:6.2f}\".format(b,a)\n",
    "print(x)\n",
    "#https://pyformat.info/"
   ]
  },
  {
   "cell_type": "code",
   "execution_count": 179,
   "id": "9e6b1938-7693-4c0d-a043-66ccc0a45a73",
   "metadata": {},
   "outputs": [
    {
     "name": "stdout",
     "output_type": "stream",
     "text": [
      "Zamestnanec Honza ma plat 25300.000000000004\n",
      "Zamestnanec Honz ma plat   25300.00\n",
      "Zamestnanec HONZ ma plat   25300.00\n",
      "jmeno='Honza' ma plat plat=23000\n"
     ]
    }
   ],
   "source": [
    "#Python 3.6\n",
    "jmeno = 'Honza'\n",
    "plat = 23_000\n",
    "print(f'Zamestnanec {jmeno} ma plat {plat*1.1}')\n",
    "print(f'Zamestnanec {jmeno[:-1]} ma plat {plat*1.1:10.2f}')\n",
    "print(f'Zamestnanec {jmeno[:-1].upper()} ma plat {plat*1.1:10.2f}')\n",
    "#od 3.7\n",
    "print(f'{jmeno=} ma plat {plat=}')\n"
   ]
  },
  {
   "cell_type": "code",
   "execution_count": 181,
   "id": "ee5ece8d-8ef2-4550-9ede-2f21b1e18621",
   "metadata": {},
   "outputs": [
    {
     "name": "stdin",
     "output_type": "stream",
     "text": [
      "Zadej sve jmeno:  123\n"
     ]
    },
    {
     "name": "stdout",
     "output_type": "stream",
     "text": [
      "123 <class 'str'>\n"
     ]
    }
   ],
   "source": [
    "jmeno = input('Zadej sve jmeno: ')\n",
    "print(jmeno,type(jmeno)) #user input bude vzdy str"
   ]
  },
  {
   "cell_type": "code",
   "execution_count": 184,
   "id": "18b33c55-0040-4dae-8850-7b5a6118f1e6",
   "metadata": {},
   "outputs": [
    {
     "name": "stdout",
     "output_type": "stream",
     "text": [
      "30\n",
      "1020\n"
     ]
    }
   ],
   "source": [
    "a=10\n",
    "b='20'\n",
    "print(a+int(b))\n",
    "print(str(a) + b)"
   ]
  },
  {
   "cell_type": "code",
   "execution_count": 185,
   "id": "87bac8db-4fa2-436e-af8c-0c37eb1e1041",
   "metadata": {},
   "outputs": [
    {
     "ename": "ValueError",
     "evalue": "invalid literal for int() with base 10: 'ahoj'",
     "output_type": "error",
     "traceback": [
      "\u001b[1;31m---------------------------------------------------------------------------\u001b[0m",
      "\u001b[1;31mValueError\u001b[0m                                Traceback (most recent call last)",
      "Cell \u001b[1;32mIn[185], line 1\u001b[0m\n\u001b[1;32m----> 1\u001b[0m \u001b[38;5;28mprint\u001b[39m(\u001b[38;5;28mint\u001b[39m(\u001b[38;5;124m'\u001b[39m\u001b[38;5;124mahoj\u001b[39m\u001b[38;5;124m'\u001b[39m))\n",
      "\u001b[1;31mValueError\u001b[0m: invalid literal for int() with base 10: 'ahoj'"
     ]
    }
   ],
   "source": [
    "print(int('ahoj'))"
   ]
  },
  {
   "cell_type": "code",
   "execution_count": 186,
   "id": "0cd46ad9-3318-4ac1-9461-13a5efcab9ff",
   "metadata": {},
   "outputs": [
    {
     "name": "stdout",
     "output_type": "stream",
     "text": [
      "489475\n"
     ]
    }
   ],
   "source": [
    "print(int('ahoj',36))"
   ]
  },
  {
   "cell_type": "code",
   "execution_count": 189,
   "id": "50722205-608c-465b-8e85-252695141827",
   "metadata": {},
   "outputs": [
    {
     "name": "stdin",
     "output_type": "stream",
     "text": [
      "Zadej polomer kruhu (cele cislo):  123\n"
     ]
    },
    {
     "name": "stdout",
     "output_type": "stream",
     "text": [
      "Obsah kruhu s polomerem 123 je   47529.16 mm²\n",
      "Obvod kruhu s polomerem 123 je     772.83 mm\n"
     ]
    }
   ],
   "source": [
    "#priklad s polomere, uzivatelsky vstup\n",
    "polomer = int(input('Zadej polomer kruhu (cele cislo): '))\n",
    "import math\n",
    "obsah = round(math.pi*polomer**2, 2)\n",
    "obvod = round(2*math.pi*polomer, 2)\n",
    "print(f'Obsah kruhu s polomerem {polomer} je {obsah:>10} mm\\N{superscript two}')\n",
    "print(f'Obvod kruhu s polomerem {polomer} je {obvod:>10} mm')"
   ]
  },
  {
   "cell_type": "code",
   "execution_count": 191,
   "id": "7ebedfa4-824e-4d69-ad46-ae943615dc0b",
   "metadata": {},
   "outputs": [
    {
     "name": "stdin",
     "output_type": "stream",
     "text": [
      "Zadej polomer kruhu (cele cislo):  123\n"
     ]
    },
    {
     "name": "stdout",
     "output_type": "stream",
     "text": [
      "Obsah kruhu s polomerem 123 je   47529.16 mm²\n",
      "Obvod kruhu s polomerem 123 je     772.83 mm\n"
     ]
    }
   ],
   "source": [
    "#priklad s polomere, uzivatelsky vstup\n",
    "polomer = int(input('Zadej polomer kruhu (cele cislo): '))\n",
    "import math\n",
    "print(f'Obsah kruhu s polomerem {polomer} je {math.pi*polomer**2:>10.2f} mm\\N{superscript two}')\n",
    "print(f'Obvod kruhu s polomerem {polomer} je {2*math.pi*polomer:>10.2f} mm')"
   ]
  }
 ],
 "metadata": {
  "kernelspec": {
   "display_name": "Python 3 (ipykernel)",
   "language": "python",
   "name": "python3"
  },
  "language_info": {
   "codemirror_mode": {
    "name": "ipython",
    "version": 3
   },
   "file_extension": ".py",
   "mimetype": "text/x-python",
   "name": "python",
   "nbconvert_exporter": "python",
   "pygments_lexer": "ipython3",
   "version": "3.12.7"
  }
 },
 "nbformat": 4,
 "nbformat_minor": 5
}
