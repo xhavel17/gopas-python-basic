{
 "cells": [
  {
   "cell_type": "code",
   "execution_count": 8,
   "id": "b3853b25-1eb6-4ea3-a067-f6fc81dc4afe",
   "metadata": {
    "scrolled": true
   },
   "outputs": [
    {
     "name": "stdout",
     "output_type": "stream",
     "text": [
      "ahoj\n",
      "ahoj\n",
      "ahoj\n",
      "ahoj\n",
      "ahoj\n",
      "\n",
      "ahoj\n",
      "ahoj\n",
      "ahoj\n",
      "ahoj\n",
      "ahoj\n",
      "['ahoj', 'ahoj', 'ahoj', 'ahoj', 'ahoj']\n",
      "ahoj\n",
      "ahoj\n",
      "ahoj\n",
      "ahoj\n",
      "ahoj\n"
     ]
    }
   ],
   "source": [
    "#streda\n",
    "#cykly, opakovane provadeni prikazu\n",
    "print(5 * 'ahoj\\n') #'ahoj\\nahoj\\nahoj\\n...\\n'\n",
    "print(5 * 'ahoj\\n', end='')\n",
    "a=5*['ahoj']\n",
    "print(a)\n",
    "print('\\n'.join(a))"
   ]
  },
  {
   "cell_type": "code",
   "execution_count": 9,
   "id": "630b21e3-9592-485b-9fef-23402019f32e",
   "metadata": {},
   "outputs": [
    {
     "name": "stdout",
     "output_type": "stream",
     "text": [
      "1\n",
      "2\n",
      "3\n",
      "4\n"
     ]
    }
   ],
   "source": [
    "#while cyklus\n",
    "cislo=1\n",
    "while cislo<5:\n",
    "    print(cislo)\n",
    "    cislo+=1"
   ]
  },
  {
   "cell_type": "code",
   "execution_count": 11,
   "id": "4e8e9879-50c0-485b-a038-3c85ffa0f7a7",
   "metadata": {},
   "outputs": [
    {
     "name": "stdout",
     "output_type": "stream",
     "text": [
      "23\n",
      "6\n",
      "89\n",
      "[]\n"
     ]
    }
   ],
   "source": [
    "cisla = [23,6,89]\n",
    "while cisla:\n",
    "    print(cisla[0])\n",
    "    del cisla[0]\n",
    "print(cisla)   "
   ]
  },
  {
   "cell_type": "code",
   "execution_count": 15,
   "id": "721d71e9-3101-493d-8cfd-571c8ffb1206",
   "metadata": {},
   "outputs": [
    {
     "name": "stdout",
     "output_type": "stream",
     "text": [
      "23\n",
      "[6, 89]\n",
      "6\n",
      "[89]\n",
      "89\n",
      "[]\n",
      "[]\n"
     ]
    }
   ],
   "source": [
    "cisla = [23,6,89]\n",
    "while cisla:\n",
    "    print(cisla.pop(0))\n",
    "    print(cisla)\n",
    "print(cisla)   "
   ]
  },
  {
   "cell_type": "code",
   "execution_count": 16,
   "id": "07da1074-ea6d-4f87-8767-a292cdd3cdb2",
   "metadata": {},
   "outputs": [
    {
     "name": "stdout",
     "output_type": "stream",
     "text": [
      "89\n",
      "[23, 6]\n",
      "6\n",
      "[23]\n",
      "23\n",
      "[]\n",
      "[]\n"
     ]
    }
   ],
   "source": [
    "cisla = [23,6,89]\n",
    "while cisla:\n",
    "    print(cisla.pop())\n",
    "    print(cisla)\n",
    "print(cisla)   "
   ]
  },
  {
   "cell_type": "code",
   "execution_count": 12,
   "id": "038951fd-572b-4670-893e-40b37f28f065",
   "metadata": {},
   "outputs": [
    {
     "name": "stdout",
     "output_type": "stream",
     "text": [
      "23\n",
      "6\n",
      "89\n",
      "[]\n"
     ]
    }
   ],
   "source": [
    "cisla = [23,6,89]\n",
    "while len(cisla)>0:\n",
    "    print(cisla[0])\n",
    "    del cisla[0]\n",
    "print(cisla)   "
   ]
  },
  {
   "cell_type": "code",
   "execution_count": 17,
   "id": "19a7bb9a-26db-47cc-a06b-dc1a0922bf43",
   "metadata": {},
   "outputs": [
    {
     "name": "stdout",
     "output_type": "stream",
     "text": [
      "23\n",
      "6\n",
      "89\n",
      "konec cyklu\n",
      "[]\n"
     ]
    }
   ],
   "source": [
    "cisla = [23,6,89]\n",
    "while cisla:\n",
    "    print(cisla.pop(0))\n",
    "else:\n",
    "    print('konec cyklu')\n",
    "print(cisla)"
   ]
  },
  {
   "cell_type": "code",
   "execution_count": 18,
   "id": "76ad234b-0e4b-4c13-8eab-7037e8351031",
   "metadata": {},
   "outputs": [
    {
     "name": "stdout",
     "output_type": "stream",
     "text": [
      "23\n",
      "6\n",
      "89\n",
      "konec cyklu\n",
      "[]\n"
     ]
    }
   ],
   "source": [
    "cisla = [23,6,89]\n",
    "while cisla:\n",
    "    print(cisla.pop(0))\n",
    "\n",
    "print('konec cyklu')\n",
    "print(cisla)"
   ]
  },
  {
   "cell_type": "code",
   "execution_count": 21,
   "id": "b241f8ea-bc34-4a51-ba66-a09f8d14a1c1",
   "metadata": {},
   "outputs": [
    {
     "name": "stdout",
     "output_type": "stream",
     "text": [
      "23\n",
      "6\n",
      "49\n",
      "45\n",
      "22\n",
      "12\n",
      "33\n"
     ]
    }
   ],
   "source": [
    "cisla = [23,6,49,45,22,12,78,57,33,99]\n",
    "while cisla:\n",
    "    cislo = cisla.pop(0)\n",
    "    if cislo<=50:\n",
    "        print(cislo)"
   ]
  },
  {
   "cell_type": "code",
   "execution_count": 22,
   "id": "e74ecdf7-f3a5-4d62-9931-aa4a55780e3c",
   "metadata": {},
   "outputs": [
    {
     "name": "stdout",
     "output_type": "stream",
     "text": [
      "23\n",
      "6\n",
      "49\n",
      "45\n",
      "22\n",
      "12\n"
     ]
    }
   ],
   "source": [
    "cisla = [23,6,49,45,22,12,78,57,33,99]\n",
    "while cisla:\n",
    "    cislo = cisla.pop(0)\n",
    "    if cislo>50:\n",
    "        break\n",
    "    print(cislo)"
   ]
  },
  {
   "cell_type": "code",
   "execution_count": 25,
   "id": "a44741cd-0a06-4603-81af-064546fc527a",
   "metadata": {},
   "outputs": [
    {
     "name": "stdout",
     "output_type": "stream",
     "text": [
      "23\n",
      "6\n",
      "49\n",
      "45\n",
      "22\n",
      "12\n",
      "78\n",
      "57\n",
      "33\n",
      "99\n"
     ]
    }
   ],
   "source": [
    "cisla = [23,6,49,45,22,12,78,57,33,99]\n",
    "index = 0\n",
    "while index<len(cisla):\n",
    "    print(cisla[index])\n",
    "    index+=1\n",
    "    "
   ]
  },
  {
   "cell_type": "code",
   "execution_count": 27,
   "id": "0e74fc7f-24b3-48d5-95ae-2af047f67067",
   "metadata": {},
   "outputs": [
    {
     "name": "stdout",
     "output_type": "stream",
     "text": [
      "23\n",
      "6\n",
      "49\n",
      "45\n",
      "22\n",
      "12\n",
      "za cyklem\n"
     ]
    }
   ],
   "source": [
    "cisla = [23,6,49,45,22,12,78,57,33,99]\n",
    "while cisla:\n",
    "    cislo = cisla.pop(0)\n",
    "    if cislo>50:\n",
    "        break\n",
    "    print(cislo)\n",
    "else:\n",
    "    print('konec cyklu')\n",
    "print('za cyklem')"
   ]
  },
  {
   "cell_type": "code",
   "execution_count": 29,
   "id": "20b96829-5061-4e6d-b65e-aa431362286f",
   "metadata": {},
   "outputs": [
    {
     "name": "stdout",
     "output_type": "stream",
     "text": [
      "6\n",
      "22\n",
      "12\n",
      "78\n",
      "konec cyklu\n"
     ]
    }
   ],
   "source": [
    "cisla = [23,6,49,45,22,12,78,57,33,99]\n",
    "while cisla:\n",
    "    cislo = cisla.pop(0)\n",
    "    if cislo%2:\n",
    "        continue\n",
    "    print(cislo)\n",
    "else:\n",
    "    print('konec cyklu')"
   ]
  },
  {
   "cell_type": "code",
   "execution_count": 31,
   "id": "5e91a05d",
   "metadata": {},
   "outputs": [
    {
     "name": "stdout",
     "output_type": "stream",
     "text": [
      "6\n",
      "22\n",
      "12\n",
      "78\n",
      "konec cyklu\n"
     ]
    }
   ],
   "source": [
    "cisla = [23,6,49,45,22,12,78,57,33,99]\n",
    "while cisla:\n",
    "    cislo = cisla.pop(0)\n",
    "    if cislo%2:\n",
    "        pass\n",
    "    else:\n",
    "        print(cislo)\n",
    "else:\n",
    "    print('konec cyklu')\n"
   ]
  },
  {
   "cell_type": "code",
   "execution_count": 1,
   "id": "d7ed7ced-8014-40c2-9354-a1562435f6ba",
   "metadata": {},
   "outputs": [
    {
     "name": "stdin",
     "output_type": "stream",
     "text": [
      "Zadej polomer kruhu (cele cislo, \"konec\" pro konec):  12\n"
     ]
    },
    {
     "name": "stdout",
     "output_type": "stream",
     "text": [
      "Obsah kruhu s polomerem 12 je     452.39 mm²\n",
      "Obvod kruhu s polomerem 12 je      75.40 mm\n"
     ]
    },
    {
     "name": "stdin",
     "output_type": "stream",
     "text": [
      "Zadej polomer kruhu (cele cislo, \"konec\" pro konec):  5\n"
     ]
    },
    {
     "name": "stdout",
     "output_type": "stream",
     "text": [
      "Obsah kruhu s polomerem 5 je      78.54 mm²\n",
      "Obvod kruhu s polomerem 5 je      31.42 mm\n"
     ]
    },
    {
     "name": "stdin",
     "output_type": "stream",
     "text": [
      "Zadej polomer kruhu (cele cislo, \"konec\" pro konec):  konec\n"
     ]
    }
   ],
   "source": [
    "#program pro obsah/obvod s tim ze se pta opakovane a na vstup \"konec\" nebo prazdny vstup se ukonci\n",
    "import math\n",
    "vstup = input('Zadej polomer kruhu (cele cislo, \"konec\" pro konec): ')\n",
    "while vstup != 'konec':    \n",
    "    polomer = int(vstup)\n",
    "    print(f'Obsah kruhu s polomerem {polomer} je {math.pi*polomer**2:>10.2f} mm\\N{superscript two}')\n",
    "    print(f'Obvod kruhu s polomerem {polomer} je {2*math.pi*polomer:>10.2f} mm')\n",
    "    vstup = input('Zadej polomer kruhu (cele cislo, \"konec\" pro konec): ')"
   ]
  },
  {
   "cell_type": "code",
   "execution_count": 3,
   "id": "cf0dee11-2737-4d74-94db-94006d46dd30",
   "metadata": {},
   "outputs": [
    {
     "name": "stdin",
     "output_type": "stream",
     "text": [
      "Zadej polomer kruhu (cele cislo, \"konec\" pro konec):  12\n"
     ]
    },
    {
     "name": "stdout",
     "output_type": "stream",
     "text": [
      "Obsah kruhu s polomerem 12 je     452.39 mm²\n",
      "Obvod kruhu s polomerem 12 je      75.40 mm\n"
     ]
    },
    {
     "name": "stdin",
     "output_type": "stream",
     "text": [
      "Zadej polomer kruhu (cele cislo, \"konec\" pro konec):  7\n"
     ]
    },
    {
     "name": "stdout",
     "output_type": "stream",
     "text": [
      "Obsah kruhu s polomerem 7 je     153.94 mm²\n",
      "Obvod kruhu s polomerem 7 je      43.98 mm\n"
     ]
    },
    {
     "name": "stdin",
     "output_type": "stream",
     "text": [
      "Zadej polomer kruhu (cele cislo, \"konec\" pro konec):  konec\n"
     ]
    }
   ],
   "source": [
    "import math\n",
    "while True:\n",
    "    vstup = input('Zadej polomer kruhu (cele cislo, \"konec\" pro konec): ')\n",
    "    if vstup == 'konec':\n",
    "        break\n",
    "    polomer = int(vstup)\n",
    "    print(f'Obsah kruhu s polomerem {polomer} je {math.pi*polomer**2:>10.2f} mm\\N{superscript two}')\n",
    "    print(f'Obvod kruhu s polomerem {polomer} je {2*math.pi*polomer:>10.2f} mm')"
   ]
  },
  {
   "cell_type": "code",
   "execution_count": 1,
   "id": "001fc6cf-1e48-4057-ac66-1f6b76b047a0",
   "metadata": {},
   "outputs": [
    {
     "name": "stdin",
     "output_type": "stream",
     "text": [
      "Zadej polomer kruhu (cele cislo, \"konec\" pro konec):  12\n"
     ]
    },
    {
     "name": "stdout",
     "output_type": "stream",
     "text": [
      "Obsah kruhu s polomerem 12 je     452.39 mm²\n",
      "Obvod kruhu s polomerem 12 je      75.40 mm\n"
     ]
    },
    {
     "name": "stdin",
     "output_type": "stream",
     "text": [
      "Zadej polomer kruhu (cele cislo, \"konec\" pro konec):  2\n"
     ]
    },
    {
     "name": "stdout",
     "output_type": "stream",
     "text": [
      "Obsah kruhu s polomerem 2 je      12.57 mm²\n",
      "Obvod kruhu s polomerem 2 je      12.57 mm\n"
     ]
    },
    {
     "name": "stdin",
     "output_type": "stream",
     "text": [
      "Zadej polomer kruhu (cele cislo, \"konec\" pro konec):  3\n"
     ]
    },
    {
     "name": "stdout",
     "output_type": "stream",
     "text": [
      "Obsah kruhu s polomerem 3 je      28.27 mm²\n",
      "Obvod kruhu s polomerem 3 je      18.85 mm\n"
     ]
    },
    {
     "name": "stdin",
     "output_type": "stream",
     "text": [
      "Zadej polomer kruhu (cele cislo, \"konec\" pro konec):  konec\n"
     ]
    }
   ],
   "source": [
    "import math\n",
    "while (vstup:=input('Zadej polomer kruhu (cele cislo, \"konec\" pro konec): ')) != 'konec':\n",
    "    polomer=int(vstup)\n",
    "    print(f'Obsah kruhu s polomerem {polomer} je {math.pi*polomer**2:>10.2f} mm\\N{superscript two}')\n",
    "    print(f'Obvod kruhu s polomerem {polomer} je {2*math.pi*polomer:>10.2f} mm')"
   ]
  },
  {
   "cell_type": "code",
   "execution_count": 5,
   "id": "dcf15fc6-c99a-4c6f-b8fb-0e9054fa3ea8",
   "metadata": {},
   "outputs": [
    {
     "name": "stdout",
     "output_type": "stream",
     "text": [
      "20\n",
      "20\n",
      "20\n"
     ]
    }
   ],
   "source": [
    "#C, Java, PHP, bash, ksh,...\n",
    "a=10\n",
    "b=20\n",
    "c=max(a,b)\n",
    "print(c)\n",
    "#c = a>b ? a : b\n",
    "if a>b:\n",
    "    c=a\n",
    "else:\n",
    "    c=b\n",
    "print(c)\n",
    "c = a if a>b else b #ternarni oprator v Pythonu\n",
    "print(c)"
   ]
  },
  {
   "cell_type": "code",
   "execution_count": 7,
   "id": "1bbf4ff1-2792-45b0-9311-700d68ab3356",
   "metadata": {},
   "outputs": [
    {
     "name": "stdout",
     "output_type": "stream",
     "text": [
      "34\n",
      "88\n",
      "12\n",
      "88\n",
      "12\n"
     ]
    }
   ],
   "source": [
    "#cyklus for\n",
    "cisla = [34,88,12]\n",
    "for cislo in cisla:\n",
    "    print(cislo)"
   ]
  },
  {
   "cell_type": "code",
   "execution_count": 9,
   "id": "1d944b0f-b2d5-4423-9447-ae66e8b6b525",
   "metadata": {},
   "outputs": [
    {
     "name": "stdout",
     "output_type": "stream",
     "text": [
      "88\n",
      "12\n",
      "cislo=12 za cyklem\n"
     ]
    }
   ],
   "source": [
    "for cislo in cisla[1:]:\n",
    "    print(cislo)\n",
    "print(f'{cislo=} za cyklem')"
   ]
  },
  {
   "cell_type": "code",
   "execution_count": 11,
   "id": "1118aa77-f33d-4e09-a8e0-bc2dfec51454",
   "metadata": {},
   "outputs": [
    {
     "name": "stdout",
     "output_type": "stream",
     "text": [
      "G G\n",
      "o O\n",
      "p P\n",
      "a A\n",
      "s S\n"
     ]
    }
   ],
   "source": [
    "for pismeno in 'Gopas':\n",
    "    print(pismeno, pismeno.upper())"
   ]
  },
  {
   "cell_type": "code",
   "execution_count": 12,
   "id": "ff7e7d59-6211-4a37-8dda-0cd70acaba4d",
   "metadata": {},
   "outputs": [
    {
     "name": "stdout",
     "output_type": "stream",
     "text": [
      "Jan\n",
      "Novak\n",
      "34\n"
     ]
    }
   ],
   "source": [
    "for x in ('Jan','Novak',34):\n",
    "    print(x)"
   ]
  },
  {
   "cell_type": "code",
   "execution_count": 13,
   "id": "a8fe3b5d-57b6-4fb8-ad96-b6a6a73f87ee",
   "metadata": {},
   "outputs": [
    {
     "name": "stdout",
     "output_type": "stream",
     "text": [
      "cervena\n",
      "zelena\n"
     ]
    }
   ],
   "source": [
    "barvy = {'cervena','zelena'}\n",
    "for barva in barvy:\n",
    "    print(barva)"
   ]
  },
  {
   "cell_type": "code",
   "execution_count": 17,
   "id": "97a4011e",
   "metadata": {},
   "outputs": [
    {
     "name": "stdout",
     "output_type": "stream",
     "text": [
      "cervena\n",
      "zelena\n"
     ]
    }
   ],
   "source": [
    "barvy = {'cervena':'red','zelena':'green'}\n",
    "for barva in barvy:\n",
    "    print(barva)"
   ]
  },
  {
   "cell_type": "code",
   "execution_count": 18,
   "id": "607ddb95",
   "metadata": {},
   "outputs": [
    {
     "name": "stdout",
     "output_type": "stream",
     "text": [
      "cervena\n",
      "zelena\n"
     ]
    }
   ],
   "source": [
    "barvy = {'cervena':'red','zelena':'green'}\n",
    "for barva in barvy.keys():\n",
    "    print(barva)"
   ]
  },
  {
   "cell_type": "code",
   "execution_count": 19,
   "id": "8959ec98",
   "metadata": {},
   "outputs": [
    {
     "name": "stdout",
     "output_type": "stream",
     "text": [
      "red\n",
      "green\n"
     ]
    }
   ],
   "source": [
    "barvy = {'cervena':'red','zelena':'green'}\n",
    "for barva in barvy.values():\n",
    "    print(barva)"
   ]
  },
  {
   "cell_type": "code",
   "execution_count": 16,
   "id": "ce27375c",
   "metadata": {},
   "outputs": [
    {
     "name": "stdout",
     "output_type": "stream",
     "text": [
      "cervena red\n",
      "zelena green\n"
     ]
    }
   ],
   "source": [
    "barvy = {'cervena':'red','zelena':'green'}\n",
    "for barva in barvy:\n",
    "    print(barva, barvy[barva])"
   ]
  },
  {
   "cell_type": "code",
   "execution_count": 20,
   "id": "aad7822f-958c-4ee5-aae6-dc9686079c6e",
   "metadata": {},
   "outputs": [
    {
     "ename": "TypeError",
     "evalue": "'int' object is not iterable",
     "output_type": "error",
     "traceback": [
      "\u001b[1;31m---------------------------------------------------------------------------\u001b[0m",
      "\u001b[1;31mTypeError\u001b[0m                                 Traceback (most recent call last)",
      "Cell \u001b[1;32mIn[20], line 1\u001b[0m\n\u001b[1;32m----> 1\u001b[0m \u001b[38;5;28;01mfor\u001b[39;00m cislo \u001b[38;5;129;01min\u001b[39;00m \u001b[38;5;241m123\u001b[39m:\n\u001b[0;32m      2\u001b[0m     \u001b[38;5;28mprint\u001b[39m(cislo)\n",
      "\u001b[1;31mTypeError\u001b[0m: 'int' object is not iterable"
     ]
    }
   ],
   "source": [
    "for cislo in 123:\n",
    "    print(cislo)"
   ]
  },
  {
   "cell_type": "code",
   "execution_count": 23,
   "id": "956847b1",
   "metadata": {},
   "outputs": [
    {
     "name": "stdout",
     "output_type": "stream",
     "text": [
      "1 <class 'str'> 1\n",
      "2 <class 'str'> 2\n",
      "3 <class 'str'> 3\n"
     ]
    }
   ],
   "source": [
    "for cislo in str(123):\n",
    "    print(cislo,type(cislo),int(cislo)+0)"
   ]
  },
  {
   "cell_type": "code",
   "execution_count": 24,
   "id": "38ac854b-612f-4931-9277-dc866b5678ff",
   "metadata": {},
   "outputs": [
    {
     "name": "stdout",
     "output_type": "stream",
     "text": [
      "skalal\n",
      "pes\n",
      "pres\n",
      "oves\n",
      "pres\n",
      "zelenou\n",
      "louku\n"
     ]
    }
   ],
   "source": [
    "veta = 'skalal pes pres oves pres zelenou louku'\n",
    "for slovo in veta.split():\n",
    "    print(slovo)"
   ]
  },
  {
   "cell_type": "code",
   "execution_count": 25,
   "id": "a211ba7f-6e90-4885-9a93-ab6094612534",
   "metadata": {},
   "outputs": [
    {
     "name": "stdout",
     "output_type": "stream",
     "text": [
      "[3, 4, 3, 5]\n"
     ]
    }
   ],
   "source": [
    "#cyklus for muzu pouzit pro transformaci jedne kolekce na jinou\n",
    "jmena = ['Eva', 'Adam', 'Jan', 'Tomas']\n",
    "#vytvorte novy list delky_jmen kde prvky budou delky retezcu z listu jmena\n",
    "delky_jmen = [3, 4, 3, 5]\n",
    "print(delky_jmen)"
   ]
  },
  {
   "cell_type": "code",
   "execution_count": 28,
   "id": "3d87031a-e6ab-473f-93d2-390114aab82c",
   "metadata": {},
   "outputs": [
    {
     "name": "stdout",
     "output_type": "stream",
     "text": [
      "[3, 4, 3, 5]\n"
     ]
    }
   ],
   "source": [
    "jmena = ['Eva', 'Adam', 'Jan', 'Tomas']\n",
    "delky_jmen = []\n",
    "for jmeno in jmena:\n",
    "    delky_jmen.append(len(jmeno))\n",
    "print(delky_jmen)"
   ]
  },
  {
   "cell_type": "code",
   "execution_count": 29,
   "id": "77ed5331-2546-451a-8b92-d8c03a04845c",
   "metadata": {},
   "outputs": [
    {
     "name": "stdout",
     "output_type": "stream",
     "text": [
      "[16, 36, 64, 144, 25]\n"
     ]
    }
   ],
   "source": [
    "cisla = [4,6,8,12,5]\n",
    "#novy list kde budou druhe mocniny cisel z listu cisla\n",
    "mocniny = []\n",
    "for cislo in cisla:\n",
    "    mocniny.append(cislo**2)\n",
    "print(mocniny)"
   ]
  },
  {
   "cell_type": "code",
   "execution_count": 32,
   "id": "4235b812-a5c9-4110-be71-b25387c4258f",
   "metadata": {},
   "outputs": [
    {
     "name": "stdout",
     "output_type": "stream",
     "text": [
      "Obsah kruhu s polomerem 23 je    1661.90 mm²\n",
      "Obvod kruhu s polomerem 23 je     144.51 mm\n",
      "Obsah kruhu s polomerem 6 je     113.10 mm²\n",
      "Obvod kruhu s polomerem 6 je      37.70 mm\n",
      "Neplatny polomer -21\n",
      "Neplatny polomer 0\n",
      "Obsah kruhu s polomerem 7 je     153.94 mm²\n",
      "Obvod kruhu s polomerem 7 je      43.98 mm\n",
      "Obsah kruhu s polomerem 8 je     201.06 mm²\n",
      "Obvod kruhu s polomerem 8 je      50.27 mm\n"
     ]
    }
   ],
   "source": [
    "polomery = [23,6,-21, 0, 7,8]\n",
    "for polomer in polomery:\n",
    "    if polomer>0:\n",
    "        print(f'Obsah kruhu s polomerem {polomer} je {math.pi*polomer**2:>10.2f} mm\\N{superscript two}')\n",
    "        print(f'Obvod kruhu s polomerem {polomer} je {2*math.pi*polomer:>10.2f} mm')\n",
    "    else:\n",
    "        print(f'Neplatny polomer {polomer}')"
   ]
  },
  {
   "cell_type": "code",
   "execution_count": 33,
   "id": "3b67fff0-8e93-4fcd-8acb-a23508066580",
   "metadata": {},
   "outputs": [
    {
     "name": "stdout",
     "output_type": "stream",
     "text": [
      "{4: 16, 6: 36, 8: 64, 12: 144, 5: 25}\n"
     ]
    }
   ],
   "source": [
    "#slovnik z listu cisla kde klic bude cislo a hodnota jeho druha mocnina\n",
    "cisla = [4,6,8,12,5]\n",
    "druhe_mocniny = {} #prazdny slovnik\n",
    "for cislo in cisla:\n",
    "    druhe_mocniny[cislo]=cislo**2\n",
    "print(druhe_mocniny)"
   ]
  },
  {
   "cell_type": "code",
   "execution_count": 34,
   "id": "57ac8ab4-d33b-4011-bd12-0102243af89f",
   "metadata": {},
   "outputs": [
    {
     "name": "stdout",
     "output_type": "stream",
     "text": [
      "[25, 6, 8, 12, 5]\n"
     ]
    }
   ],
   "source": [
    "#prepsat prvky listu cisla na druhe mocniny\n",
    "cisla = [4,6,8,12,5]\n",
    "for cislo in cisla:\n",
    "    cisla[0]=cislo**2\n",
    "\n",
    "print(cisla) #[16,36,64, ...] "
   ]
  },
  {
   "cell_type": "code",
   "execution_count": 3,
   "id": "3a50984a",
   "metadata": {},
   "outputs": [
    {
     "name": "stdout",
     "output_type": "stream",
     "text": [
      "[4, 6, 8, 12, 5]\n",
      "2146807598784\n",
      "[16, 36, 64, 144, 25]\n",
      "2146807598784\n"
     ]
    }
   ],
   "source": [
    "#prepsat prvky listu cisla na druhe mocniny\n",
    "cisla = [4,6,8,12,5]\n",
    "print(cisla)\n",
    "print(id(cisla))\n",
    "index = 0\n",
    "while index<len(cisla):\n",
    "    cisla[index]=cisla[index]**2\n",
    "    index += 1\n",
    "print(cisla) #[16,36,64, ...]\n",
    "print(id(cisla))"
   ]
  },
  {
   "cell_type": "code",
   "execution_count": 4,
   "id": "89003c29",
   "metadata": {},
   "outputs": [
    {
     "name": "stdout",
     "output_type": "stream",
     "text": [
      "[4, 6, 8, 12, 5]\n",
      "2146807325248\n",
      "[16, 36, 64, 144, 25]\n",
      "2146807325248\n"
     ]
    }
   ],
   "source": [
    "#prepsat prvky listu cisla na druhe mocniny\n",
    "cisla = [4,6,8,12,5]\n",
    "print(cisla)\n",
    "print(id(cisla))\n",
    "index = 0\n",
    "pocet = len(cisla)\n",
    "while index<pocet:\n",
    "    cisla[index]=cisla[index]**2\n",
    "    index += 1\n",
    "print(cisla) #[16,36,64, ...]\n",
    "print(id(cisla))"
   ]
  },
  {
   "cell_type": "code",
   "execution_count": 5,
   "id": "91d690f1-e947-457d-ae05-e1b437650671",
   "metadata": {},
   "outputs": [
    {
     "name": "stdout",
     "output_type": "stream",
     "text": [
      "[4, 6, 8, 12, 5]\n",
      "2146807835392\n",
      "[16, 36, 64, 144, 25]\n",
      "2146807775104\n"
     ]
    }
   ],
   "source": [
    "#\"prepsat\" prvky listu cisla na druhe mocniny\n",
    "cisla = [4,6,8,12,5]\n",
    "print(cisla)\n",
    "print(id(cisla))\n",
    "nova = []\n",
    "for cislo in cisla:\n",
    "    nova.append(cislo**2)\n",
    "cisla = nova\n",
    "print(cisla)\n",
    "print(id(cisla))"
   ]
  },
  {
   "cell_type": "code",
   "execution_count": 6,
   "id": "cda81dcb-a822-446b-b7a7-bfc1290b0715",
   "metadata": {},
   "outputs": [
    {
     "name": "stdout",
     "output_type": "stream",
     "text": [
      "0\n",
      "1\n",
      "2\n",
      "3\n",
      "4\n"
     ]
    }
   ],
   "source": [
    "#range, nahrada za \"intervalovy operator\", je \"iterable\", \"subscriptable\" i \"sliceable\"\n",
    "for cislo in range(5):\n",
    "    print(cislo)\n"
   ]
  },
  {
   "cell_type": "code",
   "execution_count": 7,
   "id": "54c99de2-1ecb-41e0-8f0e-807fbbde89a8",
   "metadata": {},
   "outputs": [
    {
     "name": "stdout",
     "output_type": "stream",
     "text": [
      "1\n",
      "2\n",
      "3\n",
      "4\n"
     ]
    }
   ],
   "source": [
    "for cislo in range(1,5):\n",
    "    print(cislo)"
   ]
  },
  {
   "cell_type": "code",
   "execution_count": 9,
   "id": "585f727d",
   "metadata": {},
   "outputs": [
    {
     "name": "stdout",
     "output_type": "stream",
     "text": [
      "1\n",
      "3\n",
      "5\n",
      "7\n"
     ]
    }
   ],
   "source": [
    "for cislo in range(1,8,2):\n",
    "    print(cislo)"
   ]
  },
  {
   "cell_type": "code",
   "execution_count": 12,
   "id": "b73b2d6a-0717-4428-a72a-a7019027342c",
   "metadata": {},
   "outputs": [
    {
     "name": "stdout",
     "output_type": "stream",
     "text": [
      "range(0, 5)\n",
      "[0, 1, 2, 3, 4]\n"
     ]
    }
   ],
   "source": [
    "print(range(5))\n",
    "neco = list(range(5))\n",
    "print(neco)"
   ]
  },
  {
   "cell_type": "code",
   "execution_count": 13,
   "id": "4f90c125-2ef6-416a-8bc8-29388edbd3ea",
   "metadata": {},
   "outputs": [
    {
     "name": "stdout",
     "output_type": "stream",
     "text": [
      "[4, 6, 8, 12, 5]\n",
      "2146807331200\n",
      "[16, 36, 64, 144, 25]\n",
      "2146807331200\n"
     ]
    }
   ],
   "source": [
    "#prepsat prvky listu cisla na druhe mocniny\n",
    "cisla = [4,6,8,12,5]\n",
    "print(cisla)\n",
    "print(id(cisla))\n",
    "for index in range(len(cisla)):\n",
    "    cisla[index]=cisla[index]**2\n",
    "print(cisla)\n",
    "print(id(cisla))"
   ]
  },
  {
   "cell_type": "code",
   "execution_count": 14,
   "id": "c16e9b8c-fb69-4e5f-952f-ee989d7ff413",
   "metadata": {},
   "outputs": [
    {
     "name": "stdout",
     "output_type": "stream",
     "text": [
      "10 <class 'int'>\n"
     ]
    }
   ],
   "source": [
    "#prirazeni\n",
    "cislo = 10 #prirazeni je \"binding\" identikatoru na identitu daneho objektu\n",
    "print(cislo, type(cislo))\n",
    "a=b=c=1 #vicenasobne prirazeni\n",
    "print(a,b,c)\n",
    "#pozor na mennitelne objekty !!! list, dict, set"
   ]
  },
  {
   "cell_type": "code",
   "execution_count": 16,
   "id": "9d31a9ba-b287-4d2b-b3ff-9c54916a4ad0",
   "metadata": {},
   "outputs": [
    {
     "name": "stdout",
     "output_type": "stream",
     "text": [
      "[10, 20, 30]\n",
      "[10, 200, 30]\n"
     ]
    }
   ],
   "source": [
    "cisla = [10,20,30]\n",
    "print(cisla)\n",
    "cisla[1] = 200\n",
    "print(cisla)"
   ]
  },
  {
   "cell_type": "code",
   "execution_count": 21,
   "id": "ff49a7ab-adcd-467d-8f03-53086564da8d",
   "metadata": {},
   "outputs": [
    {
     "name": "stdout",
     "output_type": "stream",
     "text": [
      "10 <class 'int'> 20 <class 'int'>\n",
      "10 20\n"
     ]
    }
   ],
   "source": [
    "#prirazeni vyctem hodnot\n",
    "a, b = 10, 20\n",
    "print(a,type(a),b, type(b))\n",
    "(a, b) = (10, 20)\n",
    "[a, b] = [10, 20]\n",
    "print(a,b)"
   ]
  },
  {
   "cell_type": "code",
   "execution_count": 24,
   "id": "9912a82b-d281-40ef-97d5-4af05083472c",
   "metadata": {},
   "outputs": [
    {
     "ename": "ValueError",
     "evalue": "not enough values to unpack (expected 3, got 2)",
     "output_type": "error",
     "traceback": [
      "\u001b[1;31m---------------------------------------------------------------------------\u001b[0m",
      "\u001b[1;31mValueError\u001b[0m                                Traceback (most recent call last)",
      "Cell \u001b[1;32mIn[24], line 1\u001b[0m\n\u001b[1;32m----> 1\u001b[0m a,b,c \u001b[38;5;241m=\u001b[39m \u001b[38;5;241m10\u001b[39m,\u001b[38;5;241m20\u001b[39m\n",
      "\u001b[1;31mValueError\u001b[0m: not enough values to unpack (expected 3, got 2)"
     ]
    }
   ],
   "source": [
    "a,b,c = 10,20"
   ]
  },
  {
   "cell_type": "code",
   "execution_count": 25,
   "id": "3881a562-dcba-45db-b11e-db9bd29bcfd5",
   "metadata": {},
   "outputs": [
    {
     "ename": "ValueError",
     "evalue": "too many values to unpack (expected 3)",
     "output_type": "error",
     "traceback": [
      "\u001b[1;31m---------------------------------------------------------------------------\u001b[0m",
      "\u001b[1;31mValueError\u001b[0m                                Traceback (most recent call last)",
      "Cell \u001b[1;32mIn[25], line 1\u001b[0m\n\u001b[1;32m----> 1\u001b[0m a,b,c\u001b[38;5;241m=\u001b[39m\u001b[38;5;241m10\u001b[39m,\u001b[38;5;241m20\u001b[39m,\u001b[38;5;241m30\u001b[39m,\u001b[38;5;241m40\u001b[39m\n",
      "\u001b[1;31mValueError\u001b[0m: too many values to unpack (expected 3)"
     ]
    }
   ],
   "source": [
    "a,b,c=10,20,30,40"
   ]
  },
  {
   "cell_type": "code",
   "execution_count": 26,
   "id": "e0cd9e3f",
   "metadata": {},
   "outputs": [
    {
     "name": "stdout",
     "output_type": "stream",
     "text": [
      "10 20 30\n"
     ]
    }
   ],
   "source": [
    "a,b,c=(10,20,30,40)[:3]\n",
    "print(a,b,c)"
   ]
  },
  {
   "cell_type": "code",
   "execution_count": 29,
   "id": "65a42cef-f13c-49b6-9cc0-32ce744e95fa",
   "metadata": {},
   "outputs": [
    {
     "name": "stdout",
     "output_type": "stream",
     "text": [
      "Jan Novak\n",
      "Jan 34\n"
     ]
    }
   ],
   "source": [
    "osoba = ('Jan', 'Novak',34,23000,'programator')\n",
    "jmeno, prijmeni = osoba[:2]\n",
    "print(jmeno, prijmeni)\n",
    "jmeno, vek = osoba[0], osoba[2]\n",
    "print(jmeno,vek)"
   ]
  },
  {
   "cell_type": "code",
   "execution_count": 30,
   "id": "18f50cfc-d4d8-4584-a86e-752090201dbd",
   "metadata": {},
   "outputs": [
    {
     "name": "stdout",
     "output_type": "stream",
     "text": [
      "('Jan', 34)\n",
      "('Eva', 28)\n",
      "('Adam', 40)\n"
     ]
    }
   ],
   "source": [
    "osoby = [ ('Jan',34), ('Eva',28), ('Adam',40) ]\n",
    "for osoba in osoby:\n",
    "    print(osoba)"
   ]
  },
  {
   "cell_type": "code",
   "execution_count": 31,
   "id": "c0b21e85",
   "metadata": {},
   "outputs": [
    {
     "name": "stdout",
     "output_type": "stream",
     "text": [
      "Jan 34\n",
      "Eva 28\n",
      "Adam 40\n"
     ]
    }
   ],
   "source": [
    "osoby = [ ('Jan',34), ('Eva',28), ('Adam',40) ]\n",
    "for osoba in osoby:\n",
    "    print(osoba[0],osoba[1])"
   ]
  },
  {
   "cell_type": "code",
   "execution_count": 33,
   "id": "e88fe1ec",
   "metadata": {},
   "outputs": [
    {
     "name": "stdout",
     "output_type": "stream",
     "text": [
      "Jan 34\n",
      "Eva 28\n",
      "Adam 40\n"
     ]
    }
   ],
   "source": [
    "osoby = [ ('Jan',34), ('Eva',28), ('Adam',40) ]\n",
    "for jmeno,vek in osoby:\n",
    "    print(jmeno, vek)"
   ]
  },
  {
   "cell_type": "code",
   "execution_count": 35,
   "id": "277d9a2c",
   "metadata": {},
   "outputs": [
    {
     "name": "stdout",
     "output_type": "stream",
     "text": [
      "Jan 34\n",
      "Eva 28\n",
      "Adam 40\n"
     ]
    },
    {
     "ename": "ValueError",
     "evalue": "too many values to unpack (expected 2)",
     "output_type": "error",
     "traceback": [
      "\u001b[1;31m---------------------------------------------------------------------------\u001b[0m",
      "\u001b[1;31mValueError\u001b[0m                                Traceback (most recent call last)",
      "Cell \u001b[1;32mIn[35], line 3\u001b[0m\n\u001b[0;32m      1\u001b[0m osoby \u001b[38;5;241m=\u001b[39m [ (\u001b[38;5;124m'\u001b[39m\u001b[38;5;124mJan\u001b[39m\u001b[38;5;124m'\u001b[39m,\u001b[38;5;241m34\u001b[39m), (\u001b[38;5;124m'\u001b[39m\u001b[38;5;124mEva\u001b[39m\u001b[38;5;124m'\u001b[39m,\u001b[38;5;241m28\u001b[39m), (\u001b[38;5;124m'\u001b[39m\u001b[38;5;124mAdam\u001b[39m\u001b[38;5;124m'\u001b[39m,\u001b[38;5;241m40\u001b[39m), (\u001b[38;5;124m'\u001b[39m\u001b[38;5;124mTomas\u001b[39m\u001b[38;5;124m'\u001b[39m,\u001b[38;5;124m'\u001b[39m\u001b[38;5;124mNovak\u001b[39m\u001b[38;5;124m'\u001b[39m,\u001b[38;5;241m40\u001b[39m) ]\n\u001b[0;32m      2\u001b[0m \u001b[38;5;28;01mfor\u001b[39;00m osoba \u001b[38;5;129;01min\u001b[39;00m osoby:\n\u001b[1;32m----> 3\u001b[0m     jmeno, vek \u001b[38;5;241m=\u001b[39m osoba\n\u001b[0;32m      4\u001b[0m     \u001b[38;5;28mprint\u001b[39m(jmeno, vek)\n",
      "\u001b[1;31mValueError\u001b[0m: too many values to unpack (expected 2)"
     ]
    }
   ],
   "source": [
    "osoby = [ ('Jan',34), ('Eva',28), ('Adam',40), ('Tomas','Novak',40) ]\n",
    "for osoba in osoby:\n",
    "    jmeno, vek = osoba\n",
    "    print(jmeno, vek)"
   ]
  },
  {
   "cell_type": "code",
   "execution_count": 36,
   "id": "2683f184-9929-43c8-8acf-d84de8fc9591",
   "metadata": {},
   "outputs": [
    {
     "name": "stdout",
     "output_type": "stream",
     "text": [
      "cervena red\n",
      "zelena green\n"
     ]
    }
   ],
   "source": [
    "barvy = {'cervena':'red','zelena':'green'}\n",
    "for barva in barvy:\n",
    "    print(barva, barvy[barva])"
   ]
  },
  {
   "cell_type": "code",
   "execution_count": 39,
   "id": "042ae7ff",
   "metadata": {},
   "outputs": [
    {
     "name": "stdout",
     "output_type": "stream",
     "text": [
      "dict_items([('cervena', 'red'), ('zelena', 'green')])\n",
      "cervena red\n",
      "zelena green\n"
     ]
    }
   ],
   "source": [
    "barvy = {'cervena':'red','zelena':'green'}\n",
    "print(barvy.items())\n",
    "for barva,color in barvy.items():\n",
    "    print(barva, color)"
   ]
  },
  {
   "cell_type": "code",
   "execution_count": 41,
   "id": "11547ee9-cb9b-4a38-ab66-d1fc846af54e",
   "metadata": {},
   "outputs": [],
   "source": [
    "#priklad pro zbytek kurzu\n",
    "radky = ['CZ,Brno', 'CZ,Praha', 'SK,Kosice', 'DE,Berlin', 'SK,Banska Bystrica', 'CZ,Ostrava',\n",
    "         'CZ,Hradec Kralove', 'AT,Linz', 'SK,Bratislava', 'AT,Graz', 'CZ,Ceske Budejovice' ]\n",
    "#vypiste pro vzestupne serzeny seznam kodu statu seznam mest v poradi jak jsou uvedena v listu radky oddelena carka_mezera\n",
    "#AT: Linz, Graz\n",
    "#CZ: Brno, Praha, Ostrava, Hradec Kralove, Ceske Budejovice\n",
    "#DE: Berlin\n",
    "#SK: Kosice, Banska Bystrica, Bratislava"
   ]
  },
  {
   "cell_type": "code",
   "execution_count": 46,
   "id": "a6b3fcbd-b502-44f0-af79-1aae9a5a39ce",
   "metadata": {},
   "outputs": [
    {
     "name": "stdout",
     "output_type": "stream",
     "text": [
      "{'CZ': 'Brno, Praha, Ostrava, Hradec Kralove, Ceske Budejovice', 'SK': 'Kosice, Banska Bystrica, Bratislava', 'DE': 'Berlin', 'AT': 'Linz, Graz'}\n"
     ]
    }
   ],
   "source": [
    "mesta = dict()\n",
    "for radek in radky:\n",
    "    kod_statu, nazev_mesta = radek.split(',')\n",
    "    #print(kod_statu, nazev_mesta)\n",
    "    if kod_statu not in mesta: #je to prvni mesto nezameho statu?\n",
    "        mesta[kod_statu]=nazev_mesta\n",
    "    else:\n",
    "        mesta[kod_statu] += f', {nazev_mesta}'\n",
    "print(mesta)"
   ]
  },
  {
   "cell_type": "code",
   "execution_count": 49,
   "id": "b78bec7b",
   "metadata": {},
   "outputs": [
    {
     "name": "stdout",
     "output_type": "stream",
     "text": [
      "{'AT': 'Linz, Graz',\n",
      " 'CZ': 'Brno, Praha, Ostrava, Hradec Kralove, Ceske Budejovice',\n",
      " 'DE': 'Berlin',\n",
      " 'SK': 'Kosice, Banska Bystrica, Bratislava'}\n"
     ]
    }
   ],
   "source": [
    "import pprint\n",
    "mesta = dict()\n",
    "for radek in radky:\n",
    "    kod_statu, nazev_mesta = radek.split(',')\n",
    "    #print(kod_statu, nazev_mesta)\n",
    "    if kod_statu not in mesta: #je to prvni mesto nezameho statu?\n",
    "        mesta[kod_statu]=nazev_mesta\n",
    "    else:\n",
    "        mesta[kod_statu] += f', {nazev_mesta}'\n",
    "        #mesta[kod_statu] = mesta[kod_statu] + ', ' +nazev_mesta\n",
    "pprint.pprint(mesta)"
   ]
  },
  {
   "cell_type": "code",
   "execution_count": 50,
   "id": "2786c905-3256-4dc3-b437-b5a3875503d9",
   "metadata": {},
   "outputs": [
    {
     "name": "stdout",
     "output_type": "stream",
     "text": [
      "{'CZ': 'Brno, Praha, Ostrava, Hradec Kralove, Ceske Budejovice', 'SK': 'Kosice, Banska Bystrica, Bratislava', 'DE': 'Berlin', 'AT': 'Linz, Graz'}\n"
     ]
    }
   ],
   "source": [
    "mesta = dict()\n",
    "for radek in radky:\n",
    "    kod_statu, nazev_mesta = radek.split(',')\n",
    "    #print(kod_statu, nazev_mesta)\n",
    "    if kod_statu not in mesta: #je to prvni mesto nezameho statu?\n",
    "        mesta[kod_statu]=nazev_mesta\n",
    "    else:\n",
    "        mesta[kod_statu] += f', {nazev_mesta}'\n",
    "print(mesta)"
   ]
  },
  {
   "cell_type": "code",
   "execution_count": 55,
   "id": "a3c0b45f-ac17-4bcf-aa8f-87fcb2aacda9",
   "metadata": {},
   "outputs": [
    {
     "name": "stdout",
     "output_type": "stream",
     "text": [
      "AT: Linz, Graz\n",
      "CZ: Brno, Praha, Ostrava, Hradec Kralove, Ceske Budejovice\n",
      "DE: Berlin\n",
      "SK: Kosice, Banska Bystrica, Bratislava\n"
     ]
    }
   ],
   "source": [
    "for stat in sorted(mesta):\n",
    "    print(stat,': ',mesta[stat],sep='')"
   ]
  },
  {
   "cell_type": "code",
   "execution_count": 57,
   "id": "8fdf10b1",
   "metadata": {},
   "outputs": [
    {
     "name": "stdout",
     "output_type": "stream",
     "text": [
      "AT: Linz, Graz\n",
      "CZ: Brno, Praha, Ostrava, Hradec Kralove, Ceske Budejovice\n",
      "DE: Berlin\n",
      "SK: Kosice, Banska Bystrica, Bratislava\n"
     ]
    }
   ],
   "source": [
    "for stat in sorted(mesta):\n",
    "    print(f'{stat}: {mesta[stat]}')"
   ]
  },
  {
   "cell_type": "code",
   "execution_count": 60,
   "id": "86917e3c",
   "metadata": {},
   "outputs": [
    {
     "name": "stdout",
     "output_type": "stream",
     "text": [
      "white\n",
      "white\n",
      "white\n"
     ]
    }
   ],
   "source": [
    "barvy = {'bila':'white', 'modra':'blue'}\n",
    "print(barvy['bila'])\n",
    "x='bila'\n",
    "print(barvy[x])\n",
    "L=['bila']\n",
    "print(barvy[L[0]])"
   ]
  },
  {
   "cell_type": "code",
   "execution_count": 74,
   "id": "1c7a62c9-4075-41e5-b6bd-88d4a896ad4f",
   "metadata": {},
   "outputs": [],
   "source": [
    "radky = ['CZ,Brno', 'CZ,Praha', 'SK,Kosice', 'DE,Berlin', 'SK,Banska Bystrica', 'CZ,Ostrava',\n",
    "         'CZ,Hradec Kralove', 'AT,Linz', 'SK,Bratislava', 'AT,Graz', 'CZ,Ceske Budejovice' ]\n",
    "#vypiste pro vzestupne serazeny seznam kodu statu a serazeny vzestupne seznam mest oddeleny carka_mezera\n",
    "#AT: Graz, Linz\n",
    "#CZ: Brno, Ceske Budejovice, Hradec Kralove, Ostrava, Praha\n",
    "#DE: Berlin\n",
    "#SK: Banska Bystrica, Bratislava, Kosice\n",
    "\n",
    "#ulozim si to do slovniku, kde klic je kod statu a hodnota SEZNAM mest (list retezcu)"
   ]
  },
  {
   "cell_type": "code",
   "execution_count": 61,
   "id": "9f528182-d24d-4be6-9d74-4ad0da9dcb01",
   "metadata": {},
   "outputs": [
    {
     "name": "stdout",
     "output_type": "stream",
     "text": [
      "{'CZ': ['Brno', 'Praha', 'Ostrava', 'Hradec Kralove', 'Ceske Budejovice'], 'SK': ['Kosice', 'Banska Bystrica', 'Bratislava'], 'DE': ['Berlin'], 'AT': ['Linz', 'Graz']}\n"
     ]
    }
   ],
   "source": [
    "mesta = dict()\n",
    "for radek in radky:\n",
    "    kod_statu, nazev_mesta = radek.split(',')\n",
    "    #print(kod_statu, nazev_mesta)\n",
    "    if kod_statu not in mesta: #je to prvni mesto nezameho statu?\n",
    "        mesta[kod_statu] = [ nazev_mesta ] #vlozim na klic jednoprvkovy list\n",
    "    else:\n",
    "        mesta[kod_statu].append(nazev_mesta) #do existujiciho listu pridavam na konec dalsi nazev mesta\n",
    "print(mesta)"
   ]
  },
  {
   "cell_type": "code",
   "execution_count": 64,
   "id": "2a4ef7f9",
   "metadata": {},
   "outputs": [
    {
     "name": "stdout",
     "output_type": "stream",
     "text": [
      "{'CZ': ['Brno', 'Praha', 'Ostrava', 'Hradec Kralove', 'Ceske Budejovice'], 'SK': ['Kosice', 'Banska Bystrica', 'Bratislava'], 'DE': ['Berlin'], 'AT': ['Linz', 'Graz']}\n"
     ]
    }
   ],
   "source": [
    "mesta = dict()\n",
    "for radek in radky:\n",
    "    kod_statu, nazev_mesta = radek.split(',')\n",
    "    #print(kod_statu, nazev_mesta)\n",
    "    if kod_statu not in mesta: #je to prvni mesto nezameho statu?\n",
    "        mesta[kod_statu] = [ ] #vlozim na klic prazdny list\n",
    "    mesta[kod_statu].append(nazev_mesta) #do existujiciho listu pridavam na konec dalsi nazev mesta\n",
    "print(mesta)"
   ]
  },
  {
   "cell_type": "code",
   "execution_count": 70,
   "id": "fb58f27e-d91c-4c34-97f9-0c211a3962dc",
   "metadata": {},
   "outputs": [
    {
     "name": "stdout",
     "output_type": "stream",
     "text": [
      "AT: Graz, Linz\n",
      "CZ: Brno, Ceske Budejovice, Hradec Kralove, Ostrava, Praha\n",
      "DE: Berlin\n",
      "SK: Banska Bystrica, Bratislava, Kosice\n"
     ]
    }
   ],
   "source": [
    "for stat in sorted(mesta):\n",
    "    print(stat,': ', ', '.join(sorted(mesta[stat])), sep='')"
   ]
  },
  {
   "cell_type": "code",
   "execution_count": 73,
   "id": "e08a56b2-fa3a-46eb-bc55-9738bb13e82d",
   "metadata": {},
   "outputs": [
    {
     "name": "stdout",
     "output_type": "stream",
     "text": [
      "{'CZ': ['Brno', 'Praha', 'Ostrava', 'Hradec Kralove', 'Ceske Budejovice'], 'SK': ['Kosice', 'Banska Bystrica', 'Bratislava'], 'DE': ['Berlin'], 'AT': ['Linz', 'Graz']}\n",
      "AT: Graz, Linz\n",
      "CZ: Brno, Ceske Budejovice, Hradec Kralove, Ostrava, Praha\n",
      "DE: Berlin\n",
      "SK: Banska Bystrica, Bratislava, Kosice\n",
      "{'CZ': ['Brno', 'Praha', 'Ostrava', 'Hradec Kralove', 'Ceske Budejovice'], 'SK': ['Kosice', 'Banska Bystrica', 'Bratislava'], 'DE': ['Berlin'], 'AT': ['Linz', 'Graz']}\n"
     ]
    }
   ],
   "source": [
    "mesta = dict()\n",
    "for radek in radky:\n",
    "    kod_statu, nazev_mesta = radek.split(',')\n",
    "    mesta.setdefault(kod_statu,[]).append(nazev_mesta)\n",
    "print(mesta)\n",
    "for stat in sorted(mesta):\n",
    "    print(stat,': ', ', '.join(sorted(mesta[stat])), sep='')\n",
    "print(mesta)"
   ]
  },
  {
   "cell_type": "markdown",
   "id": "837f1509-773b-45d1-97cb-c7c1fb11cfe6",
   "metadata": {},
   "source": [
    "## funkce/procedury/podprogramy"
   ]
  },
  {
   "cell_type": "code",
   "execution_count": 76,
   "id": "68645ca0-ce77-4f27-9809-b5b3cc62c7a5",
   "metadata": {},
   "outputs": [
    {
     "name": "stdout",
     "output_type": "stream",
     "text": [
      "3.61\n"
     ]
    }
   ],
   "source": [
    "#funkce jsou casto soucasti vyrazu (funkce vraci nejakou rozumnou hodnotu)\n",
    "import math\n",
    "print(round(math.sqrt(abs(-13)),2))\n",
    "#procedura je prikaz - neco udelej, nic nevraci, v Python procedura je funkce ktera vraci None"
   ]
  },
  {
   "cell_type": "code",
   "execution_count": 80,
   "id": "387cf13f-203a-4b82-84a8-b86ad109c17e",
   "metadata": {},
   "outputs": [
    {
     "name": "stdout",
     "output_type": "stream",
     "text": [
      "<function pozdrav at 0x000001F3D7DF5620> <class 'function'> 2146810418720\n"
     ]
    }
   ],
   "source": [
    "def pozdrav():\n",
    "    pass\n",
    "#print(dir())\n",
    "print(pozdrav, type(pozdrav), id(pozdrav))"
   ]
  },
  {
   "cell_type": "code",
   "execution_count": 85,
   "id": "7ff30ec7-f069-4fc6-87b0-4eb4eb719553",
   "metadata": {},
   "outputs": [
    {
     "name": "stdout",
     "output_type": "stream",
     "text": [
      "Dobry den !\n",
      "None\n",
      "Help on function pozdrav in module __main__:\n",
      "\n",
      "pozdrav()\n",
      "    toto je moje prvni funkce\n",
      "    je to vlastne procedura protoze nic (None) nevraci\n",
      "\n"
     ]
    }
   ],
   "source": [
    "def pozdrav():\n",
    "    \"\"\"toto je moje prvni funkce\n",
    "    je to vlastne procedura protoze nic (None) nevraci\"\"\"\n",
    "    print('Dobry den !')\n",
    "    #return None\n",
    "\n",
    "x=pozdrav()\n",
    "print(x)\n",
    "help(pozdrav)\n",
    "#pozdrav(10) #TypeError: pozdrav() takes 0 positional arguments but 1 was given"
   ]
  },
  {
   "cell_type": "code",
   "execution_count": 86,
   "id": "7d3bded4-32bd-4c03-9511-90a9b574c070",
   "metadata": {},
   "outputs": [
    {
     "name": "stdout",
     "output_type": "stream",
     "text": [
      "Volano secti s parametry cislo1=2 a cislo2=7\n",
      "9\n"
     ]
    }
   ],
   "source": [
    "def secti(cislo1, cislo2): #povinne 2 parametry\n",
    "    print(f'Volano secti s parametry {cislo1=} a {cislo2=}')\n",
    "    soucet = cislo1 + cislo2\n",
    "    return soucet\n",
    "\n",
    "suma = secti(2,7)\n",
    "print(suma)"
   ]
  },
  {
   "cell_type": "code",
   "execution_count": 93,
   "id": "3d1a3c7b",
   "metadata": {},
   "outputs": [
    {
     "name": "stdout",
     "output_type": "stream",
     "text": [
      "Volano secti s parametry cislo1=2 a cislo2=8\n",
      "10\n",
      "Volano secti s parametry cislo1=80 a cislo2=2\n",
      "82\n",
      "Volano secti s parametry cislo1=3 a cislo2=4\n",
      "7\n"
     ]
    }
   ],
   "source": [
    "#jak muzeme predavat pro volani fce parametry\n",
    "#pozicni parametry\n",
    "print(secti(2,8))\n",
    "#pojmenovane predavani parametru\n",
    "print(secti(cislo2=2,cislo1=80))\n",
    "#kombinace nejdrive pozicne potom pojmenovane\n",
    "print(secti(3,cislo2=4))\n",
    "#print(secti(3,cislo1=4)) #TypeError: secti() got multiple values for argument 'cislo1'\n",
    "#secti(2) #TypeError: secti() missing 1 required positional argument: 'cislo2'\n",
    "#secti(12,3,4,6,67) #TypeError: secti() takes 2 positional arguments but 5 were given"
   ]
  },
  {
   "cell_type": "code",
   "execution_count": 96,
   "id": "341521a9-fdcc-46dc-87d9-a8ea2a76a5ae",
   "metadata": {},
   "outputs": [
    {
     "name": "stdout",
     "output_type": "stream",
     "text": [
      "Volano secti s parametry cislo1=1 a cislo2=2 a cislo3=0\n",
      "3\n",
      "Volano secti s parametry cislo1=2 a cislo2=6 a cislo3=7\n",
      "15\n",
      "Volano secti s parametry cislo1=2 a cislo2=9 a cislo3=8\n",
      "19\n"
     ]
    }
   ],
   "source": [
    "def secti(cislo1, cislo2, cislo3=0):\n",
    "    print(f'Volano secti s parametry {cislo1=} a {cislo2=} a {cislo3=}')\n",
    "    soucet = cislo1 + cislo2 + cislo3\n",
    "    return soucet\n",
    "print(secti(1,2))\n",
    "print(secti(2,6,7))\n",
    "print(secti(2,cislo3=8,cislo2=9))"
   ]
  },
  {
   "cell_type": "code",
   "execution_count": 103,
   "id": "44904cf8-81d1-495f-b0fc-5e0be20ade7c",
   "metadata": {},
   "outputs": [
    {
     "name": "stdout",
     "output_type": "stream",
     "text": [
      "AT: Graz, Linz\n",
      "CZ: Brno, Ceske Budejovice, Hradec Kralove, Ostrava, Praha\n",
      "DE: Berlin\n",
      "SK: Banska Bystrica, Bratislava, Kosice\n"
     ]
    }
   ],
   "source": [
    "radky = ['CZ,Brno', 'CZ,Praha', 'SK,Kosice', 'DE,Berlin', 'SK,Banska Bystrica', 'CZ,Ostrava',\n",
    "         'CZ,Hradec Kralove', 'AT,Linz', 'SK,Bratislava', 'AT,Graz', 'CZ,Ceske Budejovice',\n",
    "         'CZ', '123,Kolin', '', 'SK,X']\n",
    "\n",
    "def kontrola_radku(p_radek, oddelovac = ','):\n",
    "    data = p_radek.split(oddelovac)\n",
    "    if len(data)==2 and len(data[0])==2 and data[0].isupper() and len(data[1])>1 and data[1][0].isupper():\n",
    "        return True\n",
    "    return False\n",
    "    \n",
    "mesta = dict()\n",
    "for radek in radky:\n",
    "    if kontrola_radku(radek):\n",
    "        kod_statu, nazev_mesta = radek.split(',')\n",
    "        mesta.setdefault(kod_statu,[]).append(nazev_mesta)\n",
    "#print(mesta)\n",
    "for stat in sorted(mesta):\n",
    "    print(stat,': ', ', '.join(sorted(mesta[stat])), sep='')\n"
   ]
  },
  {
   "cell_type": "code",
   "execution_count": 104,
   "id": "e3d94d8c-9c88-48b6-a2bc-f7ff90fea94b",
   "metadata": {},
   "outputs": [
    {
     "name": "stdout",
     "output_type": "stream",
     "text": [
      "Chybny radek CZ\n",
      "Chybny radek 123,Kolin\n",
      "Chybny radek \n",
      "Chybny radek SK,X\n",
      "AT: Graz, Linz\n",
      "CZ: Brno, Ceske Budejovice, Hradec Kralove, Ostrava, Praha\n",
      "DE: Berlin\n",
      "SK: Banska Bystrica, Bratislava, Kosice\n"
     ]
    }
   ],
   "source": [
    "radky = ['CZ,Brno', 'CZ,Praha', 'SK,Kosice', 'DE,Berlin', 'SK,Banska Bystrica', 'CZ,Ostrava',\n",
    "         'CZ,Hradec Kralove', 'AT,Linz', 'SK,Bratislava', 'AT,Graz', 'CZ,Ceske Budejovice',\n",
    "         'CZ', '123,Kolin', '', 'SK,X']\n",
    "\n",
    "def kontrola_radku(p_radek, oddelovac = ','):\n",
    "    data = p_radek.split(oddelovac)\n",
    "    if len(data)==2 and len(data[0])==2 and data[0].isupper() and len(data[1])>1 and data[1][0].isupper():\n",
    "        return True\n",
    "    return False\n",
    "    \n",
    "mesta = dict()\n",
    "for radek in radky:\n",
    "    if kontrola_radku(radek):\n",
    "        kod_statu, nazev_mesta = radek.split(',')\n",
    "        mesta.setdefault(kod_statu,[]).append(nazev_mesta)\n",
    "    else:\n",
    "        print('Chybny radek', radek)\n",
    "#print(mesta)\n",
    "for stat in sorted(mesta):\n",
    "    print(stat,': ', ', '.join(sorted(mesta[stat])), sep='')\n"
   ]
  },
  {
   "cell_type": "code",
   "execution_count": 107,
   "id": "cfa3e7db-ade8-47a1-aac1-aed9d56df0fc",
   "metadata": {},
   "outputs": [
    {
     "name": "stdout",
     "output_type": "stream",
     "text": [
      "True\n",
      "True\n",
      "False\n"
     ]
    }
   ],
   "source": [
    "print(len('CZ') in [2,3])\n",
    "print(len('CZE') in [2,3])\n",
    "print(len('CZEW') in [2,3])\n"
   ]
  },
  {
   "cell_type": "code",
   "execution_count": 109,
   "id": "a8ee0dc9-bc91-4e39-a0e5-36b9e20af491",
   "metadata": {},
   "outputs": [
    {
     "name": "stdout",
     "output_type": "stream",
     "text": [
      "[24, 68, 77]\n",
      "24\n"
     ]
    }
   ],
   "source": [
    "m=[ [12,45,7], [24,68,77] ]\n",
    "print(m[1])\n",
    "print(m[1][0])\n"
   ]
  },
  {
   "cell_type": "code",
   "execution_count": 112,
   "id": "149eeba8-32ed-433f-b2b3-5f254072a7e0",
   "metadata": {},
   "outputs": [
    {
     "name": "stdout",
     "output_type": "stream",
     "text": [
      "['Brno', 'Praha', 'Plzen']\n",
      "Brno\n",
      "o\n",
      "n\n"
     ]
    }
   ],
   "source": [
    "m=[ ['sdfsd','45','7'], ['Brno','Praha','Plzen'] ]\n",
    "print(m[1])\n",
    "print(m[1][0])\n",
    "print(m[1][0][-1])\n",
    "print(m[1][-1][-1])\n",
    "\n",
    "\n"
   ]
  }
 ],
 "metadata": {
  "kernelspec": {
   "display_name": "Python 3 (ipykernel)",
   "language": "python",
   "name": "python3"
  },
  "language_info": {
   "codemirror_mode": {
    "name": "ipython",
    "version": 3
   },
   "file_extension": ".py",
   "mimetype": "text/x-python",
   "name": "python",
   "nbconvert_exporter": "python",
   "pygments_lexer": "ipython3",
   "version": "3.12.7"
  }
 },
 "nbformat": 4,
 "nbformat_minor": 5
}
