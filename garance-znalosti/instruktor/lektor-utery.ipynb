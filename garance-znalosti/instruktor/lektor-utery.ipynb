{
 "cells": [
  {
   "cell_type": "code",
   "execution_count": null,
   "id": "167d9be0-36c3-4d79-8816-6bc124c17f0c",
   "metadata": {},
   "outputs": [],
   "source": [
    "#utery"
   ]
  },
  {
   "cell_type": "markdown",
   "id": "fee7475a-87cc-4559-b004-27f3c1d7c4b0",
   "metadata": {},
   "source": [
    "## list (seznam)"
   ]
  },
  {
   "cell_type": "code",
   "execution_count": 12,
   "id": "8e89d04d-79ae-4736-a41b-df4c41f13652",
   "metadata": {},
   "outputs": [
    {
     "name": "stdout",
     "output_type": "stream",
     "text": [
      "[] <class 'list'> 0\n",
      "[123, 6, -23, 'ahoj', 23.9] <class 'list'> 5\n",
      "[123, 6, -23, 'ahoj', 23.9] <class 'list'> 5\n",
      "123 45\n"
     ]
    }
   ],
   "source": [
    "x = []\n",
    "print(x, type(x), len(x))\n",
    "x = [     123, 6, -23, 'ahoj', 23.9 ] #vytvoreni listu lze pozmoci [] a uvnitr seznam prvku oddelenych ,\n",
    "print(x, type(x), len(x))\n",
    "y = [\n",
    "      123, 6, -23,\n",
    "     'ahoj', 23.9,\n",
    "    ]\n",
    "print(y, type(y), len(y))\n",
    "print(123,45,)"
   ]
  },
  {
   "cell_type": "code",
   "execution_count": 21,
   "id": "7f528b63-ad04-4dac-9569-67d6485fccf6",
   "metadata": {},
   "outputs": [
    {
     "name": "stdout",
     "output_type": "stream",
     "text": [
      "[] <class 'list'> 0\n",
      "['B', 'r', 'n', 'o'] <class 'list'> 4\n",
      "[12, 4, 'ahoj'] <class 'str'>\n",
      "['H', 'r', 'a', 'd', 'e', 'c', ' ', 'K', 'r', 'a', 'l', 'o', 'v', 'e']\n"
     ]
    }
   ],
   "source": [
    "x=list()\n",
    "print(x, type(x), len(x))\n",
    "pismena = list('Brno') #list volano je urceno ke konverzi \"necoho co neni list\" na list\n",
    "print(pismena, type(pismena),len(pismena))\n",
    "y=\"[12, 4, 'ahoj']\"\n",
    "print(y, type(y)) #toto neni list, je to retezec\n",
    "#print(list(123)) TypeError: 'int' object is not iterable\n",
    "print(list('Hradec Kralove'))"
   ]
  },
  {
   "cell_type": "code",
   "execution_count": 32,
   "id": "4016707d-80c9-4a96-829a-2571877f2597",
   "metadata": {},
   "outputs": [
    {
     "name": "stdout",
     "output_type": "stream",
     "text": [
      "[1, 2] ['tri', 'ctyri', 'pet']\n",
      "[1, 2, 'tri', 'ctyri', 'pet']\n",
      "[1, 2, 'tri', 'ctyri', 'pet'] <class 'list'> 5\n",
      "[1, 2, 1, 2, 1, 2]\n"
     ]
    }
   ],
   "source": [
    "#operace (operatoru) pro listy\n",
    "a=[1,2]\n",
    "b=[\"tri\",\"ctyri\",'pet']\n",
    "print(a, b)\n",
    "print(a+b) #spojeni leve a praveho listu\n",
    "c = a+b\n",
    "print(c, type(c), len(c))\n",
    "print( 3 * a) #opakovani prvku listu\n",
    "#print(a-b) #TypeError: unsupported operand type(s) for -: 'list' and 'list'\n",
    "#print(a/2) #TypeError: unsupported operand type(s) for /: 'list' and 'int'"
   ]
  },
  {
   "cell_type": "code",
   "execution_count": 39,
   "id": "bc41b474-f101-4e66-a197-332676d42638",
   "metadata": {},
   "outputs": [
    {
     "name": "stdout",
     "output_type": "stream",
     "text": [
      "10 40\n",
      "[20, 30, 40]\n",
      "[10, 20, 30, 40, 50, 60]\n",
      "[20, 30, 40]\n",
      "[10, 20, 30, 40, 50, 60]\n",
      "[60, 50, 40, 30, 20, 10]\n",
      "[10, 20, 30, 40, 50, 60]\n",
      "[60, 40, 20]\n"
     ]
    }
   ],
   "source": [
    "x=[10 , 20 , 30 , 40 , 50 , 60]\n",
    "print(x[0], x[3]) #vraci prvek na dane pozici , pozice je dana offsetem (posutim od prvniho prvku)\n",
    "print(x[1:-2]) #usek/rez cast posloupnosti, start:stop:step, step pokud neni je 1\n",
    "y=x[1:-2]\n",
    "print(x)\n",
    "print(y)\n",
    "y=x[::-1]\n",
    "print(x)\n",
    "print(y)\n",
    "y=x[::-2]\n",
    "print(x)\n",
    "print(y)"
   ]
  },
  {
   "cell_type": "code",
   "execution_count": 49,
   "id": "45c8512f-7485-4a2c-8c95-fb249d0222ce",
   "metadata": {},
   "outputs": [
    {
     "name": "stdout",
     "output_type": "stream",
     "text": [
      "[10, 20, 30, 40, 'padesat', 60]\n",
      "[10, 'dvacet', 30, 40, 'padesat', 60]\n",
      "[10, 'dvacet', 40, 'padesat', 60]\n",
      "[10, 'dvacet', 60]\n",
      "[77, 88, 99, 111, 60]\n",
      "[77, 88, 99, -10, -20, -30, 111, 60]\n"
     ]
    }
   ],
   "source": [
    "x = [10,20,30,40,'padesat',60]\n",
    "print(x)\n",
    "x[1] = 'dvacet' #zmane prvku na existujicim indexu\n",
    "print(x)\n",
    "#x[10] = 'ahoj' #IndexError: list assignment index out of range\n",
    "del x[2] #odstran z listu prvek na indexu 2 (treti prvek), musi tam byt\n",
    "print(x)\n",
    "del x[2:-1]\n",
    "print(x)\n",
    "x[:-1] = [77,88,99,111]\n",
    "print(x)\n",
    "x[3:-2]=[-10,-20,-30]\n",
    "print(x)"
   ]
  },
  {
   "cell_type": "code",
   "execution_count": 55,
   "id": "4b00e0d4-077a-4bb8-a733-ffc935ca4f23",
   "metadata": {},
   "outputs": [
    {
     "name": "stdout",
     "output_type": "stream",
     "text": [
      "[10, 20, 30, 40, 'padesat', 60, 70]\n",
      "[10, 20, 30, 40, 'padesat', 60, 70, [80, 90]]\n",
      "[80, 90]\n"
     ]
    }
   ],
   "source": [
    "x = [10,20,30,40,'padesat',60]\n",
    "x.append(70)\n",
    "print(x)\n",
    "x.append([80,90])\n",
    "print(x)\n",
    "print(x[-1])"
   ]
  },
  {
   "cell_type": "code",
   "execution_count": 59,
   "id": "e4ad2f2d-04ec-4c30-bb8a-45bfc2cea341",
   "metadata": {},
   "outputs": [
    {
     "name": "stdout",
     "output_type": "stream",
     "text": [
      "[1, 2, 3]\n",
      "[1, 2, 3, 4]\n"
     ]
    }
   ],
   "source": [
    "x=[1,2,3]\n",
    "print(x)\n",
    "x[3:]=[4]\n",
    "print(x)"
   ]
  },
  {
   "cell_type": "code",
   "execution_count": 60,
   "id": "0f7d32a3-7878-45dc-ad1e-aa671c543af6",
   "metadata": {},
   "outputs": [
    {
     "name": "stdout",
     "output_type": "stream",
     "text": [
      "[1, 2, 3]\n",
      "[1, 2, 3, 4, 5, 6]\n"
     ]
    }
   ],
   "source": [
    "x=[1,2,3]\n",
    "print(x)\n",
    "x[3:]=[4,5,6]\n",
    "print(x)"
   ]
  },
  {
   "cell_type": "code",
   "execution_count": 57,
   "id": "23e060b8-07d0-4ed8-af95-55b52ffa2889",
   "metadata": {},
   "outputs": [
    {
     "name": "stdout",
     "output_type": "stream",
     "text": [
      "[10, 20, 30, 40, 'padesat', 60, 70]\n",
      "[10, 20, 30, 40, 'padesat', 60, 70, 80, 90]\n",
      "90\n",
      "[10, -999, 20, 30, 40, 'padesat', 60, 70, 80, 90]\n"
     ]
    }
   ],
   "source": [
    "x = [10,20,30,40,'padesat',60]\n",
    "x.append(70)\n",
    "print(x)\n",
    "x.extend([80,90])\n",
    "print(x)\n",
    "print(x[-1])\n",
    "x.insert(1,-999) #pozice/index/offset , hodnota (prvek)\n",
    "print(x)\n"
   ]
  },
  {
   "cell_type": "code",
   "execution_count": 64,
   "id": "fd31699e-f6c3-4934-aa72-fdc281c79ce4",
   "metadata": {},
   "outputs": [
    {
     "name": "stdout",
     "output_type": "stream",
     "text": [
      "60\n",
      "[10, 20, 30, 40, 'padesat']\n",
      "10\n",
      "[20, 30, 40, 'padesat']\n"
     ]
    }
   ],
   "source": [
    "x = [10,20,30,40,'padesat',60]\n",
    "y = x.pop()\n",
    "print(y)\n",
    "print(x)\n",
    "y = x.pop(0)\n",
    "print(y)\n",
    "print(x)"
   ]
  },
  {
   "cell_type": "code",
   "execution_count": 69,
   "id": "2f9520f1-16ed-42a7-8d27-b7d8d43bde3d",
   "metadata": {},
   "outputs": [
    {
     "name": "stdout",
     "output_type": "stream",
     "text": [
      "[10, 20, 30, 'padesat', 60, 40, 88, 40]\n",
      "[10, 20, 30, 'padesat', 60, 88, 40]\n",
      "[10, 20, 30, 'padesat', 60, 88]\n"
     ]
    }
   ],
   "source": [
    "x = [10,20,30,40,'padesat',60, 40,88, 40]\n",
    "x.remove(40) #jako del x[3]\n",
    "print(x)\n",
    "x.remove(40)\n",
    "print(x)\n",
    "x.remove(40)\n",
    "print(x)"
   ]
  },
  {
   "cell_type": "code",
   "execution_count": 70,
   "id": "060e46e2-4440-4f06-97de-2e97a067d1ad",
   "metadata": {},
   "outputs": [
    {
     "name": "stdout",
     "output_type": "stream",
     "text": [
      "Help on method_descriptor:\n",
      "\n",
      "remove(self, value, /) unbound builtins.list method\n",
      "    Remove first occurrence of value.\n",
      "\n",
      "    Raises ValueError if the value is not present.\n",
      "\n"
     ]
    }
   ],
   "source": [
    "help(list.remove)"
   ]
  },
  {
   "cell_type": "code",
   "execution_count": 73,
   "id": "cfd80ddf-1b6f-4608-b863-6cbf39ef04bf",
   "metadata": {},
   "outputs": [
    {
     "name": "stdout",
     "output_type": "stream",
     "text": [
      "[34, 7, 12, -9, 2]\n",
      "[-9, 2, 7, 12, 34]\n",
      "[34, 12, 7, 2, -9]\n"
     ]
    }
   ],
   "source": [
    "#listy by mely byt homogenni !!!!\n",
    "cisla = [34,7,12,-9,2]\n",
    "print(cisla)\n",
    "cisla.sort()\n",
    "print(cisla)\n",
    "cisla.sort(reverse = True)\n",
    "print(cisla)"
   ]
  },
  {
   "cell_type": "code",
   "execution_count": 74,
   "id": "40336870-bb83-4403-8b40-24c760984734",
   "metadata": {},
   "outputs": [
    {
     "name": "stdout",
     "output_type": "stream",
     "text": [
      "[34, 7, '12', -9, 2]\n"
     ]
    },
    {
     "ename": "TypeError",
     "evalue": "'<' not supported between instances of 'str' and 'int'",
     "output_type": "error",
     "traceback": [
      "\u001b[1;31m---------------------------------------------------------------------------\u001b[0m",
      "\u001b[1;31mTypeError\u001b[0m                                 Traceback (most recent call last)",
      "Cell \u001b[1;32mIn[74], line 4\u001b[0m\n\u001b[0;32m      2\u001b[0m cisla \u001b[38;5;241m=\u001b[39m [\u001b[38;5;241m34\u001b[39m,\u001b[38;5;241m7\u001b[39m,\u001b[38;5;124m'\u001b[39m\u001b[38;5;124m12\u001b[39m\u001b[38;5;124m'\u001b[39m,\u001b[38;5;241m-\u001b[39m\u001b[38;5;241m9\u001b[39m,\u001b[38;5;241m2\u001b[39m]\n\u001b[0;32m      3\u001b[0m \u001b[38;5;28mprint\u001b[39m(cisla)\n\u001b[1;32m----> 4\u001b[0m cisla\u001b[38;5;241m.\u001b[39msort()\n\u001b[0;32m      5\u001b[0m \u001b[38;5;28mprint\u001b[39m(cisla)\n",
      "\u001b[1;31mTypeError\u001b[0m: '<' not supported between instances of 'str' and 'int'"
     ]
    }
   ],
   "source": [
    "#listy by mely byt homogenni !!!!\n",
    "cisla = [34,7,'12',-9,2]\n",
    "print(cisla)\n",
    "cisla.sort()\n",
    "print(cisla)"
   ]
  },
  {
   "cell_type": "code",
   "execution_count": 75,
   "id": "fcdbd7a1-24d3-4bfc-9fdc-e96f5e28ea1d",
   "metadata": {},
   "outputs": [
    {
     "name": "stdout",
     "output_type": "stream",
     "text": [
      "46 34 -9\n"
     ]
    }
   ],
   "source": [
    "cisla = [34,7,12,-9,2]\n",
    "print(sum(cisla), max(cisla), min(cisla))"
   ]
  },
  {
   "cell_type": "code",
   "execution_count": 76,
   "id": "fbaeb9e0-adf0-40d7-89c8-bd503bead0c5",
   "metadata": {},
   "outputs": [
    {
     "name": "stdout",
     "output_type": "stream",
     "text": [
      "['Jan', 'Eva', 'Adam', 'Frantisek']\n",
      "['Adam', 'Eva', 'Frantisek', 'Jan']\n"
     ]
    }
   ],
   "source": [
    "jmena = [ 'Jan','Eva','Adam','Frantisek']\n",
    "serazena_jmena = sorted(jmena)\n",
    "print(jmena)\n",
    "print(serazena_jmena)"
   ]
  },
  {
   "cell_type": "code",
   "execution_count": 77,
   "id": "5606e5f7-2841-4eda-b3ee-7c50243cbd29",
   "metadata": {},
   "outputs": [
    {
     "ename": "TypeError",
     "evalue": "'<' not supported between instances of 'int' and 'str'",
     "output_type": "error",
     "traceback": [
      "\u001b[1;31m---------------------------------------------------------------------------\u001b[0m",
      "\u001b[1;31mTypeError\u001b[0m                                 Traceback (most recent call last)",
      "Cell \u001b[1;32mIn[77], line 2\u001b[0m\n\u001b[0;32m      1\u001b[0m jmena \u001b[38;5;241m=\u001b[39m [ \u001b[38;5;124m'\u001b[39m\u001b[38;5;124mJan\u001b[39m\u001b[38;5;124m'\u001b[39m,\u001b[38;5;124m'\u001b[39m\u001b[38;5;124mEva\u001b[39m\u001b[38;5;124m'\u001b[39m,\u001b[38;5;124m'\u001b[39m\u001b[38;5;124mAdam\u001b[39m\u001b[38;5;124m'\u001b[39m,\u001b[38;5;124m'\u001b[39m\u001b[38;5;124mFrantisek\u001b[39m\u001b[38;5;124m'\u001b[39m, \u001b[38;5;241m123\u001b[39m]\n\u001b[1;32m----> 2\u001b[0m serazena_jmena \u001b[38;5;241m=\u001b[39m \u001b[38;5;28msorted\u001b[39m(jmena)\n\u001b[0;32m      3\u001b[0m \u001b[38;5;28mprint\u001b[39m(jmena)\n\u001b[0;32m      4\u001b[0m \u001b[38;5;28mprint\u001b[39m(serazena_jmena)\n",
      "\u001b[1;31mTypeError\u001b[0m: '<' not supported between instances of 'int' and 'str'"
     ]
    }
   ],
   "source": [
    "jmena = [ 'Jan','Eva','Adam','Frantisek', 123]\n",
    "serazena_jmena = sorted(jmena)\n",
    "print(jmena)\n",
    "print(serazena_jmena)"
   ]
  },
  {
   "cell_type": "code",
   "execution_count": 88,
   "id": "3f31cbde-abe2-425d-9daa-6a6189d2e757",
   "metadata": {},
   "outputs": [
    {
     "name": "stdout",
     "output_type": "stream",
     "text": [
      "2\n",
      "5\n",
      "2\n",
      "7\n",
      "0\n"
     ]
    }
   ],
   "source": [
    "cisla = [23,6,7,23,45,11,26,7]\n",
    "print(cisla.count(23)) #kolikrat tam je cislo\n",
    "print(cisla.index(11)) #index kde se nachazi sesty prvek = offset 5\n",
    "print(cisla.index(7)) #prvni vyskyt\n",
    "print(cisla.index(7,3)) #posledni vyskyt, 3 znamena odkud zacmene hledat\n",
    "print(cisla.count(110))\n",
    "#print(cisla.index(110)) #ValueError: 110 is not in list"
   ]
  },
  {
   "cell_type": "code",
   "execution_count": 91,
   "id": "a7b5dd01-3ffc-4d1c-a1d2-7551fbf12adc",
   "metadata": {},
   "outputs": [
    {
     "name": "stdout",
     "output_type": "stream",
     "text": [
      "Help on method_descriptor:\n",
      "\n",
      "clear(self, /) unbound builtins.list method\n",
      "    Remove all items from list.\n",
      "\n"
     ]
    }
   ],
   "source": [
    "#help(list)\n",
    "help(list.clear)"
   ]
  },
  {
   "cell_type": "code",
   "execution_count": 93,
   "id": "3994ed5e-d788-4455-a642-d7ca23690c4d",
   "metadata": {},
   "outputs": [
    {
     "name": "stdout",
     "output_type": "stream",
     "text": [
      "[4354, 243, 243, 43, 56, 54, 6567, 5, 675, 6, 56745, 7]\n",
      "[]\n"
     ]
    }
   ],
   "source": [
    "cisla = [4354,243,243,43,56,54,6567,5,675,6,56745,7]\n",
    "print(cisla)\n",
    "cisla.clear()\n",
    "print(cisla)"
   ]
  },
  {
   "cell_type": "code",
   "execution_count": 94,
   "id": "2dcdc1aa-5103-4c57-b8b7-e1d297089e2d",
   "metadata": {},
   "outputs": [
    {
     "name": "stdout",
     "output_type": "stream",
     "text": [
      "[4354, 243, 243, 43, 56, 54, 6567, 5, 675, 6, 56745, 7]\n",
      "[]\n"
     ]
    }
   ],
   "source": [
    "cisla = [4354,243,243,43,56,54,6567,5,675,6,56745,7]\n",
    "print(cisla)\n",
    "cisla=[]\n",
    "print(cisla)"
   ]
  },
  {
   "cell_type": "code",
   "execution_count": 95,
   "id": "7556874f-8cc6-497d-a7f3-f3ea71e4c609",
   "metadata": {},
   "outputs": [
    {
     "name": "stdout",
     "output_type": "stream",
     "text": [
      "[3, 6, 9]\n",
      "[3, 6, 9]\n"
     ]
    }
   ],
   "source": [
    "x = [3,6,9]\n",
    "y = x\n",
    "print(x)\n",
    "print(y)"
   ]
  },
  {
   "cell_type": "code",
   "execution_count": 97,
   "id": "e6ca429a-bdac-4532-993b-9aa3e18f8f1f",
   "metadata": {},
   "outputs": [
    {
     "name": "stdout",
     "output_type": "stream",
     "text": [
      "[3, 6, 9, 13]\n",
      "[3, 6, 9, 13]\n"
     ]
    }
   ],
   "source": [
    "x = [3,6,9]\n",
    "y = x\n",
    "x.append(13)\n",
    "print(x)\n",
    "print(y)"
   ]
  },
  {
   "cell_type": "code",
   "execution_count": 99,
   "id": "2761aa3e-5609-4f1b-b814-2a9e10cd7ce8",
   "metadata": {},
   "outputs": [
    {
     "name": "stdout",
     "output_type": "stream",
     "text": [
      "23000 23000\n",
      "28000 23000\n"
     ]
    }
   ],
   "source": [
    "plat = 23000\n",
    "plat2 = plat\n",
    "print(plat, plat2)\n",
    "plat+=5000\n",
    "print(plat, plat2)\n"
   ]
  },
  {
   "cell_type": "markdown",
   "id": "42a5a7e1-fb56-4f40-babf-b290d0266e46",
   "metadata": {},
   "source": [
    "## n-tice (tuple)"
   ]
  },
  {
   "cell_type": "code",
   "execution_count": 103,
   "id": "efc36076-8db7-4352-965f-fc43ce83fbda",
   "metadata": {},
   "outputs": [
    {
     "name": "stdout",
     "output_type": "stream",
     "text": [
      "() <class 'tuple'> 0\n",
      "12 <class 'int'>\n",
      "(12,) <class 'tuple'> 1\n"
     ]
    }
   ],
   "source": [
    "x=()\n",
    "print(x, type(x), len(x))\n",
    "x=(12)\n",
    "print(x, type(x))\n",
    "x=(12,)\n",
    "print(x, type(x), len(x))"
   ]
  },
  {
   "cell_type": "code",
   "execution_count": 111,
   "id": "c571bf29-0f24-4b03-8318-fe360ce0dc7f",
   "metadata": {},
   "outputs": [
    {
     "name": "stdout",
     "output_type": "stream",
     "text": [
      "(12, 67, 89, -3) <class 'tuple'> 4\n",
      "12 -3 89\n",
      "(67, 89)\n",
      "(-3, 89, 67, 12)\n",
      "('asdsd', 'asddasd', 'asdsd', 'asddasd')\n",
      "(12, 67, 89, -3, 'asdsd', 'asddasd')\n"
     ]
    }
   ],
   "source": [
    "x=(12,67,89,-3)\n",
    "print(x, type(x), len(x))\n",
    "#indexy a useky\n",
    "print(x[0], x[-1], x[2]) #pristup k prvku n-tice na damen indexu\n",
    "print(x[1:-1])\n",
    "print(x[::-1])\n",
    "y=('asdsd','asddasd')\n",
    "print(2*y)\n",
    "print(x+y)"
   ]
  },
  {
   "cell_type": "code",
   "execution_count": 122,
   "id": "0fb4d715-bb61-43f8-bada-1610b6cfed63",
   "metadata": {},
   "outputs": [
    {
     "name": "stdout",
     "output_type": "stream",
     "text": [
      "2\n",
      "2\n",
      "0\n"
     ]
    }
   ],
   "source": [
    "x=(12,67,89,-3,-3,-4)\n",
    "#del x[1] #smaz 67 TypeError: 'tuple' object doesn't support item deletion\n",
    "#x[1]=56 #TypeError: 'tuple' object does not support item assignment\n",
    "#x.append(678) #AttributeError: 'tuple' object has no attribute 'append'\n",
    "print(x.index(89))\n",
    "print(x.count(-3))\n",
    "print(x.count(-40))\n"
   ]
  },
  {
   "cell_type": "code",
   "execution_count": 116,
   "id": "8da5cd91-bbef-4f69-97a7-3f2a126fe3a0",
   "metadata": {},
   "outputs": [
    {
     "name": "stdout",
     "output_type": "stream",
     "text": [
      "(2025, 1, 28) 2025\n",
      "(2026, 6, 25) 2026\n",
      "True\n"
     ]
    }
   ],
   "source": [
    "# n-tice v Pythonu nahrazuji record (definice vlastniho type pro hodnoty) v jinych jazycich\n",
    "datum1 = (2025, 1, 28)\n",
    "print(datum1, datum1[0])\n",
    "datum2 = (2026, 6, 25)\n",
    "print(datum2, datum2[0])\n",
    "print(datum2[0] > datum1[0])"
   ]
  },
  {
   "cell_type": "code",
   "execution_count": 127,
   "id": "5262ee8d-2d85-4db1-a955-4f18b31fce65",
   "metadata": {},
   "outputs": [
    {
     "name": "stdout",
     "output_type": "stream",
     "text": [
      "('Jan', 'Novak', 34, 29000)\n",
      "('Adam', 'Prochazka', 30, 31000)\n",
      "[('Jan', 'Novak', 34, 29000), ('Adam', 'Prochazka', 30, 31000)]\n",
      "[('Adam', 'Prochazka', 30, 31000), ('Jan', 'Novak', 34, 29000)]\n"
     ]
    }
   ],
   "source": [
    "#n-tice jsou casto nehomogenni, jednotlive prvky mohou/jsou jineho typu\n",
    "osoba1 = ('Jan', 'Novak', 34, 29_000)\n",
    "print(osoba1)\n",
    "osoba2 = ('Adam', 'Prochazka', 30, 31_000)\n",
    "print(osoba2)\n",
    "osoby = [ osoba1, osoba2 ]\n",
    "print(osoby)\n",
    "print(sorted(osoby))"
   ]
  },
  {
   "cell_type": "code",
   "execution_count": 135,
   "id": "e006292b-83e2-496d-95a7-b257639933bc",
   "metadata": {},
   "outputs": [
    {
     "name": "stdout",
     "output_type": "stream",
     "text": [
      "[(1, 'Jana', 23000), (2, 'Petr', 33000), (7, 'Tomas', 13000), (9, 'Adam', 25000)]\n",
      "[(1, 'Jana', 23000), (2, 'Petr', 33000), (7, 'Tomas', 13000)]\n",
      "23000\n",
      "[(1, 'Jana', 55000), (2, 'Petr', 33000), (7, 'Tomas', 13000)]\n"
     ]
    }
   ],
   "source": [
    "import sqlite3\n",
    "conn = sqlite3.connect(r'e:\\osoby.sqlite')\n",
    "data = conn.cursor().execute('select * from osoby').fetchall()\n",
    "print(data)\n",
    "del data[-1]\n",
    "print(data)\n",
    "conn.close()\n",
    "print(data[0][2])\n",
    "#data[0][2]=55000 #TypeError: 'tuple' object does not support item assignment\n",
    "data[0]=(data[0][0], data[0][1], 55000)\n",
    "print(data)"
   ]
  },
  {
   "cell_type": "code",
   "execution_count": 138,
   "id": "acaa264d-2c31-4979-8d68-935b0d923d89",
   "metadata": {},
   "outputs": [
    {
     "name": "stdout",
     "output_type": "stream",
     "text": [
      "[1, 'Jana', 23000]\n",
      "[1, 'Janicka', 23000]\n",
      "(1, 'Janicka', 23000)\n"
     ]
    }
   ],
   "source": [
    "t = (1, 'Jana', 23000)\n",
    "l = list(t)\n",
    "print(l)\n",
    "l[1]='Janicka'\n",
    "print(l)\n",
    "print(tuple(l))"
   ]
  },
  {
   "cell_type": "code",
   "execution_count": 141,
   "id": "b59bbbf0-2987-4e52-89a4-9272c07ce159",
   "metadata": {},
   "outputs": [
    {
     "name": "stdout",
     "output_type": "stream",
     "text": [
      "(3, 1) <class 'tuple'> 2\n",
      "(3, 1)\n"
     ]
    }
   ],
   "source": [
    "x=divmod(10,3)\n",
    "print(x, type(x), len(x))\n",
    "print((10//3,10%3))"
   ]
  },
  {
   "cell_type": "code",
   "execution_count": 143,
   "id": "a5e1564f-a815-435d-b982-39ab83d827a9",
   "metadata": {},
   "outputs": [
    {
     "name": "stdout",
     "output_type": "stream",
     "text": [
      "Jan Novak\n",
      "['Jan', 'Novak']\n"
     ]
    }
   ],
   "source": [
    "jmeno = 'Jan Novak'\n",
    "print(jmeno)\n",
    "print(jmeno.split())"
   ]
  },
  {
   "cell_type": "code",
   "execution_count": 146,
   "id": "bf9668a4-17bc-4656-8244-94b7f11b8f9a",
   "metadata": {},
   "outputs": [
    {
     "name": "stdout",
     "output_type": "stream",
     "text": [
      "['CZ,Brno']\n",
      "['CZ', 'Brno', '397000']\n"
     ]
    }
   ],
   "source": [
    "print('CZ,Brno'.split())\n",
    "print('CZ,Brno,397000'.split(','))"
   ]
  },
  {
   "cell_type": "code",
   "execution_count": 152,
   "id": "a21921bc-559f-410d-af01-c6aac1cdd058",
   "metadata": {},
   "outputs": [
    {
     "name": "stdout",
     "output_type": "stream",
     "text": [
      "['Hello', 'world', 'from', 'Gopas']\n",
      "Hello-^-world-^-from-^-Gopas <class 'str'>\n"
     ]
    }
   ],
   "source": [
    "slova = ['Hello','world' ,'from','Gopas']\n",
    "print(slova)\n",
    "x='-^-'.join(slova)\n",
    "print(x,type(x))"
   ]
  },
  {
   "cell_type": "markdown",
   "id": "4e90c99e-44b8-42f7-a573-1e8d549cdd03",
   "metadata": {},
   "source": [
    "## mnoziny (sets)"
   ]
  },
  {
   "cell_type": "code",
   "execution_count": 169,
   "id": "7aede077-36aa-4f7e-a19c-96c0c67b372e",
   "metadata": {},
   "outputs": [
    {
     "name": "stdout",
     "output_type": "stream",
     "text": [
      "{} <class 'dict'> 0\n",
      "set() <class 'set'> 0\n",
      "{'zelena', 'cerna', 'bila'} <class 'set'> 3\n",
      "{'hneda', 'bila', 'zluta'}\n",
      "{'hneda', 'bila', 'zluta', 'modra'}\n",
      "{'bila'}\n",
      "{'zelena', 'cerna'}\n",
      "{'hneda', 'modra', 'zluta'}\n",
      "{'cerna', 'bila'}\n"
     ]
    }
   ],
   "source": [
    "x={}\n",
    "print(x,type(x), len(x))\n",
    "x=set() #vytvori prazdnou mnozinu\n",
    "print(x,type(x), len(x))\n",
    "barvy1 = {'cerna','bila','zelena','cerna'}\n",
    "print(barvy1, type(barvy1), len(barvy1))\n",
    "barvy2 = {'bila','zluta','hneda'}\n",
    "print(barvy2)\n",
    "barvy2.add('modra') #mnozina je menitelne, prodame motodou add\n",
    "print(barvy2)\n",
    "print(barvy1.intersection(barvy2))\n",
    "print(barvy1-barvy2)\n",
    "print(barvy2-barvy1)\n",
    "#barvy1.remove(123) #KeyError: 123\n",
    "barvy1.discard(123)\n",
    "barvy1.discard('zelena')\n",
    "print(barvy1)\n"
   ]
  },
  {
   "cell_type": "code",
   "execution_count": 172,
   "id": "094b1c85-f561-4b58-bc64-9fb3811ae08d",
   "metadata": {},
   "outputs": [
    {
     "name": "stdout",
     "output_type": "stream",
     "text": [
      "frozenset({'hneda', 'bila', 'zluta', 'modra'})\n"
     ]
    }
   ],
   "source": [
    "x=frozenset(barvy2)\n",
    "print(x)\n",
    "#x.discard('bila') #AttributeError: 'frozenset' object has no attribute 'discard'"
   ]
  },
  {
   "cell_type": "code",
   "execution_count": 175,
   "id": "91d8ca11-71fb-492a-acfc-49c7a1d92977",
   "metadata": {},
   "outputs": [],
   "source": [
    "#help(set)\n",
    "#print(barvy2[1]) #TypeError: 'set' object is not subscriptable"
   ]
  },
  {
   "cell_type": "code",
   "execution_count": 179,
   "id": "4fd64ab3-4bc4-4e5d-a1e7-52fdb5ad0447",
   "metadata": {},
   "outputs": [
    {
     "name": "stdout",
     "output_type": "stream",
     "text": [
      "[12, 67, 23, 12, 8, 9, 67, 5, 8, 12]\n",
      "{67, 5, 8, 9, 12, 23}\n",
      "[67, 5, 8, 9, 12, 23]\n"
     ]
    }
   ],
   "source": [
    "cisla = [12,67,23,12,8,9,67,5,8,12]\n",
    "print(cisla)\n",
    "x=set(cisla)\n",
    "print(x)\n",
    "cisla = list(x)\n",
    "print(cisla)"
   ]
  },
  {
   "cell_type": "code",
   "execution_count": 180,
   "id": "39f8f0cc-df6d-4b8c-9d50-11cc2f318554",
   "metadata": {},
   "outputs": [
    {
     "name": "stdout",
     "output_type": "stream",
     "text": [
      "['k', 'l', 't', 'v', 'a', 'm', 'o', 'i']\n"
     ]
    }
   ],
   "source": [
    "slovo = 'lokomotiva'\n",
    "#seznam unikatni znaku ze slova\n",
    "znaky = list(set(slovo))\n",
    "print(znaky)"
   ]
  },
  {
   "cell_type": "code",
   "execution_count": 181,
   "id": "c9b055db-22d3-4ebc-8303-e6c3f3fd4b9f",
   "metadata": {},
   "outputs": [
    {
     "name": "stdout",
     "output_type": "stream",
     "text": [
      "{(1, 'Jan'), 'dsffsd', 12}\n"
     ]
    }
   ],
   "source": [
    "x={12,'dsffsd',(1,'Jan')} #prvky mnoziny nohou byt pouze nemenitelne (hashovatelne) objekty\n",
    "print(x)"
   ]
  },
  {
   "cell_type": "code",
   "execution_count": 182,
   "id": "a6403b52-8d58-4aa7-b3cf-94650857396c",
   "metadata": {},
   "outputs": [
    {
     "ename": "TypeError",
     "evalue": "unhashable type: 'list'",
     "output_type": "error",
     "traceback": [
      "\u001b[1;31m---------------------------------------------------------------------------\u001b[0m",
      "\u001b[1;31mTypeError\u001b[0m                                 Traceback (most recent call last)",
      "Cell \u001b[1;32mIn[182], line 1\u001b[0m\n\u001b[1;32m----> 1\u001b[0m x\u001b[38;5;241m=\u001b[39m{\u001b[38;5;241m12\u001b[39m,\u001b[38;5;124m'\u001b[39m\u001b[38;5;124mdsffsd\u001b[39m\u001b[38;5;124m'\u001b[39m,[\u001b[38;5;241m1\u001b[39m,\u001b[38;5;124m'\u001b[39m\u001b[38;5;124mJan\u001b[39m\u001b[38;5;124m'\u001b[39m]}\n\u001b[0;32m      2\u001b[0m \u001b[38;5;28mprint\u001b[39m(x)\n",
      "\u001b[1;31mTypeError\u001b[0m: unhashable type: 'list'"
     ]
    }
   ],
   "source": [
    "x={12,'dsffsd',[1,'Jan']}\n",
    "print(x)"
   ]
  },
  {
   "cell_type": "markdown",
   "id": "5fc38e1e-476b-4b5f-b5ff-1e623d94b739",
   "metadata": {},
   "source": [
    "## slovniky (dictionaries) dict"
   ]
  },
  {
   "cell_type": "code",
   "execution_count": 189,
   "id": "3c617fd1-a56c-4e62-b9b6-6192682290d5",
   "metadata": {},
   "outputs": [
    {
     "name": "stdout",
     "output_type": "stream",
     "text": [
      "{} <class 'dict'> 0\n",
      "{'cerna': 'black', 'bila': 'white'}\n",
      "white\n",
      "{'cerna': 'black', 'bila': 'WHIte'}\n",
      "{'cerna': 'black', 'bila': 'WHIte', 'zluta': 'yellow'}\n",
      "{'bila': 'WHIte', 'zluta': 'yellow'}\n"
     ]
    }
   ],
   "source": [
    "x={}\n",
    "print(x, type(x), len(x))\n",
    "x = {'cerna':'black', 'bila':'white'} #hashe nemaji indexy ale maji klice\n",
    "print(x)\n",
    "print(x['bila']) #pristup pres klic\n",
    "#dict neumi slice\n",
    "#print(x['bila':'cerna']) #KeyError: slice('bila', 'cerna', None)\n",
    "x['bila']='WHIte'\n",
    "print(x)\n",
    "x['zluta']='yellow'\n",
    "print(x)\n",
    "del x['cerna']\n",
    "print(x)"
   ]
  },
  {
   "cell_type": "code",
   "execution_count": 195,
   "id": "da4b3038-7470-4f66-a717-c64c54400434",
   "metadata": {},
   "outputs": [
    {
     "name": "stdout",
     "output_type": "stream",
     "text": [
      "dict_keys(['bila', 'zluta']) ['bila', 'zluta']\n",
      "['WHIte', 'yellow']\n",
      "{10: 100, 20: 400, 11: 121, 9: 100}\n"
     ]
    }
   ],
   "source": [
    "print(x.keys(),list(x.keys()))\n",
    "print(list(x.values()))\n",
    "y={10:0, 20:400,11:121,9:100, 10:100}\n",
    "print(y)\n",
    "#klice slovniku pouze nemenitelne objekty int, str, tuple\n",
    "#hodnota cokoliv"
   ]
  },
  {
   "cell_type": "code",
   "execution_count": 198,
   "id": "dfcc4394-d9e6-42d3-8fb3-dc32dc812360",
   "metadata": {},
   "outputs": [
    {
     "name": "stdout",
     "output_type": "stream",
     "text": [
      "900\n"
     ]
    }
   ],
   "source": [
    "druhe_mocniny = {10:100, 20:400, 30:900, 40:1600, 50:2500}\n",
    "print(druhe_mocniny[30])\n"
   ]
  },
  {
   "cell_type": "code",
   "execution_count": 199,
   "id": "3631a836-a4f8-4899-af7e-40c419599044",
   "metadata": {},
   "outputs": [
    {
     "name": "stdout",
     "output_type": "stream",
     "text": [
      "schwarz\n",
      "black\n"
     ]
    }
   ],
   "source": [
    "b = {'cervena' : {'en': 'red', 'de': 'rot'},\n",
    "     'cerna' : {'en': 'black', 'de': 'schwarz'}\n",
    "    }\n",
    "print(b['cerna']['de'])\n",
    "print(b['cerna']['en'])\n",
    "\n"
   ]
  },
  {
   "cell_type": "code",
   "execution_count": 202,
   "id": "0ae4fc84-ddce-4c68-9dfd-84233e3d4479",
   "metadata": {},
   "outputs": [
    {
     "name": "stdout",
     "output_type": "stream",
     "text": [
      "[1, 4, 7]\n",
      "9\n",
      "9\n"
     ]
    }
   ],
   "source": [
    "matice  = [[1,4,7],\n",
    "           [5,-3,9],\n",
    "           [7,123,4]\n",
    "          ]\n",
    "print(matice[0]) #1 radek matice\n",
    "print(matice[1][-1]) #posledni prvek 2 radku matice\n",
    "print(matice[1][2]) #posledni prvek 2 radku matice"
   ]
  },
  {
   "cell_type": "code",
   "execution_count": 203,
   "id": "d4679e1b-4fcc-492f-bbbd-80899b2b0b38",
   "metadata": {},
   "outputs": [
    {
     "ename": "TypeError",
     "evalue": "list indices must be integers or slices, not tuple",
     "output_type": "error",
     "traceback": [
      "\u001b[1;31m---------------------------------------------------------------------------\u001b[0m",
      "\u001b[1;31mTypeError\u001b[0m                                 Traceback (most recent call last)",
      "Cell \u001b[1;32mIn[203], line 2\u001b[0m\n\u001b[0;32m      1\u001b[0m x\u001b[38;5;241m=\u001b[39m[\u001b[38;5;241m1\u001b[39m,\u001b[38;5;241m4\u001b[39m,\u001b[38;5;241m7\u001b[39m,\u001b[38;5;241m4\u001b[39m,\u001b[38;5;241m6\u001b[39m,\u001b[38;5;241m788\u001b[39m,\u001b[38;5;241m45\u001b[39m,\u001b[38;5;241m54654\u001b[39m,\u001b[38;5;241m4645\u001b[39m]\n\u001b[1;32m----> 2\u001b[0m \u001b[38;5;28mprint\u001b[39m(x[\u001b[38;5;241m2\u001b[39m, \u001b[38;5;241m5\u001b[39m, \u001b[38;5;241m-\u001b[39m\u001b[38;5;241m1\u001b[39m])\n",
      "\u001b[1;31mTypeError\u001b[0m: list indices must be integers or slices, not tuple"
     ]
    }
   ],
   "source": [
    "x=[1,4,7,4,6,788,45,54654,4645]\n",
    "print(x[2, 5, -1])"
   ]
  },
  {
   "cell_type": "code",
   "execution_count": 207,
   "id": "35c07640-22fc-48fe-88c8-67da59a640a8",
   "metadata": {},
   "outputs": [
    {
     "name": "stdout",
     "output_type": "stream",
     "text": [
      "Ellipsis <class 'ellipsis'>\n"
     ]
    },
    {
     "ename": "TypeError",
     "evalue": "unsupported operand type(s) for @: 'int' and 'int'",
     "output_type": "error",
     "traceback": [
      "\u001b[1;31m---------------------------------------------------------------------------\u001b[0m",
      "\u001b[1;31mTypeError\u001b[0m                                 Traceback (most recent call last)",
      "Cell \u001b[1;32mIn[207], line 2\u001b[0m\n\u001b[0;32m      1\u001b[0m \u001b[38;5;28mprint\u001b[39m(\u001b[38;5;241m.\u001b[39m\u001b[38;5;241m.\u001b[39m\u001b[38;5;241m.\u001b[39m,\u001b[38;5;28mtype\u001b[39m(\u001b[38;5;241m.\u001b[39m\u001b[38;5;241m.\u001b[39m\u001b[38;5;241m.\u001b[39m))\n\u001b[1;32m----> 2\u001b[0m \u001b[38;5;28mprint\u001b[39m(\u001b[38;5;241m10\u001b[39m\u001b[38;5;241m@\u001b[39m\u001b[38;5;241m20\u001b[39m)\n",
      "\u001b[1;31mTypeError\u001b[0m: unsupported operand type(s) for @: 'int' and 'int'"
     ]
    }
   ],
   "source": [
    "print(...,type(...))\n",
    "print(10@20)"
   ]
  },
  {
   "cell_type": "code",
   "execution_count": 209,
   "id": "4c7d11da-132b-4c5c-a06a-3774abb72f99",
   "metadata": {},
   "outputs": [
    {
     "name": "stdout",
     "output_type": "stream",
     "text": [
      "dobry\n"
     ]
    },
    {
     "ename": "KeyError",
     "evalue": "6",
     "output_type": "error",
     "traceback": [
      "\u001b[1;31m---------------------------------------------------------------------------\u001b[0m",
      "\u001b[1;31mKeyError\u001b[0m                                  Traceback (most recent call last)",
      "Cell \u001b[1;32mIn[209], line 5\u001b[0m\n\u001b[0;32m      3\u001b[0m \u001b[38;5;28mprint\u001b[39m(hodnoceni[znamka])\n\u001b[0;32m      4\u001b[0m znamka\u001b[38;5;241m=\u001b[39m\u001b[38;5;241m6\u001b[39m\n\u001b[1;32m----> 5\u001b[0m \u001b[38;5;28mprint\u001b[39m(hodnoceni[znamka])\n",
      "\u001b[1;31mKeyError\u001b[0m: 6"
     ]
    }
   ],
   "source": [
    "znamka = 3\n",
    "hodnoceni = {1: 'vyborne', 2:'chvalitebny',3:'dobry',4:'dostatecny',5:'nedostatecny'}\n",
    "print(hodnoceni[znamka])\n",
    "znamka=6\n",
    "print(hodnoceni[znamka])\n"
   ]
  },
  {
   "cell_type": "code",
   "execution_count": 211,
   "id": "0cb9fdb7-b6f7-45f1-9af2-472d47ba8356",
   "metadata": {},
   "outputs": [
    {
     "name": "stdout",
     "output_type": "stream",
     "text": [
      "dobry\n",
      "nezname\n"
     ]
    }
   ],
   "source": [
    "znamka = 3\n",
    "hodnoceni = {1: 'vyborne', 2:'chvalitebny',3:'dobry',4:'dostatecny',5:'nedostatecny'}\n",
    "print(hodnoceni[znamka])\n",
    "znamka=6\n",
    "print(hodnoceni.get(znamka,'nezname'))\n"
   ]
  },
  {
   "cell_type": "markdown",
   "id": "3f756bad-9884-4d2c-b336-0d946df1ace7",
   "metadata": {},
   "source": [
    "## menitelne vs nemenitelne objekty, memory management"
   ]
  },
  {
   "cell_type": "code",
   "execution_count": 213,
   "id": "74ad6b69-fc98-4bcd-84ba-8fc39ece129b",
   "metadata": {},
   "outputs": [
    {
     "name": "stdout",
     "output_type": "stream",
     "text": [
      "0 0 0\n",
      "1 1 1\n"
     ]
    }
   ],
   "source": [
    "#vicenasobne prirazeni\n",
    "a = 0\n",
    "b = 0\n",
    "c = 0\n",
    "print(a,b,c)\n",
    "#lepe\n",
    "a=b=c=1\n",
    "print(a,b,c)\n"
   ]
  },
  {
   "cell_type": "code",
   "execution_count": 218,
   "id": "0398480d-6a2c-4621-b80c-83ff787f9663",
   "metadata": {},
   "outputs": [
    {
     "name": "stdout",
     "output_type": "stream",
     "text": [
      "1000 1000 1000\n",
      "1552456964080 1552456964080 1552456964080\n",
      "True True\n"
     ]
    }
   ],
   "source": [
    "a=b=c=1000\n",
    "print(a,b,c)\n",
    "print(id(a),id(b),id(c))\n",
    "print(a is b, id(a) == id(b))"
   ]
  },
  {
   "cell_type": "code",
   "execution_count": 222,
   "id": "83ed863e-364f-4994-b075-0720b83da86c",
   "metadata": {},
   "outputs": [
    {
     "name": "stdout",
     "output_type": "stream",
     "text": [
      "1000 1000 1000 1000\n",
      "1552456961360 1552456961360 1552456961360 1552456965296\n",
      "1001 1000 1000 1000\n",
      "1552453466128 1552456961360 1552456961360 1552456965296\n"
     ]
    }
   ],
   "source": [
    "a=b=c=1000\n",
    "d=920+80\n",
    "print(a,b,c,d)\n",
    "print(id(a),id(b),id(c),id(d))\n",
    "a+=1\n",
    "print(a,b,c,d)\n",
    "print(id(a),id(b),id(c),id(d))"
   ]
  },
  {
   "cell_type": "code",
   "execution_count": 224,
   "id": "56e3d25c-a00d-473f-a58d-077d1b87cb22",
   "metadata": {},
   "outputs": [
    {
     "name": "stdout",
     "output_type": "stream",
     "text": [
      "1552439919888 ahoj AHOJ 1552457249728\n",
      "Ahoj 1552457839600\n"
     ]
    }
   ],
   "source": [
    "#str je take nenenitelny\n",
    "a='ahoj'\n",
    "b=a.upper()\n",
    "print(id(a),a, b, id(b))\n",
    "a=a.capitalize()\n",
    "print(a, id(a))"
   ]
  },
  {
   "cell_type": "code",
   "execution_count": 231,
   "id": "90d5448d-e6f7-42fb-95fb-01b3ccc5a84e",
   "metadata": {},
   "outputs": [
    {
     "name": "stdout",
     "output_type": "stream",
     "text": [
      "[10, 20, 30] 1552457632256\n",
      "[10, 20, 30] 1552457632256\n",
      "True True\n",
      "[20, 30, 45] 1552457632256\n",
      "[20, 30, 45] 1552457632256\n"
     ]
    }
   ],
   "source": [
    "a=b=[10,20,30]\n",
    "print(a,id(a))\n",
    "print(b, id(b))\n",
    "print(a is b,a==b)\n",
    "b.append(45)\n",
    "del b[0]\n",
    "print(b, id(b))\n",
    "print(a,id(a))"
   ]
  },
  {
   "cell_type": "code",
   "execution_count": 230,
   "id": "a12f51cd-26f6-4160-9926-cc3831f68f16",
   "metadata": {},
   "outputs": [
    {
     "name": "stdout",
     "output_type": "stream",
     "text": [
      "[10, 20, 30] 1552457489984\n",
      "[10, 20, 30] 1552457642752\n",
      "False True\n",
      "[20, 30, 45] 1552457642752\n",
      "[10, 20, 30] 1552457489984\n"
     ]
    }
   ],
   "source": [
    "#melka kopie, kopie objektu\n",
    "a=[10,20,30]\n",
    "b=a[:]\n",
    "print(a,id(a))\n",
    "print(b, id(b))\n",
    "print(a is b, a==b)\n",
    "b.append(45)\n",
    "del b[0]\n",
    "print(b, id(b))\n",
    "print(a,id(a))"
   ]
  },
  {
   "cell_type": "code",
   "execution_count": 230,
   "id": "939ee0cd-4b6e-4036-bc4a-713a95e9e60e",
   "metadata": {},
   "outputs": [
    {
     "name": "stdout",
     "output_type": "stream",
     "text": [
      "[10, 20, 30] 1552457489984\n",
      "[10, 20, 30] 1552457642752\n",
      "False True\n",
      "[20, 30, 45] 1552457642752\n",
      "[10, 20, 30] 1552457489984\n"
     ]
    }
   ],
   "source": [
    "#melka kopie, kopie objektu\n",
    "a=[10,20,30]\n",
    "b=a.copy() #metodate copy je u list, set, dict\n",
    "print(a,id(a))\n",
    "print(b, id(b))\n",
    "print(a is b, a==b)\n",
    "b.append(45)\n",
    "del b[0]\n",
    "print(b, id(b))\n",
    "print(a,id(a))"
   ]
  },
  {
   "cell_type": "code",
   "execution_count": 235,
   "id": "f79d83eb-0350-482d-8c7e-0eb80d0224ee",
   "metadata": {},
   "outputs": [
    {
     "name": "stdout",
     "output_type": "stream",
     "text": [
      "[-10, 10, 20, [30, 40]] 1552457642752\n",
      "[10, 20, [30, 40]] 1552457489984\n",
      "[-10, 10, 20, [30, 40, 50]]\n",
      "[10, 20, [30, 40, 50]]\n"
     ]
    }
   ],
   "source": [
    "a=[10,20,[30,40]]\n",
    "b=a.copy()\n",
    "a.insert(0,-10)\n",
    "print(a,id(a))\n",
    "print(b,id(b))\n",
    "a[3].append(50)\n",
    "print(a)\n",
    "print(b)"
   ]
  },
  {
   "cell_type": "code",
   "execution_count": 236,
   "id": "4363d1be-c81e-431d-9f18-7614e4530599",
   "metadata": {},
   "outputs": [
    {
     "name": "stdout",
     "output_type": "stream",
     "text": [
      "[-10, 10, 20, [30, 40]] 1552457616768\n",
      "[10, 20, [30, 40]] 1552457498496\n",
      "[-10, 10, 20, [30, 40, 50]]\n",
      "[10, 20, [30, 40]]\n"
     ]
    }
   ],
   "source": [
    "import copy\n",
    "a=[10,20,[30,40]]\n",
    "b=copy.deepcopy(a)\n",
    "a.insert(0,-10)\n",
    "print(a,id(a))\n",
    "print(b,id(b))\n",
    "a[3].append(50)\n",
    "print(a)\n",
    "print(b)"
   ]
  },
  {
   "cell_type": "code",
   "execution_count": 243,
   "id": "dce7a91a-5cf3-4c05-93f7-f4e63733f342",
   "metadata": {},
   "outputs": [
    {
     "name": "stdout",
     "output_type": "stream",
     "text": [
      "{'base': 'USD', 'results': {'EUR': 0.95895, 'GBP': 0.80489, 'CHF': 0.90535}, 'updated': '2025-01-28 13:41:50', 'ms': 2}\n",
      "{'base': 'USD', 'results': {'EUR': 0.95895, 'GBP': 0.80489, 'CHF': 0.90535}, 'updated': '2025-01-28 13:41:50', 'ms': 2}\n",
      "{'base': 'USD', 'results': {'EUR': 12.8, 'GBP': 0.80489, 'CHF': 0.90535}, 'updated': '2025-01-28 13:41:50', 'ms': 2}\n",
      "{'base': 'USD', 'results': {'EUR': 12.8, 'GBP': 0.80489, 'CHF': 0.90535}, 'updated': '2025-01-28 13:41:50', 'ms': 2}\n"
     ]
    }
   ],
   "source": [
    "x={\n",
    "  \"base\": \"USD\",\n",
    "  \"results\": {\n",
    "    \"EUR\": 0.95895,\n",
    "    \"GBP\": 0.80489,\n",
    "    \"CHF\": 0.90535\n",
    "  },\n",
    "  \"updated\": \"2025-01-28 13:41:50\",\n",
    "  \"ms\": 2\n",
    "}\n",
    "print(x)\n",
    "y=x\n",
    "print(y)\n",
    "x['results']['EUR']=12.8\n",
    "print(x)\n",
    "print(y)\n"
   ]
  },
  {
   "cell_type": "code",
   "execution_count": 244,
   "id": "4daa8ffb-277c-440d-b953-95a2fe6c7539",
   "metadata": {},
   "outputs": [
    {
     "name": "stdout",
     "output_type": "stream",
     "text": [
      "{'base': 'USD', 'results': {'EUR': 0.95895, 'GBP': 0.80489, 'CHF': 0.90535}, 'updated': '2025-01-28 13:41:50', 'ms': 2}\n",
      "{'base': 'USD', 'results': {'EUR': 0.95895, 'GBP': 0.80489, 'CHF': 0.90535}, 'updated': '2025-01-28 13:41:50', 'ms': 2}\n",
      "{'base': 'USD', 'results': {'EUR': 12.8, 'GBP': 0.80489, 'CHF': 0.90535}, 'updated': '2025-01-28 13:41:50', 'ms': 2}\n",
      "{'base': 'USD', 'results': {'EUR': 0.95895, 'GBP': 0.80489, 'CHF': 0.90535}, 'updated': '2025-01-28 13:41:50', 'ms': 2}\n"
     ]
    }
   ],
   "source": [
    "import copy\n",
    "x={\n",
    "  \"base\": \"USD\",\n",
    "  \"results\": {\n",
    "    \"EUR\": 0.95895,\n",
    "    \"GBP\": 0.80489,\n",
    "    \"CHF\": 0.90535\n",
    "  },\n",
    "  \"updated\": \"2025-01-28 13:41:50\",\n",
    "  \"ms\": 2\n",
    "}\n",
    "print(x)\n",
    "y=copy.deepcopy(x)\n",
    "print(y)\n",
    "x['results']['EUR']=12.8\n",
    "print(x)\n",
    "print(y)\n"
   ]
  },
  {
   "cell_type": "code",
   "execution_count": 248,
   "id": "2f2d8c84-1832-4d2d-9e8b-7e6a5d7a880b",
   "metadata": {},
   "outputs": [
    {
     "name": "stdout",
     "output_type": "stream",
     "text": [
      "True\n",
      "True\n",
      "False\n",
      "False\n"
     ]
    }
   ],
   "source": [
    "# boolean kontext\n",
    "#co je pravda a co nepravda\n",
    "print(bool('Brno'))\n",
    "print(bool([23,78]))\n",
    "print(bool(0))\n",
    "print(bool({}))"
   ]
  },
  {
   "cell_type": "code",
   "execution_count": 251,
   "id": "591946ac-594b-4a72-a986-6a10fad1a209",
   "metadata": {},
   "outputs": [
    {
     "name": "stdout",
     "output_type": "stream",
     "text": [
      "False\n",
      "1\n",
      "14\n"
     ]
    }
   ],
   "source": [
    "#co je nepravda\n",
    "#cislo 0, 0.0 , 0j, prazdny retezec '', jakykakoliv prazdna kolekce [], (), {}, set()\n",
    "#None, False\n",
    "print(bool(False))\n",
    "print(True+False)\n",
    "print(True+13)\n",
    "#vse ostatni je pravda"
   ]
  },
  {
   "cell_type": "code",
   "execution_count": 260,
   "id": "8c7bad32-44b2-487f-a5bc-9421b5e5f61e",
   "metadata": {},
   "outputs": [
    {
     "name": "stdout",
     "output_type": "stream",
     "text": [
      "True\n",
      "True\n",
      "False\n",
      "True\n",
      "True\n",
      "True\n",
      "False\n",
      "True\n",
      "False\n"
     ]
    }
   ],
   "source": [
    "#relacni operatory\n",
    "print(10 == 9+1)\n",
    "print('cau' > 'ahoj')\n",
    "print('Cau' > 'ahoj')\n",
    "print(10>=5)\n",
    "print(9!=10)\n",
    "print(10>5 and len('ahoj') > 3)\n",
    "print(10>5 and len('ahoj') > 30)\n",
    "print(10>5 or len('ahoj') > 30)\n",
    "#Python v boolovskych vyrazech vyuziova \"short circuit evaluation\"\n",
    "print(10>50 and len('ahoj') > 3)"
   ]
  },
  {
   "cell_type": "code",
   "execution_count": 263,
   "id": "fbfab2fe-b00a-4ea5-b63d-652d3846b2f6",
   "metadata": {},
   "outputs": [
    {
     "name": "stdout",
     "output_type": "stream",
     "text": [
      "ahoj\n"
     ]
    }
   ],
   "source": [
    "10>5 and  print('ahoj')\n",
    "10>50 and  print('cau')\n",
    "pass"
   ]
  },
  {
   "cell_type": "code",
   "execution_count": 264,
   "id": "4be42de2-16a9-4b4b-84dc-ee386aca181d",
   "metadata": {},
   "outputs": [
    {
     "name": "stdout",
     "output_type": "stream",
     "text": [
      "slovo ma alespon 6 znaku\n"
     ]
    }
   ],
   "source": [
    "#prikaz if\n",
    "slovo = 'pondeli'\n",
    "if len(slovo)>5:\n",
    "    print('slovo ma alespon 6 znaku')"
   ]
  },
  {
   "cell_type": "code",
   "execution_count": 265,
   "id": "bb76f9a7-c3cb-4ff4-bd2e-cdf4338e0f42",
   "metadata": {},
   "outputs": [],
   "source": [
    "#prikaz if\n",
    "slovo = 'utery'\n",
    "if len(slovo)>5:\n",
    "    print('slovo ma alespon 6 znaku')"
   ]
  },
  {
   "cell_type": "code",
   "execution_count": 271,
   "id": "eb911739-8b7b-4689-9550-565f99b7cf8a",
   "metadata": {},
   "outputs": [
    {
     "name": "stdout",
     "output_type": "stream",
     "text": [
      "slovo je kratke\n"
     ]
    }
   ],
   "source": [
    "#prikaz if\n",
    "slovo = 'utery'\n",
    "if len(slovo)>5:\n",
    "    print('slovo ma alespon 6 znaku')\n",
    "    pass\n",
    "    pass\n",
    "else:\n",
    "    print('slovo je kratke')"
   ]
  },
  {
   "cell_type": "code",
   "execution_count": 272,
   "id": "f3a4ef4b-9760-4123-beae-6f180dd5bf48",
   "metadata": {},
   "outputs": [
    {
     "name": "stdout",
     "output_type": "stream",
     "text": [
      "zaporne cislo\n"
     ]
    }
   ],
   "source": [
    "cislo = -5\n",
    "if cislo>0:\n",
    "    print('kladne cislo')\n",
    "else:\n",
    "    if cislo<0:\n",
    "        print('zaporne cislo')\n",
    "    else:\n",
    "        print('je to nula !')\n",
    "    "
   ]
  },
  {
   "cell_type": "code",
   "execution_count": 273,
   "id": "99d4b972-27d5-423e-a36f-1b631beb242e",
   "metadata": {},
   "outputs": [
    {
     "name": "stdout",
     "output_type": "stream",
     "text": [
      "zaporne cislo\n"
     ]
    }
   ],
   "source": [
    "cislo = -5\n",
    "if cislo>0:\n",
    "    print('kladne cislo')\n",
    "elif cislo<0:\n",
    "    print('zaporne cislo')\n",
    "else:\n",
    "    print('je to nula !')\n",
    "    "
   ]
  },
  {
   "cell_type": "code",
   "execution_count": 277,
   "id": "217a933d-6b1d-4ef3-9ff2-863b587375af",
   "metadata": {},
   "outputs": [
    {
     "name": "stdout",
     "output_type": "stream",
     "text": [
      "True\n",
      "False\n",
      "True\n",
      "False\n"
     ]
    }
   ],
   "source": [
    "print('123'.isdigit())\n",
    "print('123a'.isdigit())\n",
    "print('Brno'.isalpha())\n",
    "print('Brno1'.isalpha())\n"
   ]
  },
  {
   "cell_type": "code",
   "execution_count": 279,
   "id": "a5077a61-b6a8-412e-a0bc-67447f95ef1e",
   "metadata": {},
   "outputs": [
    {
     "name": "stdout",
     "output_type": "stream",
     "text": [
      "True\n",
      "True\n",
      "True\n"
     ]
    }
   ],
   "source": [
    "print('9'.isdigit())\n",
    "print('9'.isdecimal())\n",
    "print('9'.isnumeric())"
   ]
  },
  {
   "cell_type": "code",
   "execution_count": 294,
   "id": "b115ca18-7b52-403d-97c8-ac8953222374",
   "metadata": {},
   "outputs": [
    {
     "name": "stdout",
     "output_type": "stream",
     "text": [
      "Ⅳ\n",
      "False\n",
      "False\n",
      "True\n"
     ]
    },
    {
     "ename": "ValueError",
     "evalue": "invalid literal for int() with base 10: 'Ⅳ'",
     "output_type": "error",
     "traceback": [
      "\u001b[1;31m---------------------------------------------------------------------------\u001b[0m",
      "\u001b[1;31mValueError\u001b[0m                                Traceback (most recent call last)",
      "Cell \u001b[1;32mIn[294], line 6\u001b[0m\n\u001b[0;32m      4\u001b[0m \u001b[38;5;28mprint\u001b[39m(x\u001b[38;5;241m.\u001b[39misdecimal())\n\u001b[0;32m      5\u001b[0m \u001b[38;5;28mprint\u001b[39m(x\u001b[38;5;241m.\u001b[39misnumeric())\n\u001b[1;32m----> 6\u001b[0m \u001b[38;5;28mprint\u001b[39m(\u001b[38;5;28mint\u001b[39m(x)\u001b[38;5;241m+\u001b[39m\u001b[38;5;241m0\u001b[39m)\n",
      "\u001b[1;31mValueError\u001b[0m: invalid literal for int() with base 10: 'Ⅳ'"
     ]
    }
   ],
   "source": [
    "x='\\N{roman numeral four}'\n",
    "print(x)\n",
    "print(x.isdigit())\n",
    "print(x.isdecimal())\n",
    "print(x.isnumeric())\n",
    "#print(int(x)+0)"
   ]
  },
  {
   "cell_type": "code",
   "execution_count": 293,
   "id": "ed45a206-b1a7-4df3-8eb3-81cd9ff86699",
   "metadata": {},
   "outputs": [
    {
     "name": "stdout",
     "output_type": "stream",
     "text": [
      "③\n",
      "True\n",
      "False\n",
      "True\n"
     ]
    },
    {
     "ename": "ValueError",
     "evalue": "invalid literal for int() with base 10: '③'",
     "output_type": "error",
     "traceback": [
      "\u001b[1;31m---------------------------------------------------------------------------\u001b[0m",
      "\u001b[1;31mValueError\u001b[0m                                Traceback (most recent call last)",
      "Cell \u001b[1;32mIn[293], line 6\u001b[0m\n\u001b[0;32m      4\u001b[0m \u001b[38;5;28mprint\u001b[39m(x\u001b[38;5;241m.\u001b[39misdecimal())\n\u001b[0;32m      5\u001b[0m \u001b[38;5;28mprint\u001b[39m(x\u001b[38;5;241m.\u001b[39misnumeric())\n\u001b[1;32m----> 6\u001b[0m \u001b[38;5;28mprint\u001b[39m(\u001b[38;5;28mint\u001b[39m(x)\u001b[38;5;241m+\u001b[39m\u001b[38;5;241m0\u001b[39m)\n",
      "\u001b[1;31mValueError\u001b[0m: invalid literal for int() with base 10: '③'"
     ]
    }
   ],
   "source": [
    "x='\\N{circled digit three}'\n",
    "print(x)\n",
    "print(x.isdigit())\n",
    "print(x.isdecimal())\n",
    "print(x.isnumeric())\n",
    "#print(int(x)+0)"
   ]
  },
  {
   "cell_type": "code",
   "execution_count": 292,
   "id": "1eaa0e4a-ddff-408a-b01a-ba32bc73dafd",
   "metadata": {},
   "outputs": [
    {
     "name": "stdout",
     "output_type": "stream",
     "text": [
      "੦੩੮\n",
      "True\n",
      "True\n",
      "True\n",
      "38\n"
     ]
    }
   ],
   "source": [
    "x=\"੦੩੮\"\n",
    "print(x)\n",
    "print(x.isdigit())\n",
    "print(x.isdecimal())\n",
    "print(x.isnumeric())\n",
    "print(int(x)+0)"
   ]
  }
 ],
 "metadata": {
  "kernelspec": {
   "display_name": "Python 3 (ipykernel)",
   "language": "python",
   "name": "python3"
  },
  "language_info": {
   "codemirror_mode": {
    "name": "ipython",
    "version": 3
   },
   "file_extension": ".py",
   "mimetype": "text/x-python",
   "name": "python",
   "nbconvert_exporter": "python",
   "pygments_lexer": "ipython3",
   "version": "3.12.7"
  }
 },
 "nbformat": 4,
 "nbformat_minor": 5
}
