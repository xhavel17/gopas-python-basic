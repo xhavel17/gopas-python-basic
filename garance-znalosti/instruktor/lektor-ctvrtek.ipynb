{
 "cells": [
  {
   "cell_type": "code",
   "execution_count": null,
   "id": "f98ee33c-cca9-487d-8709-78919c1c6a63",
   "metadata": {},
   "outputs": [],
   "source": [
    "#ctvrtek"
   ]
  },
  {
   "cell_type": "code",
   "execution_count": 1,
   "id": "78985fac-3115-4cfa-a258-af7ed334757d",
   "metadata": {},
   "outputs": [
    {
     "name": "stdout",
     "output_type": "stream",
     "text": [
      "[2, 3, 5, 7, 11, 13, 17, 19, 23, 29, 31, 37, 41, 43, 47, 53, 59, 61, 67, 71, 73, 79, 83, 89, 97]\n"
     ]
    }
   ],
   "source": [
    "#vytvorte list prvocisel od 2 do 100\n",
    "\n",
    "prvocisla = []\n",
    "for cislo in range(2,100+1): #cislo je z intervalu 2..100\n",
    "    je_prvocislo = True\n",
    "    for prvocislo in prvocisla:\n",
    "        if not cislo % prvocislo: #if cislo % prvocislo == 0 #je to nasobkem prvocisla ?\n",
    "            je_prvocislo = False\n",
    "    if je_prvocislo:\n",
    "        prvocisla.append(cislo)\n",
    "print(prvocisla)\n",
    "    "
   ]
  },
  {
   "cell_type": "code",
   "execution_count": 2,
   "id": "9721c9b8-a5cc-463f-b40b-455e8edb8260",
   "metadata": {},
   "outputs": [
    {
     "name": "stdout",
     "output_type": "stream",
     "text": [
      "[2, 3, 5, 7, 11, 13, 17, 19, 23, 29, 31, 37, 41, 43, 47, 53, 59, 61, 67, 71, 73, 79, 83, 89, 97]\n"
     ]
    }
   ],
   "source": [
    "#vytvorte list prvocisel od 2 do 100\n",
    "\n",
    "prvocisla = []\n",
    "for cislo in range(2,100+1): #cislo je z intervalu 2..100\n",
    "    je_prvocislo = True\n",
    "    for prvocislo in prvocisla:\n",
    "        if not cislo % prvocislo: #if cislo % prvocislo == 0 #je to nasobkem prvocisla ?\n",
    "            je_prvocislo = False\n",
    "            break\n",
    "    if je_prvocislo:\n",
    "        prvocisla.append(cislo)\n",
    "print(prvocisla)\n",
    "    "
   ]
  },
  {
   "cell_type": "code",
   "execution_count": 3,
   "id": "c1824040-4549-4ed3-84f0-db9c92c7fd29",
   "metadata": {},
   "outputs": [
    {
     "name": "stdout",
     "output_type": "stream",
     "text": [
      "[2, 3, 5, 7, 11, 13, 17, 19, 23, 29, 31, 37, 41, 43, 47, 53, 59, 61, 67, 71, 73, 79, 83, 89, 97]\n"
     ]
    }
   ],
   "source": [
    "#vytvorte list prvocisel od 2 do 100\n",
    "\n",
    "prvocisla = []\n",
    "for cislo in range(2,100+1): #cislo je z intervalu 2..100\n",
    "    for prvocislo in prvocisla:\n",
    "        if not cislo % prvocislo: #if cislo % prvocislo == 0 #je to nasobkem prvocisla ?\n",
    "            break\n",
    "    else:\n",
    "        prvocisla.append(cislo)\n",
    "print(prvocisla)\n",
    "    "
   ]
  },
  {
   "cell_type": "code",
   "execution_count": 5,
   "id": "a1ac4f46-9e33-4730-9fe1-fd4695fdfb39",
   "metadata": {},
   "outputs": [
    {
     "name": "stdout",
     "output_type": "stream",
     "text": [
      "10 20\n",
      "20 10\n"
     ]
    }
   ],
   "source": [
    "a, b = 10, 20\n",
    "print(a,b)\n",
    "a, b = b, a\n",
    "print(a,b)\n"
   ]
  },
  {
   "cell_type": "code",
   "execution_count": 6,
   "id": "7559902d-df07-42bb-9e09-989aab0447b5",
   "metadata": {},
   "outputs": [
    {
     "name": "stdout",
     "output_type": "stream",
     "text": [
      "10 20\n",
      "20 10\n"
     ]
    }
   ],
   "source": [
    "a, b = 10, 20\n",
    "print(a,b)\n",
    "c = a\n",
    "a = b\n",
    "b = c\n",
    "print(a,b)"
   ]
  },
  {
   "cell_type": "code",
   "execution_count": 8,
   "id": "423960b8-2f99-4f08-865c-6493ef5ef36b",
   "metadata": {},
   "outputs": [
    {
     "name": "stdout",
     "output_type": "stream",
     "text": [
      "2503132087760 3\n"
     ]
    }
   ],
   "source": [
    "import sys\n",
    "x=1450\n",
    "print(id(x), sys.getrefcount(x))"
   ]
  },
  {
   "cell_type": "code",
   "execution_count": 9,
   "id": "26286802-7713-440d-9219-532df6ae80e3",
   "metadata": {},
   "outputs": [
    {
     "name": "stdout",
     "output_type": "stream",
     "text": [
      "140716934118328 4294967295\n"
     ]
    }
   ],
   "source": [
    "import sys\n",
    "x=145\n",
    "print(id(x), sys.getrefcount(x))"
   ]
  },
  {
   "cell_type": "code",
   "execution_count": 10,
   "id": "d773d733-2345-4f9b-9d96-60cb268ce287",
   "metadata": {},
   "outputs": [
    {
     "ename": "SyntaxError",
     "evalue": "parameter without a default follows parameter with a default (2129953030.py, line 1)",
     "output_type": "error",
     "traceback": [
      "\u001b[1;36m  Cell \u001b[1;32mIn[10], line 1\u001b[1;36m\u001b[0m\n\u001b[1;33m    def f(a=10,b):\u001b[0m\n\u001b[1;37m               ^\u001b[0m\n\u001b[1;31mSyntaxError\u001b[0m\u001b[1;31m:\u001b[0m parameter without a default follows parameter with a default\n"
     ]
    }
   ],
   "source": [
    "def f(a=10,b):\n",
    "    pass"
   ]
  },
  {
   "cell_type": "code",
   "execution_count": 15,
   "id": "7f701ca6-188d-4c42-a347-efe5f0139be3",
   "metadata": {},
   "outputs": [
    {
     "name": "stdout",
     "output_type": "stream",
     "text": [
      "['Adam', 'Eva', 'Frantisek', 'Jan', 'Karel', 'Libor']\n",
      "['Libor', 'Karel', 'Jan', 'Frantisek', 'Eva', 'Adam']\n",
      "['Eva', 'Jan', 'Adam', 'Libor', 'Karel', 'Frantisek']\n",
      "['Eva', 'Frantisek', 'Karel', 'Adam', 'Jan', 'Libor']\n"
     ]
    }
   ],
   "source": [
    "jmena = ['Eva', 'Adam','Jan', 'Libor','Frantisek','Karel']\n",
    "print(sorted(jmena)) #reverse =  False\n",
    "print(sorted(jmena, reverse = True))\n",
    "print(sorted(jmena, key = len))\n",
    "def f(x):\n",
    "    return x[-1]\n",
    "print(sorted(jmena, key = f))\n"
   ]
  },
  {
   "cell_type": "code",
   "execution_count": 20,
   "id": "a1e54c92-ccf1-4270-a608-8f447f1eb140",
   "metadata": {},
   "outputs": [
    {
     "name": "stdout",
     "output_type": "stream",
     "text": [
      "s\n",
      "32\n",
      "['Eva', 'Frantisek', 'Karel', 'Adam', 'Jan', 'Libor']\n"
     ]
    }
   ],
   "source": [
    "def f(x):\n",
    "    return x[-1]\n",
    "print(f('Gopas'))\n",
    "print(f([45,71,32]))\n",
    "#print(f(123)) #TypeError: 'int' object is not subscriptable\n",
    "print(sorted(jmena, key = f))"
   ]
  },
  {
   "cell_type": "code",
   "execution_count": 27,
   "id": "328d8948-d6c7-4b6d-a5a6-dd8e3ac2c979",
   "metadata": {},
   "outputs": [
    {
     "name": "stdout",
     "output_type": "stream",
     "text": [
      "['9', 11, 23, '56', 78]\n"
     ]
    }
   ],
   "source": [
    "cisla = [23,78,'56','9',11]\n",
    "print(sorted(cisla,key=int))"
   ]
  },
  {
   "cell_type": "code",
   "execution_count": 30,
   "id": "34b35de7-efa9-4e15-a618-fcf241eb8d78",
   "metadata": {},
   "outputs": [
    {
     "name": "stdout",
     "output_type": "stream",
     "text": [
      "True\n",
      "[(0, 50), (4, -9), (9, 72), (12, 45), (12, 67)]\n",
      "[(4, -9), (0, 50), (12, 45), (12, 67), (9, 72)]\n"
     ]
    }
   ],
   "source": [
    "x = [ (12,45), (9,72), (4, -9), (0, 50), (12,67) ]\n",
    "print(x[0] < x[-1])\n",
    "print(sorted(x))\n",
    "def f(x):\n",
    "    return sum(x)\n",
    "print(sorted(x,key = f))"
   ]
  },
  {
   "cell_type": "code",
   "execution_count": 59,
   "id": "68b89041-f2b4-42d7-86b9-d90a2a1b98cb",
   "metadata": {},
   "outputs": [
    {
     "name": "stdout",
     "output_type": "stream",
     "text": [
      "{'CZ': [('Brno', 395000), ('Praha', 1100000), ('Ostrava', 210000), ('Hradec Kralove', 97000), ('Ceske Budejovice', 103000)], 'SK': [('Kosice', 210000), ('Banska Bystrica', 48000), ('Bratislava', 405000)], 'DE': [('Berlin', 6500000)], 'AT': [('Linz', 82000), ('Graz', 95000)]}\n",
      "AT: Linz, Graz\n",
      "CZ: Hradec Kralove, Ceske Budejovice, Ostrava, Brno, Praha\n",
      "DE: Berlin\n",
      "SK: Banska Bystrica, Kosice, Bratislava\n"
     ]
    }
   ],
   "source": [
    "radky = ['CZ,Brno,395000', 'CZ,Praha,1100000', 'SK,Kosice,210000', 'DE,Berlin,6500000',\n",
    "         'SK,Banska Bystrica,48000', 'CZ,Ostrava,210000',\n",
    "         'CZ,Hradec Kralove,97000', 'AT,Linz,82000', 'SK,Bratislava,405000', 'AT,Graz,95000',\n",
    "         'CZ,Ceske Budejovice,103000',\n",
    "        ]\n",
    "#seradte vzestupne podle kodu statu a nazvy mest vzestupne podle poctu obyvatel\n",
    "#AT: Linz, Graz\n",
    "#CZ: Hradec Kralove, Ceske Budejovice, Ostrava, Brno, Praha\n",
    "def druhy_element(ntice):\n",
    "    return ntice[1]\n",
    "\n",
    "mesta = dict()\n",
    "for radek in radky:\n",
    "    kod_statu, nazev_mesta, pocet_obyvatel  = radek.split(',')\n",
    "    mesta.setdefault(kod_statu,[]).append( (nazev_mesta,int(pocet_obyvatel)) )\n",
    "print(mesta)\n",
    "\n",
    "for stat in sorted(mesta):\n",
    "    seznam_mest = []\n",
    "    for nazev,po in sorted(mesta[stat],key = druhy_element):\n",
    "        seznam_mest.append(nazev)\n",
    "    print(stat,': ', ', '.join(seznam_mest), sep='')"
   ]
  },
  {
   "cell_type": "code",
   "execution_count": 44,
   "id": "a6aa9079-1896-4ccc-b78f-758c63112d47",
   "metadata": {},
   "outputs": [
    {
     "name": "stdout",
     "output_type": "stream",
     "text": [
      "['ertet', 'sdf', 'sdfsdfs']\n"
     ]
    },
    {
     "ename": "TypeError",
     "evalue": "'int' object is not callable",
     "output_type": "error",
     "traceback": [
      "\u001b[1;31m---------------------------------------------------------------------------\u001b[0m",
      "\u001b[1;31mTypeError\u001b[0m                                 Traceback (most recent call last)",
      "Cell \u001b[1;32mIn[44], line 3\u001b[0m\n\u001b[0;32m      1\u001b[0m x \u001b[38;5;241m=\u001b[39m [\u001b[38;5;124m'\u001b[39m\u001b[38;5;124msdf\u001b[39m\u001b[38;5;124m'\u001b[39m,\u001b[38;5;124m'\u001b[39m\u001b[38;5;124msdfsdfs\u001b[39m\u001b[38;5;124m'\u001b[39m,\u001b[38;5;124m'\u001b[39m\u001b[38;5;124mertet\u001b[39m\u001b[38;5;124m'\u001b[39m]\n\u001b[0;32m      2\u001b[0m \u001b[38;5;28mprint\u001b[39m(\u001b[38;5;28msorted\u001b[39m(x))\n\u001b[1;32m----> 3\u001b[0m \u001b[38;5;28mprint\u001b[39m(\u001b[38;5;28msorted\u001b[39m(x, key\u001b[38;5;241m=\u001b[39m\u001b[38;5;241m123\u001b[39m))\n",
      "\u001b[1;31mTypeError\u001b[0m: 'int' object is not callable"
     ]
    }
   ],
   "source": [
    "x = ['sdf','sdfsdfs','ertet']\n",
    "print(sorted(x))\n",
    "print(sorted(x, key=123))\n"
   ]
  },
  {
   "cell_type": "markdown",
   "id": "7f53728e-c1a1-4800-895f-6ba4b8a68af9",
   "metadata": {},
   "source": [
    "## funkcionalni programovani"
   ]
  },
  {
   "cell_type": "code",
   "execution_count": 45,
   "id": "477a4cc5-331e-488e-9a08-d7ec67d3cb07",
   "metadata": {},
   "outputs": [
    {
     "name": "stdout",
     "output_type": "stream",
     "text": [
      "[144, 16, 49, 64]\n"
     ]
    }
   ],
   "source": [
    "#3 zakladni operace, mapovani, filtrace a redukce\n",
    "#program je aplikace (kompizoce ) funkci na data (list)\n",
    "\n",
    "\n",
    "cisla = [12,4,7,8]\n",
    "#list druhych mocnin\n",
    "na2 = []\n",
    "for cislo in cisla:\n",
    "    na2.append(cislo**2)\n",
    "print(na2)"
   ]
  },
  {
   "cell_type": "code",
   "execution_count": 46,
   "id": "5d53ffdd-1569-4e01-9fcf-18f9d6c3cf2d",
   "metadata": {},
   "outputs": [
    {
     "name": "stdout",
     "output_type": "stream",
     "text": [
      "[144, 16, 49, 64]\n"
     ]
    }
   ],
   "source": [
    "cisla = [12,4,7,8]\n",
    "def cislo_na_2(cislo):\n",
    "    return cislo**2\n",
    "#list druhych mocnin\n",
    "na2 = []\n",
    "for cislo in cisla:\n",
    "    na2.append(cislo_na_2(cislo))\n",
    "print(na2)"
   ]
  },
  {
   "cell_type": "code",
   "execution_count": 53,
   "id": "d1346f2b-a446-4910-94e1-e2e06b8e08e4",
   "metadata": {
    "scrolled": true
   },
   "outputs": [
    {
     "name": "stdout",
     "output_type": "stream",
     "text": [
      "<map object at 0x00000246CE76DFC0> [144, 16, 49, 64]\n",
      "[]\n",
      "144\n"
     ]
    }
   ],
   "source": [
    "cisla = [12,4,7,8]\n",
    "def cislo_na_2(cislo):\n",
    "    return cislo**2\n",
    "na2 = map(cislo_na_2, cisla)\n",
    "print(na2, list(na2))\n",
    "print(list(na2))\n",
    "print(list(map(cislo_na_2, cisla))[0])\n"
   ]
  },
  {
   "cell_type": "code",
   "execution_count": 58,
   "id": "063f2321-5d6f-4ed2-a93c-2f2c77c5da22",
   "metadata": {},
   "outputs": [
    {
     "name": "stdout",
     "output_type": "stream",
     "text": [
      "[144, 16, 49, 64]\n",
      "144\n",
      "[144, 16, 49, 64]\n"
     ]
    }
   ],
   "source": [
    "abc = map(cislo_na_2, cisla)\n",
    "mujlist = list(abc)\n",
    "print(mujlist)\n",
    "print(mujlist[0])\n",
    "print(mujlist)\n"
   ]
  },
  {
   "cell_type": "code",
   "execution_count": 50,
   "id": "3d0e103b-13f4-414b-92d4-5193d003aefa",
   "metadata": {
    "scrolled": true
   },
   "outputs": [
    {
     "name": "stdout",
     "output_type": "stream",
     "text": [
      "144\n",
      "16\n",
      "49\n",
      "64\n"
     ]
    }
   ],
   "source": [
    "cisla = [12,4,7,8]\n",
    "def cislo_na_2(cislo):\n",
    "    return cislo**2\n",
    "for i in map(cislo_na_2, cisla):\n",
    "    print(i)"
   ]
  },
  {
   "cell_type": "code",
   "execution_count": 60,
   "id": "a8e03255-56b2-4041-bbca-35bb2c073985",
   "metadata": {},
   "outputs": [
    {
     "name": "stdout",
     "output_type": "stream",
     "text": [
      "['onrB', 'aharP', 'avartsO', 'evolarK cedarH', 'ecivojeduB ekseC']\n"
     ]
    }
   ],
   "source": [
    "#pouziti map\n",
    "neco = [('Brno', 395000), ('Praha', 1100000), ('Ostrava', 210000), ('Hradec Kralove', 97000), ('Ceske Budejovice', 103000)]\n",
    "def f(x):\n",
    "    return x[0][::-1]\n",
    "\n",
    "m = map(f, neco)\n",
    "print(list(m))"
   ]
  },
  {
   "cell_type": "code",
   "execution_count": 63,
   "id": "42a47eb3-d5e1-488a-ac1e-ada4267ffd7b",
   "metadata": {
    "scrolled": true
   },
   "outputs": [
    {
     "name": "stdout",
     "output_type": "stream",
     "text": [
      "{'CZ': [('Brno', 395000), ('Praha', 1100000), ('Ostrava', 210000), ('Hradec Kralove', 97000), ('Ceske Budejovice', 103000)], 'SK': [('Kosice', 210000), ('Banska Bystrica', 48000), ('Bratislava', 405000)], 'DE': [('Berlin', 6500000)], 'AT': [('Linz', 82000), ('Graz', 95000)]}\n",
      "AT: Linz, Graz\n",
      "CZ: Hradec Kralove, Ceske Budejovice, Ostrava, Brno, Praha\n",
      "DE: Berlin\n",
      "SK: Banska Bystrica, Kosice, Bratislava\n"
     ]
    }
   ],
   "source": [
    "radky = ['CZ,Brno,395000', 'CZ,Praha,1100000', 'SK,Kosice,210000', 'DE,Berlin,6500000',\n",
    "         'SK,Banska Bystrica,48000', 'CZ,Ostrava,210000',\n",
    "         'CZ,Hradec Kralove,97000', 'AT,Linz,82000', 'SK,Bratislava,405000', 'AT,Graz,95000',\n",
    "         'CZ,Ceske Budejovice,103000',\n",
    "        ]\n",
    "#seradte vzestupne podle kodu statu a nazvy mest vzestupne podle poctu obyvatel\n",
    "#AT: Linz, Graz\n",
    "#CZ: Hradec Kralove, Ceske Budejovice, Ostrava, Brno, Praha\n",
    "def druhy_element(ntice):\n",
    "    return ntice[1]\n",
    "def prvni_element(ntice):\n",
    "    return ntice[0]\n",
    "    \n",
    "mesta = dict()\n",
    "for radek in radky:\n",
    "    kod_statu, nazev_mesta, pocet_obyvatel  = radek.split(',')\n",
    "    mesta.setdefault(kod_statu,[]).append( (nazev_mesta,int(pocet_obyvatel)) )\n",
    "print(mesta)\n",
    "\n",
    "for stat in sorted(mesta):\n",
    "    print(stat,': ', ', '.join(  map(prvni_element, sorted(mesta[stat],key = druhy_element)  ) ), sep='')"
   ]
  },
  {
   "cell_type": "code",
   "execution_count": 67,
   "id": "c5d3539f-f7be-4e03-9949-6c0c17a200a8",
   "metadata": {},
   "outputs": [
    {
     "name": "stdout",
     "output_type": "stream",
     "text": [
      "<map object at 0x00000246CE771BA0>\n",
      "volano f s parametem sdfsd\n",
      "volano f s parametem sdfsfsdfsdfsfs\n",
      "volano f s parametem fd\n",
      "[5, 14, 2]\n"
     ]
    }
   ],
   "source": [
    "jmena = ['sdfsd','sdfsfsdfsdfsfs','fd']\n",
    "def f(x):\n",
    "    print('volano f s parametem',x)\n",
    "    return len(x)\n",
    "\n",
    "m=map(f,jmena)\n",
    "print(m)\n",
    "print(list(m))"
   ]
  },
  {
   "cell_type": "code",
   "execution_count": 68,
   "id": "e03f4e8d-1cd8-4bc2-9bea-536002535913",
   "metadata": {},
   "outputs": [
    {
     "name": "stdout",
     "output_type": "stream",
     "text": [
      "<map object at 0x00000246CF31DD80>\n",
      "volano f s parametem sdfsd\n",
      "5\n",
      "volano f s parametem sdfsfsdfsdfsfs\n",
      "14\n",
      "volano f s parametem fd\n",
      "2\n"
     ]
    }
   ],
   "source": [
    "jmena = ['sdfsd','sdfsfsdfsdfsfs','fd']\n",
    "def f(x):\n",
    "    print('volano f s parametem',x)\n",
    "    return len(x)\n",
    "\n",
    "m=map(f,jmena)\n",
    "print(m)\n",
    "for x in m:\n",
    "    print(x)"
   ]
  },
  {
   "cell_type": "code",
   "execution_count": 69,
   "id": "6f2898a6-1f6e-4bc9-a36d-47d62018049b",
   "metadata": {},
   "outputs": [
    {
     "name": "stdout",
     "output_type": "stream",
     "text": [
      "0 sdfsd\n",
      "1 sdfsfsdfsdfsfs\n",
      "2 fd\n"
     ]
    }
   ],
   "source": [
    "jmena = ['sdfsd','sdfsfsdfsdfsfs','fd']\n",
    "for index in range(len(jmena)):\n",
    "    print(index,jmena[index])"
   ]
  },
  {
   "cell_type": "code",
   "execution_count": 70,
   "id": "3a419480-776d-404d-a0a7-b75fd7c10a0d",
   "metadata": {},
   "outputs": [
    {
     "name": "stdout",
     "output_type": "stream",
     "text": [
      "0 sdfsd\n",
      "1 sdfsfsdfsdfsfs\n",
      "2 fd\n"
     ]
    }
   ],
   "source": [
    "jmena = ['sdfsd','sdfsfsdfsdfsfs','fd']\n",
    "index = 0\n",
    "while index<len(jmena):\n",
    "    print(index,jmena[index])\n",
    "    index+=1"
   ]
  },
  {
   "cell_type": "code",
   "execution_count": 71,
   "id": "bfaba372-220e-4430-b75f-749d54087f01",
   "metadata": {},
   "outputs": [
    {
     "name": "stdout",
     "output_type": "stream",
     "text": [
      "0 sdfsd\n",
      "1 sdfsfsdfsdfsfs\n",
      "2 fd\n"
     ]
    }
   ],
   "source": [
    "jmena = ['sdfsd','sdfsfsdfsdfsfs','fd']\n",
    "for index,jmeno in enumerate(jmena):\n",
    "    print(index, jmeno)"
   ]
  },
  {
   "cell_type": "code",
   "execution_count": 75,
   "id": "e1e01344-0731-4158-a53d-3df7d14f6963",
   "metadata": {},
   "outputs": [
    {
     "name": "stdout",
     "output_type": "stream",
     "text": [
      "1 sdfsd\n",
      "2 sdfsfsdfsdfsfs\n",
      "3 fd\n"
     ]
    }
   ],
   "source": [
    "jmena = ['sdfsd','sdfsfsdfsdfsfs','fd']\n",
    "for index,jmeno in enumerate(jmena,1):\n",
    "    print(index, jmeno)"
   ]
  },
  {
   "cell_type": "code",
   "execution_count": 74,
   "id": "4d75e0ac-ae89-4a3a-895d-432bc64ab7c5",
   "metadata": {},
   "outputs": [
    {
     "name": "stdout",
     "output_type": "stream",
     "text": [
      "<enumerate object at 0x00000246CF30A8E0>\n",
      "[(0, 'sdfsd'), (1, 'sdfsfsdfsdfsfs'), (2, 'fd')]\n",
      "[(34, 'sdfsd'), (35, 'sdfsfsdfsdfsfs'), (36, 'fd')]\n"
     ]
    }
   ],
   "source": [
    "jmena = ['sdfsd','sdfsfsdfsdfsfs','fd']\n",
    "print(enumerate(jmena))\n",
    "print(list(enumerate(jmena)))\n",
    "print(list(enumerate(jmena,34)))"
   ]
  },
  {
   "cell_type": "code",
   "execution_count": 77,
   "id": "09cb9b16-a313-40f1-af60-f7fcde780b40",
   "metadata": {},
   "outputs": [
    {
     "name": "stdout",
     "output_type": "stream",
     "text": [
      "[12, 5, 13, 66]\n"
     ]
    }
   ],
   "source": [
    "#filtrace je \"odstraneni\" propusteni/vraceni prvku s urcitou vlasnosti\n",
    "cisla = [12,5,-7,13,-9,66]\n",
    "#chci novy list pouze kladnych cisel\n",
    "novy = []\n",
    "for cislo in cisla:\n",
    "    if cislo>0:\n",
    "        novy.append(cislo)\n",
    "print(novy)"
   ]
  },
  {
   "cell_type": "code",
   "execution_count": 78,
   "id": "d8973334-dd47-49a6-8699-30ce590fde78",
   "metadata": {},
   "outputs": [
    {
     "name": "stdout",
     "output_type": "stream",
     "text": [
      "[12, 5, 13, 66]\n"
     ]
    }
   ],
   "source": [
    "#filtrace je \"odstraneni\" propusteni/vraceni prvku s urcitou vlasnosti\n",
    "cisla = [12,5,-7,13,-9,66]\n",
    "#chci novy list pouze kladnych cisel\n",
    "def vetsi_nez_0(x):\n",
    "    return x>0\n",
    "novy = []\n",
    "for cislo in cisla:\n",
    "    if vetsi_nez_0(cislo):\n",
    "        novy.append(cislo)\n",
    "print(novy)"
   ]
  },
  {
   "cell_type": "code",
   "execution_count": 80,
   "id": "aa5bbb24-2ddb-41a3-9c77-058d262021b8",
   "metadata": {},
   "outputs": [
    {
     "name": "stdout",
     "output_type": "stream",
     "text": [
      "<filter object at 0x00000246CF36C400>\n",
      "[12, 5, 13, 66]\n"
     ]
    }
   ],
   "source": [
    "#filtrace je \"odstraneni\" propusteni/vraceni prvku s urcitou vlasnosti\n",
    "cisla = [12,5,-7,13,-9,66]\n",
    "#chci novy list pouze kladnych cisel\n",
    "def vetsi_nez_0(x):\n",
    "    return x>0\n",
    "f= filter(vetsi_nez_0,cisla)\n",
    "print(f)\n",
    "print(list(f))"
   ]
  },
  {
   "cell_type": "code",
   "execution_count": 86,
   "id": "bafd7eab-00e6-479c-84b9-eca768672fbd",
   "metadata": {},
   "outputs": [
    {
     "name": "stdout",
     "output_type": "stream",
     "text": [
      "[('Kosice', 210000), ('Bratislava', 405000)]\n",
      "Bratislava Kosice\n",
      "['Kosice', 'Bratislava']\n"
     ]
    }
   ],
   "source": [
    "m=[('Kosice', 210000), ('Banska Bystrica', 48000), ('Bratislava', 405000)]\n",
    "#chci pouze mesta s vice nez 100_000 obytale\n",
    "def vetsi_100k(x):\n",
    "    return x[1]>100_000\n",
    "    \n",
    "print(list(filter(vetsi_100k, m)))\n",
    "\n",
    "def prvni_element(x):\n",
    "    return x[0]\n",
    "p=list( map(prvni_element, filter(vetsi_100k, m) )  ) \n",
    "print(p[-1], p[0])\n",
    "print(p)"
   ]
  },
  {
   "cell_type": "code",
   "execution_count": 87,
   "id": "653c04c5-d02c-4947-ab82-fa79104774b4",
   "metadata": {},
   "outputs": [
    {
     "name": "stdout",
     "output_type": "stream",
     "text": [
      "<map object at 0x00000246CE774EE0>\n",
      "[5, 7, 9]\n"
     ]
    }
   ],
   "source": [
    "def secti (a,b):\n",
    "    return (a+b)\n",
    "prvni=[1,2,3]\n",
    "druhy=[4,5,6]\n",
    "print (map(secti,prvni,druhy))\n",
    "print (list(map(secti,prvni,druhy)))"
   ]
  },
  {
   "cell_type": "code",
   "execution_count": 89,
   "id": "527c9f5e-208a-42da-a5f1-0c6766fd93b8",
   "metadata": {},
   "outputs": [
    {
     "name": "stdout",
     "output_type": "stream",
     "text": [
      "[('Jan', 12000), ('Adam', 13000), ('Eva', 15000)]\n"
     ]
    }
   ],
   "source": [
    "jmena = ['Jan', 'Adam','Eva']\n",
    "platy = [12000,13000,15000]\n",
    "d=[]\n",
    "for i in range(min(len(jmena),len(platy))):\n",
    "    d.append( (jmena[i], platy[i]) )\n",
    "\n",
    "print(d)"
   ]
  },
  {
   "cell_type": "code",
   "execution_count": 92,
   "id": "95641723-9603-48b8-8465-1c16d74b7df8",
   "metadata": {},
   "outputs": [
    {
     "name": "stdout",
     "output_type": "stream",
     "text": [
      "[('Jan', 12000), ('Adam', 13000), ('Eva', 15000)]\n"
     ]
    }
   ],
   "source": [
    "jmena = ['Jan', 'Adam','Eva']\n",
    "platy = [12000,13000,15000]\n",
    "def f(a,b): return (a,b)\n",
    "d=list(map(f,jmena,platy))\n",
    "print(d)"
   ]
  },
  {
   "cell_type": "code",
   "execution_count": 91,
   "id": "ed658ff9-efcf-4ba8-ae4d-f9946c11aa3c",
   "metadata": {},
   "outputs": [
    {
     "name": "stdout",
     "output_type": "stream",
     "text": [
      "[('Jan', 12000), ('Adam', 13000), ('Eva', 15000)]\n"
     ]
    }
   ],
   "source": [
    "jmena = ['Jan', 'Adam','Eva']\n",
    "platy = [12000,13000,15000]\n",
    "d=list(zip(jmena,platy))\n",
    "print(d)"
   ]
  },
  {
   "cell_type": "code",
   "execution_count": 95,
   "id": "31b0b80b-7ded-44bd-ab41-f911e23427f9",
   "metadata": {},
   "outputs": [
    {
     "name": "stdout",
     "output_type": "stream",
     "text": [
      "8\n",
      "<function secti at 0x00000246CE66F380> <class 'function'> 2503133819776 0X246CE66F380\n"
     ]
    }
   ],
   "source": [
    "def secti(a,b):\n",
    "    return a+b\n",
    "\n",
    "print(secti(2,6))\n",
    "print(secti, type(secti), id(secti), hex(id(secti)).upper())"
   ]
  },
  {
   "cell_type": "code",
   "execution_count": 98,
   "id": "8cd75054-dcb0-41c3-97e2-9c939f905bcb",
   "metadata": {},
   "outputs": [
    {
     "name": "stdout",
     "output_type": "stream",
     "text": [
      "<function <lambda> at 0x00000246CF2E7920> <class 'function'> 2503146895648\n",
      "8\n"
     ]
    }
   ],
   "source": [
    "add = lambda a,b: a+b\n",
    "print(add, type(add), id(add))\n",
    "print(add(2,6))"
   ]
  },
  {
   "cell_type": "code",
   "execution_count": 100,
   "id": "97bbe4b4-622e-4460-80e4-852dd32506a1",
   "metadata": {},
   "outputs": [
    {
     "name": "stdout",
     "output_type": "stream",
     "text": [
      "['Eva', 'Adam', 'Jan']\n"
     ]
    }
   ],
   "source": [
    "jmena = ['Jan', 'Adam','Eva']\n",
    "def posledni_znak(x):\n",
    "    return x[-1]\n",
    "print(sorted(jmena,key=posledni_znak))"
   ]
  },
  {
   "cell_type": "code",
   "execution_count": 102,
   "id": "bf2d08e6-be84-4200-8268-dd1aa1cc3af1",
   "metadata": {},
   "outputs": [
    {
     "name": "stdout",
     "output_type": "stream",
     "text": [
      "['Eva', 'Adam', 'Jan']\n"
     ]
    }
   ],
   "source": [
    "jmena = ['Jan', 'Adam','Eva']\n",
    "print(sorted(jmena,key = lambda x:x[-1]))"
   ]
  },
  {
   "cell_type": "code",
   "execution_count": 103,
   "id": "7b3e949e-e649-4f2b-86c5-b8f14609b2ae",
   "metadata": {},
   "outputs": [
    {
     "name": "stdout",
     "output_type": "stream",
     "text": [
      "{'CZ': [('Brno', 395000), ('Praha', 1100000), ('Ostrava', 210000), ('Hradec Kralove', 97000), ('Ceske Budejovice', 103000)], 'SK': [('Kosice', 210000), ('Banska Bystrica', 48000), ('Bratislava', 405000)], 'DE': [('Berlin', 6500000)], 'AT': [('Linz', 82000), ('Graz', 95000)]}\n",
      "AT: Linz, Graz\n",
      "CZ: Hradec Kralove, Ceske Budejovice, Ostrava, Brno, Praha\n",
      "DE: Berlin\n",
      "SK: Banska Bystrica, Kosice, Bratislava\n"
     ]
    }
   ],
   "source": [
    "radky = ['CZ,Brno,395000', 'CZ,Praha,1100000', 'SK,Kosice,210000', 'DE,Berlin,6500000',\n",
    "         'SK,Banska Bystrica,48000', 'CZ,Ostrava,210000',\n",
    "         'CZ,Hradec Kralove,97000', 'AT,Linz,82000', 'SK,Bratislava,405000', 'AT,Graz,95000',\n",
    "         'CZ,Ceske Budejovice,103000',\n",
    "        ]\n",
    "#seradte vzestupne podle kodu statu a nazvy mest vzestupne podle poctu obyvatel\n",
    "#AT: Linz, Graz\n",
    "#CZ: Hradec Kralove, Ceske Budejovice, Ostrava, Brno, Praha\n",
    "mesta = dict()\n",
    "for radek in radky:\n",
    "    kod_statu, nazev_mesta, pocet_obyvatel  = radek.split(',')\n",
    "    mesta.setdefault(kod_statu,[]).append( (nazev_mesta,int(pocet_obyvatel)) )\n",
    "print(mesta)\n",
    "\n",
    "for stat in sorted(mesta):\n",
    "    print(stat,': ', ', '.join(  map(lambda x:x[0], sorted(mesta[stat],key = lambda x:x[1])  ) ), sep='')"
   ]
  },
  {
   "cell_type": "code",
   "execution_count": 108,
   "id": "cea48102-53e2-4e11-8b16-8215d82f184f",
   "metadata": {},
   "outputs": [
    {
     "name": "stdout",
     "output_type": "stream",
     "text": [
      "ahoj\n",
      "ahoj\n",
      "ahoj\n",
      "ahoj\n",
      "ahoj\n",
      "[None, None, None, None, None]\n"
     ]
    }
   ],
   "source": [
    "x=list(map(lambda x: print('ahoj'), range(5)))\n",
    "print(list(x))"
   ]
  },
  {
   "cell_type": "code",
   "execution_count": 112,
   "id": "afdfe66e-7ed6-4848-bca8-c4b4c8425ae8",
   "metadata": {},
   "outputs": [
    {
     "name": "stdout",
     "output_type": "stream",
     "text": [
      "cau\n"
     ]
    }
   ],
   "source": [
    "(lambda : print('cau'))()\n"
   ]
  },
  {
   "cell_type": "code",
   "execution_count": 119,
   "id": "e4babade-39b2-46a1-bab7-b0658e6b1773",
   "metadata": {},
   "outputs": [
    {
     "name": "stdout",
     "output_type": "stream",
     "text": [
      "1\n",
      "1\n",
      "1\n",
      "6\n",
      "7\n"
     ]
    }
   ],
   "source": [
    "#zpet k definice funkce\n",
    "#promenny pocet parametru\n",
    "print(min(1,2,3))\n",
    "print(min(1,2))\n",
    "print(min([1,2,3,]))\n",
    "#print(sum(1,2,3))\n",
    "print(sum([1,2,3]))\n",
    "print(sum([1,2,3],1))\n"
   ]
  },
  {
   "cell_type": "code",
   "execution_count": 128,
   "id": "d0f5b4a4-27cd-42ea-8143-ceac14081cdc",
   "metadata": {},
   "outputs": [
    {
     "name": "stdout",
     "output_type": "stream",
     "text": [
      "() <class 'tuple'> 0\n",
      "(1,) <class 'tuple'> 1\n",
      "(1, 2, 3) <class 'tuple'> 3\n"
     ]
    }
   ],
   "source": [
    "def f(*args): #pozicni predavani libovolneho poctu parametru\n",
    "    print(args, type(args), len(args))\n",
    "f()\n",
    "f(1)\n",
    "f(1,2,3)\n"
   ]
  },
  {
   "cell_type": "code",
   "execution_count": 135,
   "id": "93dbfc9d-e695-422e-80a9-b4abf398e1f6",
   "metadata": {},
   "outputs": [
    {
     "name": "stdout",
     "output_type": "stream",
     "text": [
      "(1, 2) <class 'tuple'> 2\n",
      "3 <class 'int'>\n",
      "() <class 'tuple'> 0\n",
      "6 <class 'int'>\n"
     ]
    }
   ],
   "source": [
    "def f(*args,a): \n",
    "    print(args, type(args), len(args))\n",
    "    print(a, type(a))\n",
    "\n",
    "#f() #TypeError: f() missing 1 required keyword-only argument: 'a'\n",
    "#f(1,2,3) #TypeError: f() missing 1 required keyword-only argument: 'a'\n",
    "f(1,2,a=3)\n",
    "f(a=6)"
   ]
  },
  {
   "cell_type": "code",
   "execution_count": 140,
   "id": "0213e6da-bccf-4bfc-a341-e0406335cf9f",
   "metadata": {},
   "outputs": [
    {
     "name": "stdout",
     "output_type": "stream",
     "text": [
      "5\n",
      "23\n"
     ]
    }
   ],
   "source": [
    "def maximum (*args):\n",
    "    \"\"\"Počítá maximum z posloupnosti čísel\"\"\"\n",
    "    m=args[0]\n",
    "    for n in args[1:]:\n",
    "        if n>m:\n",
    "            m=n\n",
    "    return m\n",
    "    \n",
    "print (maximum(1,5,4,2))\n",
    "print (maximum(1,5,4,2,23,23))\n",
    "#maximum()"
   ]
  },
  {
   "cell_type": "code",
   "execution_count": 147,
   "id": "ebf3eed5-f8eb-40d3-944f-161619222db6",
   "metadata": {},
   "outputs": [
    {
     "name": "stdout",
     "output_type": "stream",
     "text": [
      "{} <class 'dict'> 0\n",
      "{'a': 10} <class 'dict'> 1\n",
      "{'x': 45, 'j': 'cvbxbvc'} <class 'dict'> 2\n"
     ]
    }
   ],
   "source": [
    "def f(**kwargs):\n",
    "    print(kwargs, type(kwargs), len(kwargs))\n",
    "\n",
    "f()\n",
    "f(a=10)\n",
    "f(x=45,j='cvbxbvc')"
   ]
  },
  {
   "cell_type": "code",
   "execution_count": 150,
   "id": "3b4235e4-1701-432f-8cd9-655422e6d948",
   "metadata": {},
   "outputs": [
    {
     "name": "stdout",
     "output_type": "stream",
     "text": [
      "() <class 'tuple'> 0\n",
      "{} <class 'dict'> 0\n",
      "(12, 4, 56) <class 'tuple'> 3\n",
      "{} <class 'dict'> 0\n",
      "() <class 'tuple'> 0\n",
      "{'a': 10, 'b': 'fdgdf'} <class 'dict'> 2\n",
      "(1, 2, 3) <class 'tuple'> 3\n",
      "{'a': 10, 'b': 20} <class 'dict'> 2\n"
     ]
    }
   ],
   "source": [
    "def f(*args, **kwargs):\n",
    "    print(args, type(args), len(args))\n",
    "    print(kwargs, type(kwargs), len(kwargs))\n",
    "\n",
    "f()\n",
    "f(12,4,56)\n",
    "f(a=10, b='fdgdf')\n",
    "f(1,2,3,a=10,b=20)"
   ]
  },
  {
   "cell_type": "code",
   "execution_count": 155,
   "id": "6e4dbda7-d75f-4f7d-97fe-4e76ebd48a83",
   "metadata": {},
   "outputs": [
    {
     "name": "stdout",
     "output_type": "stream",
     "text": [
      "a=1, b=2\n",
      "a=1, b=2\n"
     ]
    },
    {
     "ename": "TypeError",
     "evalue": "f() got some positional-only arguments passed as keyword arguments: 'a'",
     "output_type": "error",
     "traceback": [
      "\u001b[1;31m---------------------------------------------------------------------------\u001b[0m",
      "\u001b[1;31mTypeError\u001b[0m                                 Traceback (most recent call last)",
      "Cell \u001b[1;32mIn[155], line 7\u001b[0m\n\u001b[0;32m      5\u001b[0m f(\u001b[38;5;241m1\u001b[39m,\u001b[38;5;241m2\u001b[39m)\n\u001b[0;32m      6\u001b[0m f(\u001b[38;5;241m1\u001b[39m,b\u001b[38;5;241m=\u001b[39m\u001b[38;5;241m2\u001b[39m)\n\u001b[1;32m----> 7\u001b[0m f(a\u001b[38;5;241m=\u001b[39m\u001b[38;5;241m1\u001b[39m,b\u001b[38;5;241m=\u001b[39m\u001b[38;5;241m2\u001b[39m)\n",
      "\u001b[1;31mTypeError\u001b[0m: f() got some positional-only arguments passed as keyword arguments: 'a'"
     ]
    }
   ],
   "source": [
    "def f(a,/,b): #argumenty pred / lze predavat pouze pozicne\n",
    "    print(f'{a=}, {b=}')\n",
    "\n",
    "#f() #TypeError: f() missing 2 required positional arguments: 'a' and 'b'\n",
    "f(1,2)\n",
    "f(1,b=2)\n",
    "#f(a=1,b=2) #TypeError: f() got some positional-only arguments passed as keyword arguments: 'a'"
   ]
  },
  {
   "cell_type": "code",
   "execution_count": 158,
   "id": "b12c571b-f53e-4dd7-8fbf-19a0ba71b49c",
   "metadata": {},
   "outputs": [
    {
     "name": "stdout",
     "output_type": "stream",
     "text": [
      "a=1, b=2\n",
      "a=1, b=2\n"
     ]
    }
   ],
   "source": [
    "def f(a,*,b): #argumenty za * lze predat pouze pojmenovane\n",
    "    print(f'{a=}, {b=}')\n",
    "f(a=1,b=2)\n",
    "#f(1,2) #TypeError: f() takes 1 positional argument but 2 were given\n",
    "f(1,b=2)"
   ]
  },
  {
   "cell_type": "code",
   "execution_count": 160,
   "id": "c3a382c5-08e1-4230-aa1c-0898d1cacc77",
   "metadata": {},
   "outputs": [
    {
     "name": "stdout",
     "output_type": "stream",
     "text": [
      "a=1, b=2\n"
     ]
    },
    {
     "ename": "TypeError",
     "evalue": "f() takes 1 positional argument but 2 were given",
     "output_type": "error",
     "traceback": [
      "\u001b[1;31m---------------------------------------------------------------------------\u001b[0m",
      "\u001b[1;31mTypeError\u001b[0m                                 Traceback (most recent call last)",
      "Cell \u001b[1;32mIn[160], line 5\u001b[0m\n\u001b[0;32m      2\u001b[0m     \u001b[38;5;28mprint\u001b[39m(\u001b[38;5;124mf\u001b[39m\u001b[38;5;124m'\u001b[39m\u001b[38;5;132;01m{\u001b[39;00ma\u001b[38;5;132;01m=}\u001b[39;00m\u001b[38;5;124m, \u001b[39m\u001b[38;5;132;01m{\u001b[39;00mb\u001b[38;5;132;01m=}\u001b[39;00m\u001b[38;5;124m'\u001b[39m)\n\u001b[0;32m      4\u001b[0m f(\u001b[38;5;241m1\u001b[39m,b\u001b[38;5;241m=\u001b[39m\u001b[38;5;241m2\u001b[39m)\n\u001b[1;32m----> 5\u001b[0m f(\u001b[38;5;241m1\u001b[39m,\u001b[38;5;241m2\u001b[39m)\n",
      "\u001b[1;31mTypeError\u001b[0m: f() takes 1 positional argument but 2 were given"
     ]
    }
   ],
   "source": [
    "def f(a,/,*,b): #argumenty za * lze predat pouze pojmenovane\n",
    "    print(f'{a=}, {b=}')\n",
    "\n",
    "f(1,b=2)\n",
    "#f(1,2) #TypeError: f() takes 1 positional argument but 2 were given"
   ]
  },
  {
   "cell_type": "code",
   "execution_count": 162,
   "id": "189ac920-d876-4580-8dff-fbf0335f2cf2",
   "metadata": {},
   "outputs": [
    {
     "name": "stdout",
     "output_type": "stream",
     "text": [
      "Help on built-in function print in module builtins:\n",
      "\n",
      "print(*args, sep=' ', end='\\n', file=None, flush=False)\n",
      "    Prints the values to a stream, or to sys.stdout by default.\n",
      "\n",
      "    sep\n",
      "      string inserted between values, default a space.\n",
      "    end\n",
      "      string appended after the last value, default a newline.\n",
      "    file\n",
      "      a file-like object (stream); defaults to the current sys.stdout.\n",
      "    flush\n",
      "      whether to forcibly flush the stream.\n",
      "\n",
      "Help on built-in function sorted in module builtins:\n",
      "\n",
      "sorted(iterable, /, *, key=None, reverse=False)\n",
      "    Return a new list containing all items from the iterable in ascending order.\n",
      "\n",
      "    A custom key function can be supplied to customize the sort order, and the\n",
      "    reverse flag can be set to request the result in descending order.\n",
      "\n"
     ]
    }
   ],
   "source": [
    "help(print)\n",
    "help(sorted)"
   ]
  },
  {
   "cell_type": "code",
   "execution_count": 166,
   "id": "1218c658-cc52-44c3-86df-c8e7510b920a",
   "metadata": {},
   "outputs": [
    {
     "name": "stdout",
     "output_type": "stream",
     "text": [
      "[144, 25, 49, 9801]\n"
     ]
    }
   ],
   "source": [
    "cisla = [12,5,7,99]\n",
    "#novy list druhych mocnin\n",
    "#klasicky pres for loop\n",
    "novy = []\n",
    "for cislo in cisla:\n",
    "    novy.append(cislo**2)\n",
    "\n",
    "print(novy)"
   ]
  },
  {
   "cell_type": "code",
   "execution_count": 165,
   "id": "55e52a1d-0fa3-4083-a9b1-0f6bedbdf5db",
   "metadata": {},
   "outputs": [
    {
     "name": "stdout",
     "output_type": "stream",
     "text": [
      "[144, 25, 49, 9801]\n"
     ]
    }
   ],
   "source": [
    "#pomoci mapovani, map\n",
    "novy = list(map(lambda x:x**2, cisla))\n",
    "print(novy)"
   ]
  },
  {
   "cell_type": "code",
   "execution_count": 167,
   "id": "b82f5eb8-c73c-4571-90ae-ce42cdc5d697",
   "metadata": {},
   "outputs": [
    {
     "name": "stdout",
     "output_type": "stream",
     "text": [
      "[144, 25, 49, 9801]\n"
     ]
    }
   ],
   "source": [
    "#list comprehension\n",
    "cisla = [12,5,7,99]\n",
    "nova = [ cislo**2 for cislo in cisla ]\n",
    "print(nova)"
   ]
  },
  {
   "cell_type": "code",
   "execution_count": 169,
   "id": "9109da66-294e-468e-b604-0f249da78998",
   "metadata": {},
   "outputs": [
    {
     "name": "stdout",
     "output_type": "stream",
     "text": [
      "[41.57, 11.18, 18.52, 985.04]\n"
     ]
    }
   ],
   "source": [
    "#list comprehension\n",
    "import math\n",
    "cisla = [12,5,7,99]\n",
    "nova = [ round(math.sqrt(cislo**3), 2) for cislo in cisla ]\n",
    "print(nova)"
   ]
  },
  {
   "cell_type": "code",
   "execution_count": 171,
   "id": "d2b42ad1-b602-431f-b7b8-7829240fadc0",
   "metadata": {},
   "outputs": [
    {
     "name": "stdout",
     "output_type": "stream",
     "text": [
      "[144, 25, 49, 9801, 121]\n"
     ]
    }
   ],
   "source": [
    "#list comprehension\n",
    "cisla = [12,5,7,99,-2,-6,11]\n",
    "nova = []\n",
    "for cislo in cisla:\n",
    "    if cislo>0:\n",
    "        nova.append(cislo**2)\n",
    "print(nova)"
   ]
  },
  {
   "cell_type": "code",
   "execution_count": 174,
   "id": "e203bf0d-5050-4c5d-94bc-d1b91410d916",
   "metadata": {},
   "outputs": [
    {
     "name": "stdout",
     "output_type": "stream",
     "text": [
      "[144, 25, 49, 9801, 121]\n"
     ]
    }
   ],
   "source": [
    "cisla = [12,5,7,99,-2,-6,11]\n",
    "novy = list(map(lambda x:x**2, filter(lambda x:x>0,cisla)))\n",
    "print(novy)"
   ]
  },
  {
   "cell_type": "code",
   "execution_count": 173,
   "id": "e47e2dd7-22f5-4458-9c77-1351232a8e95",
   "metadata": {},
   "outputs": [
    {
     "name": "stdout",
     "output_type": "stream",
     "text": [
      "[144, 25, 49, 9801, 121]\n"
     ]
    }
   ],
   "source": [
    "#list comprehension\n",
    "cisla = [12,5,7,99,-2,-6,11]\n",
    "nova = [ cislo**2 for cislo in cisla if cislo>0 ]\n",
    "print(nova)"
   ]
  },
  {
   "cell_type": "code",
   "execution_count": 175,
   "id": "3849d3e5-0482-4528-a7b7-946578981a03",
   "metadata": {},
   "outputs": [
    {
     "name": "stdout",
     "output_type": "stream",
     "text": [
      "[1, 4, 7, 23, 7, 12, 7, 83, 99, 4, 55, 78, 0]\n"
     ]
    }
   ],
   "source": [
    "x=[ [1,4,7], [23,7,12,7,83,99], [4], [55,78,0] ]\n",
    "y = [ c for sublist in x for c in sublist]\n",
    "print(y)"
   ]
  },
  {
   "cell_type": "code",
   "execution_count": 178,
   "id": "22dea3c4-85b6-4bc6-8412-abb90f9917f6",
   "metadata": {},
   "outputs": [
    {
     "name": "stdout",
     "output_type": "stream",
     "text": [
      "{'CZ': [('Brno', 395000), ('Praha', 1100000), ('Ostrava', 210000), ('Hradec Kralove', 97000), ('Ceske Budejovice', 103000)], 'SK': [('Kosice', 210000), ('Banska Bystrica', 48000), ('Bratislava', 405000)], 'DE': [('Berlin', 6500000)], 'AT': [('Linz', 82000), ('Graz', 95000)]}\n",
      "AT: Linz, Graz\n",
      "CZ: Hradec Kralove, Ceske Budejovice, Ostrava, Brno, Praha\n",
      "DE: Berlin\n",
      "SK: Banska Bystrica, Kosice, Bratislava\n"
     ]
    }
   ],
   "source": [
    "radky = ['CZ,Brno,395000', 'CZ,Praha,1100000', 'SK,Kosice,210000', 'DE,Berlin,6500000',\n",
    "         'SK,Banska Bystrica,48000', 'CZ,Ostrava,210000',\n",
    "         'CZ,Hradec Kralove,97000', 'AT,Linz,82000', 'SK,Bratislava,405000', 'AT,Graz,95000',\n",
    "         'CZ,Ceske Budejovice,103000',\n",
    "        ]\n",
    "#seradte vzestupne podle kodu statu a nazvy mest vzestupne podle poctu obyvatel\n",
    "#AT: Linz, Graz\n",
    "#CZ: Hradec Kralove, Ceske Budejovice, Ostrava, Brno, Praha\n",
    "mesta = dict()\n",
    "for radek in radky:\n",
    "    kod_statu, nazev_mesta, pocet_obyvatel  = radek.split(',')\n",
    "    mesta.setdefault(kod_statu,[]).append( (nazev_mesta,int(pocet_obyvatel)) )\n",
    "print(mesta)\n",
    "\n",
    "for stat in sorted(mesta):\n",
    "    print(stat,': ', ', '.join(  [ x[0] for x in sorted(mesta[stat],key = lambda x:x[1]) ] ), sep='')"
   ]
  },
  {
   "cell_type": "code",
   "execution_count": 185,
   "id": "5f8cab1f-44d6-4dcb-b0d9-2eeb4eeb9833",
   "metadata": {},
   "outputs": [
    {
     "name": "stdout",
     "output_type": "stream",
     "text": [
      "['Eva', 'Adam', 'Jan', 'Libor']\n",
      "Eva Adam Jan Libor\n",
      "Eva Adam Jan Libor \n",
      "Eva Adam Jan Libor\n"
     ]
    }
   ],
   "source": [
    "#explicitni unpacking , starred expression\n",
    "jmena = ['Eva', 'Adam','Jan', 'Libor']\n",
    "\n",
    "print(jmena)\n",
    "print(' '.join(jmena)) #jeden string z klistu stringu oodelenych mezerou\n",
    "for jmeno in jmena:\n",
    "    print(jmeno,end=' ')\n",
    "print()\n",
    "print(jmena[0], jmena[1], jmena[2], jmena[3])"
   ]
  },
  {
   "cell_type": "code",
   "execution_count": 187,
   "id": "9d30edd9-28be-40f8-b9d5-cdd476acced4",
   "metadata": {},
   "outputs": [
    {
     "name": "stdout",
     "output_type": "stream",
     "text": [
      "Eva Adam Jan Libor\n"
     ]
    }
   ],
   "source": [
    "print(*jmena) #print(jmena[0], jmena[1], jmena[2], jmena[3])"
   ]
  },
  {
   "cell_type": "code",
   "execution_count": 188,
   "id": "0f001722-6c7a-4fff-83f3-20aefcdfeb82",
   "metadata": {},
   "outputs": [
    {
     "name": "stdout",
     "output_type": "stream",
     "text": [
      "('Eva', 'Adam', 'Jan', 'Libor') <class 'tuple'> 4\n"
     ]
    }
   ],
   "source": [
    "def f(*args):\n",
    "    print(args, type(args), len(args))\n",
    "\n",
    "f(*jmena)"
   ]
  },
  {
   "cell_type": "code",
   "execution_count": 189,
   "id": "b91d4f8e-9963-490d-be2d-f253281e50ac",
   "metadata": {},
   "outputs": [
    {
     "name": "stdout",
     "output_type": "stream",
     "text": [
      "Eva Adam Jan\n"
     ]
    }
   ],
   "source": [
    "print(*jmena[:-1])"
   ]
  },
  {
   "cell_type": "code",
   "execution_count": 190,
   "id": "5816b91f-0b44-4f70-bedc-97c2491c4f14",
   "metadata": {},
   "outputs": [
    {
     "name": "stdout",
     "output_type": "stream",
     "text": [
      "CZ,Brno,395000\n",
      "CZ,Praha,1100000\n",
      "SK,Kosice,210000\n",
      "DE,Berlin,6500000\n",
      "SK,Banska Bystrica,48000\n",
      "CZ,Ostrava,210000\n",
      "CZ,Hradec Kralove,97000\n",
      "AT,Linz,82000\n",
      "SK,Bratislava,405000\n",
      "AT,Graz,95000\n",
      "CZ,Ceske Budejovice,103000\n"
     ]
    }
   ],
   "source": [
    "radky = ['CZ,Brno,395000', 'CZ,Praha,1100000', 'SK,Kosice,210000', 'DE,Berlin,6500000',\n",
    "         'SK,Banska Bystrica,48000', 'CZ,Ostrava,210000',\n",
    "         'CZ,Hradec Kralove,97000', 'AT,Linz,82000', 'SK,Bratislava,405000', 'AT,Graz,95000',\n",
    "         'CZ,Ceske Budejovice,103000',\n",
    "        ]\n",
    "print(*radky,sep='\\n')"
   ]
  },
  {
   "cell_type": "code",
   "execution_count": 193,
   "id": "5073d661-f623-48b0-9959-eee2d5d754da",
   "metadata": {},
   "outputs": [
    {
     "name": "stdout",
     "output_type": "stream",
     "text": [
      "cervena cerna\n",
      "red black\n",
      "('cervena', 'red') ('cerna', 'black')\n"
     ]
    }
   ],
   "source": [
    "barvy = {'cervena':'red', 'cerna':'black'}\n",
    "print(*barvy)\n",
    "print(*barvy.values())\n",
    "print(*barvy.items())\n"
   ]
  },
  {
   "cell_type": "code",
   "execution_count": 200,
   "id": "be8c866e-dd40-45c6-a484-a903f8163aa3",
   "metadata": {},
   "outputs": [
    {
     "name": "stdout",
     "output_type": "stream",
     "text": [
      "10 20 30\n",
      "10 20 [30, 40, 50]\n",
      "10 20 []\n",
      "10 [20, 30, 40] 50\n",
      "10 [] 20\n"
     ]
    }
   ],
   "source": [
    "a,b,c = 10,20,30\n",
    "print(a,b,c)\n",
    "#a,b,c = 10,20,30,40,50 #ValueError: too many values to unpack (expected 3)\n",
    "a,b,*c = 10,20,30,40,50\n",
    "print(a,b,c)\n",
    "a,b,*c = 10,20\n",
    "print(a,b,c)\n",
    "a,*b,c = 10,20,30,40,50\n",
    "print(a,b,c)\n",
    "a,*b,c = 10,20\n",
    "print(a,b,c)\n"
   ]
  },
  {
   "cell_type": "code",
   "execution_count": 203,
   "id": "70edabe2-67c8-4227-a6ef-34cc559d0490",
   "metadata": {},
   "outputs": [
    {
     "name": "stdout",
     "output_type": "stream",
     "text": [
      "1 2\n",
      "34 6\n",
      "234 5666\n"
     ]
    }
   ],
   "source": [
    "data = [ (1,2,46,7), (34,6), (234,5666,13,435)]\n",
    "for d in data:\n",
    "    print(d[0], d[1])"
   ]
  },
  {
   "cell_type": "code",
   "execution_count": 205,
   "id": "72f65774-6980-4aa0-a8c9-a2433a37a37e",
   "metadata": {},
   "outputs": [
    {
     "name": "stdout",
     "output_type": "stream",
     "text": [
      "1 2\n",
      "[46, 7]\n",
      "34 6\n",
      "[]\n",
      "234 5666\n",
      "[13, 435]\n"
     ]
    }
   ],
   "source": [
    "data = [ (1,2,46,7), (34,6), (234,5666,13,435)]\n",
    "for x,y,*zbytek in data:\n",
    "    print(x, y)\n",
    "    print(zbytek)"
   ]
  },
  {
   "cell_type": "code",
   "execution_count": 208,
   "id": "62fbd3b6-2195-4654-8039-a5b6bfaa02d1",
   "metadata": {},
   "outputs": [
    {
     "name": "stdout",
     "output_type": "stream",
     "text": [
      "10 [20]\n"
     ]
    }
   ],
   "source": [
    "b,*a = 10, 20\n",
    "print(b,a)"
   ]
  },
  {
   "cell_type": "code",
   "execution_count": 210,
   "id": "c49b6709-7ea8-4f56-b80a-69078a091a18",
   "metadata": {},
   "outputs": [
    {
     "name": "stdout",
     "output_type": "stream",
     "text": [
      "{'CZ': [('Brno', 395000), ('Praha', 1100000), ('Ostrava', 210000), ('Hradec Kralove', 97000), ('Ceske Budejovice', 103000)], 'SK': [('Kosice', 210000), ('Banska Bystrica', 48000), ('Bratislava', 405000)], 'DE': [('Berlin', 6500000)], 'AT': [('Linz', 82000), ('Graz', 95000)]}\n",
      "AT: Linz, Graz\n",
      "CZ: Hradec Kralove, Ceske Budejovice, Ostrava, Brno, Praha\n",
      "DE: Berlin\n",
      "SK: Banska Bystrica, Kosice, Bratislava\n"
     ]
    }
   ],
   "source": [
    "radky = ['CZ,Brno,395000', 'CZ,Praha,1100000', 'SK,Kosice,210000', 'DE,Berlin,6500000',\n",
    "         'SK,Banska Bystrica,48000', 'CZ,Ostrava,210000',\n",
    "         'CZ,Hradec Kralove,97000', 'AT,Linz,82000', 'SK,Bratislava,405000', 'AT,Graz,95000',\n",
    "         'CZ,Ceske Budejovice,103000',\n",
    "        ]\n",
    "mesta = dict()\n",
    "for kod_statu, nazev_mesta, pocet_obyvatel in map(lambda r: r.split(','),radky):\n",
    "    mesta.setdefault(kod_statu,[]).append( (nazev_mesta,int(pocet_obyvatel)) )\n",
    "print(mesta)\n",
    "\n",
    "for stat in sorted(mesta):\n",
    "    print(stat,': ', ', '.join(  [ x[0] for x in sorted(mesta[stat],key = lambda x:x[1]) ] ), sep='')"
   ]
  },
  {
   "cell_type": "code",
   "execution_count": 211,
   "id": "0b84b711-cdcb-45be-98ef-7c5ce9dd9518",
   "metadata": {},
   "outputs": [
    {
     "name": "stdout",
     "output_type": "stream",
     "text": [
      "{'CZ': [('Brno', 395000), ('Praha', 1100000), ('Ostrava', 210000), ('Hradec Kralove', 97000), ('Ceske Budejovice', 103000)], 'SK': [('Kosice', 210000), ('Banska Bystrica', 48000), ('Bratislava', 405000)], 'DE': [('Berlin', 6500000)], 'AT': [('Linz', 82000), ('Graz', 95000)]}\n",
      "AT: Linz, Graz\n",
      "CZ: Hradec Kralove, Ceske Budejovice, Ostrava, Brno, Praha\n",
      "DE: Berlin\n",
      "SK: Banska Bystrica, Kosice, Bratislava\n"
     ]
    }
   ],
   "source": [
    "radky = ['CZ,Brno,395000', 'CZ,Praha,1100000', 'SK,Kosice,210000', 'DE,Berlin,6500000',\n",
    "         'SK,Banska Bystrica,48000', 'CZ,Ostrava,210000',\n",
    "         'CZ,Hradec Kralove,97000', 'AT,Linz,82000', 'SK,Bratislava,405000', 'AT,Graz,95000',\n",
    "         'CZ,Ceske Budejovice,103000',\n",
    "        ]\n",
    "mesta = dict()\n",
    "for kod_statu, nazev_mesta, pocet_obyvatel in [r.split(',') for r in radky]:\n",
    "    mesta.setdefault(kod_statu,[]).append( (nazev_mesta,int(pocet_obyvatel)) )\n",
    "print(mesta)\n",
    "\n",
    "for stat in sorted(mesta):\n",
    "    print(stat,': ', ', '.join(  [ x[0] for x in sorted(mesta[stat],key = lambda x:x[1]) ] ), sep='')"
   ]
  },
  {
   "cell_type": "code",
   "execution_count": 213,
   "id": "44300b8d-9075-483a-bbd0-5d406fba21be",
   "metadata": {},
   "outputs": [
    {
     "name": "stdout",
     "output_type": "stream",
     "text": [
      "ZEHLICKA\n",
      "<class 'function'>\n"
     ]
    }
   ],
   "source": [
    "def velke_znaky(slovo):\n",
    "    return slovo.upper()\n",
    "print(velke_znaky('zehlicka'))\n",
    "print(type(velke_znaky))"
   ]
  },
  {
   "cell_type": "code",
   "execution_count": 217,
   "id": "bdf2ef26-4b0b-4a08-918d-0613159cd2a0",
   "metadata": {},
   "outputs": [
    {
     "name": "stdout",
     "output_type": "stream",
     "text": [
      "<function <lambda> at 0x00000246CF502E80>\n",
      "PRACKA\n"
     ]
    }
   ],
   "source": [
    "velke_znaky_lambda = lambda slovo:slovo.upper()\n",
    "print(velke_znaky_lambda)\n",
    "#velke_znaky_lambda() #TypeError: <lambda>() missing 1 required positional argument: 'slovo'\n",
    "print(velke_znaky_lambda('pracka'))"
   ]
  },
  {
   "cell_type": "code",
   "execution_count": 225,
   "id": "38eee8bf-228c-43b5-a824-5088652f0668",
   "metadata": {
    "scrolled": true
   },
   "outputs": [
    {
     "name": "stdout",
     "output_type": "stream",
     "text": [
      "{'CZ': [('Brno', 395000), ('Praha', 1100000), ('Ostrava', 210000), ('Hradec Kralove', 97000), ('Ceske Budejovice', 103000)], 'SK': [('Kosice', 210000), ('Banska Bystrica', 48000), ('Bratislava', 405000)], 'DE': [('Berlin', 6500000)], 'AT': [('Linz', 82000), ('Graz', 95000)]}\n",
      "AT: Linz, Graz\n",
      "CZ: Hradec Kralove, Ceske Budejovice, Ostrava, Brno, Praha\n",
      "DE: Berlin\n",
      "SK: Banska Bystrica, Kosice, Bratislava\n",
      "[('CZ', [('Brno', 395000), ('Praha', 1100000), ('Ostrava', 210000), ('Hradec Kralove', 97000), ('Ceske Budejovice', 103000)]), ('SK', [('Kosice', 210000), ('Banska Bystrica', 48000), ('Bratislava', 405000)]), ('DE', [('Berlin', 6500000)]), ('AT', [('Linz', 82000), ('Graz', 95000)])]\n",
      "[('AT', [('Linz', 82000), ('Graz', 95000)]), ('CZ', [('Brno', 395000), ('Praha', 1100000), ('Ostrava', 210000), ('Hradec Kralove', 97000), ('Ceske Budejovice', 103000)]), ('DE', [('Berlin', 6500000)]), ('SK', [('Kosice', 210000), ('Banska Bystrica', 48000), ('Bratislava', 405000)])]\n"
     ]
    }
   ],
   "source": [
    "radky = ['CZ,Brno,395000', 'CZ,Praha,1100000', 'SK,Kosice,210000', 'DE,Berlin,6500000',\n",
    "         'SK,Banska Bystrica,48000', 'CZ,Ostrava,210000',\n",
    "         'CZ,Hradec Kralove,97000', 'AT,Linz,82000', 'SK,Bratislava,405000', 'AT,Graz,95000',\n",
    "         'CZ,Ceske Budejovice,103000',\n",
    "        ]\n",
    "mesta = dict()\n",
    "for kod_statu, nazev_mesta, pocet_obyvatel in [r.split(',') for r in radky]:\n",
    "    mesta.setdefault(kod_statu,[]).append( (nazev_mesta,int(pocet_obyvatel)) )\n",
    "print(mesta)\n",
    "\n",
    "for stat,mesta_statu in sorted(mesta.items()):\n",
    "    print(stat,': ', ', '.join(  map(lambda x:x[0], sorted(mesta_statu,key = lambda x:x[1])) ), sep='')\n",
    "\n",
    "print(list(mesta.items()))\n",
    "print(sorted(mesta.items()))"
   ]
  }
 ],
 "metadata": {
  "kernelspec": {
   "display_name": "Python 3 (ipykernel)",
   "language": "python",
   "name": "python3"
  },
  "language_info": {
   "codemirror_mode": {
    "name": "ipython",
    "version": 3
   },
   "file_extension": ".py",
   "mimetype": "text/x-python",
   "name": "python",
   "nbconvert_exporter": "python",
   "pygments_lexer": "ipython3",
   "version": "3.12.7"
  }
 },
 "nbformat": 4,
 "nbformat_minor": 5
}
