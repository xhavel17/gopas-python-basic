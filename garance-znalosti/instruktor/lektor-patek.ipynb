{
 "cells": [
  {
   "cell_type": "code",
   "execution_count": null,
   "id": "4cb2a009-172e-4d9f-b1e4-f120c623d663",
   "metadata": {},
   "outputs": [],
   "source": [
    "#patek"
   ]
  },
  {
   "cell_type": "code",
   "execution_count": 5,
   "id": "fe13aad4-cf94-4e4d-8bec-73d53897290a",
   "metadata": {},
   "outputs": [
    {
     "name": "stdout",
     "output_type": "stream",
     "text": [
      "2025-01-31 09:13:09.281575\n"
     ]
    }
   ],
   "source": [
    "# moduly\n",
    "#import datetime1 #ModuleNotFoundError: No module named 'datetime1'\n",
    "import datetime\n",
    "print(datetime.datetime.now())\n",
    "import math,sys,os"
   ]
  },
  {
   "cell_type": "code",
   "execution_count": 7,
   "id": "e89ae020-6854-403c-b271-e7537a602317",
   "metadata": {},
   "outputs": [
    {
     "name": "stdout",
     "output_type": "stream",
     "text": [
      "120\n"
     ]
    }
   ],
   "source": [
    "import math as m\n",
    "print(m.factorial(5))"
   ]
  },
  {
   "cell_type": "code",
   "execution_count": 8,
   "id": "b3f7c9b7-69f6-44d4-bb9f-ff242e5d538b",
   "metadata": {},
   "outputs": [],
   "source": [
    "#from math import *\n",
    "from math import sin,cos"
   ]
  },
  {
   "cell_type": "code",
   "execution_count": 9,
   "id": "4606e0f2-10ae-4fc3-a412-ccd4ecead816",
   "metadata": {},
   "outputs": [
    {
     "name": "stdout",
     "output_type": "stream",
     "text": [
      "2\n",
      "3\n",
      "5\n"
     ]
    }
   ],
   "source": [
    "for _ in [2,3,5]:\n",
    "    print(_)"
   ]
  },
  {
   "cell_type": "code",
   "execution_count": 10,
   "id": "8a408f5a-e9df-475e-93b0-a9c3b89a1b61",
   "metadata": {},
   "outputs": [
    {
     "ename": "ModuleNotFoundError",
     "evalue": "No module named 'gopas'",
     "output_type": "error",
     "traceback": [
      "\u001b[1;31m---------------------------------------------------------------------------\u001b[0m",
      "\u001b[1;31mModuleNotFoundError\u001b[0m                       Traceback (most recent call last)",
      "Cell \u001b[1;32mIn[10], line 1\u001b[0m\n\u001b[1;32m----> 1\u001b[0m \u001b[38;5;28;01mimport\u001b[39;00m \u001b[38;5;21;01mgopas\u001b[39;00m\n",
      "\u001b[1;31mModuleNotFoundError\u001b[0m: No module named 'gopas'"
     ]
    }
   ],
   "source": [
    "import gopas"
   ]
  },
  {
   "cell_type": "code",
   "execution_count": 12,
   "id": "597745d7-1960-4654-82bd-fea1aa7bea15",
   "metadata": {},
   "outputs": [
    {
     "name": "stdout",
     "output_type": "stream",
     "text": [
      "3.12.7 | packaged by Anaconda, Inc. | (main, Oct  4 2024, 13:17:27) [MSC v.1929 64 bit (AMD64)]\n",
      "['C:\\\\Users\\\\Student\\\\Documents', 'C:\\\\Users\\\\Student\\\\anaconda3\\\\python312.zip', 'C:\\\\Users\\\\Student\\\\anaconda3\\\\DLLs', 'C:\\\\Users\\\\Student\\\\anaconda3\\\\Lib', 'C:\\\\Users\\\\Student\\\\anaconda3', '', 'C:\\\\Users\\\\Student\\\\anaconda3\\\\Lib\\\\site-packages', 'C:\\\\Users\\\\Student\\\\anaconda3\\\\Lib\\\\site-packages\\\\win32', 'C:\\\\Users\\\\Student\\\\anaconda3\\\\Lib\\\\site-packages\\\\win32\\\\lib', 'C:\\\\Users\\\\Student\\\\anaconda3\\\\Lib\\\\site-packages\\\\Pythonwin', 'C:\\\\Users\\\\Student\\\\anaconda3\\\\Lib\\\\site-packages\\\\setuptools\\\\_vendor']\n"
     ]
    }
   ],
   "source": [
    "import sys\n",
    "print(sys.version)\n",
    "print(sys.path)"
   ]
  },
  {
   "cell_type": "code",
   "execution_count": 13,
   "id": "d69da3e6-c2a3-4f2e-ba6c-cbf17f080a4b",
   "metadata": {},
   "outputs": [
    {
     "ename": "ModuleNotFoundError",
     "evalue": "No module named 'gopas'",
     "output_type": "error",
     "traceback": [
      "\u001b[1;31m---------------------------------------------------------------------------\u001b[0m",
      "\u001b[1;31mModuleNotFoundError\u001b[0m                       Traceback (most recent call last)",
      "Cell \u001b[1;32mIn[13], line 3\u001b[0m\n\u001b[0;32m      1\u001b[0m \u001b[38;5;66;03m#promenna prostredi PYTHONPATH\u001b[39;00m\n\u001b[0;32m      2\u001b[0m \u001b[38;5;66;03m#PYTHONPATH=e:\\moje_moduly\u001b[39;00m\n\u001b[1;32m----> 3\u001b[0m \u001b[38;5;28;01mimport\u001b[39;00m \u001b[38;5;21;01mgopas\u001b[39;00m\n",
      "\u001b[1;31mModuleNotFoundError\u001b[0m: No module named 'gopas'"
     ]
    }
   ],
   "source": [
    "#promenna prostredi PYTHONPATH\n",
    "#PYTHONPATH=e:\\moje_moduly\n",
    "import gopas"
   ]
  },
  {
   "cell_type": "code",
   "execution_count": null,
   "id": "402de8af-b320-4957-9ff3-b830a3cbdd55",
   "metadata": {},
   "outputs": [],
   "source": [
    "#virtualni prostredi\n",
    "#v os promptu\n",
    "#python -m venv cesta_k_novemu_pythonu"
   ]
  },
  {
   "cell_type": "code",
   "execution_count": null,
   "id": "a92c4ae6-3152-40df-bb65-2d9af80510ae",
   "metadata": {},
   "outputs": [],
   "source": [
    "#chyby"
   ]
  },
  {
   "cell_type": "code",
   "execution_count": 15,
   "id": "d71961f8-5a24-44ee-ae9a-9e35c013e1f2",
   "metadata": {},
   "outputs": [
    {
     "name": "stdout",
     "output_type": "stream",
     "text": [
      "0 No error\n",
      "1 Operation not permitted\n",
      "2 No such file or directory\n",
      "3 No such process\n",
      "4 Interrupted function call\n",
      "5 Input/output error\n",
      "6 No such device or address\n",
      "7 Arg list too long\n",
      "8 Exec format error\n",
      "9 Bad file descriptor\n",
      "10 No child processes\n",
      "11 Resource temporarily unavailable\n",
      "12 Not enough space\n",
      "13 Permission denied\n",
      "14 Bad address\n",
      "15 Unknown error\n",
      "16 Resource device\n",
      "17 File exists\n",
      "18 Improper link\n",
      "19 No such device\n"
     ]
    }
   ],
   "source": [
    "import os\n",
    "for i in range(20):\n",
    "    print(i,os.strerror(i))"
   ]
  },
  {
   "cell_type": "code",
   "execution_count": 18,
   "id": "50864ca8-26a1-4eb3-b11d-f8666e95c90b",
   "metadata": {},
   "outputs": [
    {
     "name": "stdout",
     "output_type": "stream",
     "text": [
      "{}\n"
     ]
    }
   ],
   "source": [
    "def secti(a, b) :\n",
    "    return a+b\n",
    "print(secti.__annotations__)"
   ]
  },
  {
   "cell_type": "code",
   "execution_count": 21,
   "id": "dff8ef97-6c5c-4c72-a18e-bfdf67de3e12",
   "metadata": {},
   "outputs": [
    {
     "name": "stdout",
     "output_type": "stream",
     "text": [
      "30\n",
      "ahojcau\n",
      "{'a': <class 'int'>, 'b': <class 'int'>, 'return': <class 'int'>}\n",
      "Help on function secti in module __main__:\n",
      "\n",
      "secti(a: int, b: int) -> int\n",
      "\n"
     ]
    }
   ],
   "source": [
    "def secti(a:int, b:int) -> int:\n",
    "    return a+b\n",
    "\n",
    "print(secti(10,20))\n",
    "print(secti('ahoj','cau'))\n",
    "print(secti.__annotations__)\n",
    "help(secti)"
   ]
  },
  {
   "cell_type": "markdown",
   "id": "ce905af0-7186-46a1-95fd-47d00514161b",
   "metadata": {},
   "source": [
    "## vyjimky"
   ]
  },
  {
   "cell_type": "code",
   "execution_count": 22,
   "id": "f62c5213-33e3-4912-991c-cf5d1954b930",
   "metadata": {},
   "outputs": [
    {
     "ename": "ZeroDivisionError",
     "evalue": "division by zero",
     "output_type": "error",
     "traceback": [
      "\u001b[1;31m---------------------------------------------------------------------------\u001b[0m",
      "\u001b[1;31mZeroDivisionError\u001b[0m                         Traceback (most recent call last)",
      "Cell \u001b[1;32mIn[22], line 1\u001b[0m\n\u001b[1;32m----> 1\u001b[0m \u001b[38;5;28mprint\u001b[39m (\u001b[38;5;241m1\u001b[39m\u001b[38;5;241m/\u001b[39m\u001b[38;5;241m0\u001b[39m)\n",
      "\u001b[1;31mZeroDivisionError\u001b[0m: division by zero"
     ]
    }
   ],
   "source": [
    "print (1/0)"
   ]
  },
  {
   "cell_type": "code",
   "execution_count": 24,
   "id": "78be7ba9-7ea3-409a-b2e0-8145928c431a",
   "metadata": {},
   "outputs": [
    {
     "name": "stdout",
     "output_type": "stream",
     "text": [
      "Pozor, chyba dělení nulou !!!\n"
     ]
    }
   ],
   "source": [
    "try:\n",
    "    print (1/0)\n",
    "    print('toto se nikdy nevytiskne')\n",
    "except ZeroDivisionError:\n",
    "    print (\"Pozor, chyba dělení nulou !!!\")"
   ]
  },
  {
   "cell_type": "code",
   "execution_count": 27,
   "id": "f3cb5ded-e11b-4956-86fb-0b6ee26d0960",
   "metadata": {},
   "outputs": [
    {
     "name": "stdout",
     "output_type": "stream",
     "text": [
      "nejaka jina chyba\n"
     ]
    }
   ],
   "source": [
    "try:\n",
    "    {}[5]\n",
    "    10/0\n",
    "    'gopas'[6]\n",
    "except ZeroDivisionError:\n",
    "    print (\"Pozor, chyba dělení nulou !!!\")\n",
    "except IndexError:\n",
    "    print('spatny index')\n",
    "except:\n",
    "    print('nejaka jina chyba')\n"
   ]
  },
  {
   "cell_type": "code",
   "execution_count": 29,
   "id": "f3dca035",
   "metadata": {},
   "outputs": [
    {
     "name": "stdout",
     "output_type": "stream",
     "text": [
      "nejaka jina chyba\n",
      "KeyError 5\n"
     ]
    }
   ],
   "source": [
    "try:\n",
    "    {}[5]\n",
    "    10/0\n",
    "    'gopas'[6]\n",
    "except ZeroDivisionError:\n",
    "    print (\"Pozor, chyba dělení nulou !!!\")\n",
    "except IndexError:\n",
    "    print('spatny index')\n",
    "except Exception as ex:\n",
    "    print('nejaka jina chyba')\n",
    "    print(type(ex).__name__, ex)\n"
   ]
  },
  {
   "cell_type": "code",
   "execution_count": 30,
   "id": "09e26ea8",
   "metadata": {},
   "outputs": [
    {
     "name": "stdout",
     "output_type": "stream",
     "text": [
      "nejaka jina chyba\n",
      "KeyError 5\n",
      "Vzdy na konci\n"
     ]
    }
   ],
   "source": [
    "try:\n",
    "    {}[5]\n",
    "    10/0\n",
    "    'gopas'[6]\n",
    "except ZeroDivisionError:\n",
    "    print (\"Pozor, chyba dělení nulou !!!\")\n",
    "except IndexError:\n",
    "    print('spatny index')\n",
    "except Exception as ex:\n",
    "    print('nejaka jina chyba')\n",
    "    print(type(ex).__name__, ex)\n",
    "else:\n",
    "    print('nenastala zadna vyjimka')\n",
    "finally:\n",
    "    print('Vzdy na konci')"
   ]
  },
  {
   "cell_type": "code",
   "execution_count": 31,
   "id": "6a6dc69d",
   "metadata": {},
   "outputs": [
    {
     "name": "stdout",
     "output_type": "stream",
     "text": [
      "nenastala zadna vyjimka\n",
      "Vzdy na konci\n"
     ]
    }
   ],
   "source": [
    "try:\n",
    "   pass\n",
    "except ZeroDivisionError:\n",
    "    print (\"Pozor, chyba dělení nulou !!!\")\n",
    "except IndexError:\n",
    "    print('spatny index')\n",
    "except Exception as ex:\n",
    "    print('nejaka jina chyba')\n",
    "    print(type(ex).__name__, ex)\n",
    "else:\n",
    "    print('nenastala zadna vyjimka')\n",
    "finally:\n",
    "    print('Vzdy na konci')"
   ]
  },
  {
   "cell_type": "code",
   "execution_count": 34,
   "id": "53a0ea59-c336-44da-8714-56c3e4bc5978",
   "metadata": {},
   "outputs": [
    {
     "ename": "RuntimeError",
     "evalue": "dictionary changed size during iteration",
     "output_type": "error",
     "traceback": [
      "\u001b[1;31m---------------------------------------------------------------------------\u001b[0m",
      "\u001b[1;31mRuntimeError\u001b[0m                              Traceback (most recent call last)",
      "Cell \u001b[1;32mIn[34], line 2\u001b[0m\n\u001b[0;32m      1\u001b[0m d\u001b[38;5;241m=\u001b[39m{\u001b[38;5;241m1\u001b[39m:\u001b[38;5;241m1\u001b[39m, \u001b[38;5;241m2\u001b[39m:\u001b[38;5;241m4\u001b[39m, \u001b[38;5;241m3\u001b[39m:\u001b[38;5;241m9\u001b[39m}\n\u001b[1;32m----> 2\u001b[0m \u001b[38;5;28;01mfor\u001b[39;00m klic \u001b[38;5;129;01min\u001b[39;00m d:\n\u001b[0;32m      3\u001b[0m     \u001b[38;5;28;01mif\u001b[39;00m klic\u001b[38;5;241m==\u001b[39m\u001b[38;5;241m2\u001b[39m:\n\u001b[0;32m      4\u001b[0m         \u001b[38;5;28;01mdel\u001b[39;00m d[klic]\n",
      "\u001b[1;31mRuntimeError\u001b[0m: dictionary changed size during iteration"
     ]
    }
   ],
   "source": [
    "d={1:1, 2:4, 3:9}\n",
    "for klic in d:\n",
    "    if klic==2:\n",
    "        del d[klic]"
   ]
  },
  {
   "cell_type": "code",
   "execution_count": 37,
   "id": "eb805715-a69d-407a-aa4f-8cf04bbe673f",
   "metadata": {},
   "outputs": [
    {
     "name": "stdout",
     "output_type": "stream",
     "text": [
      "[12, 7, 8, 2342, 9, 8, 67]\n"
     ]
    }
   ],
   "source": [
    "cisla = [12,7,8,2342,-5,9,-12,8,67]\n",
    "for cislo in cisla:\n",
    "    if cislo<0:\n",
    "        cisla.remove(cislo)\n",
    "\n",
    "print(cisla)"
   ]
  },
  {
   "cell_type": "code",
   "execution_count": 38,
   "id": "c04cc340",
   "metadata": {},
   "outputs": [
    {
     "name": "stdout",
     "output_type": "stream",
     "text": [
      "[12, 7, 8, 2342, -6, 9, 8, 67]\n"
     ]
    }
   ],
   "source": [
    "cisla = [12,7,8,2342,-5,-6,9,-12,8,67]\n",
    "for cislo in cisla:\n",
    "    if cislo<0:\n",
    "        cisla.remove(cislo)\n",
    "\n",
    "print(cisla)"
   ]
  },
  {
   "cell_type": "code",
   "execution_count": 39,
   "id": "794f022e",
   "metadata": {},
   "outputs": [
    {
     "name": "stdout",
     "output_type": "stream",
     "text": [
      "[12, 7, 8, 2342, 9, 8, 67]\n"
     ]
    }
   ],
   "source": [
    "cisla = [12,7,8,2342,-5,-6,9,-12,8,67]\n",
    "for cislo in reversed(cisla):\n",
    "    if cislo<0:\n",
    "        cisla.remove(cislo)\n",
    "\n",
    "print(cisla)"
   ]
  },
  {
   "cell_type": "code",
   "execution_count": 40,
   "id": "a6b33352-ba38-4b26-855a-2f6eeec139f3",
   "metadata": {},
   "outputs": [
    {
     "name": "stdout",
     "output_type": "stream",
     "text": [
      "[12, 7, 8, 2342, 9, 8, 67]\n"
     ]
    }
   ],
   "source": [
    "cisla = [12,7,8,2342,-5,-6,9,-12,8,67]\n",
    "cisla = [ x for x in cisla if x>0 ]\n",
    "print(cisla)"
   ]
  },
  {
   "cell_type": "code",
   "execution_count": 41,
   "id": "e15f8312-6c90-4523-8df9-e011f7ab79b2",
   "metadata": {},
   "outputs": [
    {
     "name": "stdout",
     "output_type": "stream",
     "text": [
      "The Zen of Python, by Tim Peters\n",
      "\n",
      "Beautiful is better than ugly.\n",
      "Explicit is better than implicit.\n",
      "Simple is better than complex.\n",
      "Complex is better than complicated.\n",
      "Flat is better than nested.\n",
      "Sparse is better than dense.\n",
      "Readability counts.\n",
      "Special cases aren't special enough to break the rules.\n",
      "Although practicality beats purity.\n",
      "Errors should never pass silently.\n",
      "Unless explicitly silenced.\n",
      "In the face of ambiguity, refuse the temptation to guess.\n",
      "There should be one-- and preferably only one --obvious way to do it.\n",
      "Although that way may not be obvious at first unless you're Dutch.\n",
      "Now is better than never.\n",
      "Although never is often better than *right* now.\n",
      "If the implementation is hard to explain, it's a bad idea.\n",
      "If the implementation is easy to explain, it may be a good idea.\n",
      "Namespaces are one honking great idea -- let's do more of those!\n"
     ]
    }
   ],
   "source": [
    "import this"
   ]
  },
  {
   "cell_type": "code",
   "execution_count": 42,
   "id": "4f8b8f56-3f98-488d-8e0b-6df93c1b3bd8",
   "metadata": {},
   "outputs": [
    {
     "name": "stdout",
     "output_type": "stream",
     "text": [
      "{'CZ': ['Brno', 'Praha', 'Ostrava', 'Hradec Kralove', 'Ceske Budejovice'], 'SK': ['Kosice', 'Banska Bystrica', 'Bratislava'], 'DE': ['Berlin'], 'AT': ['Linz', 'Graz']}\n"
     ]
    }
   ],
   "source": [
    "radky = ['CZ,Brno', 'CZ,Praha', 'SK,Kosice', 'DE,Berlin', 'SK,Banska Bystrica', 'CZ,Ostrava',\n",
    "         'CZ,Hradec Kralove', 'AT,Linz', 'SK,Bratislava', 'AT,Graz', 'CZ,Ceske Budejovice' ]\n",
    "mesta = dict()\n",
    "for radek in radky:\n",
    "    kod_statu, nazev_mesta = radek.split(',')\n",
    "    try:\n",
    "        mesta[kod_statu].append(nazev_mesta)\n",
    "    except KeyError:\n",
    "        mesta[kod_statu] = [ nazev_mesta ]\n",
    "print(mesta)"
   ]
  },
  {
   "cell_type": "code",
   "execution_count": 49,
   "id": "7dda236d-faa1-46bb-bc10-ba2289dc42d9",
   "metadata": {},
   "outputs": [
    {
     "name": "stdin",
     "output_type": "stream",
     "text": [
      "Zadej polomer: 1a\n"
     ]
    },
    {
     "name": "stdout",
     "output_type": "stream",
     "text": [
      "Nezadal jsi cislo !\n"
     ]
    }
   ],
   "source": [
    "try:\n",
    "    polomer=int(input('Zadej polomer:'))\n",
    "except:\n",
    "    print('Nezadal jsi cislo !')\n",
    "    #sys.exit(1)\n",
    "else:\n",
    "    if polomer<=0:\n",
    "        print('Hele cislo polomeru musi byt vetsi nez 0')\n",
    "    else:\n",
    "        print('obvod je',2*3.14*polomer)\n",
    "    "
   ]
  },
  {
   "cell_type": "code",
   "execution_count": 51,
   "id": "d898d346-6958-4043-9dba-1e9d910dd14a",
   "metadata": {},
   "outputs": [
    {
     "ename": "ZeroDivisionError",
     "evalue": "delis nulou",
     "output_type": "error",
     "traceback": [
      "\u001b[1;31m---------------------------------------------------------------------------\u001b[0m",
      "\u001b[1;31mZeroDivisionError\u001b[0m                         Traceback (most recent call last)",
      "Cell \u001b[1;32mIn[51], line 1\u001b[0m\n\u001b[1;32m----> 1\u001b[0m \u001b[38;5;28;01mraise\u001b[39;00m \u001b[38;5;167;01mZeroDivisionError\u001b[39;00m(\u001b[38;5;124m'\u001b[39m\u001b[38;5;124mdelis nulou\u001b[39m\u001b[38;5;124m'\u001b[39m)\n",
      "\u001b[1;31mZeroDivisionError\u001b[0m: delis nulou"
     ]
    }
   ],
   "source": [
    "raise ZeroDivisionError('delis nulou')\n"
   ]
  },
  {
   "cell_type": "code",
   "execution_count": 52,
   "id": "ba937ddb",
   "metadata": {},
   "outputs": [
    {
     "name": "stdout",
     "output_type": "stream",
     "text": [
      "delime 0\n"
     ]
    }
   ],
   "source": [
    "try:\n",
    "    raise ZeroDivisionError('delis nulou')\n",
    "except ZeroDivisionError:\n",
    "    print('delime 0')\n"
   ]
  },
  {
   "cell_type": "code",
   "execution_count": 53,
   "id": "cd5df6d3-3cfc-4cd8-b06d-ef7a10db9291",
   "metadata": {},
   "outputs": [
    {
     "ename": "ValueError",
     "evalue": "list.remove(x): x not in list",
     "output_type": "error",
     "traceback": [
      "\u001b[1;31m---------------------------------------------------------------------------\u001b[0m",
      "\u001b[1;31mValueError\u001b[0m                                Traceback (most recent call last)",
      "Cell \u001b[1;32mIn[53], line 1\u001b[0m\n\u001b[1;32m----> 1\u001b[0m [\u001b[38;5;241m4\u001b[39m,\u001b[38;5;241m5\u001b[39m,\u001b[38;5;241m7\u001b[39m]\u001b[38;5;241m.\u001b[39mremove(\u001b[38;5;241m99\u001b[39m)\n",
      "\u001b[1;31mValueError\u001b[0m: list.remove(x): x not in list"
     ]
    }
   ],
   "source": [
    "[4,5,7].remove(99)"
   ]
  },
  {
   "cell_type": "code",
   "execution_count": 63,
   "id": "4fd8eee1-b7d9-4df2-9572-f7041058361e",
   "metadata": {},
   "outputs": [
    {
     "name": "stdout",
     "output_type": "stream",
     "text": [
      "Chyba Chybny format radku 123,X,ahoj\n",
      "Chyba Chybny format radku CZ\n",
      "{'CZ': [('Brno', 395000), ('Praha', 1100000), ('Ostrava', 210000), ('Hradec Kralove', 97000), ('Ceske Budejovice', 103000)], 'SK': [('Kosice', 210000), ('Banska Bystrica', 48000), ('Bratislava', 405000)], 'DE': [('Berlin', 6500000)], 'AT': [('Linz', 82000), ('Graz', 95000)]}\n",
      "AT: Linz, Graz\n",
      "CZ: Hradec Kralove, Ceske Budejovice, Ostrava, Brno, Praha\n",
      "DE: Berlin\n",
      "SK: Banska Bystrica, Kosice, Bratislava\n"
     ]
    }
   ],
   "source": [
    "radky = ['CZ,Brno,395000', 'CZ,Praha,1100000', 'SK,Kosice,210000', 'DE,Berlin,6500000',\n",
    "         'SK,Banska Bystrica,48000', 'CZ,Ostrava,210000',\n",
    "         'CZ,Hradec Kralove,97000', 'AT,Linz,82000', 'SK,Bratislava,405000', 'AT,Graz,95000',\n",
    "         'CZ,Ceske Budejovice,103000', '123,X,ahoj', 'CZ']\n",
    "\n",
    "def zpracuj_radek(radek, oddelovac=','):\n",
    "    \"\"\"funkce rozdeli radek podle oddelovace a provede kontrolu kodu statu, nazevu mesta a pocetu obyvatel\n",
    "    v pripade vraci vyjimku ValueError\"\"\"\n",
    "    data = radek.split(',')\n",
    "    if len(data)==3 and len(data[0])==2 and data[0].isupper() and len(data[1])>1 and data[1][0].isupper() and data[2].isdigit():\n",
    "        return (data[0],data[1],int(data[2]))\n",
    "    raise ValueError('Chybny format radku')\n",
    "\n",
    "mesta = dict()\n",
    "for radek in radky:\n",
    "    try:\n",
    "        kod_statu, nazev_mesta, pocet_obyvatel  = zpracuj_radek(radek)\n",
    "        mesta.setdefault(kod_statu,[]).append( (nazev_mesta,int(pocet_obyvatel)) )\n",
    "    except ValueError as ex:\n",
    "        print('Chyba',ex,radek)\n",
    "print(mesta)\n",
    "\n",
    "for stat in sorted(mesta):\n",
    "    print(stat,': ', ', '.join(map(lambda x:x[0], sorted(mesta[stat],key = lambda x:x[1]))), sep='')"
   ]
  },
  {
   "cell_type": "code",
   "execution_count": 62,
   "id": "497d3131-18ca-4500-bdf6-50816c2794a1",
   "metadata": {},
   "outputs": [
    {
     "name": "stdout",
     "output_type": "stream",
     "text": [
      "Help on function zpracuj_radek in module __main__:\n",
      "\n",
      "zpracuj_radek(radek, oddelovac=',')\n",
      "    funkce rozdeli radek podle oddelovace a provede kontrolu kodu statu, nazevu mesta a pocetu obyvatel\n",
      "    v pripade vraci byjimku ValueError\n",
      "\n",
      "funkce rozdeli radek podle oddelovace a provede kontrolu kodu statu, nazevu mesta a pocetu obyvatel\n",
      "    v pripade vraci byjimku ValueError\n"
     ]
    }
   ],
   "source": [
    "help(zpracuj_radek)\n",
    "print(zpracuj_radek.__doc__)"
   ]
  },
  {
   "cell_type": "code",
   "execution_count": 64,
   "id": "25c2f19c-d82d-403f-8e30-e99f7d550ebb",
   "metadata": {},
   "outputs": [
    {
     "ename": "IndexError",
     "evalue": "list index out of range",
     "output_type": "error",
     "traceback": [
      "\u001b[1;31m---------------------------------------------------------------------------\u001b[0m",
      "\u001b[1;31mZeroDivisionError\u001b[0m                         Traceback (most recent call last)",
      "Cell \u001b[1;32mIn[64], line 2\u001b[0m\n\u001b[0;32m      1\u001b[0m \u001b[38;5;28;01mtry\u001b[39;00m:\n\u001b[1;32m----> 2\u001b[0m     \u001b[38;5;241m1\u001b[39m\u001b[38;5;241m/\u001b[39m\u001b[38;5;241m0\u001b[39m\n\u001b[0;32m      3\u001b[0m \u001b[38;5;28;01mexcept\u001b[39;00m:\n",
      "\u001b[1;31mZeroDivisionError\u001b[0m: division by zero",
      "\nDuring handling of the above exception, another exception occurred:\n",
      "\u001b[1;31mIndexError\u001b[0m                                Traceback (most recent call last)",
      "Cell \u001b[1;32mIn[64], line 4\u001b[0m\n\u001b[0;32m      2\u001b[0m     \u001b[38;5;241m1\u001b[39m\u001b[38;5;241m/\u001b[39m\u001b[38;5;241m0\u001b[39m\n\u001b[0;32m      3\u001b[0m \u001b[38;5;28;01mexcept\u001b[39;00m:\n\u001b[1;32m----> 4\u001b[0m     [][\u001b[38;5;241m0\u001b[39m]\n",
      "\u001b[1;31mIndexError\u001b[0m: list index out of range"
     ]
    }
   ],
   "source": [
    "#zretezene vyjimky\n",
    "try:\n",
    "    1/0\n",
    "except:\n",
    "    [][0]"
   ]
  },
  {
   "cell_type": "code",
   "execution_count": 67,
   "id": "1445b289-710f-4d1a-967f-4471e677db55",
   "metadata": {},
   "outputs": [
    {
     "name": "stdout",
     "output_type": "stream",
     "text": [
      "Nastala chyba pri otvirani souboru\n"
     ]
    }
   ],
   "source": [
    "#soubory\n",
    "try:\n",
    "    soubor = open(r'e:\\log1.txt', 'rt')\n",
    "except OSError:\n",
    "    print('Nastala chyba pri otvirani souboru')\n"
   ]
  },
  {
   "cell_type": "code",
   "execution_count": 71,
   "id": "35aa6abd",
   "metadata": {},
   "outputs": [
    {
     "name": "stdout",
     "output_type": "stream",
     "text": [
      "<_io.TextIOWrapper name='e:\\\\log.txt' mode='rt' encoding='cp1252'>\n",
      "False\n",
      "True\n",
      "<_io.TextIOWrapper name='e:\\\\log.txt' mode='rt' encoding='cp1252'>\n"
     ]
    }
   ],
   "source": [
    "#soubory\n",
    "try:\n",
    "    soubor = open(r'e:\\log.txt', 'rt')\n",
    "except OSError:\n",
    "    print('Nastala chyba pri otvirani souboru')\n",
    "print(soubor)\n",
    "print(soubor.closed)\n",
    "soubor.close()\n",
    "print(soubor.closed)\n",
    "print(soubor)"
   ]
  },
  {
   "cell_type": "code",
   "execution_count": 72,
   "id": "08e8649f",
   "metadata": {},
   "outputs": [
    {
     "name": "stdout",
     "output_type": "stream",
     "text": [
      "24/01 15:02:33: Installation of azure-cli completed succesfully\n",
      "24/01 15:03:04: Installation of git completed succesfully\n",
      "24/01 15:03:36: Installation of microsoft-windows-terminal completed succesfully\n",
      "24/01 15:04:02: Installation of powershell-core completed succesfully\n",
      "24/01 15:04:33: Installation of googlechrome completed succesfully\n",
      "24/01 15:05:02: Installation of vscode completed succesfully\n",
      "\n"
     ]
    }
   ],
   "source": [
    "#soubory\n",
    "try:\n",
    "    soubor = open(r'e:\\log.txt', 'rt')\n",
    "except OSError:\n",
    "    print('Nastala chyba pri otvirani souboru')\n",
    "vse=soubor.read()\n",
    "print(vse)\n",
    "soubor.close()\n"
   ]
  },
  {
   "cell_type": "code",
   "execution_count": 73,
   "id": "0898360a",
   "metadata": {},
   "outputs": [
    {
     "name": "stdout",
     "output_type": "stream",
     "text": [
      "['24/01 15:02:33: Installation of azure-cli completed succesfully\\n', '24/01 15:03:04: Installation of git completed succesfully\\n', '24/01 15:03:36: Installation of microsoft-windows-terminal completed succesfully\\n', '24/01 15:04:02: Installation of powershell-core completed succesfully\\n', '24/01 15:04:33: Installation of googlechrome completed succesfully\\n', '24/01 15:05:02: Installation of vscode completed succesfully\\n']\n"
     ]
    }
   ],
   "source": [
    "#soubory\n",
    "try:\n",
    "    soubor = open(r'e:\\log.txt', 'rt')\n",
    "except OSError:\n",
    "    print('Nastala chyba pri otvirani souboru')\n",
    "vse=soubor.readlines()\n",
    "print(vse)\n",
    "soubor.close()\n"
   ]
  },
  {
   "cell_type": "code",
   "execution_count": 76,
   "id": "b7ffa9fa",
   "metadata": {},
   "outputs": [
    {
     "name": "stdout",
     "output_type": "stream",
     "text": [
      "24/01 15:02:33: Installation of azure-cli completed succesfully\n",
      "\n"
     ]
    }
   ],
   "source": [
    "#soubory\n",
    "try:\n",
    "    soubor = open(r'e:\\log.txt', 'rt')\n",
    "except OSError:\n",
    "    print('Nastala chyba pri otvirani souboru')\n",
    "radek=soubor.readline()\n",
    "print(radek)\n",
    "soubor.close()\n"
   ]
  },
  {
   "cell_type": "code",
   "execution_count": 2,
   "id": "5aeabd0c",
   "metadata": {},
   "outputs": [
    {
     "name": "stdout",
     "output_type": "stream",
     "text": [
      "24/01 15:02:33: Installation of azure-cli completed succesfully\n",
      "24/01 15:03:04: Installation of git completed succesfully\n",
      "24/01 15:03:36: Installation of microsoft-windows-terminal completed succesfully\n",
      "24/01 15:04:02: Installation of powershell-core completed succesfully\n",
      "24/01 15:04:33: Installation of googlechrome completed succesfully\n",
      "24/01 15:05:02: Installation of vscode completed succesfully\n"
     ]
    }
   ],
   "source": [
    "#soubory\n",
    "try:\n",
    "    soubor = open(r'e:\\log.txt', 'rt')\n",
    "except OSError:\n",
    "    print('Nastala chyba pri otvirani souboru')\n",
    "while True:\n",
    "    radek=soubor.readline()\n",
    "    if not radek:\n",
    "        break\n",
    "    print(radek,end='')\n",
    "soubor.close()\n"
   ]
  },
  {
   "cell_type": "code",
   "execution_count": 4,
   "id": "fa5fd095",
   "metadata": {},
   "outputs": [
    {
     "name": "stdout",
     "output_type": "stream",
     "text": [
      "24/01 15:02:33: Installation of azure-cli completed succesfully\n",
      "24/01 15:03:04: Installation of git completed succesfully\n",
      "24/01 15:03:36: Installation of microsoft-windows-terminal completed succesfully\n",
      "24/01 15:04:02: Installation of powershell-core completed succesfully\n",
      "24/01 15:04:33: Installation of googlechrome completed succesfully\n",
      "24/01 15:05:02: Installation of vscode completed succesfully\n"
     ]
    }
   ],
   "source": [
    "#soubory, takto budeme cist !\n",
    "try:\n",
    "    soubor = open(r'e:\\log.txt', 'rt')\n",
    "except OSError:\n",
    "    print('Nastala chyba pri otvirani souboru')\n",
    "for radek in soubor:\n",
    "    print(radek,end='')\n",
    "soubor.close()\n"
   ]
  },
  {
   "cell_type": "code",
   "execution_count": 7,
   "id": "becf6f9e",
   "metadata": {},
   "outputs": [
    {
     "name": "stdout",
     "output_type": "stream",
     "text": [
      "24/01 15:02:33: Installation of azure-cli completed succesfully\n",
      "24/01 15:03:04: Installation of git completed succesfully\n",
      "24/01 15:03:36: Installation of microsoft-windows-terminal completed succesfully\n",
      "24/01 15:04:02: Installation of powershell-core completed succesfully\n",
      "24/01 15:04:33: Installation of googlechrome completed succesfully\n",
      "24/01 15:05:02: Installation of vscode completed succesfully\n"
     ]
    }
   ],
   "source": [
    "#soubory, takto budeme cist !\n",
    "for radek in open(r'e:\\log.txt', 'rt'):\n",
    "    print(radek,end='')\n"
   ]
  },
  {
   "cell_type": "code",
   "execution_count": 9,
   "id": "4ab7fc45-528a-44b5-a2f3-3526e4ca9d50",
   "metadata": {},
   "outputs": [
    {
     "name": "stdout",
     "output_type": "stream",
     "text": [
      "24/01 15:02:33: Installation of azure-cli completed succesfully\n",
      "24/01 15:03:04: Installation of git completed succesfully\n",
      "24/01 15:03:36: Installation of microsoft-windows-terminal completed succesfully\n",
      "24/01 15:04:02: Installation of powershell-core completed succesfully\n",
      "24/01 15:04:33: Installation of googlechrome completed succesfully\n",
      "24/01 15:05:02: Installation of vscode completed succesfully\n",
      "\n"
     ]
    }
   ],
   "source": [
    "print(*open(r'e:\\log.txt', 'rt'),sep='')"
   ]
  },
  {
   "cell_type": "code",
   "execution_count": 11,
   "id": "dfad9b00-3a92-4d8f-88a8-0b62ca1da42a",
   "metadata": {},
   "outputs": [
    {
     "name": "stdout",
     "output_type": "stream",
     "text": [
      "24/01 15:02:33: Installation of azure-cli completed succesfully\n",
      "24/01 15:03:04: Installation of git completed succesfully\n",
      "24/01 15:03:36: Installation of microsoft-windows-terminal completed succesfully\n",
      "24/01 15:04:02: Installation of powershell-core completed succesfully\n",
      "24/01 15:04:33: Installation of googlechrome completed succesfully\n",
      "24/01 15:05:02: Installation of vscode completed succesfully\n",
      "True\n"
     ]
    }
   ],
   "source": [
    "with open(r'e:\\log.txt', 'rt') as soubor:\n",
    "    for radek in soubor:\n",
    "        print(radek.rstrip())\n",
    "print(soubor.closed)"
   ]
  },
  {
   "cell_type": "code",
   "execution_count": 14,
   "id": "f174940c-bcab-4e11-9cf1-a1b8619a44f3",
   "metadata": {},
   "outputs": [
    {
     "name": "stdout",
     "output_type": "stream",
     "text": [
      "AT: Linz, Graz\n",
      "CZ: Hradec Kralove, Ceske Budejovice, Ostrava, Brno, Praha\n",
      "DE: Berlin\n",
      "SK: Banska Bystrica, Kosice, Bratislava\n"
     ]
    }
   ],
   "source": [
    "def zpracuj_radek(radek, oddelovac=','):\n",
    "    \"\"\"funkce rozdeli radek podle oddelovace a provede kontrolu kodu statu, nazevu mesta a pocetu obyvatel\n",
    "    v pripade vraci vyjimku ValueError\"\"\"\n",
    "    data = radek.strip().split(',')\n",
    "    if len(data)==3 and len(data[0])==2 and data[0].isupper() and len(data[1])>1 and data[1][0].isupper() and data[2].isdigit():\n",
    "        return (data[0],data[1],int(data[2]))\n",
    "    raise ValueError('Chybny format radku')\n",
    "    \n",
    "mesta = dict()\n",
    "with open(r'C:\\Users\\Student\\Desktop\\LektorFileShare\\mesta1.txt', 'rt') as soubor:\n",
    "    for radek in soubor:\n",
    "        try:\n",
    "            kod_statu, nazev_mesta, pocet_obyvatel  = zpracuj_radek(radek)\n",
    "            mesta.setdefault(kod_statu,[]).append( (nazev_mesta,int(pocet_obyvatel)) )\n",
    "        except ValueError as ex:\n",
    "            print('Chyba',ex,radek)\n",
    "    #print(mesta)\n",
    "\n",
    "for stat in sorted(mesta):\n",
    "    print(stat,': ', ', '.join(map(lambda x:x[0], sorted(mesta[stat],key = lambda x:x[1]))), sep='')"
   ]
  },
  {
   "cell_type": "code",
   "execution_count": 18,
   "id": "97862e2a",
   "metadata": {},
   "outputs": [
    {
     "name": "stdin",
     "output_type": "stream",
     "text": [
      "Zadej cestu k soubor: e:\\mesta1.txt\n"
     ]
    },
    {
     "name": "stdout",
     "output_type": "stream",
     "text": [
      "AT: Linz, Graz\n",
      "CZ: Hradec Kralove, Ceske Budejovice, Ostrava, Brno, Praha\n",
      "DE: Berlin\n",
      "SK: Banska Bystrica, Kosice, Bratislava\n"
     ]
    }
   ],
   "source": [
    "def zpracuj_radek(radek, oddelovac=','):\n",
    "    \"\"\"funkce rozdeli radek podle oddelovace a provede kontrolu kodu statu, nazevu mesta a pocetu obyvatel\n",
    "    v pripade vraci vyjimku ValueError\"\"\"\n",
    "    data = radek.strip().split(',')\n",
    "    if len(data)==3 and len(data[0])==2 and data[0].isupper() and len(data[1])>1 and data[1][0].isupper() and data[2].isdigit():\n",
    "        return (data[0],data[1],int(data[2]))\n",
    "    raise ValueError('Chybny format radku')\n",
    "    \n",
    "mesta = dict()\n",
    "try:\n",
    "    with open(input('Zadej cestu k soubor:'), 'rt') as soubor:\n",
    "        for radek in soubor:\n",
    "            try:\n",
    "                kod_statu, nazev_mesta, pocet_obyvatel  = zpracuj_radek(radek)\n",
    "                mesta.setdefault(kod_statu,[]).append( (nazev_mesta,int(pocet_obyvatel)) )\n",
    "            except ValueError as ex:\n",
    "                print('Chyba',ex,radek)\n",
    "        #print(mesta)\n",
    "except FileNotFoundError:\n",
    "    print('Soubor neexistuje')\n",
    "except OSError:\n",
    "    print('Chyba pri praci se souborem')\n",
    "else:\n",
    "    for stat in sorted(mesta):\n",
    "        print(stat,': ', ', '.join(map(lambda x:x[0], sorted(mesta[stat],key = lambda x:x[1]))), sep='')"
   ]
  },
  {
   "cell_type": "code",
   "execution_count": 18,
   "id": "3d5e1a10",
   "metadata": {},
   "outputs": [
    {
     "name": "stdin",
     "output_type": "stream",
     "text": [
      "Zadej cestu k soubor: e:\\mesta1.txt\n"
     ]
    },
    {
     "name": "stdout",
     "output_type": "stream",
     "text": [
      "AT: Linz, Graz\n",
      "CZ: Hradec Kralove, Ceske Budejovice, Ostrava, Brno, Praha\n",
      "DE: Berlin\n",
      "SK: Banska Bystrica, Kosice, Bratislava\n"
     ]
    }
   ],
   "source": [
    "import sys\n",
    "def zpracuj_radek(radek, oddelovac=','):\n",
    "    \"\"\"funkce rozdeli radek podle oddelovace a provede kontrolu kodu statu, nazevu mesta a pocetu obyvatel\n",
    "    v pripade vraci vyjimku ValueError\"\"\"\n",
    "    data = radek.strip().split(',')\n",
    "    if len(data)==3 and len(data[0])==2 and data[0].isupper() and len(data[1])>1 and data[1][0].isupper() and data[2].isdigit():\n",
    "        return (data[0],data[1],int(data[2]))\n",
    "    raise ValueError('Chybny format radku')\n",
    "    \n",
    "mesta = dict()\n",
    "try:\n",
    "    with open(sys.argv[1], 'rt') as soubor:\n",
    "        for radek in soubor:\n",
    "            try:\n",
    "                kod_statu, nazev_mesta, pocet_obyvatel  = zpracuj_radek(radek)\n",
    "                mesta.setdefault(kod_statu,[]).append( (nazev_mesta,int(pocet_obyvatel)) )\n",
    "            except ValueError as ex:\n",
    "                print('Chyba',ex,radek)\n",
    "        #print(mesta)\n",
    "except FileNotFoundError:\n",
    "    print('Soubor neexistuje')\n",
    "except OSError:\n",
    "    print('Chyba pri praci se souborem')\n",
    "else:\n",
    "    for stat in sorted(mesta):\n",
    "        print(stat,': ', ', '.join(map(lambda x:x[0], sorted(mesta[stat],key = lambda x:x[1]))), sep='')\n",
    "print(sys.argv)"
   ]
  },
  {
   "cell_type": "code",
   "execution_count": 22,
   "id": "5ec45092-666f-4300-8a8b-e416248a1f94",
   "metadata": {},
   "outputs": [
    {
     "name": "stdout",
     "output_type": "stream",
     "text": [
      "('E:/Log.txt', 'Textove soubory (*.txt)')\n",
      "24/01 15:02:33: Installation of azure-cli completed succesfully\n",
      "24/01 15:03:04: Installation of git completed succesfully\n",
      "24/01 15:03:36: Installation of microsoft-windows-terminal completed succesfully\n",
      "24/01 15:04:02: Installation of powershell-core completed succesfully\n",
      "24/01 15:04:33: Installation of googlechrome completed succesfully\n",
      "24/01 15:05:02: Installation of vscode completed succesfully\n"
     ]
    }
   ],
   "source": [
    "%gui qt\n",
    "from PyQt5.QtWidgets import QFileDialog\n",
    "nazev_souboru = QFileDialog.getOpenFileName(None, 'Vyber soubor s daty ...','e:\\\\',\n",
    "                                            filter='Vsechny soubory(*);; Textove soubory (*.txt)')\n",
    "\n",
    "print(nazev_souboru)\n",
    "for radek in open(nazev_souboru[0],'rt'):\n",
    "    print(radek.strip())"
   ]
  },
  {
   "cell_type": "code",
   "execution_count": 24,
   "id": "71ad7843-3633-4a9a-a65f-6733e2c0b92e",
   "metadata": {},
   "outputs": [],
   "source": [
    "# zapis do souboru\n",
    "soubor = open(r'e:\\vystup1.txt','wt')\n",
    "soubor.write('prvni radek\\n')\n",
    "soubor.writelines(['druhy radek\\n', 'treti radek\\n'])\n",
    "for radek in ['ctvrty radek','paty radek']:\n",
    "    print(radek,file=soubor)\n",
    "soubor.close()"
   ]
  },
  {
   "cell_type": "code",
   "execution_count": 26,
   "id": "844c5296",
   "metadata": {},
   "outputs": [],
   "source": [
    "# zapis do souboru\n",
    "with open(r'e:\\vystup2.txt','wt') as soubor:\n",
    "    soubor.write('prvni radek\\n')\n",
    "    soubor.writelines(['druhy radek\\n', 'treti radek\\n'])\n",
    "    for radek in ['ctvrty radek','paty radek']:\n",
    "        print(radek,file=soubor)"
   ]
  },
  {
   "cell_type": "code",
   "execution_count": 31,
   "id": "18fef9f6-1292-4a86-b251-a95b61d6ebcd",
   "metadata": {},
   "outputs": [
    {
     "name": "stdout",
     "output_type": "stream",
     "text": [
      "C:\\Users\\Student\\Documents\n",
      "['.ipynb_checkpoints', 'desktop.ini', 'GlobalSettings.ps1', 'lektor-ctvrtek.ipynb', 'lektor-patek.ipynb', 'lektor-pondeli.ipynb', 'lektor-streda.ipynb', 'lektor-utery.ipynb', 'My Music', 'My Pictures', 'My Shapes', 'My Videos', 'osoby.sqlite', 'p1.py', 'python1_2022.pdf', 'Untitled.ipynb', 'UserSettings.ps1', 'WindowsPowerShell']\n",
      "$RECYCLE.BIN je adresar\n",
      "1.html je soubor\n",
      "1_files je adresar\n",
      "anotace1.py je soubor\n",
      "Appliance.ova je soubor\n",
      "Autologon.bat je soubor\n",
      "Autologon.ps1 je soubor\n",
      "Functions_DriveE.ps1 je soubor\n",
      "ISOs je adresar\n",
      "Log.txt je soubor\n",
      "Logins.txt je soubor\n",
      "mesta1.txt je soubor\n",
      "moje_moduly je adresar\n",
      "muj_python1 je adresar\n",
      "muj_python2 je adresar\n",
      "osoby.sqlite je soubor\n",
      "pagefile.sys je soubor\n",
      "skript_mesta1.py je soubor\n",
      "Start.bat je soubor\n",
      "System Volume Information je adresar\n",
      "VBox7 je adresar\n",
      "VMs je adresar\n",
      "vystup1.txt je soubor\n",
      "vystup2.txt je soubor\n"
     ]
    }
   ],
   "source": [
    "#prace se soubory, pres modul os\n",
    "import os\n",
    "print(os.getcwd())\n",
    "print(os.listdir())\n",
    "obsah_e=os.listdir(r'e:\\\\')\n",
    "for x in obsah_e:\n",
    "    if os.path.isfile(f'e:\\\\{x}'):\n",
    "        print(x,'je soubor')\n",
    "    else:\n",
    "        print(x,'je adresar')"
   ]
  },
  {
   "cell_type": "code",
   "execution_count": 39,
   "id": "eae5d837-a8f3-474e-a7b0-ccd35030037f",
   "metadata": {},
   "outputs": [
    {
     "name": "stdout",
     "output_type": "stream",
     "text": [
      "ANALÝZA: Jak naložit s Trumpem? Evropa je v pasti, může si za to sama\n",
      "Vyšší poplatky za Českou televizi a rozhlas mohou být od dubna či května\n",
      "Lidé se rozloučili se skladatelem a producentem Hannigem\n",
      "K levici se řadí čtvrtina Čechů, napravo se vidí dva z pěti, ukázal průzkum\n",
      "V centru Ústí unikl plyn z potrubí ve výkopu, hasiči evakuovali několik domů\n",
      "OBRAZEM: „Nejlepššý prezydent“. Hrad vystavil dary od dětí i Zelenského\n",
      "Chemici likvidují látku v Kunratickém potoce, kvůli husám přijeli i veterináři\n",
      "Nerozumím českému zasahování do vnitřních záležitostí Slovenska, řekl Fico\n",
      "Po požáru chaty ve Zlíně našli hasiči dva mrtvé, plameny objekt zcela zničily\n",
      "Případ pobodaných školáků policie odložila, útočnici hrozí výchovný ústav\n",
      "Brexit už přináší výhody. Britský velvyslanec o odchodu z EU i Česku\n",
      "Na Plzeňsku hořela nádražní budova, vlaky musely kvůli hasičům houkat\n",
      "To myslíte Babišovu podporu? Fiala odmítl slova o vměšování na Slovensku\n",
      "Byl to bytostný bohém a spravedlivý muž, vzpomínají na herce Jána Sedala\n",
      "VIDEO: Hlasitá cestující obtěžovala letušky, skončila s páskou přes ústa\n",
      "Obsah skládky na Bruntálsku dál překvapuje, natáčet přijela i německá televize\n",
      "Zdatný zloděj kovů přelézal dvoumetrové ploty, krádeží baterie vypnul semafor\n",
      "VIDEO: Policejní auto v kotrmelcích zachytila kamera, nehodu vyšetřuje GIBS\n",
      "V Břeclavi vzplál opravovaný bazén, ze stěny plameny přeskočily na střechu\n",
      "MERO a Orlen Unipetrol uzavřely novou smlouvu, má Česku zajistit bezpečnou ropu\n",
      "Děti vykopaly starý funkční granát a zas ho zahrabaly. O nálezu řekly až ve škole\n",
      "Při ujíždění Plzní řidič naboural dvě auta. Byl zdrogovaný, má zákaz řízení\n",
      "Před tragédií v D.C. varovali. Střet s vrtulníkem hrozil už o den dříve\n",
      "ANALÝZA: Migranti jako exportní artikl. Afrika žije z eur posílaných Evropou\n",
      "Švédsko chce odposlouchávat děti, nad násilím gangů nemá kontrolu\n",
      "Žhář podpálil zlínský bar hořlavinou z kanystru, za pokus o vraždu mu hrozí 20 let\n",
      "Žena se opila na výletě. V Praze ztratila tašku i psa a odjela špatným vlakem\n",
      "Po Evropě se pohybuje 2000 ruských diplomatů-sabotérů, odhadl Lipavský\n",
      "VIDEO: Kamion objel čekající auto a pokračoval na červenou, policisté zírali\n",
      "Česká ekonomika se vzpamatovává z poklesu. HDP loni vzrostl o procento\n"
     ]
    }
   ],
   "source": [
    "import xml.etree.ElementTree as et #standardni modul\n",
    "import urllib.request as urllib\n",
    "data=urllib.urlopen(r'https://servis.idnes.cz/rss.aspx?c=zpravodaj')\n",
    "#print(data.read())\n",
    "document=et.parse(data)\n",
    "root=document.getroot()\n",
    "channel=root.find('channel')\n",
    "for item in channel.findall('item'):\n",
    "    title=item.find('title')\n",
    "    print(title.text)"
   ]
  },
  {
   "cell_type": "code",
   "execution_count": 40,
   "id": "38afbe73",
   "metadata": {},
   "outputs": [
    {
     "name": "stdout",
     "output_type": "stream",
     "text": [
      "Řidič na přechodu smetl sedmiletého chlapce. Policisté hledají svědky\n",
      "ANALÝZA: Jak naložit s Trumpem? Evropa je v pasti, může si za to sama\n",
      "Vyšší poplatky za Českou televizi a rozhlas mohou být od dubna či května\n",
      "Lidé se rozloučili se skladatelem a producentem Hannigem\n",
      "K levici se řadí čtvrtina Čechů, napravo se vidí dva z pěti, ukázal průzkum\n",
      "V centru Ústí unikl plyn z potrubí ve výkopu, hasiči evakuovali několik domů\n",
      "OBRAZEM: „Nejlepššý prezydent“. Hrad vystavil dary od dětí i Zelenského\n",
      "Chemici likvidují látku v Kunratickém potoce, kvůli husám přijeli i veterináři\n",
      "Nerozumím českému zasahování do vnitřních záležitostí Slovenska, řekl Fico\n",
      "Po požáru chaty ve Zlíně našli hasiči dva mrtvé, plameny objekt zcela zničily\n",
      "Případ pobodaných školáků policie odložila, útočnici hrozí výchovný ústav\n",
      "Brexit už přináší výhody. Britský velvyslanec o odchodu z EU i Česku\n",
      "Na Plzeňsku hořela nádražní budova, vlaky musely kvůli hasičům houkat\n",
      "To myslíte Babišovu podporu? Fiala odmítl slova o vměšování na Slovensku\n",
      "Byl to bytostný bohém a spravedlivý muž, vzpomínají na herce Jána Sedala\n",
      "VIDEO: Hlasitá cestující obtěžovala letušky, skončila s páskou přes ústa\n",
      "Obsah skládky na Bruntálsku dál překvapuje, natáčet přijela i německá televize\n",
      "Zdatný zloděj kovů přelézal dvoumetrové ploty, krádeží baterie vypnul semafor\n",
      "VIDEO: Policejní auto v kotrmelcích zachytila kamera, nehodu vyšetřuje GIBS\n",
      "V Břeclavi vzplál opravovaný bazén, ze stěny plameny přeskočily na střechu\n",
      "MERO a Orlen Unipetrol uzavřely novou smlouvu, má Česku zajistit bezpečnou ropu\n",
      "Děti vykopaly starý funkční granát a zas ho zahrabaly. O nálezu řekly až ve škole\n",
      "Při ujíždění Plzní řidič naboural dvě auta. Byl zdrogovaný, má zákaz řízení\n",
      "Před tragédií v D.C. varovali. Střet s vrtulníkem hrozil už o den dříve\n",
      "ANALÝZA: Migranti jako exportní artikl. Afrika žije z eur posílaných Evropou\n",
      "Švédsko chce odposlouchávat děti, nad násilím gangů nemá kontrolu\n",
      "Žhář podpálil zlínský bar hořlavinou z kanystru, za pokus o vraždu mu hrozí 20 let\n",
      "Žena se opila na výletě. V Praze ztratila tašku i psa a odjela špatným vlakem\n",
      "Po Evropě se pohybuje 2000 ruských diplomatů-sabotérů, odhadl Lipavský\n",
      "VIDEO: Kamion objel čekající auto a pokračoval na červenou, policisté zírali\n"
     ]
    }
   ],
   "source": [
    "import lxml.etree as et #nestandardni modul lxml\n",
    "import urllib.request as urllib\n",
    "data=urllib.urlopen(r'https://servis.idnes.cz/rss.aspx?c=zpravodaj')\n",
    "#print(data.read())\n",
    "document=et.parse(data)\n",
    "root=document.getroot()\n",
    "channel=root.find('channel')\n",
    "for item in channel.findall('item'):\n",
    "    title=item.find('title')\n",
    "    print(title.text)"
   ]
  }
 ],
 "metadata": {
  "kernelspec": {
   "display_name": "Python 3 (ipykernel)",
   "language": "python",
   "name": "python3"
  },
  "language_info": {
   "codemirror_mode": {
    "name": "ipython",
    "version": 3
   },
   "file_extension": ".py",
   "mimetype": "text/x-python",
   "name": "python",
   "nbconvert_exporter": "python",
   "pygments_lexer": "ipython3",
   "version": "3.12.7"
  }
 },
 "nbformat": 4,
 "nbformat_minor": 5
}
