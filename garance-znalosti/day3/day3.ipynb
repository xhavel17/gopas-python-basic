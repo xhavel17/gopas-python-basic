{
 "cells": [
  {
   "cell_type": "code",
   "execution_count": 8,
   "metadata": {},
   "outputs": [
    {
     "name": "stdout",
     "output_type": "stream",
     "text": [
      "['ahoj', 'ahoj', 'ahoj', 'ahoj', 'ahoj']\n",
      "Help on method_descriptor:\n",
      "\n",
      "join(self, iterable, /) unbound builtins.str method\n",
      "    Concatenate any number of strings.\n",
      "\n",
      "    The string whose method is called is inserted in between each given string.\n",
      "    The result is returned as a new string.\n",
      "\n",
      "    Example: '.'.join(['ab', 'pq', 'rs']) -> 'ab.pq.rs'\n",
      "\n",
      "Help on wrapper_descriptor:\n",
      "\n",
      "__iter__(self, /) unbound builtins.str method\n",
      "    Implement iter(self).\n",
      "\n"
     ]
    }
   ],
   "source": [
    "a = 5 * ['ahoj']\n",
    "print(a)\n",
    "help(str.join)\n",
    "help(str.__iter__)\n"
   ]
  },
  {
   "cell_type": "code",
   "execution_count": 9,
   "metadata": {},
   "outputs": [
    {
     "data": {
      "text/plain": [
       "['__add__',\n",
       " '__class__',\n",
       " '__class_getitem__',\n",
       " '__contains__',\n",
       " '__delattr__',\n",
       " '__delitem__',\n",
       " '__dir__',\n",
       " '__doc__',\n",
       " '__eq__',\n",
       " '__format__',\n",
       " '__ge__',\n",
       " '__getattribute__',\n",
       " '__getitem__',\n",
       " '__getstate__',\n",
       " '__gt__',\n",
       " '__hash__',\n",
       " '__iadd__',\n",
       " '__imul__',\n",
       " '__init__',\n",
       " '__init_subclass__',\n",
       " '__iter__',\n",
       " '__le__',\n",
       " '__len__',\n",
       " '__lt__',\n",
       " '__mul__',\n",
       " '__ne__',\n",
       " '__new__',\n",
       " '__reduce__',\n",
       " '__reduce_ex__',\n",
       " '__repr__',\n",
       " '__reversed__',\n",
       " '__rmul__',\n",
       " '__setattr__',\n",
       " '__setitem__',\n",
       " '__sizeof__',\n",
       " '__str__',\n",
       " '__subclasshook__',\n",
       " 'append',\n",
       " 'clear',\n",
       " 'copy',\n",
       " 'count',\n",
       " 'extend',\n",
       " 'index',\n",
       " 'insert',\n",
       " 'pop',\n",
       " 'remove',\n",
       " 'reverse',\n",
       " 'sort']"
      ]
     },
     "execution_count": 9,
     "metadata": {},
     "output_type": "execute_result"
    }
   ],
   "source": [
    "dir(list)"
   ]
  },
  {
   "cell_type": "code",
   "execution_count": 11,
   "metadata": {},
   "outputs": [
    {
     "name": "stdout",
     "output_type": "stream",
     "text": [
      "Help on method_descriptor:\n",
      "\n",
      "insert(self, index, object, /) unbound builtins.list method\n",
      "    Insert object before index.\n",
      "\n",
      "Help on method_descriptor:\n",
      "\n",
      "pop(self, index=-1, /) unbound builtins.list method\n",
      "    Remove and return item at index (default last).\n",
      "\n",
      "    Raises IndexError if list is empty or index is out of range.\n",
      "\n"
     ]
    }
   ],
   "source": [
    "help(list.insert)\n",
    "help(list.pop)\n"
   ]
  },
  {
   "cell_type": "markdown",
   "metadata": {},
   "source": [
    "# Day 3 Exercise 2\n",
    "- zadj cislo\n",
    "- infinite loop\n",
    "- male menu"
   ]
  },
  {
   "cell_type": "code",
   "execution_count": 23,
   "metadata": {},
   "outputs": [
    {
     "name": "stdout",
     "output_type": "stream",
     "text": [
      "Zadej polomer v mm². Pokud vstup bude prazny retezec a nebo nebude cislo, program se ukonci\n",
      "Obsah kruhu je:      50.27 mm²\n",
      "Obvod kruhu je:      12.57 mm\n",
      "Zadej polomer v mm². Pokud vstup bude prazny retezec a nebo nebude cislo, program se ukonci\n",
      "Obsah kruhu je:      50.27 mm²\n",
      "Obvod kruhu je:      12.57 mm\n",
      "Zadej polomer v mm². Pokud vstup bude prazny retezec a nebo nebude cislo, program se ukonci\n",
      "Obsah kruhu je:      78.54 mm²\n",
      "Obvod kruhu je:      12.57 mm\n",
      "Zadej polomer v mm². Pokud vstup bude prazny retezec a nebo nebude cislo, program se ukonci\n",
      "Konec programu\n"
     ]
    }
   ],
   "source": [
    "from math import pi\n",
    "while True:\n",
    "    print(\"Zadej polomer v mm\\N{SUPERSCRIPT TWO}. Pokud vstup bude prazny retezec a nebo nebude cislo, program se ukonci\")\n",
    "    r = input(\"zadej polomer v mm\\N{SUPERSCRIPT TWO}\").strip()\n",
    "    if r.isdigit():\n",
    "        r= int(r)\n",
    "        if r > 0:\n",
    "        #print(f\"Obsah kruhu je: {pi*r**2} mm\\u00B2\")\n",
    "            print(f\"Obsah kruhu je: {pi*r**2:>10.2f} mm\\N{SUPERSCRIPT TWO}\")\n",
    "            print(f\"Obvod kruhu je: {2*pi*2:>10.2f} mm\")\n",
    "    else:\n",
    "        print(f\"Konec programu\")\n",
    "        break\n",
    "\n",
    "    "
   ]
  },
  {
   "cell_type": "code",
   "execution_count": 27,
   "metadata": {},
   "outputs": [
    {
     "name": "stdout",
     "output_type": "stream",
     "text": [
      "klid cervena\n",
      "value cerna\n",
      "klid zelena\n",
      "value green\n"
     ]
    }
   ],
   "source": [
    "barvy = {'cervena': 'cerna', 'zelena': 'green'}\n",
    "for k, v in barvy.items():\n",
    "    print(f\"klid {k}\")\n",
    "    print(f\"value {v}\")"
   ]
  },
  {
   "cell_type": "code",
   "execution_count": 31,
   "metadata": {},
   "outputs": [
    {
     "name": "stdout",
     "output_type": "stream",
     "text": [
      "{'Eva': 3, 'Adam': 4, 'Jan': 3, 'Tomas': 5}\n"
     ]
    }
   ],
   "source": [
    "jmena = ['Eva', \"Adam\", \"Jan\", \"Tomas\"]\n",
    "delka_jmen={}\n",
    "for jmeno in jmena:\n",
    "    delka_jmen[jmeno] = len(jmeno)\n",
    "print(delka_jmen)"
   ]
  },
  {
   "cell_type": "code",
   "execution_count": 32,
   "metadata": {},
   "outputs": [
    {
     "name": "stdout",
     "output_type": "stream",
     "text": [
      "[[4, 16], [6, 36], [8, 64], [12, 144], [5, 25]]\n"
     ]
    }
   ],
   "source": [
    "cisla = [4,6,8,12,5]\n",
    "mocnina = []\n",
    "for cislo in cisla:\n",
    "    mocnina.append([cislo, cislo**2])\n",
    "print(mocnina)\n"
   ]
  },
  {
   "cell_type": "code",
   "execution_count": 19,
   "metadata": {},
   "outputs": [
    {
     "name": "stdout",
     "output_type": "stream",
     "text": [
      "[('Eva', 3), ('Adam', 4), ('Jan', 3), ('Tomas', 5)]\n",
      "Eva = 3 delka\n",
      "Adam = 4 delka\n",
      "Jan = 3 delka\n",
      "Tomas = 5 delka\n"
     ]
    }
   ],
   "source": [
    "import sqlite3\n",
    "jmena = ['Eva', \"Adam\", \"Jan\", \"Tomas\"]\n",
    "delka_jmen={}\n",
    "\n",
    "con = sqlite3.connect(\"jmena.sqlite\")\n",
    "cur = con.cursor()\n",
    "cur.execute(\"CREATE TABLE IF NOT EXISTS jmena (id INTEGER PRIMARY KEY AUTOINCREMENT, jmeno TEXT, delka INTEGER)\")\n",
    "for jmeno in jmena:\n",
    "    cur.execute(\"INSERT INTO jmena (jmeno, delka) VALUES (?,?)\", (jmeno, len(jmeno)))\n",
    "\n",
    "db_content=cur.execute(\"SELECT jmeno,delka FROM jmena\").fetchall()\n",
    "con.commit()\n",
    "con.close()\n",
    "#print(db_content)\n",
    "for jmeno, delka in db_content:\n",
    "    print(f'{jmeno} = {delka} delka')"
   ]
  },
  {
   "cell_type": "markdown",
   "metadata": {},
   "source": [
    "# Day 3 Exercise 2\n"
   ]
  },
  {
   "cell_type": "code",
   "execution_count": 78,
   "metadata": {},
   "outputs": [
    {
     "name": "stdout",
     "output_type": "stream",
     "text": [
      "AT: Graz, Linz\n",
      "CZ: Brno, Ceske Budejovice, Hradec Kralove, Ostrava, Praha\n",
      "DE: Berlin\n",
      "SK: Banska Bystrica, Bratislava, Kosice\n"
     ]
    }
   ],
   "source": [
    "#priklad pro zbytek kurzu\n",
    "radky = ['CZ,Brno', 'CZ,Praha', 'SK,Kosice', 'DE,Berlin', 'SK,Banska Bystrica', 'CZ,Ostrava', 'CZ,Hradec Kralove', 'AT,Linz', 'SK,Bratislava', 'AT,Graz', 'CZ,Ceske Budejovice' ]\n",
    "#vypiste pro vzestupne serzeny seznam kodu statu seznam mest v poradi jak jsou uvedena v listu radky oddelena carka_mezera\n",
    "#AT: Linz, Graz\n",
    "#CZ: Brno, Praha, Ostrava, Hradec Kralove, Ceske Budejovice\n",
    "#DE: Berlin\n",
    "#SK: Kosice, Banska Bystrica, Bratislava\n",
    "countries={}\n",
    "for radek in radky:\n",
    "    #print(radek)\n",
    "    country, city = radek.split(\",\")\n",
    "    if country not in countries:\n",
    "        countries[country]=[]\n",
    "    countries[country].append(city)\n",
    "    #countries[country]=sorted(countries[country])\n",
    "\n",
    "for country in sorted(countries):\n",
    "    print(f'{country}: {\", \".join(sorted(countries[country]))}')\n"
   ]
  },
  {
   "cell_type": "code",
   "execution_count": 2,
   "metadata": {},
   "outputs": [
    {
     "name": "stdout",
     "output_type": "stream",
     "text": [
      "AT: Graz, Linz\n",
      "CZ: Brno, Ceske Budejovice, Hradec Kralove, Ostrava, Praha\n",
      "DE: Berlin\n",
      "SK: Banska Bystrica, Bratislava, Kosice\n"
     ]
    }
   ],
   "source": [
    "#priklad pro zbytek kurzu\n",
    "radky = ['CZ,Brno', 'CZ,Praha', 'SK,Kosice', 'DE,Berlin', 'SK,Banska Bystrica', 'CZ,Ostrava', 'CZ,Hradec Kralove', 'AT,Linz', 'SK,Bratislava', 'AT,Graz', 'CZ,Ceske Budejovice' ]\n",
    "#vypiste pro vzestupne serzeny seznam kodu statu seznam mest v poradi jak jsou uvedena v listu radky oddelena carka_mezera\n",
    "#AT: Linz, Graz\n",
    "#CZ: Brno, Praha, Ostrava, Hradec Kralove, Ceske Budejovice\n",
    "#DE: Berlin\n",
    "#SK: Kosice, Banska Bystrica, Bratislava\n",
    "\n",
    "mesta = dict()\n",
    "for radek in radky:\n",
    "    kod_statu, nazev_mesta = radek.split(',')\n",
    "    mesta.setdefault(kod_statu,[]).append(nazev_mesta)\n",
    "#print(mesta)\n",
    "for stat in sorted(mesta):\n",
    "    print(stat,': ', ', '.join(sorted(mesta[stat])), sep='')\n",
    "#print(mesta)"
   ]
  },
  {
   "cell_type": "code",
   "execution_count": 23,
   "metadata": {},
   "outputs": [
    {
     "name": "stdout",
     "output_type": "stream",
     "text": [
      "Radek CZ ma neplatny format \n",
      "Radek 123,Kolin ma neplatny format \n",
      "Radek  ma neplatny format \n",
      "Radek SK,X ma neplatny format \n",
      "AT: Graz, Linz\n",
      "CZ: Brno, Ceske Budejovice, Hradec Kralove, Ostrava, Praha\n",
      "DE: Berlin\n",
      "SK: Banska Bystrica, Bratislava, Kosice\n"
     ]
    }
   ],
   "source": [
    "radky = ['CZ,Brno', 'CZ,Praha', 'SK,Kosice', 'DE,Berlin', 'SK,Banska Bystrica', 'CZ,Ostrava', 'CZ,Hradec Kralove', 'AT,Linz', 'SK,Bratislava', 'AT,Graz', 'CZ,Ceske Budejovice', 'CZ', '123,Kolin', '', 'SK,X']\n",
    "\n",
    "def kontrola_radku(p_radek, oddelovac = ','):\n",
    "    data = p_radek.split(oddelovac)\n",
    "    #print(data, data[0], data[1])\n",
    "    if len(data)==2 and len(data[0])==2 and data[0].isupper() and len(data[1])>1 and data[1][0].isupper():\n",
    "        #pass\n",
    "        return True\n",
    "    else:\n",
    "        print(f'Radek {p_radek} ma neplatny format ')\n",
    "    return False\n",
    "    \n",
    "mesta = dict()\n",
    "for radek in radky:\n",
    "    if kontrola_radku(radek):\n",
    "        kod_statu, nazev_mesta = radek.split(',')\n",
    "        mesta.setdefault(kod_statu,[]).append(nazev_mesta)\n",
    "#print(mesta)\n",
    "for stat in sorted(mesta):\n",
    "    print(stat,': ', ', '.join(sorted(mesta[stat])), sep='')"
   ]
  }
 ],
 "metadata": {
  "kernelspec": {
   "display_name": "Python 3",
   "language": "python",
   "name": "python3"
  },
  "language_info": {
   "codemirror_mode": {
    "name": "ipython",
    "version": 3
   },
   "file_extension": ".py",
   "mimetype": "text/x-python",
   "name": "python",
   "nbconvert_exporter": "python",
   "pygments_lexer": "ipython3",
   "version": "3.13.1"
  }
 },
 "nbformat": 4,
 "nbformat_minor": 2
}
