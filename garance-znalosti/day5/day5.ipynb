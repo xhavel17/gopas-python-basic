{
 "cells": [
  {
   "cell_type": "markdown",
   "metadata": {},
   "source": [
    "### Exercise 1: Safe Integer Division\n",
    "\n",
    "Write a function `safe_divide`(a, b) that divides a by b. If b is 0, catch the ZeroDivisionError and print \"Cannot divide by zero!\"."
   ]
  },
  {
   "cell_type": "code",
   "execution_count": 12,
   "metadata": {},
   "outputs": [
    {
     "name": "stdout",
     "output_type": "stream",
     "text": [
      "0.4\n",
      "Cannot divide by zero!\n"
     ]
    }
   ],
   "source": [
    "def safe_devide(a: int, b:int) -> int:\n",
    "    try:\n",
    "        print(a / b)\n",
    "    except ZeroDivisionError as ex:\n",
    "        print(\"Cannot divide by zero!\")\n",
    "\n",
    "safe_devide(2,5)\n",
    "safe_devide(2,0)\n"
   ]
  },
  {
   "cell_type": "markdown",
   "metadata": {},
   "source": [
    "### Exercise 2: String to Integer Conversion\n",
    "Create a function `convert_string_to_int` that takes a string and tries to convert it to an integer. If the conversion fails, catch the ValueError and return \"Invalid number format!\"."
   ]
  },
  {
   "cell_type": "code",
   "execution_count": 16,
   "metadata": {},
   "outputs": [
    {
     "name": "stdout",
     "output_type": "stream",
     "text": [
      "Invalid nuber format hello\n"
     ]
    }
   ],
   "source": [
    "def convert_string_to_int(a:str=\"hello\") -> int:\n",
    "    try:\n",
    "        print(int(a))\n",
    "    except ValueError as ex:\n",
    "        print(\"Invalid nuber format\", a)\n",
    "\n",
    "convert_string_to_int()"
   ]
  },
  {
   "cell_type": "markdown",
   "metadata": {},
   "source": [
    "### Exercise 3: Handle Negative Numbers\n",
    "Write a function `check_positive_number`(n) that raises an exception if the input n is negative. Create a custom exception NegativeNumberError with a message \"Number cannot be negative!\"."
   ]
  },
  {
   "cell_type": "code",
   "execution_count": null,
   "metadata": {},
   "outputs": [],
   "source": [
    "def check_positive_number(a:int=0)->bool:\n",
    "    if a < 0:\n",
    "        raise \n"
   ]
  },
  {
   "cell_type": "code",
   "execution_count": 20,
   "metadata": {},
   "outputs": [
    {
     "name": "stdout",
     "output_type": "stream",
     "text": [
      "CZ,Brno,395000\n",
      "CZ,Praha,1100000\n",
      "SK,Kosice,210000\n",
      "DE,Berlin,6500000\n",
      "SK,Banska Bystrica,48000\n",
      "CZ,Ostrava,210000\n",
      "CZ,Hradec Kralove,97000\n",
      "AT,Linz,82000\n",
      "SK,Bratislava,405000\n",
      "AT,Graz,95000\n",
      "CZ,Ceske Budejovice,103000\n"
     ]
    }
   ],
   "source": [
    "with open(r'\\\\LEKTOR02\\LektorFileShare\\mesta1.txt', 'rt') as soubor:\n",
    "    print(*soubor,sep=\"\")\n",
    "\n",
    "def zpracuj_radek(radek, oddelovac=\",\"):\n",
    "    try:\n",
    "        pass\n",
    "    except Exception:\n",
    "        cities[radek0] = []\n",
    "\n",
    "    "
   ]
  },
  {
   "cell_type": "code",
   "execution_count": null,
   "metadata": {},
   "outputs": [],
   "source": []
  }
 ],
 "metadata": {
  "kernelspec": {
   "display_name": "Python 3",
   "language": "python",
   "name": "python3"
  },
  "language_info": {
   "codemirror_mode": {
    "name": "ipython",
    "version": 3
   },
   "file_extension": ".py",
   "mimetype": "text/x-python",
   "name": "python",
   "nbconvert_exporter": "python",
   "pygments_lexer": "ipython3",
   "version": "3.13.1"
  }
 },
 "nbformat": 4,
 "nbformat_minor": 2
}
