{
 "cells": [
  {
   "cell_type": "code",
   "execution_count": null,
   "metadata": {},
   "outputs": [],
   "source": [
    "radky = ['CZ,Brno', 'CZ,Praha', 'SK,Kosice', 'DE,Berlin', 'SK,Banska Bystrica', 'CZ,Ostrava', \\\n",
    "        'CZ,Hradec Kralove', 'AT,Linz', 'SK,Bratislava', 'AT,Graz', 'CZ,Ceske Budejovice', 'CZ', \\\n",
    "        '123,Kolin', '', 'SK,X']\n",
    "\n",
    "def kontrola_radku(p_radek, oddelovac = ','):\n",
    "    data = p_radek.split(oddelovac)\n",
    "    #print(data, data[0], data[1])\n",
    "    if len(data)==2 and len(data[0])==2 and data[0].isupper() and len(data[1])>1 and data[1][0].isupper():\n",
    "        #pass\n",
    "        return True\n",
    "    else:\n",
    "        print(f'Radek {p_radek} ma neplatny format ')\n",
    "    return False\n",
    "    \n",
    "mesta = dict()\n",
    "for radek in radky:\n",
    "    if kontrola_radku(radek):\n",
    "        kod_statu, nazev_mesta = radek.split(',')\n",
    "        mesta.setdefault(kod_statu,[]).append(nazev_mesta)\n",
    "#print(mesta)\n",
    "for stat in sorted(mesta):\n",
    "    print(stat,': ', ', '.join(sorted(mesta[stat])), sep='')"
   ]
  },
  {
   "cell_type": "code",
   "execution_count": 2,
   "metadata": {},
   "outputs": [
    {
     "ename": "NameError",
     "evalue": "name 'p_radek' is not defined",
     "output_type": "error",
     "traceback": [
      "\u001b[1;31m---------------------------------------------------------------------------\u001b[0m",
      "\u001b[1;31mNameError\u001b[0m                                 Traceback (most recent call last)",
      "Cell \u001b[1;32mIn[2], line 19\u001b[0m\n\u001b[0;32m     17\u001b[0m \u001b[38;5;28;01mfor\u001b[39;00m radek \u001b[38;5;129;01min\u001b[39;00m radky:\n\u001b[0;32m     18\u001b[0m     \u001b[38;5;28;01mif\u001b[39;00m kontrola_radku(radek):\n\u001b[1;32m---> 19\u001b[0m         kod_statu, nazev_mesta, populace \u001b[38;5;241m=\u001b[39m \u001b[43mp_radek\u001b[49m\u001b[38;5;241m.\u001b[39msplit(\u001b[38;5;124m'\u001b[39m\u001b[38;5;124m,\u001b[39m\u001b[38;5;124m'\u001b[39m)\n\u001b[0;32m     20\u001b[0m         \u001b[38;5;28mprint\u001b[39m(populace)\n\u001b[0;32m     21\u001b[0m         mesta\u001b[38;5;241m.\u001b[39msetdefault(kod_statu,[])\u001b[38;5;241m.\u001b[39mappend([nazev_mesta, populace])\n",
      "\u001b[1;31mNameError\u001b[0m: name 'p_radek' is not defined"
     ]
    }
   ],
   "source": [
    "radky = ['CZ,Brno,395000', 'CZ,Praha,1100000', 'SK,Kosice,210000', 'DE,Berlin,6500000', \\\n",
    "        'SK,Banska Bystrica,48000', 'CZ,Ostrava,210000', \\\n",
    "        'CZ,Hradec Kralove,97000', 'AT,Linz,82000', 'SK,Bratislava,405000', 'AT,Graz,95000', \\\n",
    "        'CZ,Ceske Budejovice,103000',\n",
    "        ]\n",
    "\n",
    "def kontrola_radku(p_radek):\n",
    "    data = p_radek.split(',')\n",
    "    if len(data)==3 and len(data[0])==2 and data[0].isupper() and len(data[1])>1 and data[1][0].isupper() and data[2].isdigit():\n",
    "        #pass\n",
    "        return True\n",
    "    else:\n",
    "        return False\n",
    "\n",
    "# MAIN\n",
    "mesta = dict()\n",
    "for radek in radky:\n",
    "    if kontrola_radku(radek):\n",
    "        kod_statu, nazev_mesta, populace = p_radek.split(',')\n",
    "        print(populace)\n",
    "        mesta.setdefault(kod_statu,[]).append([nazev_mesta, populace])\n",
    "\n",
    "print(mesta)\n",
    "for stat in sorted(mesta):\n",
    "    print(stat,': ', ', '.join(sorted(mesta[stat])), sep='')\n",
    "    "
   ]
  },
  {
   "cell_type": "markdown",
   "metadata": {},
   "source": [
    "Funkcni reseni podle lektora"
   ]
  },
  {
   "cell_type": "code",
   "execution_count": 3,
   "metadata": {},
   "outputs": [
    {
     "name": "stdout",
     "output_type": "stream",
     "text": [
      "AT: Linz, Graz\n",
      "CZ: Hradec Kralove, Ceske Budejovice, Ostrava, Brno, Praha\n",
      "DE: Berlin\n",
      "SK: Banska Bystrica, Kosice, Bratislava\n"
     ]
    }
   ],
   "source": [
    "radky = ['CZ,Brno,395000', 'CZ,Praha,1100000', 'SK,Kosice,210000', 'DE,Berlin,6500000', \\\n",
    "        'SK,Banska Bystrica,48000', 'CZ,Ostrava,210000', \\\n",
    "        'CZ,Hradec Kralove,97000', 'AT,Linz,82000', 'SK,Bratislava,405000', 'AT,Graz,95000', \\\n",
    "        'CZ,Ceske Budejovice,103000', \\\n",
    "        ]\n",
    "#seradte vzestupne podle kodu statu a nazvy mest vzestupne podle poctu obyvatel\n",
    "#AT: Linz, Graz\n",
    "#CZ: Hradec Kralove, Ceske Budejovice, Ostrava, Brno, Praha\n",
    "def druhy_element(ntice):\n",
    "    return ntice[1]\n",
    "\n",
    "mesta = dict()\n",
    "for radek in radky:\n",
    "    kod_statu, nazev_mesta, pocet_obyvatel  = radek.split(',')\n",
    "    mesta.setdefault(kod_statu,[]).append( (nazev_mesta,int(pocet_obyvatel)) )\n",
    "#print(mesta)\n",
    "\n",
    "for stat in sorted(mesta):\n",
    "    seznam_mest = []\n",
    "    for nazev,po in sorted(mesta[stat],key = druhy_element):\n",
    "        seznam_mest.append(nazev)\n",
    "    print(stat,': ', ', '.join(seznam_mest), sep='')"
   ]
  },
  {
   "cell_type": "code",
   "execution_count": 12,
   "metadata": {},
   "outputs": [
    {
     "name": "stdout",
     "output_type": "stream",
     "text": [
      "<map object at 0x0000023537023D90>\n",
      "volam fce f s: dasds\n",
      "volam fce f s: sdfsdffsdf\n",
      "volam fce f s: ddf\n",
      "[5, 10, 3]\n",
      "<map object at 0x0000023537023D90>\n"
     ]
    }
   ],
   "source": [
    "jmena = [ 'dasds', 'sdfsdffsdf', 'ddf']\n",
    "\n",
    "def f(x):\n",
    "    print('volam fce f s:', x)\n",
    "    return len(x)\n",
    "\n",
    "m=map(f,jmena)\n",
    "print(m)\n",
    "print(list(m))\n",
    "print(m) # uz se asi pouzil tka nic \n",
    "for i in m:\n",
    "    print(i)"
   ]
  },
  {
   "cell_type": "code",
   "execution_count": 11,
   "metadata": {},
   "outputs": [
    {
     "name": "stdout",
     "output_type": "stream",
     "text": [
      "<map object at 0x0000023537022020>\n",
      "volam fce f s: dasds\n",
      "5\n",
      "volam fce f s: sdfsdffsdf\n",
      "10\n",
      "volam fce f s: ddf\n",
      "3\n"
     ]
    }
   ],
   "source": [
    "jmena = [ 'dasds', 'sdfsdffsdf', 'ddf']\n",
    "\n",
    "def f(x):\n",
    "    print('volam fce f s:', x)\n",
    "    return len(x)\n",
    "\n",
    "m=map(f,jmena)\n",
    "print(m)\n",
    "for i in m:\n",
    "    print(i)"
   ]
  },
  {
   "cell_type": "code",
   "execution_count": 20,
   "metadata": {},
   "outputs": [
    {
     "name": "stdout",
     "output_type": "stream",
     "text": [
      "['Jan', 'Honza', 'Karel', 10, 20, 30] <class 'list'>\n",
      "['Jan', 'Honza', 'Karel', 10, 20, 30] <class 'list'>\n"
     ]
    }
   ],
   "source": [
    "jmena = ['Jan', \"Honza\", \"Karel\"]\n",
    "plat = [ 10, 20 ,30]\n",
    "def f(a,b):\n",
    "    return (a+b)\n",
    "\n",
    "print(f(jmena, plat), type(f(jmena, plat)))\n",
    "\n",
    "x = f(jmena, plat)\n",
    "print(x, type(x))"
   ]
  },
  {
   "cell_type": "markdown",
   "metadata": {},
   "source": [
    "# Exercise 1: Create a List of Squares\n",
    "\n",
    "Task: Write a list comprehension to generate a list of squares for the numbers from 1 to 10.\n",
    "\n"
   ]
  },
  {
   "cell_type": "code",
   "execution_count": 24,
   "metadata": {},
   "outputs": [
    {
     "name": "stdout",
     "output_type": "stream",
     "text": [
      "[1, 4, 9, 16, 25, 36, 49, 64, 81, 100]\n"
     ]
    }
   ],
   "source": [
    "y = [x**2 for x in range(1,10+1)]\n",
    "print(y)"
   ]
  },
  {
   "cell_type": "markdown",
   "metadata": {},
   "source": [
    "# Exercise 2: Filter Even Numbers\n",
    "Task: Write a list comprehension to generate a list of even numbers from 1 to 20."
   ]
  },
  {
   "cell_type": "code",
   "execution_count": 28,
   "metadata": {},
   "outputs": [
    {
     "name": "stdout",
     "output_type": "stream",
     "text": [
      "[2, 4, 6, 8, 10, 12, 14, 16, 18, 20]\n"
     ]
    }
   ],
   "source": [
    "print([x for x in range(1,20+1) if not x%2])"
   ]
  },
  {
   "cell_type": "markdown",
   "metadata": {},
   "source": [
    "# Exercise 3: Create a List of Cubes\n",
    "Task: Write a list comprehension to generate a list of cubes for the numbers from 1 to 5."
   ]
  },
  {
   "cell_type": "code",
   "execution_count": 31,
   "metadata": {},
   "outputs": [
    {
     "name": "stdout",
     "output_type": "stream",
     "text": [
      "[1, 8, 27, 64, 125]\n"
     ]
    }
   ],
   "source": [
    "print([x**3 for x in range(1,6)])"
   ]
  },
  {
   "cell_type": "markdown",
   "metadata": {},
   "source": [
    "# Exercise 4: Convert Celsius to Fahrenheit\n",
    "Task: Given a list of temperatures in Celsius, create a new list with the temperatures converted to Fahrenheit using the formula \n",
    "\n",
    " 𝐹=9/5*C + 32\n"
   ]
  },
  {
   "cell_type": "code",
   "execution_count": null,
   "metadata": {},
   "outputs": [],
   "source": [
    "celsias = [20, 21, 23, 38]"
   ]
  }
 ],
 "metadata": {
  "kernelspec": {
   "display_name": "Python 3",
   "language": "python",
   "name": "python3"
  },
  "language_info": {
   "codemirror_mode": {
    "name": "ipython",
    "version": 3
   },
   "file_extension": ".py",
   "mimetype": "text/x-python",
   "name": "python",
   "nbconvert_exporter": "python",
   "pygments_lexer": "ipython3",
   "version": "3.13.1"
  }
 },
 "nbformat": 4,
 "nbformat_minor": 2
}
