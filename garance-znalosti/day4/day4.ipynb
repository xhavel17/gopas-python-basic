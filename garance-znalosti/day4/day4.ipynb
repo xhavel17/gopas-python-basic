{
 "cells": [
  {
   "cell_type": "code",
   "execution_count": null,
   "metadata": {},
   "outputs": [],
   "source": [
    "radky = ['CZ,Brno', 'CZ,Praha', 'SK,Kosice', 'DE,Berlin', 'SK,Banska Bystrica', 'CZ,Ostrava', \\\n",
    "        'CZ,Hradec Kralove', 'AT,Linz', 'SK,Bratislava', 'AT,Graz', 'CZ,Ceske Budejovice', 'CZ', \\\n",
    "        '123,Kolin', '', 'SK,X']\n",
    "\n",
    "def kontrola_radku(p_radek, oddelovac = ','):\n",
    "    data = p_radek.split(oddelovac)\n",
    "    #print(data, data[0], data[1])\n",
    "    if len(data)==2 and len(data[0])==2 and data[0].isupper() and len(data[1])>1 and data[1][0].isupper():\n",
    "        #pass\n",
    "        return True\n",
    "    else:\n",
    "        print(f'Radek {p_radek} ma neplatny format ')\n",
    "    return False\n",
    "    \n",
    "mesta = dict()\n",
    "for radek in radky:\n",
    "    if kontrola_radku(radek):\n",
    "        kod_statu, nazev_mesta = radek.split(',')\n",
    "        mesta.setdefault(kod_statu,[]).append(nazev_mesta)\n",
    "#print(mesta)\n",
    "for stat in sorted(mesta):\n",
    "    print(stat,': ', ', '.join(sorted(mesta[stat])), sep='')"
   ]
  },
  {
   "cell_type": "code",
   "execution_count": null,
   "metadata": {},
   "outputs": [],
   "source": [
    "radky = ['CZ,Brno,395000', 'CZ,Praha,1100000', 'SK,Kosice,210000', 'DE,Berlin,6500000', \\\n",
    "        'SK,Banska Bystrica,48000', 'CZ,Ostrava,210000', \\\n",
    "        'CZ,Hradec Kralove,97000', 'AT,Linz,82000', 'SK,Bratislava,405000', 'AT,Graz,95000', \\\n",
    "        'CZ,Ceske Budejovice,103000',\n",
    "        ]\n",
    "\n",
    "def kontrola_radku(p_radek):\n",
    "    data = p_radek.split(',')\n",
    "    if len(data)==3 and len(data[0])==2 and data[0].isupper() and len(data[1])>1 and data[1][0].isupper() and data[2].isdigit():\n",
    "        #pass\n",
    "        return True\n",
    "    else:\n",
    "        return False\n",
    "\n",
    "# MAIN\n",
    "mesta = dict()\n",
    "for radek in radky:\n",
    "    if kontrola_radku(radek):\n",
    "        kod_statu, nazev_mesta, populace = p_radek.split(',')\n",
    "        print(populace)\n",
    "        mesta.setdefault(kod_statu,[]).append([nazev_mesta, populace])\n",
    "\n",
    "print(mesta)\n",
    "for stat in sorted(mesta):\n",
    "    print(stat,': ', ', '.join(sorted(mesta[stat])), sep='')\n",
    "    "
   ]
  },
  {
   "cell_type": "markdown",
   "metadata": {},
   "source": [
    "Funkcni reseni podle lektora"
   ]
  },
  {
   "cell_type": "code",
   "execution_count": null,
   "metadata": {},
   "outputs": [],
   "source": [
    "radky = ['CZ,Brno,395000', 'CZ,Praha,1100000', 'SK,Kosice,210000', 'DE,Berlin,6500000', \\\n",
    "        'SK,Banska Bystrica,48000', 'CZ,Ostrava,210000', \\\n",
    "        'CZ,Hradec Kralove,97000', 'AT,Linz,82000', 'SK,Bratislava,405000', 'AT,Graz,95000', \\\n",
    "        'CZ,Ceske Budejovice,103000', \\\n",
    "        ]\n",
    "#seradte vzestupne podle kodu statu a nazvy mest vzestupne podle poctu obyvatel\n",
    "#AT: Linz, Graz\n",
    "#CZ: Hradec Kralove, Ceske Budejovice, Ostrava, Brno, Praha\n",
    "def druhy_element(ntice):\n",
    "    return ntice[1]\n",
    "\n",
    "mesta = dict()\n",
    "for radek in radky:\n",
    "    kod_statu, nazev_mesta, pocet_obyvatel  = radek.split(',')\n",
    "    mesta.setdefault(kod_statu,[]).append( (nazev_mesta,int(pocet_obyvatel)) )\n",
    "#print(mesta)\n",
    "\n",
    "for stat in sorted(mesta):\n",
    "    seznam_mest = []\n",
    "    for nazev,po in sorted(mesta[stat],key = druhy_element):\n",
    "        seznam_mest.append(nazev)\n",
    "    print(stat,': ', ', '.join(seznam_mest), sep='')"
   ]
  },
  {
   "cell_type": "code",
   "execution_count": null,
   "metadata": {},
   "outputs": [],
   "source": [
    "jmena = [ 'dasds', 'sdfsdffsdf', 'ddf']\n",
    "\n",
    "def f(x):\n",
    "    print('volam fce f s:', x)\n",
    "    return len(x)\n",
    "\n",
    "m=map(f,jmena)\n",
    "print(m)\n",
    "print(list(m))\n",
    "print(m) # uz se asi pouzil tka nic \n",
    "for i in m:\n",
    "    print(i)"
   ]
  },
  {
   "cell_type": "code",
   "execution_count": null,
   "metadata": {},
   "outputs": [],
   "source": [
    "jmena = [ 'dasds', 'sdfsdffsdf', 'ddf']\n",
    "\n",
    "def f(x):\n",
    "    print('volam fce f s:', x)\n",
    "    return len(x)\n",
    "\n",
    "m=map(f,jmena)\n",
    "print(m)\n",
    "for i in m:\n",
    "    print(i)"
   ]
  },
  {
   "cell_type": "code",
   "execution_count": null,
   "metadata": {},
   "outputs": [],
   "source": [
    "jmena = ['Jan', \"Honza\", \"Karel\"]\n",
    "plat = [ 10, 20 ,30]\n",
    "def f(a,b):\n",
    "    return (a+b)\n",
    "\n",
    "print(f(jmena, plat), type(f(jmena, plat)))\n",
    "\n",
    "x = f(jmena, plat)\n",
    "print(x, type(x))"
   ]
  },
  {
   "cell_type": "markdown",
   "metadata": {},
   "source": [
    "### Exercise 1: Create a List of Squares\n",
    "\n",
    "Task: Write a list comprehension to generate a list of squares for the numbers from 1 to 10.\n",
    "\n"
   ]
  },
  {
   "cell_type": "code",
   "execution_count": null,
   "metadata": {},
   "outputs": [],
   "source": [
    "y = [x**2 for x in range(1,10+1)]\n",
    "print(y)"
   ]
  },
  {
   "cell_type": "markdown",
   "metadata": {},
   "source": [
    "### Exercise 2: Filter Even Numbers\n",
    "Task: Write a list comprehension to generate a list of even numbers from 1 to 20."
   ]
  },
  {
   "cell_type": "code",
   "execution_count": null,
   "metadata": {},
   "outputs": [],
   "source": [
    "print([x for x in range(1,20+1) if not x%2])"
   ]
  },
  {
   "cell_type": "markdown",
   "metadata": {},
   "source": [
    "### Exercise 3: Create a List of Cubes\n",
    "Task: Write a list comprehension to generate a list of cubes for the numbers from 1 to 5."
   ]
  },
  {
   "cell_type": "code",
   "execution_count": null,
   "metadata": {},
   "outputs": [],
   "source": [
    "print([x**3 for x in range(1,6)])"
   ]
  },
  {
   "cell_type": "markdown",
   "metadata": {},
   "source": [
    "### Exercise 4: Convert Celsius to Fahrenheit\n",
    "Task: Given a list of temperatures in Celsius, create a new list with the temperatures converted to Fahrenheit using the formula \n",
    "\n",
    " 𝐹=9/5*C + 32\n"
   ]
  },
  {
   "cell_type": "code",
   "execution_count": null,
   "metadata": {},
   "outputs": [],
   "source": [
    "celsias = [0, 20, 100]\n",
    "\n",
    "print([(9/5*x+32) for x in celsias])"
   ]
  },
  {
   "cell_type": "markdown",
   "metadata": {},
   "source": [
    "### Exercise 5: Extract Vowels from a String\n",
    "Task: Write a list comprehension to extract all the vowels from a given string.\n",
    "Input: \"hello\""
   ]
  },
  {
   "cell_type": "code",
   "execution_count": null,
   "metadata": {},
   "outputs": [],
   "source": [
    "word=\"hello\"\n",
    "vowels=[\"a\", \"e\", \"i\", \"o\", \"u\"]\n",
    "print([x for x in word if x in vowels])"
   ]
  },
  {
   "cell_type": "markdown",
   "metadata": {},
   "source": [
    "### Exercise 6: Find Common Elements Between Two Lists\n",
    "Task: Write a list comprehension to find the common elements between two lists.\n",
    "\n",
    "Example:\n",
    "Input: list1 = [1, 2, 3, 4, 5], list2 = [4, 5, 6, 7]"
   ]
  },
  {
   "cell_type": "code",
   "execution_count": null,
   "metadata": {},
   "outputs": [],
   "source": [
    "list1 = [1, 2, 3, 4, 5]\n",
    "list2 = [4, 5, 6, 7]\n",
    "print([x for x in list1 if x in list2])"
   ]
  },
  {
   "cell_type": "markdown",
   "metadata": {},
   "source": [
    "### Exercise 7: Flatten a List of Lists\n",
    "Task: Given a list of lists, flatten it into a single list.\n",
    "\n",
    "Example:\n",
    "Input: [[1, 2], [3, 4], [5, 6]]"
   ]
  },
  {
   "cell_type": "code",
   "execution_count": null,
   "metadata": {},
   "outputs": [],
   "source": [
    "input=[[1, 2], [3, 4], [5, 6]]\n",
    "print([y for x in input for y in x])\n",
    "\n",
    "for x in input:\n",
    "    for y in x:\n",
    "        print(y, end=', ')\n"
   ]
  },
  {
   "cell_type": "code",
   "execution_count": 17,
   "metadata": {},
   "outputs": [
    {
     "name": "stdout",
     "output_type": "stream",
     "text": [
      "[1, 2, 3, 4, 5, 6, 7, 8]\n",
      "1\n",
      "2\n",
      "3\n",
      "4\n",
      "5\n",
      "6\n",
      "7\n",
      "8\n"
     ]
    }
   ],
   "source": [
    "input=[[[1, 2], [3, 4]], [[5, 6], [7, 8]]]\n",
    "#print([y for substr1 in input for substr2 in substr1 for y in substr1])\n",
    "print([y for substr1 in input for substr2 in substr1 for y in substr2])\n",
    "#print(input)\n",
    "for x in input:\n",
    "  #  print(x)\n",
    "    for y in x:\n",
    "   #     print(y)\n",
    "        for z in y:\n",
    "            print(z)\n"
   ]
  },
  {
   "cell_type": "code",
   "execution_count": null,
   "metadata": {},
   "outputs": [],
   "source": [
    "radky = ['CZ,Brno,395000', 'CZ,Praha,1100000', 'SK,Kosice,210000', 'DE,Berlin,6500000', \\\n",
    "        'SK,Banska Bystrica,48000', 'CZ,Ostrava,210000', \\\n",
    "        'CZ,Hradec Kralove,97000', 'AT,Linz,82000', 'SK,Bratislava,405000', 'AT,Graz,95000', \\\n",
    "        'CZ,Ceske Budejovice,103000', \\\n",
    "        ]\n",
    "\n",
    "print "
   ]
  }
 ],
 "metadata": {
  "kernelspec": {
   "display_name": "Python 3",
   "language": "python",
   "name": "python3"
  },
  "language_info": {
   "codemirror_mode": {
    "name": "ipython",
    "version": 3
   },
   "file_extension": ".py",
   "mimetype": "text/x-python",
   "name": "python",
   "nbconvert_exporter": "python",
   "pygments_lexer": "ipython3",
   "version": "3.13.1"
  }
 },
 "nbformat": 4,
 "nbformat_minor": 2
}
